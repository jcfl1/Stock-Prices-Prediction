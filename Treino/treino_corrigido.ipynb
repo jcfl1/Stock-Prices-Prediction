{
 "cells": [
  {
   "cell_type": "markdown",
   "metadata": {},
   "source": [
    "## Correlação das features"
   ]
  },
  {
   "cell_type": "code",
   "execution_count": 1,
   "metadata": {},
   "outputs": [
    {
     "name": "stderr",
     "output_type": "stream",
     "text": [
      "c:\\Users\\raafm\\Pessoal\\Ciencia-de-dados\\Stock-Prices-Prediction\\venv\\Lib\\site-packages\\tqdm\\auto.py:21: TqdmWarning: IProgress not found. Please update jupyter and ipywidgets. See https://ipywidgets.readthedocs.io/en/stable/user_install.html\n",
      "  from .autonotebook import tqdm as notebook_tqdm\n"
     ]
    }
   ],
   "source": [
    "import numpy as np\n",
    "import pandas as pd\n",
    "from treino_avaliacao import treinar_avaliar\n",
    "from Models.LSTM.LSTM import LSTMModel\n",
    "from Models.GRU.GRU import GRUModel\n",
    "import sys, os\n",
    "sys.path.append('..')\n",
    "\n",
    "\n",
    "RANDOM_SEED = 33"
   ]
  },
  {
   "cell_type": "code",
   "execution_count": 2,
   "metadata": {},
   "outputs": [],
   "source": [
    "get_dataset_path = lambda  stock, get_labels,get_train: os.path.join(\"..\",\"FinalDatasets\", stock,f\"{stock}_{'y' if get_labels else 'X'}_timeseries_{'train' if get_train else 'test'}.npy\")\n",
    "\n",
    "X_train = np.load(get_dataset_path(stock= \"VALE3\", get_labels= False, get_train= True))\n",
    "y_train = np.load(get_dataset_path(stock= \"VALE3\", get_labels= True, get_train= True))\n",
    "X_test  = np.load(get_dataset_path(stock= \"VALE3\", get_labels= False, get_train= False))\n",
    "y_test  = np.load(get_dataset_path(stock= \"VALE3\", get_labels= True, get_train= False))"
   ]
  },
  {
   "cell_type": "code",
   "execution_count": 3,
   "metadata": {},
   "outputs": [],
   "source": [
    "df_train = pd.read_csv(\"..\\\\FinalDatasets\\\\VALE3\\\\VALE3_tabular_train.csv\")\n",
    "df_test = pd.read_csv(\"..\\\\FinalDatasets\\\\VALE3\\\\VALE3_tabular_test.csv\")"
   ]
  },
  {
   "cell_type": "code",
   "execution_count": 4,
   "metadata": {},
   "outputs": [],
   "source": [
    "coluna_target = df_train[\"hasRise\"]\n",
    "df_train.drop(columns= [\"Date\", \"hasRise\"], inplace= True)\n",
    "df_test.drop(columns= [\"Date\"], inplace= True)"
   ]
  },
  {
   "cell_type": "code",
   "execution_count": 5,
   "metadata": {},
   "outputs": [
    {
     "data": {
      "text/plain": [
       "(54,\n",
       " [(('bom negócio_count', 'valorização_count'), 1.0),\n",
       "  (('lucro_count', 'valorização_count'), 1.0),\n",
       "  (('lucro_count', 'bom negócio_count'), 1.0),\n",
       "  (('neutro_count', 'valorização_count'), 1.0),\n",
       "  (('neutro_count', 'bom negócio_count'), 1.0),\n",
       "  (('neutro_count', 'lucro_count'), 1.0),\n",
       "  (('desvalorização_count', 'valorização_count'), 1.0),\n",
       "  (('desvalorização_count', 'bom negócio_count'), 1.0),\n",
       "  (('desvalorização_count', 'lucro_count'), 1.0),\n",
       "  (('desvalorização_count', 'neutro_count'), 1.0)])"
      ]
     },
     "execution_count": 5,
     "metadata": {},
     "output_type": "execute_result"
    }
   ],
   "source": [
    "def get_highly_correlated_features(correlation_matrix, threshold):\n",
    "  correlated_pairs = []\n",
    "  for i in range(len(correlation_matrix.columns)):\n",
    "    for j in range(i):\n",
    "      if abs(correlation_matrix.iloc[i, j]) > threshold:\n",
    "        pair = (correlation_matrix.columns[i], correlation_matrix.columns[j])\n",
    "        coefficient = correlation_matrix.iloc[i, j]\n",
    "        correlated_pairs.append((pair, coefficient))\n",
    "  return sorted(correlated_pairs, key= lambda pair: pair[1], reverse=True)\n",
    "\n",
    "MAX_CORRELATION = 0.90\n",
    "\n",
    "corr_matrix = df_train.corr(method='spearman').abs()\n",
    "correlation_list = get_highly_correlated_features(corr_matrix, MAX_CORRELATION)\n",
    "len(correlation_list), correlation_list[:10]\n"
   ]
  },
  {
   "cell_type": "code",
   "execution_count": 6,
   "metadata": {},
   "outputs": [],
   "source": [
    "# Drop high correlated features in correlation list\n",
    "\n",
    "f2drop = []\n",
    "for feature_pair, _ in correlation_list:\n",
    "  if feature_pair[0] not in f2drop and feature_pair[1] not in f2drop:\n",
    "    f2drop.append(feature_pair[1])\n",
    "\n",
    "df_train_reduced = df_train.drop(f2drop, axis='columns')\n",
    "df_test_reduced = df_test.drop(f2drop, axis='columns')"
   ]
  },
  {
   "cell_type": "code",
   "execution_count": 7,
   "metadata": {},
   "outputs": [
    {
     "data": {
      "text/plain": [
       "40"
      ]
     },
     "execution_count": 7,
     "metadata": {},
     "output_type": "execute_result"
    }
   ],
   "source": [
    "len(df_train_reduced.columns)"
   ]
  },
  {
   "cell_type": "code",
   "execution_count": 8,
   "metadata": {},
   "outputs": [],
   "source": [
    "from create_train_sets import get_sequences_X_y"
   ]
  },
  {
   "cell_type": "code",
   "execution_count": 9,
   "metadata": {},
   "outputs": [],
   "source": [
    "df_train_reduced[\"hasRise\"] = coluna_target \n",
    "X_train_reduced, y_train_reduced = get_sequences_X_y(df_train_reduced)\n"
   ]
  },
  {
   "cell_type": "code",
   "execution_count": 10,
   "metadata": {},
   "outputs": [],
   "source": [
    "X_test_reduced, y_test_reduced = get_sequences_X_y(df_test_reduced)"
   ]
  },
  {
   "cell_type": "code",
   "execution_count": 11,
   "metadata": {},
   "outputs": [
    {
     "data": {
      "text/plain": [
       "((370, 7, 40), (115, 7, 40))"
      ]
     },
     "execution_count": 11,
     "metadata": {},
     "output_type": "execute_result"
    }
   ],
   "source": [
    "X_train_reduced.shape,X_test_reduced.shape"
   ]
  },
  {
   "cell_type": "markdown",
   "metadata": {},
   "source": [
    "## Colocar dropout"
   ]
  },
  {
   "cell_type": "code",
   "execution_count": 12,
   "metadata": {},
   "outputs": [],
   "source": [
    "from Models.LSTM.LSTM_dropout import LSTMModel_dropout\n",
    "from Models.GRU.GRU_dropout import GRUModel_dropout\n"
   ]
  },
  {
   "cell_type": "code",
   "execution_count": 13,
   "metadata": {},
   "outputs": [],
   "source": [
    "from treino_avaliacao import treinar, avaliar"
   ]
  },
  {
   "cell_type": "code",
   "execution_count": 14,
   "metadata": {},
   "outputs": [],
   "source": [
    "n_trials = 100\n",
    "file_to_save_model = \"low_corr_features.pt\""
   ]
  },
  {
   "cell_type": "code",
   "execution_count": 15,
   "metadata": {},
   "outputs": [
    {
     "name": "stderr",
     "output_type": "stream",
     "text": [
      "[I 2024-07-12 00:02:22,664] A new study created in memory with name: no-name-13b8842d-0284-4ecc-8cd7-e8d577cebd06\n",
      "[I 2024-07-12 00:02:36,839] Trial 0 finished with value: 0.7499437966867545 and parameters: {'hidden_size': 18, 'num_layers': 4, 'learning_rate': 0.0009724929887188219}. Best is trial 0 with value: 0.7499437966867545.\n",
      "[I 2024-07-12 00:02:43,903] Trial 1 finished with value: 0.6877798397334394 and parameters: {'hidden_size': 38, 'num_layers': 1, 'learning_rate': 0.00018248998624737642}. Best is trial 0 with value: 0.7499437966867545.\n",
      "[I 2024-07-12 00:02:53,866] Trial 2 finished with value: 0.7366469896605747 and parameters: {'hidden_size': 72, 'num_layers': 3, 'learning_rate': 0.0002730209722191135}. Best is trial 0 with value: 0.7499437966867545.\n",
      "[I 2024-07-12 00:03:02,979] Trial 3 finished with value: 0.7438178840819636 and parameters: {'hidden_size': 125, 'num_layers': 3, 'learning_rate': 0.00023672403410176067}. Best is trial 0 with value: 0.7499437966867545.\n",
      "[I 2024-07-12 00:03:13,015] Trial 4 finished with value: 0.7014065382642014 and parameters: {'hidden_size': 32, 'num_layers': 4, 'learning_rate': 0.00024638137935237807}. Best is trial 0 with value: 0.7499437966867545.\n",
      "[I 2024-07-12 00:03:20,989] Trial 5 finished with value: 0.8331901624945104 and parameters: {'hidden_size': 115, 'num_layers': 2, 'learning_rate': 0.000751704759756993}. Best is trial 5 with value: 0.8331901624945104.\n",
      "[I 2024-07-12 00:03:30,566] Trial 6 finished with value: 0.8355427993039524 and parameters: {'hidden_size': 77, 'num_layers': 4, 'learning_rate': 0.0018497077767543552}. Best is trial 6 with value: 0.8355427993039524.\n",
      "[I 2024-07-12 00:03:40,567] Trial 7 finished with value: 0.6910165696372592 and parameters: {'hidden_size': 50, 'num_layers': 5, 'learning_rate': 0.00013902158250970236}. Best is trial 6 with value: 0.8355427993039524.\n",
      "[I 2024-07-12 00:03:49,693] Trial 8 finished with value: 0.7500680316502161 and parameters: {'hidden_size': 36, 'num_layers': 4, 'learning_rate': 0.00033921372950498164}. Best is trial 6 with value: 0.8355427993039524.\n",
      "[I 2024-07-12 00:03:59,933] Trial 9 finished with value: 0.7316177649510982 and parameters: {'hidden_size': 97, 'num_layers': 5, 'learning_rate': 0.0008559671671392068}. Best is trial 6 with value: 0.8355427993039524.\n",
      "[I 2024-07-12 00:04:07,224] Trial 10 finished with value: 0.8887421402403903 and parameters: {'hidden_size': 77, 'num_layers': 2, 'learning_rate': 0.006391260745824378}. Best is trial 10 with value: 0.8887421402403903.\n",
      "[I 2024-07-12 00:04:14,498] Trial 11 finished with value: 0.869599242035448 and parameters: {'hidden_size': 76, 'num_layers': 2, 'learning_rate': 0.006698662992154522}. Best is trial 10 with value: 0.8887421402403903.\n",
      "[I 2024-07-12 00:04:20,692] Trial 12 finished with value: 0.8770365784450291 and parameters: {'hidden_size': 73, 'num_layers': 1, 'learning_rate': 0.008508715111003729}. Best is trial 10 with value: 0.8887421402403903.\n",
      "[I 2024-07-12 00:04:26,880] Trial 13 finished with value: 0.8720320047082962 and parameters: {'hidden_size': 59, 'num_layers': 1, 'learning_rate': 0.008982367371972992}. Best is trial 10 with value: 0.8887421402403903.\n",
      "[I 2024-07-12 00:04:34,198] Trial 14 finished with value: 0.9017068398245153 and parameters: {'hidden_size': 98, 'num_layers': 2, 'learning_rate': 0.00451890048893499}. Best is trial 14 with value: 0.9017068398245153.\n",
      "[I 2024-07-12 00:04:41,538] Trial 15 finished with value: 0.8874721286154523 and parameters: {'hidden_size': 97, 'num_layers': 2, 'learning_rate': 0.0039051774489292975}. Best is trial 14 with value: 0.9017068398245153.\n",
      "[I 2024-07-12 00:04:48,939] Trial 16 finished with value: 0.8957818391286134 and parameters: {'hidden_size': 95, 'num_layers': 2, 'learning_rate': 0.0030783458005335922}. Best is trial 14 with value: 0.9017068398245153.\n",
      "[I 2024-07-12 00:04:57,408] Trial 17 finished with value: 0.8621332494553757 and parameters: {'hidden_size': 99, 'num_layers': 3, 'learning_rate': 0.0024562360117269685}. Best is trial 14 with value: 0.9017068398245153.\n",
      "[I 2024-07-12 00:05:05,267] Trial 18 finished with value: 0.8838355568420037 and parameters: {'hidden_size': 111, 'num_layers': 2, 'learning_rate': 0.0020815837308733333}. Best is trial 14 with value: 0.9017068398245153.\n",
      "[I 2024-07-12 00:05:11,857] Trial 19 finished with value: 0.8746594562786261 and parameters: {'hidden_size': 89, 'num_layers': 1, 'learning_rate': 0.0036925255433073283}. Best is trial 14 with value: 0.9017068398245153.\n",
      "[I 2024-07-12 00:05:19,298] Trial 20 finished with value: 0.8694910073399775 and parameters: {'hidden_size': 128, 'num_layers': 2, 'learning_rate': 0.004283819701722656}. Best is trial 14 with value: 0.9017068398245153.\n",
      "[I 2024-07-12 00:05:26,657] Trial 21 finished with value: 0.8597911627918238 and parameters: {'hidden_size': 91, 'num_layers': 2, 'learning_rate': 0.0054160820056446644}. Best is trial 14 with value: 0.9017068398245153.\n",
      "[I 2024-07-12 00:05:35,038] Trial 22 finished with value: 0.8152103069344449 and parameters: {'hidden_size': 61, 'num_layers': 3, 'learning_rate': 0.0024269092196979656}. Best is trial 14 with value: 0.9017068398245153.\n",
      "[I 2024-07-12 00:05:42,443] Trial 23 finished with value: 0.8632524199647488 and parameters: {'hidden_size': 83, 'num_layers': 2, 'learning_rate': 0.0014184174231318576}. Best is trial 14 with value: 0.9017068398245153.\n",
      "[I 2024-07-12 00:05:50,970] Trial 24 finished with value: 0.8761616161616163 and parameters: {'hidden_size': 109, 'num_layers': 3, 'learning_rate': 0.006052401455576257}. Best is trial 14 with value: 0.9017068398245153.\n",
      "[I 2024-07-12 00:05:57,181] Trial 25 finished with value: 0.8912948997262724 and parameters: {'hidden_size': 61, 'num_layers': 1, 'learning_rate': 0.0032579397984137106}. Best is trial 14 with value: 0.9017068398245153.\n",
      "[I 2024-07-12 00:06:03,451] Trial 26 finished with value: 0.8293275803144222 and parameters: {'hidden_size': 63, 'num_layers': 1, 'learning_rate': 0.0006075399136238842}. Best is trial 14 with value: 0.9017068398245153.\n",
      "[I 2024-07-12 00:06:09,531] Trial 27 finished with value: 0.8753295978905735 and parameters: {'hidden_size': 48, 'num_layers': 1, 'learning_rate': 0.0030707696226640177}. Best is trial 14 with value: 0.9017068398245153.\n",
      "[I 2024-07-12 00:06:16,019] Trial 28 finished with value: 0.8642634489693313 and parameters: {'hidden_size': 107, 'num_layers': 1, 'learning_rate': 0.0015073748396060437}. Best is trial 14 with value: 0.9017068398245153.\n",
      "[I 2024-07-12 00:06:23,477] Trial 29 finished with value: 0.8744202355755217 and parameters: {'hidden_size': 85, 'num_layers': 2, 'learning_rate': 0.001213540529366993}. Best is trial 14 with value: 0.9017068398245153.\n",
      "[I 2024-07-12 00:06:29,660] Trial 30 finished with value: 0.8829745596868884 and parameters: {'hidden_size': 25, 'num_layers': 1, 'learning_rate': 0.002784371743826975}. Best is trial 14 with value: 0.9017068398245153.\n",
      "[I 2024-07-12 00:06:36,879] Trial 31 finished with value: 0.8686052456610955 and parameters: {'hidden_size': 67, 'num_layers': 2, 'learning_rate': 0.004732455946233353}. Best is trial 14 with value: 0.9017068398245153.\n",
      "[I 2024-07-12 00:06:45,574] Trial 32 finished with value: 0.8583491059440427 and parameters: {'hidden_size': 51, 'num_layers': 3, 'learning_rate': 0.007736446114455966}. Best is trial 14 with value: 0.9017068398245153.\n",
      "[I 2024-07-12 00:06:53,368] Trial 33 finished with value: 0.87338081671415 and parameters: {'hidden_size': 101, 'num_layers': 2, 'learning_rate': 0.009907339615865879}. Best is trial 14 with value: 0.9017068398245153.\n",
      "[I 2024-07-12 00:07:04,300] Trial 34 finished with value: 0.8588348448316803 and parameters: {'hidden_size': 80, 'num_layers': 3, 'learning_rate': 0.003346191755673543}. Best is trial 14 with value: 0.9017068398245153.\n",
      "[I 2024-07-12 00:07:11,439] Trial 35 finished with value: 0.8967723602915031 and parameters: {'hidden_size': 91, 'num_layers': 1, 'learning_rate': 0.005898931949520851}. Best is trial 14 with value: 0.9017068398245153.\n",
      "[I 2024-07-12 00:07:18,623] Trial 36 finished with value: 0.8773745108570408 and parameters: {'hidden_size': 119, 'num_layers': 1, 'learning_rate': 0.0042282265816816185}. Best is trial 14 with value: 0.9017068398245153.\n",
      "[I 2024-07-12 00:07:25,940] Trial 37 finished with value: 0.8853846153846154 and parameters: {'hidden_size': 91, 'num_layers': 1, 'learning_rate': 0.0019428558776522996}. Best is trial 14 with value: 0.9017068398245153.\n",
      "[I 2024-07-12 00:07:33,123] Trial 38 finished with value: 0.8271353763607283 and parameters: {'hidden_size': 69, 'num_layers': 1, 'learning_rate': 0.0005334097285084329}. Best is trial 14 with value: 0.9017068398245153.\n",
      "[I 2024-07-12 00:07:40,153] Trial 39 finished with value: 0.8883969325248395 and parameters: {'hidden_size': 104, 'num_layers': 1, 'learning_rate': 0.005257310157292558}. Best is trial 14 with value: 0.9017068398245153.\n",
      "[I 2024-07-12 00:07:47,075] Trial 40 finished with value: 0.8573926721770142 and parameters: {'hidden_size': 116, 'num_layers': 1, 'learning_rate': 0.00298429468575238}. Best is trial 14 with value: 0.9017068398245153.\n",
      "[I 2024-07-12 00:07:55,347] Trial 41 finished with value: 0.8722888285247837 and parameters: {'hidden_size': 88, 'num_layers': 2, 'learning_rate': 0.006883340112205752}. Best is trial 14 with value: 0.9017068398245153.\n",
      "[I 2024-07-12 00:08:03,999] Trial 42 finished with value: 0.7193539655076184 and parameters: {'hidden_size': 94, 'num_layers': 2, 'learning_rate': 0.00010146368572168133}. Best is trial 14 with value: 0.9017068398245153.\n",
      "[I 2024-07-12 00:08:13,888] Trial 43 finished with value: 0.8385085151049344 and parameters: {'hidden_size': 81, 'num_layers': 3, 'learning_rate': 0.0062860754206490585}. Best is trial 14 with value: 0.9017068398245153.\n",
      "[I 2024-07-12 00:08:22,402] Trial 44 finished with value: 0.8761544887860676 and parameters: {'hidden_size': 74, 'num_layers': 2, 'learning_rate': 0.005050865050270205}. Best is trial 14 with value: 0.9017068398245153.\n",
      "[I 2024-07-12 00:08:31,016] Trial 45 finished with value: 0.8876870117111684 and parameters: {'hidden_size': 42, 'num_layers': 2, 'learning_rate': 0.007445164461108401}. Best is trial 14 with value: 0.9017068398245153.\n",
      "[I 2024-07-12 00:08:40,509] Trial 46 finished with value: 0.8011493353249545 and parameters: {'hidden_size': 57, 'num_layers': 4, 'learning_rate': 0.00364939073744164}. Best is trial 14 with value: 0.9017068398245153.\n",
      "[I 2024-07-12 00:08:47,547] Trial 47 finished with value: 0.8996320688443976 and parameters: {'hidden_size': 96, 'num_layers': 1, 'learning_rate': 0.002307232367194948}. Best is trial 14 with value: 0.9017068398245153.\n",
      "[I 2024-07-12 00:08:53,954] Trial 48 finished with value: 0.8920099687222975 and parameters: {'hidden_size': 102, 'num_layers': 1, 'learning_rate': 0.002196207084164624}. Best is trial 14 with value: 0.9017068398245153.\n",
      "[I 2024-07-12 00:08:59,968] Trial 49 finished with value: 0.8821914317566492 and parameters: {'hidden_size': 104, 'num_layers': 1, 'learning_rate': 0.001681804155078333}. Best is trial 14 with value: 0.9017068398245153.\n",
      "[I 2024-07-12 00:09:06,187] Trial 50 finished with value: 0.8773736945806183 and parameters: {'hidden_size': 120, 'num_layers': 1, 'learning_rate': 0.0011796925440051198}. Best is trial 14 with value: 0.9017068398245153.\n",
      "[I 2024-07-12 00:09:12,316] Trial 51 finished with value: 0.8943079007713155 and parameters: {'hidden_size': 96, 'num_layers': 1, 'learning_rate': 0.0022960671463742367}. Best is trial 14 with value: 0.9017068398245153.\n",
      "[I 2024-07-12 00:09:18,679] Trial 52 finished with value: 0.8887957875457875 and parameters: {'hidden_size': 97, 'num_layers': 1, 'learning_rate': 0.002349768936199324}. Best is trial 14 with value: 0.9017068398245153.\n",
      "[I 2024-07-12 00:09:24,871] Trial 53 finished with value: 0.8957930080979656 and parameters: {'hidden_size': 103, 'num_layers': 1, 'learning_rate': 0.002138951222304693}. Best is trial 14 with value: 0.9017068398245153.\n",
      "[I 2024-07-12 00:09:31,009] Trial 54 finished with value: 0.8870732870732871 and parameters: {'hidden_size': 95, 'num_layers': 1, 'learning_rate': 0.0010061706720355683}. Best is trial 14 with value: 0.9017068398245153.\n",
      "[I 2024-07-12 00:09:41,318] Trial 55 finished with value: 0.6701745313510019 and parameters: {'hidden_size': 113, 'num_layers': 5, 'learning_rate': 0.0017115428339531588}. Best is trial 14 with value: 0.9017068398245153.\n",
      "[I 2024-07-12 00:09:47,425] Trial 56 finished with value: 0.8825763153241949 and parameters: {'hidden_size': 88, 'num_layers': 1, 'learning_rate': 0.002717821128097939}. Best is trial 14 with value: 0.9017068398245153.\n",
      "[I 2024-07-12 00:09:53,338] Trial 57 finished with value: 0.8775737812323179 and parameters: {'hidden_size': 93, 'num_layers': 1, 'learning_rate': 0.00432662712340686}. Best is trial 14 with value: 0.9017068398245153.\n",
      "[I 2024-07-12 00:10:00,257] Trial 58 finished with value: 0.884948684948685 and parameters: {'hidden_size': 107, 'num_layers': 2, 'learning_rate': 0.002116389024191997}. Best is trial 14 with value: 0.9017068398245153.\n",
      "[I 2024-07-12 00:10:06,119] Trial 59 finished with value: 0.9015887810227667 and parameters: {'hidden_size': 100, 'num_layers': 1, 'learning_rate': 0.0013311718639537427}. Best is trial 14 with value: 0.9017068398245153.\n",
      "[I 2024-07-12 00:10:13,241] Trial 60 finished with value: 0.8269673286882113 and parameters: {'hidden_size': 85, 'num_layers': 2, 'learning_rate': 0.0007857356809918121}. Best is trial 14 with value: 0.9017068398245153.\n",
      "[I 2024-07-12 00:10:20,202] Trial 61 finished with value: 0.8828642455821807 and parameters: {'hidden_size': 99, 'num_layers': 1, 'learning_rate': 0.0014894201095008578}. Best is trial 14 with value: 0.9017068398245153.\n",
      "[I 2024-07-12 00:10:26,236] Trial 62 finished with value: 0.8830438715513342 and parameters: {'hidden_size': 110, 'num_layers': 1, 'learning_rate': 0.0012970759646917889}. Best is trial 14 with value: 0.9017068398245153.\n",
      "[I 2024-07-12 00:10:32,164] Trial 63 finished with value: 0.8721315687275568 and parameters: {'hidden_size': 104, 'num_layers': 1, 'learning_rate': 0.0026836701266013557}. Best is trial 14 with value: 0.9017068398245153.\n",
      "[I 2024-07-12 00:10:38,115] Trial 64 finished with value: 0.9004329004329005 and parameters: {'hidden_size': 99, 'num_layers': 1, 'learning_rate': 0.0010152863670163785}. Best is trial 14 with value: 0.9017068398245153.\n",
      "[I 2024-07-12 00:10:44,146] Trial 65 finished with value: 0.8476732363918866 and parameters: {'hidden_size': 100, 'num_layers': 1, 'learning_rate': 0.0004273034310568004}. Best is trial 14 with value: 0.9017068398245153.\n",
      "[I 2024-07-12 00:10:51,113] Trial 66 finished with value: 0.8336414281267223 and parameters: {'hidden_size': 91, 'num_layers': 2, 'learning_rate': 0.0010130885568969377}. Best is trial 14 with value: 0.9017068398245153.\n",
      "[I 2024-07-12 00:10:57,181] Trial 67 finished with value: 0.8830769230769231 and parameters: {'hidden_size': 115, 'num_layers': 1, 'learning_rate': 0.0017977062893647221}. Best is trial 14 with value: 0.9017068398245153.\n",
      "[I 2024-07-12 00:11:03,874] Trial 68 finished with value: 0.8688846701078685 and parameters: {'hidden_size': 122, 'num_layers': 1, 'learning_rate': 0.000882627720789731}. Best is trial 14 with value: 0.9017068398245153.\n",
      "[I 2024-07-12 00:11:11,474] Trial 69 finished with value: 0.8395513516203172 and parameters: {'hidden_size': 86, 'num_layers': 2, 'learning_rate': 0.0006598912676346153}. Best is trial 14 with value: 0.9017068398245153.\n",
      "[I 2024-07-12 00:11:18,041] Trial 70 finished with value: 0.8869889527696028 and parameters: {'hidden_size': 107, 'num_layers': 1, 'learning_rate': 0.001571192379218864}. Best is trial 14 with value: 0.9017068398245153.\n",
      "[I 2024-07-12 00:11:24,609] Trial 71 finished with value: 0.8971564888688176 and parameters: {'hidden_size': 97, 'num_layers': 1, 'learning_rate': 0.0035061915595702396}. Best is trial 14 with value: 0.9017068398245153.\n",
      "[I 2024-07-12 00:11:30,755] Trial 72 finished with value: 0.8910301933755111 and parameters: {'hidden_size': 98, 'num_layers': 1, 'learning_rate': 0.003910901054248443}. Best is trial 14 with value: 0.9017068398245153.\n",
      "[I 2024-07-12 00:11:36,709] Trial 73 finished with value: 0.8975807867931156 and parameters: {'hidden_size': 93, 'num_layers': 1, 'learning_rate': 0.00335020577894642}. Best is trial 14 with value: 0.9017068398245153.\n",
      "[I 2024-07-12 00:11:42,675] Trial 74 finished with value: 0.900952380952381 and parameters: {'hidden_size': 78, 'num_layers': 1, 'learning_rate': 0.0034052958310748695}. Best is trial 14 with value: 0.9017068398245153.\n",
      "[I 2024-07-12 00:11:48,685] Trial 75 finished with value: 0.8941385893157887 and parameters: {'hidden_size': 78, 'num_layers': 1, 'learning_rate': 0.0033696980609728747}. Best is trial 14 with value: 0.9017068398245153.\n",
      "[I 2024-07-12 00:11:54,646] Trial 76 finished with value: 0.8995689770586086 and parameters: {'hidden_size': 82, 'num_layers': 1, 'learning_rate': 0.005718927051481011}. Best is trial 14 with value: 0.9017068398245153.\n",
      "[I 2024-07-12 00:12:03,941] Trial 77 finished with value: 0.8238360450966269 and parameters: {'hidden_size': 83, 'num_layers': 4, 'learning_rate': 0.0047154108439196865}. Best is trial 14 with value: 0.9017068398245153.\n",
      "[I 2024-07-12 00:12:10,190] Trial 78 finished with value: 0.910958118187034 and parameters: {'hidden_size': 69, 'num_layers': 1, 'learning_rate': 0.005737968057665162}. Best is trial 78 with value: 0.910958118187034.\n",
      "[I 2024-07-12 00:12:16,357] Trial 79 finished with value: 0.8846373110457618 and parameters: {'hidden_size': 72, 'num_layers': 1, 'learning_rate': 0.005548540646430918}. Best is trial 78 with value: 0.910958118187034.\n",
      "[I 2024-07-12 00:12:22,608] Trial 80 finished with value: 0.8829585051912957 and parameters: {'hidden_size': 70, 'num_layers': 1, 'learning_rate': 0.004669582041108615}. Best is trial 78 with value: 0.910958118187034.\n",
      "[I 2024-07-12 00:12:28,814] Trial 81 finished with value: 0.8937987355110643 and parameters: {'hidden_size': 78, 'num_layers': 1, 'learning_rate': 0.0037987508822567577}. Best is trial 78 with value: 0.910958118187034.\n",
      "[I 2024-07-12 00:12:34,743] Trial 82 finished with value: 0.8683066057073328 and parameters: {'hidden_size': 66, 'num_layers': 1, 'learning_rate': 0.00687560586884338}. Best is trial 78 with value: 0.910958118187034.\n",
      "[I 2024-07-12 00:12:40,841] Trial 83 finished with value: 0.8608190267216485 and parameters: {'hidden_size': 75, 'num_layers': 1, 'learning_rate': 0.0080985691625473}. Best is trial 78 with value: 0.910958118187034.\n",
      "[I 2024-07-12 00:12:46,860] Trial 84 finished with value: 0.8892307692307693 and parameters: {'hidden_size': 90, 'num_layers': 1, 'learning_rate': 0.003457635659488519}. Best is trial 78 with value: 0.910958118187034.\n",
      "[I 2024-07-12 00:12:52,841] Trial 85 finished with value: 0.7144300400153722 and parameters: {'hidden_size': 86, 'num_layers': 1, 'learning_rate': 0.0002064078018653904}. Best is trial 78 with value: 0.910958118187034.\n",
      "[I 2024-07-12 00:12:58,871] Trial 86 finished with value: 0.8935685417302401 and parameters: {'hidden_size': 92, 'num_layers': 1, 'learning_rate': 0.004164967898655986}. Best is trial 78 with value: 0.910958118187034.\n",
      "[I 2024-07-12 00:13:04,887] Trial 87 finished with value: 0.8649056617952671 and parameters: {'hidden_size': 17, 'num_layers': 1, 'learning_rate': 0.009380674086865281}. Best is trial 78 with value: 0.910958118187034.\n",
      "[I 2024-07-12 00:13:10,890] Trial 88 finished with value: 0.8863116225981559 and parameters: {'hidden_size': 82, 'num_layers': 1, 'learning_rate': 0.005868267213705066}. Best is trial 78 with value: 0.910958118187034.\n",
      "[I 2024-07-12 00:13:16,918] Trial 89 finished with value: 0.8810102739726027 and parameters: {'hidden_size': 95, 'num_layers': 1, 'learning_rate': 0.0030382307516272516}. Best is trial 78 with value: 0.910958118187034.\n",
      "[I 2024-07-12 00:13:24,047] Trial 90 finished with value: 0.8800332297800653 and parameters: {'hidden_size': 101, 'num_layers': 2, 'learning_rate': 0.002683112521107355}. Best is trial 78 with value: 0.910958118187034.\n",
      "[I 2024-07-12 00:13:30,046] Trial 91 finished with value: 0.8888709747735964 and parameters: {'hidden_size': 93, 'num_layers': 1, 'learning_rate': 0.005392472089214991}. Best is trial 78 with value: 0.910958118187034.\n",
      "[I 2024-07-12 00:13:36,086] Trial 92 finished with value: 0.8652785603820281 and parameters: {'hidden_size': 88, 'num_layers': 1, 'learning_rate': 0.0061953052023836185}. Best is trial 78 with value: 0.910958118187034.\n",
      "[I 2024-07-12 00:13:41,936] Trial 93 finished with value: 0.8754178216678217 and parameters: {'hidden_size': 79, 'num_layers': 1, 'learning_rate': 0.004847617373785809}. Best is trial 78 with value: 0.910958118187034.\n",
      "[I 2024-07-12 00:13:47,931] Trial 94 finished with value: 0.8981458621370729 and parameters: {'hidden_size': 97, 'num_layers': 1, 'learning_rate': 0.007178020163111922}. Best is trial 78 with value: 0.910958118187034.\n",
      "[I 2024-07-12 00:13:53,984] Trial 95 finished with value: 0.8966233246935001 and parameters: {'hidden_size': 106, 'num_layers': 1, 'learning_rate': 0.0043485923723507935}. Best is trial 78 with value: 0.910958118187034.\n",
      "[I 2024-07-12 00:13:59,841] Trial 96 finished with value: 0.9070904157014787 and parameters: {'hidden_size': 98, 'num_layers': 1, 'learning_rate': 0.007321531420787033}. Best is trial 78 with value: 0.910958118187034.\n",
      "[I 2024-07-12 00:14:05,691] Trial 97 finished with value: 0.8719881715891903 and parameters: {'hidden_size': 99, 'num_layers': 1, 'learning_rate': 0.00728185796270581}. Best is trial 78 with value: 0.910958118187034.\n",
      "[I 2024-07-12 00:14:11,476] Trial 98 finished with value: 0.8718786831146381 and parameters: {'hidden_size': 64, 'num_layers': 1, 'learning_rate': 0.00838063861379818}. Best is trial 78 with value: 0.910958118187034.\n",
      "[I 2024-07-12 00:14:17,231] Trial 99 finished with value: 0.8975246975246975 and parameters: {'hidden_size': 111, 'num_layers': 1, 'learning_rate': 0.0011183291529737896}. Best is trial 78 with value: 0.910958118187034.\n"
     ]
    },
    {
     "name": "stdout",
     "output_type": "stream",
     "text": [
      "Number of finished trials:  100\n",
      "Best trial:\n",
      "  Value:  0.910958118187034\n",
      "  Params: \n",
      "    hidden_size: 69\n",
      "    num_layers: 1\n",
      "    learning_rate: 0.005737968057665162\n",
      "do not know the model\n",
      "              precision    recall  f1-score   support\n",
      "\n",
      "           0       1.00      1.00      1.00       187\n",
      "           1       1.00      1.00      1.00       183\n",
      "\n",
      "    accuracy                           1.00       370\n",
      "   macro avg       1.00      1.00      1.00       370\n",
      "weighted avg       1.00      1.00      1.00       370\n",
      "\n",
      "              precision    recall  f1-score   support\n",
      "\n",
      "           0       0.65      0.65      0.65        68\n",
      "           1       0.49      0.49      0.49        47\n",
      "\n",
      "    accuracy                           0.58       115\n",
      "   macro avg       0.57      0.57      0.57       115\n",
      "weighted avg       0.58      0.58      0.58       115\n",
      "\n"
     ]
    }
   ],
   "source": [
    "model = treinar( X_train_reduced, y_train_reduced,LSTMModel_dropout, n_trials, 'VALE3'+file_to_save_model)\n",
    "model.eval()\n",
    "avaliar(model, X_train_reduced, y_train_reduced, X_test_reduced, y_test_reduced)\n"
   ]
  },
  {
   "cell_type": "code",
   "execution_count": 16,
   "metadata": {},
   "outputs": [
    {
     "name": "stderr",
     "output_type": "stream",
     "text": [
      "[I 2024-07-12 00:14:20,039] A new study created in memory with name: no-name-18442c8b-9a2d-4e60-bee3-31d505d4168f\n",
      "[I 2024-07-12 00:14:29,770] Trial 0 finished with value: 0.7511896733601509 and parameters: {'hidden_size': 77, 'num_layers': 5, 'learning_rate': 0.005397658724109907}. Best is trial 0 with value: 0.7511896733601509.\n",
      "[I 2024-07-12 00:14:35,903] Trial 1 finished with value: 0.8591452991452992 and parameters: {'hidden_size': 121, 'num_layers': 1, 'learning_rate': 0.0008132688465363583}. Best is trial 1 with value: 0.8591452991452992.\n",
      "[I 2024-07-12 00:14:41,925] Trial 2 finished with value: 0.8762657442345198 and parameters: {'hidden_size': 95, 'num_layers': 1, 'learning_rate': 0.0033816828663464794}. Best is trial 2 with value: 0.8762657442345198.\n",
      "[I 2024-07-12 00:14:49,566] Trial 3 finished with value: 0.7222959674957139 and parameters: {'hidden_size': 84, 'num_layers': 3, 'learning_rate': 0.000203044642538705}. Best is trial 2 with value: 0.8762657442345198.\n",
      "[I 2024-07-12 00:14:57,885] Trial 4 finished with value: 0.8438545546367022 and parameters: {'hidden_size': 124, 'num_layers': 3, 'learning_rate': 0.007116640705180004}. Best is trial 2 with value: 0.8762657442345198.\n",
      "[I 2024-07-12 00:15:08,092] Trial 5 finished with value: 0.7668818491823607 and parameters: {'hidden_size': 61, 'num_layers': 5, 'learning_rate': 0.0036202319593199657}. Best is trial 2 with value: 0.8762657442345198.\n",
      "[I 2024-07-12 00:15:15,373] Trial 6 finished with value: 0.889025022382088 and parameters: {'hidden_size': 45, 'num_layers': 2, 'learning_rate': 0.0035117751354803352}. Best is trial 6 with value: 0.889025022382088.\n",
      "[I 2024-07-12 00:15:23,708] Trial 7 finished with value: 0.8324644912996018 and parameters: {'hidden_size': 104, 'num_layers': 3, 'learning_rate': 0.0007119845691830313}. Best is trial 6 with value: 0.889025022382088.\n",
      "[I 2024-07-12 00:15:30,726] Trial 8 finished with value: 0.7729782117661018 and parameters: {'hidden_size': 97, 'num_layers': 2, 'learning_rate': 0.000347879312912727}. Best is trial 6 with value: 0.889025022382088.\n",
      "[I 2024-07-12 00:15:37,787] Trial 9 finished with value: 0.8616519630604136 and parameters: {'hidden_size': 79, 'num_layers': 2, 'learning_rate': 0.0019402986621306643}. Best is trial 6 with value: 0.889025022382088.\n",
      "[I 2024-07-12 00:15:46,311] Trial 10 finished with value: 0.8134771845801257 and parameters: {'hidden_size': 24, 'num_layers': 4, 'learning_rate': 0.009872288188631919}. Best is trial 6 with value: 0.889025022382088.\n",
      "[I 2024-07-12 00:15:52,049] Trial 11 finished with value: 0.8907575757575756 and parameters: {'hidden_size': 46, 'num_layers': 1, 'learning_rate': 0.0021735610491123067}. Best is trial 11 with value: 0.8907575757575756.\n",
      "[I 2024-07-12 00:15:59,055] Trial 12 finished with value: 0.8541602198309656 and parameters: {'hidden_size': 44, 'num_layers': 2, 'learning_rate': 0.001754620273558498}. Best is trial 11 with value: 0.8907575757575756.\n",
      "[I 2024-07-12 00:16:05,559] Trial 13 finished with value: 0.8747474747474747 and parameters: {'hidden_size': 49, 'num_layers': 1, 'learning_rate': 0.001608948716214187}. Best is trial 11 with value: 0.8907575757575756.\n",
      "[I 2024-07-12 00:16:12,529] Trial 14 finished with value: 0.8788449946677794 and parameters: {'hidden_size': 28, 'num_layers': 2, 'learning_rate': 0.0032692401802527546}. Best is trial 11 with value: 0.8907575757575756.\n",
      "[I 2024-07-12 00:16:18,646] Trial 15 finished with value: 0.7680393421064861 and parameters: {'hidden_size': 39, 'num_layers': 1, 'learning_rate': 0.0004799630254105801}. Best is trial 11 with value: 0.8907575757575756.\n",
      "[I 2024-07-12 00:16:25,604] Trial 16 finished with value: 0.8802125714485266 and parameters: {'hidden_size': 60, 'num_layers': 2, 'learning_rate': 0.001338809398687392}. Best is trial 11 with value: 0.8907575757575756.\n",
      "[I 2024-07-12 00:16:34,297] Trial 17 finished with value: 0.6244039478635866 and parameters: {'hidden_size': 16, 'num_layers': 4, 'learning_rate': 0.00012608840488701918}. Best is trial 11 with value: 0.8907575757575756.\n",
      "[I 2024-07-12 00:16:40,261] Trial 18 finished with value: 0.9027708498746749 and parameters: {'hidden_size': 60, 'num_layers': 1, 'learning_rate': 0.0025083570200994222}. Best is trial 18 with value: 0.9027708498746749.\n",
      "[I 2024-07-12 00:16:46,257] Trial 19 finished with value: 0.8734972677595628 and parameters: {'hidden_size': 63, 'num_layers': 1, 'learning_rate': 0.0022612190219083944}. Best is trial 18 with value: 0.9027708498746749.\n",
      "[I 2024-07-12 00:16:54,900] Trial 20 finished with value: 0.8214855413080461 and parameters: {'hidden_size': 67, 'num_layers': 4, 'learning_rate': 0.001213559684187247}. Best is trial 18 with value: 0.9027708498746749.\n",
      "[I 2024-07-12 00:17:01,006] Trial 21 finished with value: 0.8658350249681519 and parameters: {'hidden_size': 52, 'num_layers': 1, 'learning_rate': 0.004951456201112715}. Best is trial 18 with value: 0.9027708498746749.\n",
      "[I 2024-07-12 00:17:07,847] Trial 22 finished with value: 0.8842170595362084 and parameters: {'hidden_size': 38, 'num_layers': 2, 'learning_rate': 0.002477145341568347}. Best is trial 18 with value: 0.9027708498746749.\n",
      "[I 2024-07-12 00:17:13,754] Trial 23 finished with value: 0.8631554424529897 and parameters: {'hidden_size': 34, 'num_layers': 1, 'learning_rate': 0.004920752511936487}. Best is trial 18 with value: 0.9027708498746749.\n",
      "[I 2024-07-12 00:17:20,634] Trial 24 finished with value: 0.8694504043819556 and parameters: {'hidden_size': 53, 'num_layers': 2, 'learning_rate': 0.002977051308823015}. Best is trial 18 with value: 0.9027708498746749.\n",
      "[I 2024-07-12 00:17:26,583] Trial 25 finished with value: 0.8559721324427206 and parameters: {'hidden_size': 71, 'num_layers': 1, 'learning_rate': 0.0010255157561203498}. Best is trial 18 with value: 0.9027708498746749.\n",
      "[I 2024-07-12 00:17:33,630] Trial 26 finished with value: 0.8606078590060104 and parameters: {'hidden_size': 56, 'num_layers': 2, 'learning_rate': 0.008169606715364553}. Best is trial 18 with value: 0.9027708498746749.\n",
      "[I 2024-07-12 00:17:39,826] Trial 27 finished with value: 0.8143582473945397 and parameters: {'hidden_size': 45, 'num_layers': 1, 'learning_rate': 0.0005888714613625133}. Best is trial 18 with value: 0.9027708498746749.\n",
      "[I 2024-07-12 00:17:46,622] Trial 28 finished with value: 0.8805741242325749 and parameters: {'hidden_size': 25, 'num_layers': 2, 'learning_rate': 0.0043686403424133035}. Best is trial 18 with value: 0.9027708498746749.\n",
      "[I 2024-07-12 00:17:54,638] Trial 29 finished with value: 0.8569044633037446 and parameters: {'hidden_size': 80, 'num_layers': 3, 'learning_rate': 0.006456938765939154}. Best is trial 18 with value: 0.9027708498746749.\n",
      "[I 2024-07-12 00:18:01,380] Trial 30 finished with value: 0.8824493927125505 and parameters: {'hidden_size': 72, 'num_layers': 1, 'learning_rate': 0.002336731146552321}. Best is trial 18 with value: 0.9027708498746749.\n",
      "[I 2024-07-12 00:18:08,348] Trial 31 finished with value: 0.8824529074529075 and parameters: {'hidden_size': 37, 'num_layers': 2, 'learning_rate': 0.002608834075778415}. Best is trial 18 with value: 0.9027708498746749.\n",
      "[I 2024-07-12 00:18:16,086] Trial 32 finished with value: 0.8727875202676497 and parameters: {'hidden_size': 44, 'num_layers': 3, 'learning_rate': 0.0014947672852326313}. Best is trial 18 with value: 0.9027708498746749.\n",
      "[I 2024-07-12 00:18:22,169] Trial 33 finished with value: 0.869236624031706 and parameters: {'hidden_size': 31, 'num_layers': 1, 'learning_rate': 0.0037160500493180425}. Best is trial 18 with value: 0.9027708498746749.\n",
      "[I 2024-07-12 00:18:29,233] Trial 34 finished with value: 0.7996845650728137 and parameters: {'hidden_size': 20, 'num_layers': 2, 'learning_rate': 0.0010273174775973582}. Best is trial 18 with value: 0.9027708498746749.\n",
      "[I 2024-07-12 00:18:35,876] Trial 35 finished with value: 0.8805918467061797 and parameters: {'hidden_size': 39, 'num_layers': 1, 'learning_rate': 0.0022480311046742703}. Best is trial 18 with value: 0.9027708498746749.\n",
      "[I 2024-07-12 00:18:43,752] Trial 36 finished with value: 0.8624728361526113 and parameters: {'hidden_size': 48, 'num_layers': 3, 'learning_rate': 0.006383112618325841}. Best is trial 18 with value: 0.9027708498746749.\n",
      "[I 2024-07-12 00:18:49,878] Trial 37 finished with value: 0.8608258256235015 and parameters: {'hidden_size': 115, 'num_layers': 1, 'learning_rate': 0.004097676899326568}. Best is trial 18 with value: 0.9027708498746749.\n",
      "[I 2024-07-12 00:18:56,839] Trial 38 finished with value: 0.8184591992514527 and parameters: {'hidden_size': 55, 'num_layers': 2, 'learning_rate': 0.0007864563555145894}. Best is trial 18 with value: 0.9027708498746749.\n",
      "[I 2024-07-12 00:19:06,671] Trial 39 finished with value: 0.7639386981817069 and parameters: {'hidden_size': 60, 'num_layers': 5, 'learning_rate': 0.002739131604138629}. Best is trial 18 with value: 0.9027708498746749.\n",
      "[I 2024-07-12 00:19:15,036] Trial 40 finished with value: 0.831768746720417 and parameters: {'hidden_size': 86, 'num_layers': 3, 'learning_rate': 0.0019987625789331816}. Best is trial 18 with value: 0.9027708498746749.\n",
      "[I 2024-07-12 00:19:22,434] Trial 41 finished with value: 0.8824257224257224 and parameters: {'hidden_size': 36, 'num_layers': 2, 'learning_rate': 0.0026382094277769435}. Best is trial 18 with value: 0.9027708498746749.\n",
      "[I 2024-07-12 00:19:29,516] Trial 42 finished with value: 0.8509451167679016 and parameters: {'hidden_size': 41, 'num_layers': 2, 'learning_rate': 0.0036068071461488227}. Best is trial 18 with value: 0.9027708498746749.\n",
      "[I 2024-07-12 00:19:37,568] Trial 43 finished with value: 0.8361733120680489 and parameters: {'hidden_size': 32, 'num_layers': 3, 'learning_rate': 0.0017523063020872082}. Best is trial 18 with value: 0.9027708498746749.\n",
      "[I 2024-07-12 00:19:44,499] Trial 44 finished with value: 0.8852633030052385 and parameters: {'hidden_size': 47, 'num_layers': 2, 'learning_rate': 0.00303099053790518}. Best is trial 18 with value: 0.9027708498746749.\n",
      "[I 2024-07-12 00:19:50,449] Trial 45 finished with value: 0.8748229548229549 and parameters: {'hidden_size': 49, 'num_layers': 1, 'learning_rate': 0.0032636609771742125}. Best is trial 18 with value: 0.9027708498746749.\n",
      "[I 2024-07-12 00:19:57,680] Trial 46 finished with value: 0.864733232328169 and parameters: {'hidden_size': 66, 'num_layers': 2, 'learning_rate': 0.005704091442253878}. Best is trial 18 with value: 0.9027708498746749.\n",
      "[I 2024-07-12 00:20:05,703] Trial 47 finished with value: 0.8671249113590923 and parameters: {'hidden_size': 58, 'num_layers': 2, 'learning_rate': 0.0019823762366974152}. Best is trial 18 with value: 0.9027708498746749.\n",
      "[I 2024-07-12 00:20:11,899] Trial 48 finished with value: 0.8648529761432988 and parameters: {'hidden_size': 44, 'num_layers': 1, 'learning_rate': 0.0012767054612324582}. Best is trial 18 with value: 0.9027708498746749.\n",
      "[I 2024-07-12 00:20:19,757] Trial 49 finished with value: 0.6452636754958236 and parameters: {'hidden_size': 27, 'num_layers': 3, 'learning_rate': 0.00024055249230766083}. Best is trial 18 with value: 0.9027708498746749.\n",
      "[I 2024-07-12 00:20:26,534] Trial 50 finished with value: 0.8731940876025384 and parameters: {'hidden_size': 50, 'num_layers': 2, 'learning_rate': 0.008130391629901068}. Best is trial 18 with value: 0.9027708498746749.\n",
      "[I 2024-07-12 00:20:33,191] Trial 51 finished with value: 0.8812927810859501 and parameters: {'hidden_size': 38, 'num_layers': 2, 'learning_rate': 0.0025415116883600875}. Best is trial 18 with value: 0.9027708498746749.\n",
      "[I 2024-07-12 00:20:39,987] Trial 52 finished with value: 0.884814153038023 and parameters: {'hidden_size': 35, 'num_layers': 2, 'learning_rate': 0.004483461799969369}. Best is trial 18 with value: 0.9027708498746749.\n",
      "[I 2024-07-12 00:20:47,034] Trial 53 finished with value: 0.8464828228277594 and parameters: {'hidden_size': 31, 'num_layers': 2, 'learning_rate': 0.004474829138015221}. Best is trial 18 with value: 0.9027708498746749.\n",
      "[I 2024-07-12 00:20:53,487] Trial 54 finished with value: 0.8750267837370347 and parameters: {'hidden_size': 42, 'num_layers': 1, 'learning_rate': 0.0033032554787057336}. Best is trial 18 with value: 0.9027708498746749.\n",
      "[I 2024-07-12 00:21:01,314] Trial 55 finished with value: 0.7970900488400489 and parameters: {'hidden_size': 19, 'num_layers': 3, 'learning_rate': 0.005434174261947763}. Best is trial 18 with value: 0.9027708498746749.\n",
      "[I 2024-07-12 00:21:07,390] Trial 56 finished with value: 0.8788821986293136 and parameters: {'hidden_size': 64, 'num_layers': 1, 'learning_rate': 0.0038266326621468}. Best is trial 18 with value: 0.9027708498746749.\n",
      "[I 2024-07-12 00:21:14,246] Trial 57 finished with value: 0.8968817204301075 and parameters: {'hidden_size': 47, 'num_layers': 2, 'learning_rate': 0.0014576003008676382}. Best is trial 18 with value: 0.9027708498746749.\n",
      "[I 2024-07-12 00:21:21,106] Trial 58 finished with value: 0.8763054095662792 and parameters: {'hidden_size': 54, 'num_layers': 2, 'learning_rate': 0.0014928536989883647}. Best is trial 18 with value: 0.9027708498746749.\n",
      "[I 2024-07-12 00:21:27,059] Trial 59 finished with value: 0.8917285623926989 and parameters: {'hidden_size': 49, 'num_layers': 1, 'learning_rate': 0.002988888133566145}. Best is trial 18 with value: 0.9027708498746749.\n",
      "[I 2024-07-12 00:21:33,087] Trial 60 finished with value: 0.8977332028701891 and parameters: {'hidden_size': 48, 'num_layers': 1, 'learning_rate': 0.001960173582872009}. Best is trial 18 with value: 0.9027708498746749.\n",
      "[I 2024-07-12 00:21:39,182] Trial 61 finished with value: 0.8775749435958968 and parameters: {'hidden_size': 47, 'num_layers': 1, 'learning_rate': 0.0017920334143606677}. Best is trial 18 with value: 0.9027708498746749.\n",
      "[I 2024-07-12 00:21:45,159] Trial 62 finished with value: 0.910932801686829 and parameters: {'hidden_size': 51, 'num_layers': 1, 'learning_rate': 0.0030332268738291496}. Best is trial 62 with value: 0.910932801686829.\n",
      "[I 2024-07-12 00:21:51,190] Trial 63 finished with value: 0.8968839031339032 and parameters: {'hidden_size': 70, 'num_layers': 1, 'learning_rate': 0.0011658750955978927}. Best is trial 62 with value: 0.910932801686829.\n",
      "[I 2024-07-12 00:21:57,052] Trial 64 finished with value: 0.8955882352941178 and parameters: {'hidden_size': 69, 'num_layers': 1, 'learning_rate': 0.0011300155177040622}. Best is trial 62 with value: 0.910932801686829.\n",
      "[I 2024-07-12 00:22:02,959] Trial 65 finished with value: 0.8745744451626806 and parameters: {'hidden_size': 68, 'num_layers': 1, 'learning_rate': 0.0009087955524746973}. Best is trial 62 with value: 0.910932801686829.\n",
      "[I 2024-07-12 00:22:09,002] Trial 66 finished with value: 0.8178284634590728 and parameters: {'hidden_size': 79, 'num_layers': 1, 'learning_rate': 0.0005321522095751781}. Best is trial 62 with value: 0.910932801686829.\n",
      "[I 2024-07-12 00:22:15,101] Trial 67 finished with value: 0.8377728854098716 and parameters: {'hidden_size': 75, 'num_layers': 1, 'learning_rate': 0.0006365108320752769}. Best is trial 62 with value: 0.910932801686829.\n",
      "[I 2024-07-12 00:22:21,886] Trial 68 finished with value: 0.8596119929453263 and parameters: {'hidden_size': 61, 'num_layers': 1, 'learning_rate': 0.0010787485652376033}. Best is trial 62 with value: 0.910932801686829.\n",
      "[I 2024-07-12 00:22:28,848] Trial 69 finished with value: 0.8813891726251277 and parameters: {'hidden_size': 72, 'num_layers': 1, 'learning_rate': 0.0011602213040886487}. Best is trial 62 with value: 0.910932801686829.\n",
      "[I 2024-07-12 00:22:35,848] Trial 70 finished with value: 0.8733788706739526 and parameters: {'hidden_size': 88, 'num_layers': 1, 'learning_rate': 0.0013469194784178973}. Best is trial 62 with value: 0.910932801686829.\n",
      "[I 2024-07-12 00:22:42,774] Trial 71 finished with value: 0.8882303645785743 and parameters: {'hidden_size': 52, 'num_layers': 1, 'learning_rate': 0.002119709151150992}. Best is trial 62 with value: 0.910932801686829.\n",
      "[I 2024-07-12 00:22:49,822] Trial 72 finished with value: 0.8592245658961744 and parameters: {'hidden_size': 58, 'num_layers': 1, 'learning_rate': 0.0015209138472577145}. Best is trial 62 with value: 0.910932801686829.\n",
      "[I 2024-07-12 00:22:55,916] Trial 73 finished with value: 0.8664834591435628 and parameters: {'hidden_size': 63, 'num_layers': 1, 'learning_rate': 0.0009144865610572301}. Best is trial 62 with value: 0.910932801686829.\n",
      "[I 2024-07-12 00:23:02,272] Trial 74 finished with value: 0.8613090808125621 and parameters: {'hidden_size': 56, 'num_layers': 1, 'learning_rate': 0.0016629009473105793}. Best is trial 62 with value: 0.910932801686829.\n",
      "[I 2024-07-12 00:23:08,959] Trial 75 finished with value: 0.8538698240610685 and parameters: {'hidden_size': 69, 'num_layers': 1, 'learning_rate': 0.0007918808770840048}. Best is trial 62 with value: 0.910932801686829.\n",
      "[I 2024-07-12 00:23:15,843] Trial 76 finished with value: 0.8975559163059164 and parameters: {'hidden_size': 53, 'num_layers': 1, 'learning_rate': 0.0022743355914498073}. Best is trial 62 with value: 0.910932801686829.\n",
      "[I 2024-07-12 00:23:22,224] Trial 77 finished with value: 0.8897516812632226 and parameters: {'hidden_size': 74, 'num_layers': 1, 'learning_rate': 0.001377205686056639}. Best is trial 62 with value: 0.910932801686829.\n",
      "[I 2024-07-12 00:23:28,393] Trial 78 finished with value: 0.8904610492845787 and parameters: {'hidden_size': 52, 'num_layers': 1, 'learning_rate': 0.002936599984090604}. Best is trial 62 with value: 0.910932801686829.\n",
      "[I 2024-07-12 00:23:34,467] Trial 79 finished with value: 0.8858745771532657 and parameters: {'hidden_size': 64, 'num_layers': 1, 'learning_rate': 0.002265244995325543}. Best is trial 62 with value: 0.910932801686829.\n",
      "[I 2024-07-12 00:23:40,464] Trial 80 finished with value: 0.9025963808025177 and parameters: {'hidden_size': 58, 'num_layers': 1, 'learning_rate': 0.0018622029788919448}. Best is trial 62 with value: 0.910932801686829.\n",
      "[I 2024-07-12 00:23:46,403] Trial 81 finished with value: 0.8817106869738449 and parameters: {'hidden_size': 58, 'num_layers': 1, 'learning_rate': 0.0017683686951633268}. Best is trial 62 with value: 0.910932801686829.\n",
      "[I 2024-07-12 00:23:52,386] Trial 82 finished with value: 0.8663672477756986 and parameters: {'hidden_size': 50, 'num_layers': 1, 'learning_rate': 0.001887680308030826}. Best is trial 62 with value: 0.910932801686829.\n",
      "[I 2024-07-12 00:23:58,407] Trial 83 finished with value: 0.8729817073200996 and parameters: {'hidden_size': 41, 'num_layers': 1, 'learning_rate': 0.0011692659250048551}. Best is trial 62 with value: 0.910932801686829.\n",
      "[I 2024-07-12 00:24:04,284] Trial 84 finished with value: 0.8700869518108189 and parameters: {'hidden_size': 56, 'num_layers': 1, 'learning_rate': 0.0009074669453512633}. Best is trial 62 with value: 0.910932801686829.\n",
      "[I 2024-07-12 00:24:12,776] Trial 85 finished with value: 0.8197920653144534 and parameters: {'hidden_size': 61, 'num_layers': 4, 'learning_rate': 0.0020579807885195566}. Best is trial 62 with value: 0.910932801686829.\n",
      "[I 2024-07-12 00:24:18,918] Trial 86 finished with value: 0.8812856812856813 and parameters: {'hidden_size': 66, 'num_layers': 1, 'learning_rate': 0.0028833723456597607}. Best is trial 62 with value: 0.910932801686829.\n",
      "[I 2024-07-12 00:24:24,707] Trial 87 finished with value: 0.8788530465949821 and parameters: {'hidden_size': 82, 'num_layers': 1, 'learning_rate': 0.0013882339648493424}. Best is trial 62 with value: 0.910932801686829.\n",
      "[I 2024-07-12 00:24:30,601] Trial 88 finished with value: 0.8751561413270273 and parameters: {'hidden_size': 128, 'num_layers': 1, 'learning_rate': 0.0024671163968043378}. Best is trial 62 with value: 0.910932801686829.\n",
      "[I 2024-07-12 00:24:36,681] Trial 89 finished with value: 0.7414941718892878 and parameters: {'hidden_size': 70, 'num_layers': 1, 'learning_rate': 0.000370992410450795}. Best is trial 62 with value: 0.910932801686829.\n",
      "[I 2024-07-12 00:24:42,564] Trial 90 finished with value: 0.6579440816730254 and parameters: {'hidden_size': 45, 'num_layers': 1, 'learning_rate': 0.00010706355228125002}. Best is trial 62 with value: 0.910932801686829.\n",
      "[I 2024-07-12 00:24:48,585] Trial 91 finished with value: 0.9043406593406594 and parameters: {'hidden_size': 50, 'num_layers': 1, 'learning_rate': 0.0022565072104890243}. Best is trial 62 with value: 0.910932801686829.\n",
      "[I 2024-07-12 00:24:54,719] Trial 92 finished with value: 0.8884792626728111 and parameters: {'hidden_size': 50, 'num_layers': 1, 'learning_rate': 0.0015712945314188276}. Best is trial 62 with value: 0.910932801686829.\n",
      "[I 2024-07-12 00:25:00,806] Trial 93 finished with value: 0.8904996642701561 and parameters: {'hidden_size': 59, 'num_layers': 1, 'learning_rate': 0.0022888206886908444}. Best is trial 62 with value: 0.910932801686829.\n",
      "[I 2024-07-12 00:25:07,183] Trial 94 finished with value: 0.8829406743491252 and parameters: {'hidden_size': 53, 'num_layers': 1, 'learning_rate': 0.003199078909345111}. Best is trial 62 with value: 0.910932801686829.\n",
      "[I 2024-07-12 00:25:13,039] Trial 95 finished with value: 0.891742631489467 and parameters: {'hidden_size': 42, 'num_layers': 1, 'learning_rate': 0.001963071350803129}. Best is trial 62 with value: 0.910932801686829.\n",
      "[I 2024-07-12 00:25:18,936] Trial 96 finished with value: 0.8832205905113941 and parameters: {'hidden_size': 43, 'num_layers': 1, 'learning_rate': 0.0019292931843210904}. Best is trial 62 with value: 0.910932801686829.\n",
      "[I 2024-07-12 00:25:24,932] Trial 97 finished with value: 0.8805753968253969 and parameters: {'hidden_size': 47, 'num_layers': 1, 'learning_rate': 0.001676523828596}. Best is trial 62 with value: 0.910932801686829.\n",
      "[I 2024-07-12 00:25:31,079] Trial 98 finished with value: 0.8960759797204714 and parameters: {'hidden_size': 41, 'num_layers': 1, 'learning_rate': 0.002593928897745788}. Best is trial 62 with value: 0.910932801686829.\n",
      "[I 2024-07-12 00:25:37,559] Trial 99 finished with value: 0.9003205128205127 and parameters: {'hidden_size': 55, 'num_layers': 1, 'learning_rate': 0.002629970055851578}. Best is trial 62 with value: 0.910932801686829.\n"
     ]
    },
    {
     "name": "stdout",
     "output_type": "stream",
     "text": [
      "Number of finished trials:  100\n",
      "Best trial:\n",
      "  Value:  0.910932801686829\n",
      "  Params: \n",
      "    hidden_size: 51\n",
      "    num_layers: 1\n",
      "    learning_rate: 0.0030332268738291496\n",
      "do not know the model\n",
      "              precision    recall  f1-score   support\n",
      "\n",
      "           0       1.00      0.99      1.00       187\n",
      "           1       0.99      1.00      1.00       183\n",
      "\n",
      "    accuracy                           1.00       370\n",
      "   macro avg       1.00      1.00      1.00       370\n",
      "weighted avg       1.00      1.00      1.00       370\n",
      "\n",
      "              precision    recall  f1-score   support\n",
      "\n",
      "           0       0.59      0.68      0.63        68\n",
      "           1       0.41      0.32      0.36        47\n",
      "\n",
      "    accuracy                           0.53       115\n",
      "   macro avg       0.50      0.50      0.49       115\n",
      "weighted avg       0.51      0.53      0.52       115\n",
      "\n"
     ]
    }
   ],
   "source": [
    "model = treinar( X_train_reduced, y_train_reduced,GRUModel_dropout, n_trials, 'VALE3'+file_to_save_model)\n",
    "model.eval()\n",
    "avaliar(model, X_train_reduced, y_train_reduced, X_test_reduced, y_test_reduced)\n"
   ]
  },
  {
   "cell_type": "code",
   "execution_count": 17,
   "metadata": {},
   "outputs": [],
   "source": [
    "df_train = pd.read_csv(\"..\\\\FinalDatasets\\\\PETR4\\\\PETR4_tabular_train.csv\")\n",
    "df_test = pd.read_csv(\"..\\\\FinalDatasets\\\\PETR4\\\\PETR4_tabular_test.csv\")\n",
    "\n",
    "coluna_target = df_train[\"hasRise\"]\n",
    "df_train.drop(columns= [\"Date\", \"hasRise\"], inplace= True)\n",
    "df_test.drop(columns= [\"Date\"], inplace= True)\n",
    "\n",
    "# Drop high correlated features in correlation list\n",
    "\n",
    "f2drop = []\n",
    "for feature_pair, _ in correlation_list:\n",
    "  if feature_pair[0] not in f2drop and feature_pair[1] not in f2drop:\n",
    "    f2drop.append(feature_pair[1])\n",
    "\n",
    "df_train_reduced = df_train.drop(f2drop, axis='columns')\n",
    "df_test_reduced = df_test.drop(f2drop, axis='columns')\n",
    "\n",
    "df_train_reduced[\"hasRise\"] = coluna_target \n",
    "X_train_reduced, y_train_reduced = get_sequences_X_y(df_train_reduced)\n",
    "X_test_reduced, y_test_reduced = get_sequences_X_y(df_test_reduced)"
   ]
  },
  {
   "cell_type": "code",
   "execution_count": 18,
   "metadata": {},
   "outputs": [
    {
     "data": {
      "text/plain": [
       "((370, 7, 40), (115, 7, 40))"
      ]
     },
     "execution_count": 18,
     "metadata": {},
     "output_type": "execute_result"
    }
   ],
   "source": [
    "X_train_reduced.shape,X_test_reduced.shape"
   ]
  },
  {
   "cell_type": "code",
   "execution_count": 19,
   "metadata": {},
   "outputs": [
    {
     "name": "stderr",
     "output_type": "stream",
     "text": [
      "[I 2024-07-12 00:25:42,801] A new study created in memory with name: no-name-98a78309-f515-446c-85ea-a71381bc7c2c\n",
      "[I 2024-07-12 00:25:51,358] Trial 0 finished with value: 0.7790014074525109 and parameters: {'hidden_size': 110, 'num_layers': 2, 'learning_rate': 0.009480276077163707}. Best is trial 0 with value: 0.7790014074525109.\n",
      "[I 2024-07-12 00:25:59,650] Trial 1 finished with value: 0.7918042746074919 and parameters: {'hidden_size': 58, 'num_layers': 3, 'learning_rate': 0.003276792563509802}. Best is trial 1 with value: 0.7918042746074919.\n",
      "[I 2024-07-12 00:26:09,002] Trial 2 finished with value: 0.703616122677534 and parameters: {'hidden_size': 116, 'num_layers': 4, 'learning_rate': 0.008591032654885465}. Best is trial 1 with value: 0.7918042746074919.\n",
      "[I 2024-07-12 00:26:17,389] Trial 3 finished with value: 0.5867125103228796 and parameters: {'hidden_size': 84, 'num_layers': 3, 'learning_rate': 0.00010057437628508267}. Best is trial 1 with value: 0.7918042746074919.\n",
      "[I 2024-07-12 00:26:26,555] Trial 4 finished with value: 0.8113618225012924 and parameters: {'hidden_size': 54, 'num_layers': 4, 'learning_rate': 0.0055718497388451945}. Best is trial 4 with value: 0.8113618225012924.\n",
      "[I 2024-07-12 00:26:34,377] Trial 5 finished with value: 0.8117965884902976 and parameters: {'hidden_size': 83, 'num_layers': 2, 'learning_rate': 0.006991349225643622}. Best is trial 5 with value: 0.8117965884902976.\n",
      "[I 2024-07-12 00:26:43,759] Trial 6 finished with value: 0.6435036532345525 and parameters: {'hidden_size': 18, 'num_layers': 4, 'learning_rate': 0.0027832129148782653}. Best is trial 5 with value: 0.8117965884902976.\n",
      "[I 2024-07-12 00:26:49,863] Trial 7 finished with value: 0.7808502618137274 and parameters: {'hidden_size': 49, 'num_layers': 1, 'learning_rate': 0.001257032588135251}. Best is trial 5 with value: 0.8117965884902976.\n",
      "[I 2024-07-12 00:26:58,262] Trial 8 finished with value: 0.601094563413404 and parameters: {'hidden_size': 99, 'num_layers': 3, 'learning_rate': 0.00012592207226732487}. Best is trial 5 with value: 0.8117965884902976.\n",
      "[I 2024-07-12 00:27:06,145] Trial 9 finished with value: 0.6993668134312203 and parameters: {'hidden_size': 103, 'num_layers': 2, 'learning_rate': 0.000411593483529689}. Best is trial 5 with value: 0.8117965884902976.\n",
      "[I 2024-07-12 00:27:12,941] Trial 10 finished with value: 0.8291726900550429 and parameters: {'hidden_size': 84, 'num_layers': 1, 'learning_rate': 0.0009463066959581373}. Best is trial 10 with value: 0.8291726900550429.\n",
      "[I 2024-07-12 00:27:19,562] Trial 11 finished with value: 0.8173104351927881 and parameters: {'hidden_size': 79, 'num_layers': 1, 'learning_rate': 0.0009209033189460773}. Best is trial 10 with value: 0.8291726900550429.\n",
      "[I 2024-07-12 00:27:26,239] Trial 12 finished with value: 0.7285306103011708 and parameters: {'hidden_size': 73, 'num_layers': 1, 'learning_rate': 0.0005788768782269679}. Best is trial 10 with value: 0.8291726900550429.\n",
      "[I 2024-07-12 00:27:32,460] Trial 13 finished with value: 0.8240972339795869 and parameters: {'hidden_size': 90, 'num_layers': 1, 'learning_rate': 0.001182868856611398}. Best is trial 10 with value: 0.8291726900550429.\n",
      "[I 2024-07-12 00:27:42,839] Trial 14 finished with value: 0.7287548893101793 and parameters: {'hidden_size': 126, 'num_layers': 5, 'learning_rate': 0.00028769613213652713}. Best is trial 10 with value: 0.8291726900550429.\n",
      "[I 2024-07-12 00:27:49,156] Trial 15 finished with value: 0.8448531064462355 and parameters: {'hidden_size': 95, 'num_layers': 1, 'learning_rate': 0.0015083521925016684}. Best is trial 15 with value: 0.8448531064462355.\n",
      "[I 2024-07-12 00:27:56,296] Trial 16 finished with value: 0.7807142299822996 and parameters: {'hidden_size': 63, 'num_layers': 2, 'learning_rate': 0.0023340544005490817}. Best is trial 15 with value: 0.8448531064462355.\n",
      "[I 2024-07-12 00:28:02,422] Trial 17 finished with value: 0.7559197177399793 and parameters: {'hidden_size': 43, 'num_layers': 1, 'learning_rate': 0.000708231155985278}. Best is trial 15 with value: 0.8448531064462355.\n",
      "[I 2024-07-12 00:28:09,732] Trial 18 finished with value: 0.7829543254769286 and parameters: {'hidden_size': 96, 'num_layers': 2, 'learning_rate': 0.0015217046857744852}. Best is trial 15 with value: 0.8448531064462355.\n",
      "[I 2024-07-12 00:28:15,900] Trial 19 finished with value: 0.6378232747644512 and parameters: {'hidden_size': 29, 'num_layers': 1, 'learning_rate': 0.0002445771110057306}. Best is trial 15 with value: 0.8448531064462355.\n",
      "[I 2024-07-12 00:28:26,160] Trial 20 finished with value: 0.6351308899407468 and parameters: {'hidden_size': 69, 'num_layers': 5, 'learning_rate': 0.0019011031753541612}. Best is trial 15 with value: 0.8448531064462355.\n",
      "[I 2024-07-12 00:28:32,363] Trial 21 finished with value: 0.8407690323352973 and parameters: {'hidden_size': 92, 'num_layers': 1, 'learning_rate': 0.0012047235391612317}. Best is trial 15 with value: 0.8448531064462355.\n",
      "[I 2024-07-12 00:28:38,724] Trial 22 finished with value: 0.7982150882825041 and parameters: {'hidden_size': 91, 'num_layers': 1, 'learning_rate': 0.0007887871143253297}. Best is trial 15 with value: 0.8448531064462355.\n",
      "[I 2024-07-12 00:28:46,375] Trial 23 finished with value: 0.8566012207911345 and parameters: {'hidden_size': 110, 'num_layers': 2, 'learning_rate': 0.003717212374192315}. Best is trial 23 with value: 0.8566012207911345.\n",
      "[I 2024-07-12 00:28:54,203] Trial 24 finished with value: 0.814032849614245 and parameters: {'hidden_size': 114, 'num_layers': 2, 'learning_rate': 0.004281882150940323}. Best is trial 23 with value: 0.8566012207911345.\n",
      "[I 2024-07-12 00:29:04,559] Trial 25 finished with value: 0.8206066093147152 and parameters: {'hidden_size': 119, 'num_layers': 2, 'learning_rate': 0.0017699709169600494}. Best is trial 23 with value: 0.8566012207911345.\n",
      "[I 2024-07-12 00:29:14,073] Trial 26 finished with value: 0.849141814319942 and parameters: {'hidden_size': 104, 'num_layers': 2, 'learning_rate': 0.0039052709362742575}. Best is trial 23 with value: 0.8566012207911345.\n",
      "[I 2024-07-12 00:29:24,856] Trial 27 finished with value: 0.8317903400118531 and parameters: {'hidden_size': 104, 'num_layers': 3, 'learning_rate': 0.003865911787907744}. Best is trial 23 with value: 0.8566012207911345.\n",
      "[I 2024-07-12 00:29:34,358] Trial 28 finished with value: 0.811006312604486 and parameters: {'hidden_size': 126, 'num_layers': 2, 'learning_rate': 0.0023042928322689784}. Best is trial 23 with value: 0.8566012207911345.\n",
      "[I 2024-07-12 00:29:43,757] Trial 29 finished with value: 0.8074639762881896 and parameters: {'hidden_size': 108, 'num_layers': 2, 'learning_rate': 0.005578273213358678}. Best is trial 23 with value: 0.8566012207911345.\n",
      "[I 2024-07-12 00:29:53,336] Trial 30 finished with value: 0.8056108086340645 and parameters: {'hidden_size': 109, 'num_layers': 2, 'learning_rate': 0.009890889002384936}. Best is trial 23 with value: 0.8566012207911345.\n",
      "[I 2024-07-12 00:30:01,794] Trial 31 finished with value: 0.851169082730949 and parameters: {'hidden_size': 94, 'num_layers': 1, 'learning_rate': 0.004640028997587833}. Best is trial 23 with value: 0.8566012207911345.\n",
      "[I 2024-07-12 00:30:11,589] Trial 32 finished with value: 0.7818639199670766 and parameters: {'hidden_size': 100, 'num_layers': 3, 'learning_rate': 0.0047834763609217994}. Best is trial 23 with value: 0.8566012207911345.\n",
      "[I 2024-07-12 00:30:18,068] Trial 33 finished with value: 0.8347216844396538 and parameters: {'hidden_size': 119, 'num_layers': 1, 'learning_rate': 0.0031959138385246073}. Best is trial 23 with value: 0.8566012207911345.\n",
      "[I 2024-07-12 00:30:25,797] Trial 34 finished with value: 0.7613682104149065 and parameters: {'hidden_size': 110, 'num_layers': 2, 'learning_rate': 0.007156336956249809}. Best is trial 23 with value: 0.8566012207911345.\n",
      "[I 2024-07-12 00:30:34,399] Trial 35 finished with value: 0.7940466952019765 and parameters: {'hidden_size': 76, 'num_layers': 3, 'learning_rate': 0.003422860652241895}. Best is trial 23 with value: 0.8566012207911345.\n",
      "[I 2024-07-12 00:30:40,849] Trial 36 finished with value: 0.8111641506902073 and parameters: {'hidden_size': 94, 'num_layers': 1, 'learning_rate': 0.0066890317004071635}. Best is trial 23 with value: 0.8566012207911345.\n",
      "[I 2024-07-12 00:30:48,485] Trial 37 finished with value: 0.8014087576726604 and parameters: {'hidden_size': 86, 'num_layers': 2, 'learning_rate': 0.0027634104436645023}. Best is trial 23 with value: 0.8566012207911345.\n",
      "[I 2024-07-12 00:30:58,328] Trial 38 finished with value: 0.6438173905696163 and parameters: {'hidden_size': 116, 'num_layers': 4, 'learning_rate': 0.005259556443324762}. Best is trial 23 with value: 0.8566012207911345.\n",
      "[I 2024-07-12 00:31:07,505] Trial 39 finished with value: 0.8054394794367343 and parameters: {'hidden_size': 101, 'num_layers': 3, 'learning_rate': 0.0023116773304151387}. Best is trial 23 with value: 0.8566012207911345.\n",
      "[I 2024-07-12 00:31:14,319] Trial 40 finished with value: 0.8442807442337269 and parameters: {'hidden_size': 106, 'num_layers': 1, 'learning_rate': 0.008061482843250678}. Best is trial 23 with value: 0.8566012207911345.\n",
      "[I 2024-07-12 00:31:21,159] Trial 41 finished with value: 0.8245737431783944 and parameters: {'hidden_size': 106, 'num_layers': 1, 'learning_rate': 0.00727250565428725}. Best is trial 23 with value: 0.8566012207911345.\n",
      "[I 2024-07-12 00:31:27,808] Trial 42 finished with value: 0.8356300680509458 and parameters: {'hidden_size': 112, 'num_layers': 1, 'learning_rate': 0.0038738865857274947}. Best is trial 23 with value: 0.8566012207911345.\n",
      "[I 2024-07-12 00:31:34,112] Trial 43 finished with value: 0.8025305435721158 and parameters: {'hidden_size': 121, 'num_layers': 1, 'learning_rate': 0.008553386282457952}. Best is trial 23 with value: 0.8566012207911345.\n",
      "[I 2024-07-12 00:31:41,486] Trial 44 finished with value: 0.8267853330541053 and parameters: {'hidden_size': 97, 'num_layers': 2, 'learning_rate': 0.005447170658228058}. Best is trial 23 with value: 0.8566012207911345.\n",
      "[I 2024-07-12 00:31:47,839] Trial 45 finished with value: 0.8096003531587623 and parameters: {'hidden_size': 89, 'num_layers': 1, 'learning_rate': 0.002920042483469623}. Best is trial 23 with value: 0.8566012207911345.\n",
      "[I 2024-07-12 00:31:54,559] Trial 46 finished with value: 0.8061374153797368 and parameters: {'hidden_size': 104, 'num_layers': 1, 'learning_rate': 0.006803932854369873}. Best is trial 23 with value: 0.8566012207911345.\n",
      "[I 2024-07-12 00:32:02,593] Trial 47 finished with value: 0.7980937786415071 and parameters: {'hidden_size': 80, 'num_layers': 2, 'learning_rate': 0.004449750968778302}. Best is trial 23 with value: 0.8566012207911345.\n",
      "[I 2024-07-12 00:32:12,163] Trial 48 finished with value: 0.7369504591746081 and parameters: {'hidden_size': 97, 'num_layers': 4, 'learning_rate': 0.0085793046261501}. Best is trial 23 with value: 0.8566012207911345.\n",
      "[I 2024-07-12 00:32:18,406] Trial 49 finished with value: 0.8390370776340201 and parameters: {'hidden_size': 124, 'num_layers': 1, 'learning_rate': 0.001539690323646945}. Best is trial 23 with value: 0.8566012207911345.\n",
      "[I 2024-07-12 00:32:24,833] Trial 50 finished with value: 0.8385429287581367 and parameters: {'hidden_size': 67, 'num_layers': 1, 'learning_rate': 0.00580021957189358}. Best is trial 23 with value: 0.8566012207911345.\n",
      "[I 2024-07-12 00:32:31,501] Trial 51 finished with value: 0.8396216960875064 and parameters: {'hidden_size': 94, 'num_layers': 1, 'learning_rate': 0.0011225420375144733}. Best is trial 23 with value: 0.8566012207911345.\n",
      "[I 2024-07-12 00:32:39,159] Trial 52 finished with value: 0.7524501462026817 and parameters: {'hidden_size': 86, 'num_layers': 1, 'learning_rate': 0.0004954955416461067}. Best is trial 23 with value: 0.8566012207911345.\n",
      "[I 2024-07-12 00:32:46,155] Trial 53 finished with value: 0.8574146865683538 and parameters: {'hidden_size': 92, 'num_layers': 1, 'learning_rate': 0.0013695116884814241}. Best is trial 53 with value: 0.8574146865683538.\n",
      "[I 2024-07-12 00:32:54,686] Trial 54 finished with value: 0.803890929834705 and parameters: {'hidden_size': 101, 'num_layers': 2, 'learning_rate': 0.0018640662850486183}. Best is trial 53 with value: 0.8574146865683538.\n",
      "[I 2024-07-12 00:33:02,212] Trial 55 finished with value: 0.8388132812941909 and parameters: {'hidden_size': 114, 'num_layers': 1, 'learning_rate': 0.0014651818892465675}. Best is trial 53 with value: 0.8574146865683538.\n",
      "[I 2024-07-12 00:33:12,141] Trial 56 finished with value: 0.7074649723036819 and parameters: {'hidden_size': 105, 'num_layers': 3, 'learning_rate': 0.0008878669367355708}. Best is trial 53 with value: 0.8574146865683538.\n",
      "[I 2024-07-12 00:33:19,216] Trial 57 finished with value: 0.8704963852146358 and parameters: {'hidden_size': 90, 'num_layers': 1, 'learning_rate': 0.0024929608873614593}. Best is trial 57 with value: 0.8704963852146358.\n",
      "[I 2024-07-12 00:33:27,402] Trial 58 finished with value: 0.8313281550490853 and parameters: {'hidden_size': 81, 'num_layers': 2, 'learning_rate': 0.0020926335072215785}. Best is trial 57 with value: 0.8704963852146358.\n",
      "[I 2024-07-12 00:33:35,154] Trial 59 finished with value: 0.8712365095960409 and parameters: {'hidden_size': 76, 'num_layers': 1, 'learning_rate': 0.0036966944374137688}. Best is trial 59 with value: 0.8712365095960409.\n",
      "[I 2024-07-12 00:33:42,018] Trial 60 finished with value: 0.8415698137509109 and parameters: {'hidden_size': 59, 'num_layers': 1, 'learning_rate': 0.0027395539999477835}. Best is trial 59 with value: 0.8712365095960409.\n",
      "[I 2024-07-12 00:33:49,475] Trial 61 finished with value: 0.8534183051210915 and parameters: {'hidden_size': 75, 'num_layers': 1, 'learning_rate': 0.0036082220709736912}. Best is trial 59 with value: 0.8712365095960409.\n",
      "[I 2024-07-12 00:33:56,445] Trial 62 finished with value: 0.8504667793387892 and parameters: {'hidden_size': 71, 'num_layers': 1, 'learning_rate': 0.0034629474631071534}. Best is trial 59 with value: 0.8712365095960409.\n",
      "[I 2024-07-12 00:34:03,258] Trial 63 finished with value: 0.8613651511339103 and parameters: {'hidden_size': 73, 'num_layers': 1, 'learning_rate': 0.003221194799071818}. Best is trial 59 with value: 0.8712365095960409.\n",
      "[I 2024-07-12 00:34:10,306] Trial 64 finished with value: 0.8587945563490547 and parameters: {'hidden_size': 74, 'num_layers': 1, 'learning_rate': 0.0028640438778832758}. Best is trial 59 with value: 0.8712365095960409.\n",
      "[I 2024-07-12 00:34:17,440] Trial 65 finished with value: 0.8166197788303435 and parameters: {'hidden_size': 75, 'num_layers': 1, 'learning_rate': 0.0026826693566254166}. Best is trial 59 with value: 0.8712365095960409.\n",
      "[I 2024-07-12 00:34:24,655] Trial 66 finished with value: 0.827545210517058 and parameters: {'hidden_size': 67, 'num_layers': 1, 'learning_rate': 0.003375815124738892}. Best is trial 59 with value: 0.8712365095960409.\n",
      "[I 2024-07-12 00:34:31,569] Trial 67 finished with value: 0.8527494617621482 and parameters: {'hidden_size': 62, 'num_layers': 1, 'learning_rate': 0.002457198605740773}. Best is trial 59 with value: 0.8712365095960409.\n",
      "[I 2024-07-12 00:34:38,364] Trial 68 finished with value: 0.8423576476448428 and parameters: {'hidden_size': 51, 'num_layers': 1, 'learning_rate': 0.002061379671382393}. Best is trial 59 with value: 0.8712365095960409.\n",
      "[I 2024-07-12 00:34:45,209] Trial 69 finished with value: 0.8460626909912919 and parameters: {'hidden_size': 77, 'num_layers': 1, 'learning_rate': 0.0041646737385608815}. Best is trial 59 with value: 0.8712365095960409.\n",
      "[I 2024-07-12 00:34:52,232] Trial 70 finished with value: 0.8178003941230761 and parameters: {'hidden_size': 72, 'num_layers': 1, 'learning_rate': 0.001745849384581595}. Best is trial 59 with value: 0.8712365095960409.\n",
      "[I 2024-07-12 00:34:59,842] Trial 71 finished with value: 0.8149018555779118 and parameters: {'hidden_size': 60, 'num_layers': 1, 'learning_rate': 0.002406800498109342}. Best is trial 59 with value: 0.8712365095960409.\n",
      "[I 2024-07-12 00:35:08,451] Trial 72 finished with value: 0.8552639029322548 and parameters: {'hidden_size': 63, 'num_layers': 1, 'learning_rate': 0.0031225317876307853}. Best is trial 59 with value: 0.8712365095960409.\n",
      "[I 2024-07-12 00:35:15,129] Trial 73 finished with value: 0.84983863269538 and parameters: {'hidden_size': 64, 'num_layers': 1, 'learning_rate': 0.0031113762249806586}. Best is trial 59 with value: 0.8712365095960409.\n",
      "[I 2024-07-12 00:35:21,774] Trial 74 finished with value: 0.8525781957506096 and parameters: {'hidden_size': 56, 'num_layers': 1, 'learning_rate': 0.0034884098040451894}. Best is trial 59 with value: 0.8712365095960409.\n",
      "[I 2024-07-12 00:35:27,964] Trial 75 finished with value: 0.8337099882638489 and parameters: {'hidden_size': 45, 'num_layers': 1, 'learning_rate': 0.004721652819788662}. Best is trial 59 with value: 0.8712365095960409.\n",
      "[I 2024-07-12 00:35:34,138] Trial 76 finished with value: 0.8396678315603836 and parameters: {'hidden_size': 69, 'num_layers': 1, 'learning_rate': 0.0013282711842587571}. Best is trial 59 with value: 0.8712365095960409.\n",
      "[I 2024-07-12 00:35:40,462] Trial 77 finished with value: 0.8413644522925701 and parameters: {'hidden_size': 84, 'num_layers': 1, 'learning_rate': 0.003696745991417477}. Best is trial 59 with value: 0.8712365095960409.\n",
      "[I 2024-07-12 00:35:47,497] Trial 78 finished with value: 0.8226903892227329 and parameters: {'hidden_size': 88, 'num_layers': 2, 'learning_rate': 0.0030081549763845226}. Best is trial 59 with value: 0.8712365095960409.\n",
      "[I 2024-07-12 00:35:53,528] Trial 79 finished with value: 0.6502601697752496 and parameters: {'hidden_size': 78, 'num_layers': 1, 'learning_rate': 0.000104094753245936}. Best is trial 59 with value: 0.8712365095960409.\n",
      "[I 2024-07-12 00:36:01,084] Trial 80 finished with value: 0.630542920029347 and parameters: {'hidden_size': 74, 'num_layers': 2, 'learning_rate': 0.00017418622208004807}. Best is trial 59 with value: 0.8712365095960409.\n",
      "[I 2024-07-12 00:36:07,550] Trial 81 finished with value: 0.8430067941695848 and parameters: {'hidden_size': 63, 'num_layers': 1, 'learning_rate': 0.0025427533899949977}. Best is trial 59 with value: 0.8712365095960409.\n",
      "[I 2024-07-12 00:36:14,005] Trial 82 finished with value: 0.8572517189905561 and parameters: {'hidden_size': 53, 'num_layers': 1, 'learning_rate': 0.0022399500436671308}. Best is trial 59 with value: 0.8712365095960409.\n",
      "[I 2024-07-12 00:36:20,350] Trial 83 finished with value: 0.8012718608419782 and parameters: {'hidden_size': 38, 'num_layers': 1, 'learning_rate': 0.0020580031983701915}. Best is trial 59 with value: 0.8712365095960409.\n",
      "[I 2024-07-12 00:36:26,726] Trial 84 finished with value: 0.8350925997027033 and parameters: {'hidden_size': 53, 'num_layers': 1, 'learning_rate': 0.0017324360171559474}. Best is trial 59 with value: 0.8712365095960409.\n",
      "[I 2024-07-12 00:36:33,035] Trial 85 finished with value: 0.8521018436681087 and parameters: {'hidden_size': 66, 'num_layers': 1, 'learning_rate': 0.004122666395565187}. Best is trial 59 with value: 0.8712365095960409.\n",
      "[I 2024-07-12 00:36:39,075] Trial 86 finished with value: 0.8451374328482762 and parameters: {'hidden_size': 81, 'num_layers': 1, 'learning_rate': 0.003078361905731006}. Best is trial 59 with value: 0.8712365095960409.\n",
      "[I 2024-07-12 00:36:49,323] Trial 87 finished with value: 0.609410909597532 and parameters: {'hidden_size': 69, 'num_layers': 5, 'learning_rate': 0.0020678910686770953}. Best is trial 59 with value: 0.8712365095960409.\n",
      "[I 2024-07-12 00:36:56,624] Trial 88 finished with value: 0.81987160806673 and parameters: {'hidden_size': 57, 'num_layers': 2, 'learning_rate': 0.005008292471412009}. Best is trial 59 with value: 0.8712365095960409.\n",
      "[I 2024-07-12 00:37:03,161] Trial 89 finished with value: 0.7760937200458515 and parameters: {'hidden_size': 46, 'num_layers': 1, 'learning_rate': 0.0010176535016643597}. Best is trial 59 with value: 0.8712365095960409.\n",
      "[I 2024-07-12 00:37:09,337] Trial 90 finished with value: 0.7877024223215081 and parameters: {'hidden_size': 38, 'num_layers': 1, 'learning_rate': 0.005984419267427019}. Best is trial 59 with value: 0.8712365095960409.\n",
      "[I 2024-07-12 00:37:15,913] Trial 91 finished with value: 0.8594385375215101 and parameters: {'hidden_size': 61, 'num_layers': 1, 'learning_rate': 0.002511440452803993}. Best is trial 59 with value: 0.8712365095960409.\n",
      "[I 2024-07-12 00:37:22,158] Trial 92 finished with value: 0.8007088214532334 and parameters: {'hidden_size': 16, 'num_layers': 1, 'learning_rate': 0.002822308744055638}. Best is trial 59 with value: 0.8712365095960409.\n",
      "[I 2024-07-12 00:37:28,471] Trial 93 finished with value: 0.8516765403664284 and parameters: {'hidden_size': 72, 'num_layers': 1, 'learning_rate': 0.0036398926054398897}. Best is trial 59 with value: 0.8712365095960409.\n",
      "[I 2024-07-12 00:37:34,682] Trial 94 finished with value: 0.8412324771762524 and parameters: {'hidden_size': 55, 'num_layers': 1, 'learning_rate': 0.0016249054807612414}. Best is trial 59 with value: 0.8712365095960409.\n",
      "[I 2024-07-12 00:37:40,825] Trial 95 finished with value: 0.8227998805463594 and parameters: {'hidden_size': 61, 'num_layers': 1, 'learning_rate': 0.0022626356752072957}. Best is trial 59 with value: 0.8712365095960409.\n",
      "[I 2024-07-12 00:37:47,263] Trial 96 finished with value: 0.8437029654238957 and parameters: {'hidden_size': 65, 'num_layers': 1, 'learning_rate': 0.003194848008746394}. Best is trial 59 with value: 0.8712365095960409.\n",
      "[I 2024-07-12 00:37:53,497] Trial 97 finished with value: 0.8502110960613031 and parameters: {'hidden_size': 83, 'num_layers': 1, 'learning_rate': 0.004037785058977839}. Best is trial 59 with value: 0.8712365095960409.\n",
      "[I 2024-07-12 00:38:00,073] Trial 98 finished with value: 0.841713616161425 and parameters: {'hidden_size': 69, 'num_layers': 1, 'learning_rate': 0.0013799675616567}. Best is trial 59 with value: 0.8712365095960409.\n",
      "[I 2024-07-12 00:38:06,395] Trial 99 finished with value: 0.8203420227322666 and parameters: {'hidden_size': 49, 'num_layers': 1, 'learning_rate': 0.002222307153664587}. Best is trial 59 with value: 0.8712365095960409.\n"
     ]
    },
    {
     "name": "stdout",
     "output_type": "stream",
     "text": [
      "Number of finished trials:  100\n",
      "Best trial:\n",
      "  Value:  0.8712365095960409\n",
      "  Params: \n",
      "    hidden_size: 76\n",
      "    num_layers: 1\n",
      "    learning_rate: 0.0036966944374137688\n",
      "do not know the model\n",
      "              precision    recall  f1-score   support\n",
      "\n",
      "           0       0.98      0.98      0.98       169\n",
      "           1       0.98      0.98      0.98       201\n",
      "\n",
      "    accuracy                           0.98       370\n",
      "   macro avg       0.98      0.98      0.98       370\n",
      "weighted avg       0.98      0.98      0.98       370\n",
      "\n",
      "              precision    recall  f1-score   support\n",
      "\n",
      "           0       0.45      0.59      0.51        49\n",
      "           1       0.61      0.47      0.53        66\n",
      "\n",
      "    accuracy                           0.52       115\n",
      "   macro avg       0.53      0.53      0.52       115\n",
      "weighted avg       0.54      0.52      0.52       115\n",
      "\n"
     ]
    }
   ],
   "source": [
    "model = treinar( X_train_reduced, y_train_reduced,LSTMModel_dropout, n_trials, 'PETR4'+file_to_save_model)\n",
    "model.eval()\n",
    "avaliar(model, X_train_reduced, y_train_reduced, X_test_reduced, y_test_reduced)\n"
   ]
  },
  {
   "cell_type": "code",
   "execution_count": 20,
   "metadata": {},
   "outputs": [
    {
     "name": "stderr",
     "output_type": "stream",
     "text": [
      "[I 2024-07-12 00:38:09,079] A new study created in memory with name: no-name-ee7bebfe-27fe-4745-8f2a-273cfa48e949\n",
      "[I 2024-07-12 00:38:18,961] Trial 0 finished with value: 0.6177112620489978 and parameters: {'hidden_size': 73, 'num_layers': 5, 'learning_rate': 0.007946186456591158}. Best is trial 0 with value: 0.6177112620489978.\n",
      "[I 2024-07-12 00:38:26,839] Trial 1 finished with value: 0.6199104263207322 and parameters: {'hidden_size': 73, 'num_layers': 3, 'learning_rate': 0.0003003396388745038}. Best is trial 1 with value: 0.6199104263207322.\n",
      "[I 2024-07-12 00:38:34,843] Trial 2 finished with value: 0.6098167593216329 and parameters: {'hidden_size': 54, 'num_layers': 3, 'learning_rate': 0.00036843450581779553}. Best is trial 1 with value: 0.6199104263207322.\n",
      "[I 2024-07-12 00:38:42,166] Trial 3 finished with value: 0.8247499581766885 and parameters: {'hidden_size': 124, 'num_layers': 3, 'learning_rate': 0.0022134239125972755}. Best is trial 3 with value: 0.8247499581766885.\n",
      "[I 2024-07-12 00:38:49,242] Trial 4 finished with value: 0.8771843312399182 and parameters: {'hidden_size': 118, 'num_layers': 2, 'learning_rate': 0.002246659903196199}. Best is trial 4 with value: 0.8771843312399182.\n",
      "[I 2024-07-12 00:38:56,736] Trial 5 finished with value: 0.7282469388603843 and parameters: {'hidden_size': 46, 'num_layers': 3, 'learning_rate': 0.0008587378559465716}. Best is trial 4 with value: 0.8771843312399182.\n",
      "[I 2024-07-12 00:39:05,365] Trial 6 finished with value: 0.7327028413385215 and parameters: {'hidden_size': 89, 'num_layers': 4, 'learning_rate': 0.004240802473938897}. Best is trial 4 with value: 0.8771843312399182.\n",
      "[I 2024-07-12 00:39:13,412] Trial 7 finished with value: 0.8094627879655354 and parameters: {'hidden_size': 39, 'num_layers': 3, 'learning_rate': 0.006979392225872475}. Best is trial 4 with value: 0.8771843312399182.\n",
      "[I 2024-07-12 00:39:20,678] Trial 8 finished with value: 0.7657803306248249 and parameters: {'hidden_size': 123, 'num_layers': 2, 'learning_rate': 0.00048587440563053086}. Best is trial 4 with value: 0.8771843312399182.\n",
      "[I 2024-07-12 00:39:30,201] Trial 9 finished with value: 0.6800724206864573 and parameters: {'hidden_size': 120, 'num_layers': 5, 'learning_rate': 0.0005719664498578529}. Best is trial 4 with value: 0.8771843312399182.\n",
      "[I 2024-07-12 00:39:36,490] Trial 10 finished with value: 0.6335403689107628 and parameters: {'hidden_size': 97, 'num_layers': 1, 'learning_rate': 0.0001113291706895962}. Best is trial 4 with value: 0.8771843312399182.\n",
      "[I 2024-07-12 00:39:42,607] Trial 11 finished with value: 0.8526870597690485 and parameters: {'hidden_size': 107, 'num_layers': 1, 'learning_rate': 0.0023431922502622445}. Best is trial 4 with value: 0.8771843312399182.\n",
      "[I 2024-07-12 00:39:48,326] Trial 12 finished with value: 0.8457218749303269 and parameters: {'hidden_size': 101, 'num_layers': 1, 'learning_rate': 0.0019879958312079148}. Best is trial 4 with value: 0.8771843312399182.\n",
      "[I 2024-07-12 00:39:55,549] Trial 13 finished with value: 0.8568002055444977 and parameters: {'hidden_size': 107, 'num_layers': 2, 'learning_rate': 0.0018546295356520466}. Best is trial 4 with value: 0.8771843312399182.\n",
      "[I 2024-07-12 00:40:02,701] Trial 14 finished with value: 0.6794224164563385 and parameters: {'hidden_size': 16, 'num_layers': 2, 'learning_rate': 0.0013426393284364992}. Best is trial 4 with value: 0.8771843312399182.\n",
      "[I 2024-07-12 00:40:09,892] Trial 15 finished with value: 0.8341543649248931 and parameters: {'hidden_size': 86, 'num_layers': 2, 'learning_rate': 0.004303016775674457}. Best is trial 4 with value: 0.8771843312399182.\n",
      "[I 2024-07-12 00:40:17,170] Trial 16 finished with value: 0.8015707857694137 and parameters: {'hidden_size': 108, 'num_layers': 2, 'learning_rate': 0.001142309577731763}. Best is trial 4 with value: 0.8771843312399182.\n",
      "[I 2024-07-12 00:40:26,032] Trial 17 finished with value: 0.778054794850102 and parameters: {'hidden_size': 128, 'num_layers': 4, 'learning_rate': 0.0038753287342059763}. Best is trial 4 with value: 0.8771843312399182.\n",
      "[I 2024-07-12 00:40:32,676] Trial 18 finished with value: 0.6241983586890236 and parameters: {'hidden_size': 115, 'num_layers': 2, 'learning_rate': 0.00018523381380762885}. Best is trial 4 with value: 0.8771843312399182.\n",
      "[I 2024-07-12 00:40:41,059] Trial 19 finished with value: 0.7442910380454503 and parameters: {'hidden_size': 87, 'num_layers': 4, 'learning_rate': 0.0015852143701087507}. Best is trial 4 with value: 0.8771843312399182.\n",
      "[I 2024-07-12 00:40:47,386] Trial 20 finished with value: 0.7806155066771729 and parameters: {'hidden_size': 61, 'num_layers': 1, 'learning_rate': 0.0007578549971595491}. Best is trial 4 with value: 0.8771843312399182.\n",
      "[I 2024-07-12 00:40:53,537] Trial 21 finished with value: 0.8719333542686206 and parameters: {'hidden_size': 108, 'num_layers': 1, 'learning_rate': 0.0027864940355585557}. Best is trial 4 with value: 0.8771843312399182.\n",
      "[I 2024-07-12 00:40:59,816] Trial 22 finished with value: 0.8555358343826007 and parameters: {'hidden_size': 112, 'num_layers': 1, 'learning_rate': 0.0029689652878801156}. Best is trial 4 with value: 0.8771843312399182.\n",
      "[I 2024-07-12 00:41:06,648] Trial 23 finished with value: 0.8401467780072431 and parameters: {'hidden_size': 98, 'num_layers': 2, 'learning_rate': 0.005446125122274906}. Best is trial 4 with value: 0.8771843312399182.\n",
      "[I 2024-07-12 00:41:13,991] Trial 24 finished with value: 0.8414236997023579 and parameters: {'hidden_size': 80, 'num_layers': 2, 'learning_rate': 0.00294545771729636}. Best is trial 4 with value: 0.8771843312399182.\n",
      "[I 2024-07-12 00:41:20,174] Trial 25 finished with value: 0.7229134888372255 and parameters: {'hidden_size': 104, 'num_layers': 1, 'learning_rate': 0.009729635065340043}. Best is trial 4 with value: 0.8771843312399182.\n",
      "[I 2024-07-12 00:41:27,167] Trial 26 finished with value: 0.8341318030009953 and parameters: {'hidden_size': 116, 'num_layers': 2, 'learning_rate': 0.0015930880975579566}. Best is trial 4 with value: 0.8771843312399182.\n",
      "[I 2024-07-12 00:41:33,419] Trial 27 finished with value: 0.8772371662463355 and parameters: {'hidden_size': 93, 'num_layers': 1, 'learning_rate': 0.002892226744214993}. Best is trial 27 with value: 0.8772371662463355.\n",
      "[I 2024-07-12 00:41:39,337] Trial 28 finished with value: 0.8739289804833097 and parameters: {'hidden_size': 94, 'num_layers': 1, 'learning_rate': 0.0030339360120005374}. Best is trial 27 with value: 0.8772371662463355.\n",
      "[I 2024-07-12 00:41:45,282] Trial 29 finished with value: 0.8288405366749533 and parameters: {'hidden_size': 68, 'num_layers': 1, 'learning_rate': 0.00625429617919402}. Best is trial 27 with value: 0.8772371662463355.\n",
      "[I 2024-07-12 00:41:51,242] Trial 30 finished with value: 0.8411877305267957 and parameters: {'hidden_size': 94, 'num_layers': 1, 'learning_rate': 0.0010342644706031754}. Best is trial 27 with value: 0.8772371662463355.\n",
      "[I 2024-07-12 00:41:57,200] Trial 31 finished with value: 0.8559388358536791 and parameters: {'hidden_size': 81, 'num_layers': 1, 'learning_rate': 0.002725492182975993}. Best is trial 27 with value: 0.8772371662463355.\n",
      "[I 2024-07-12 00:42:03,179] Trial 32 finished with value: 0.838303337750759 and parameters: {'hidden_size': 77, 'num_layers': 1, 'learning_rate': 0.003563782452376636}. Best is trial 27 with value: 0.8772371662463355.\n",
      "[I 2024-07-12 00:42:09,350] Trial 33 finished with value: 0.8503713877881035 and parameters: {'hidden_size': 91, 'num_layers': 1, 'learning_rate': 0.004797131065708245}. Best is trial 27 with value: 0.8772371662463355.\n",
      "[I 2024-07-12 00:42:15,312] Trial 34 finished with value: 0.8675486469107773 and parameters: {'hidden_size': 115, 'num_layers': 1, 'learning_rate': 0.003171752478609677}. Best is trial 27 with value: 0.8772371662463355.\n",
      "[I 2024-07-12 00:42:22,365] Trial 35 finished with value: 0.8276839674747093 and parameters: {'hidden_size': 69, 'num_layers': 2, 'learning_rate': 0.0021935810004651995}. Best is trial 27 with value: 0.8772371662463355.\n",
      "[I 2024-07-12 00:42:29,977] Trial 36 finished with value: 0.6685852123033407 and parameters: {'hidden_size': 101, 'num_layers': 3, 'learning_rate': 0.008737868077099687}. Best is trial 27 with value: 0.8772371662463355.\n",
      "[I 2024-07-12 00:42:35,966] Trial 37 finished with value: 0.8587380593262945 and parameters: {'hidden_size': 128, 'num_layers': 1, 'learning_rate': 0.0014383297398006375}. Best is trial 27 with value: 0.8772371662463355.\n",
      "[I 2024-07-12 00:42:43,374] Trial 38 finished with value: 0.7018763074431473 and parameters: {'hidden_size': 120, 'num_layers': 3, 'learning_rate': 0.006138083156747464}. Best is trial 27 with value: 0.8772371662463355.\n",
      "[I 2024-07-12 00:42:50,072] Trial 39 finished with value: 0.7810613271078386 and parameters: {'hidden_size': 109, 'num_layers': 2, 'learning_rate': 0.0007384786790962217}. Best is trial 27 with value: 0.8772371662463355.\n",
      "[I 2024-07-12 00:42:56,143] Trial 40 finished with value: 0.8078903743773751 and parameters: {'hidden_size': 95, 'num_layers': 1, 'learning_rate': 0.0023968902319290533}. Best is trial 27 with value: 0.8772371662463355.\n",
      "[I 2024-07-12 00:43:02,938] Trial 41 finished with value: 0.8701446334164222 and parameters: {'hidden_size': 117, 'num_layers': 1, 'learning_rate': 0.0035590271564936754}. Best is trial 27 with value: 0.8772371662463355.\n",
      "[I 2024-07-12 00:43:09,323] Trial 42 finished with value: 0.8188749521261254 and parameters: {'hidden_size': 124, 'num_layers': 1, 'learning_rate': 0.004877606171921336}. Best is trial 27 with value: 0.8772371662463355.\n",
      "[I 2024-07-12 00:43:15,609] Trial 43 finished with value: 0.8574738621807694 and parameters: {'hidden_size': 103, 'num_layers': 1, 'learning_rate': 0.0037073905263648767}. Best is trial 27 with value: 0.8772371662463355.\n",
      "[I 2024-07-12 00:43:22,030] Trial 44 finished with value: 0.8615051790696786 and parameters: {'hidden_size': 119, 'num_layers': 1, 'learning_rate': 0.0017793239132429667}. Best is trial 27 with value: 0.8772371662463355.\n",
      "[I 2024-07-12 00:43:28,235] Trial 45 finished with value: 0.8328400800369401 and parameters: {'hidden_size': 111, 'num_layers': 1, 'learning_rate': 0.00725199107523988}. Best is trial 27 with value: 0.8772371662463355.\n",
      "[I 2024-07-12 00:43:36,098] Trial 46 finished with value: 0.8428580133341246 and parameters: {'hidden_size': 91, 'num_layers': 2, 'learning_rate': 0.0023718025296931683}. Best is trial 27 with value: 0.8772371662463355.\n",
      "[I 2024-07-12 00:43:45,365] Trial 47 finished with value: 0.6151248913529616 and parameters: {'hidden_size': 37, 'num_layers': 5, 'learning_rate': 0.001296698179167763}. Best is trial 27 with value: 0.8772371662463355.\n",
      "[I 2024-07-12 00:43:52,098] Trial 48 finished with value: 0.7963667947799274 and parameters: {'hidden_size': 84, 'num_layers': 2, 'learning_rate': 0.003415949640249747}. Best is trial 27 with value: 0.8772371662463355.\n",
      "[I 2024-07-12 00:43:59,561] Trial 49 finished with value: 0.8373447739649938 and parameters: {'hidden_size': 99, 'num_layers': 3, 'learning_rate': 0.004325411630349948}. Best is trial 27 with value: 0.8772371662463355.\n",
      "[I 2024-07-12 00:44:05,490] Trial 50 finished with value: 0.8474746829152411 and parameters: {'hidden_size': 123, 'num_layers': 1, 'learning_rate': 0.0019410246892833927}. Best is trial 27 with value: 0.8772371662463355.\n",
      "[I 2024-07-12 00:44:11,474] Trial 51 finished with value: 0.8546826247076771 and parameters: {'hidden_size': 115, 'num_layers': 1, 'learning_rate': 0.0029912336729863995}. Best is trial 27 with value: 0.8772371662463355.\n",
      "[I 2024-07-12 00:44:17,189] Trial 52 finished with value: 0.8662376067738446 and parameters: {'hidden_size': 106, 'num_layers': 1, 'learning_rate': 0.0026230830482299405}. Best is trial 27 with value: 0.8772371662463355.\n",
      "[I 2024-07-12 00:44:23,133] Trial 53 finished with value: 0.8206198874404669 and parameters: {'hidden_size': 115, 'num_layers': 1, 'learning_rate': 0.005367318574793728}. Best is trial 27 with value: 0.8772371662463355.\n",
      "[I 2024-07-12 00:44:28,909] Trial 54 finished with value: 0.8509293965363876 and parameters: {'hidden_size': 111, 'num_layers': 1, 'learning_rate': 0.003241744948281894}. Best is trial 27 with value: 0.8772371662463355.\n",
      "[I 2024-07-12 00:44:34,622] Trial 55 finished with value: 0.8283035320162646 and parameters: {'hidden_size': 119, 'num_layers': 1, 'learning_rate': 0.00396455839818112}. Best is trial 27 with value: 0.8772371662463355.\n",
      "[I 2024-07-12 00:44:41,299] Trial 56 finished with value: 0.6743452118389041 and parameters: {'hidden_size': 125, 'num_layers': 2, 'learning_rate': 0.0002446788409819422}. Best is trial 27 with value: 0.8772371662463355.\n",
      "[I 2024-07-12 00:44:47,307] Trial 57 finished with value: 0.8427395891414097 and parameters: {'hidden_size': 105, 'num_layers': 1, 'learning_rate': 0.0020299209154938515}. Best is trial 27 with value: 0.8772371662463355.\n",
      "[I 2024-07-12 00:44:54,473] Trial 58 finished with value: 0.8502070056286923 and parameters: {'hidden_size': 112, 'num_layers': 2, 'learning_rate': 0.0016683737568523615}. Best is trial 27 with value: 0.8772371662463355.\n",
      "[I 2024-07-12 00:45:01,204] Trial 59 finished with value: 0.8583148195417403 and parameters: {'hidden_size': 97, 'num_layers': 1, 'learning_rate': 0.0026709815196820728}. Best is trial 27 with value: 0.8772371662463355.\n",
      "[I 2024-07-12 00:45:08,711] Trial 60 finished with value: 0.6886717704503884 and parameters: {'hidden_size': 16, 'num_layers': 2, 'learning_rate': 0.0011963488643897562}. Best is trial 27 with value: 0.8772371662463355.\n",
      "[I 2024-07-12 00:45:15,053] Trial 61 finished with value: 0.8508342137063485 and parameters: {'hidden_size': 108, 'num_layers': 1, 'learning_rate': 0.002561308783057218}. Best is trial 27 with value: 0.8772371662463355.\n",
      "[I 2024-07-12 00:45:21,023] Trial 62 finished with value: 0.8913883119141335 and parameters: {'hidden_size': 103, 'num_layers': 1, 'learning_rate': 0.004331616459644097}. Best is trial 62 with value: 0.8913883119141335.\n",
      "[I 2024-07-12 00:45:26,976] Trial 63 finished with value: 0.7930425274235297 and parameters: {'hidden_size': 102, 'num_layers': 1, 'learning_rate': 0.004454785874331068}. Best is trial 62 with value: 0.8913883119141335.\n",
      "[I 2024-07-12 00:45:32,808] Trial 64 finished with value: 0.8444192485168095 and parameters: {'hidden_size': 117, 'num_layers': 1, 'learning_rate': 0.00580276897990549}. Best is trial 62 with value: 0.8913883119141335.\n",
      "[I 2024-07-12 00:45:38,683] Trial 65 finished with value: 0.8489530726740029 and parameters: {'hidden_size': 90, 'num_layers': 1, 'learning_rate': 0.0032690617344357078}. Best is trial 62 with value: 0.8913883119141335.\n",
      "[I 2024-07-12 00:45:44,361] Trial 66 finished with value: 0.8161061061061062 and parameters: {'hidden_size': 93, 'num_layers': 1, 'learning_rate': 0.007351338086712812}. Best is trial 62 with value: 0.8913883119141335.\n",
      "[I 2024-07-12 00:45:50,364] Trial 67 finished with value: 0.8593008694969481 and parameters: {'hidden_size': 113, 'num_layers': 1, 'learning_rate': 0.002140437324347601}. Best is trial 62 with value: 0.8913883119141335.\n",
      "[I 2024-07-12 00:45:57,060] Trial 68 finished with value: 0.8461880361670533 and parameters: {'hidden_size': 74, 'num_layers': 2, 'learning_rate': 0.0030416032900641}. Best is trial 62 with value: 0.8913883119141335.\n",
      "[I 2024-07-12 00:46:02,924] Trial 69 finished with value: 0.871351669533406 and parameters: {'hidden_size': 121, 'num_layers': 1, 'learning_rate': 0.0037910867863526596}. Best is trial 62 with value: 0.8913883119141335.\n",
      "[I 2024-07-12 00:46:08,633] Trial 70 finished with value: 0.8621736150017625 and parameters: {'hidden_size': 122, 'num_layers': 1, 'learning_rate': 0.004045081304321573}. Best is trial 62 with value: 0.8913883119141335.\n",
      "[I 2024-07-12 00:46:14,349] Trial 71 finished with value: 0.8121464330904832 and parameters: {'hidden_size': 126, 'num_layers': 1, 'learning_rate': 0.005187680292523417}. Best is trial 62 with value: 0.8913883119141335.\n",
      "[I 2024-07-12 00:46:20,193] Trial 72 finished with value: 0.8676327393536696 and parameters: {'hidden_size': 117, 'num_layers': 1, 'learning_rate': 0.004540550889331932}. Best is trial 62 with value: 0.8913883119141335.\n",
      "[I 2024-07-12 00:46:25,970] Trial 73 finished with value: 0.864809464295592 and parameters: {'hidden_size': 118, 'num_layers': 1, 'learning_rate': 0.006498435817810129}. Best is trial 62 with value: 0.8913883119141335.\n",
      "[I 2024-07-12 00:46:32,157] Trial 74 finished with value: 0.8727175211058658 and parameters: {'hidden_size': 99, 'num_layers': 1, 'learning_rate': 0.0035594668391653486}. Best is trial 62 with value: 0.8913883119141335.\n",
      "[I 2024-07-12 00:46:38,472] Trial 75 finished with value: 0.8446083746435715 and parameters: {'hidden_size': 86, 'num_layers': 1, 'learning_rate': 0.0036102130918856854}. Best is trial 62 with value: 0.8913883119141335.\n",
      "[I 2024-07-12 00:46:46,425] Trial 76 finished with value: 0.7186501015417451 and parameters: {'hidden_size': 99, 'num_layers': 3, 'learning_rate': 0.0004620764481162804}. Best is trial 62 with value: 0.8913883119141335.\n",
      "[I 2024-07-12 00:46:53,065] Trial 77 finished with value: 0.846220191117592 and parameters: {'hidden_size': 108, 'num_layers': 2, 'learning_rate': 0.0037942090867974444}. Best is trial 62 with value: 0.8913883119141335.\n",
      "[I 2024-07-12 00:46:59,895] Trial 78 finished with value: 0.8439261109849345 and parameters: {'hidden_size': 95, 'num_layers': 1, 'learning_rate': 0.0027223104507537853}. Best is trial 62 with value: 0.8913883119141335.\n",
      "[I 2024-07-12 00:47:06,149] Trial 79 finished with value: 0.7081410358947752 and parameters: {'hidden_size': 105, 'num_layers': 1, 'learning_rate': 0.008349491339842379}. Best is trial 62 with value: 0.8913883119141335.\n",
      "[I 2024-07-12 00:47:12,782] Trial 80 finished with value: 0.8413664394354049 and parameters: {'hidden_size': 100, 'num_layers': 1, 'learning_rate': 0.0048856478501213526}. Best is trial 62 with value: 0.8913883119141335.\n",
      "[I 2024-07-12 00:47:19,754] Trial 81 finished with value: 0.832163706158276 and parameters: {'hidden_size': 120, 'num_layers': 1, 'learning_rate': 0.004191410851144724}. Best is trial 62 with value: 0.8913883119141335.\n",
      "[I 2024-07-12 00:47:26,705] Trial 82 finished with value: 0.8727896039298043 and parameters: {'hidden_size': 110, 'num_layers': 1, 'learning_rate': 0.003679436130467047}. Best is trial 62 with value: 0.8913883119141335.\n",
      "[I 2024-07-12 00:47:32,785] Trial 83 finished with value: 0.8695119732588086 and parameters: {'hidden_size': 103, 'num_layers': 1, 'learning_rate': 0.002417419116838549}. Best is trial 62 with value: 0.8913883119141335.\n",
      "[I 2024-07-12 00:47:39,690] Trial 84 finished with value: 0.8658467027990777 and parameters: {'hidden_size': 110, 'num_layers': 1, 'learning_rate': 0.0034000190557844636}. Best is trial 62 with value: 0.8913883119141335.\n",
      "[I 2024-07-12 00:47:45,383] Trial 85 finished with value: 0.8591469214469875 and parameters: {'hidden_size': 113, 'num_layers': 1, 'learning_rate': 0.0022835791386023826}. Best is trial 62 with value: 0.8913883119141335.\n",
      "[I 2024-07-12 00:47:51,273] Trial 86 finished with value: 0.836184161305496 and parameters: {'hidden_size': 49, 'num_layers': 1, 'learning_rate': 0.0018619629603774089}. Best is trial 62 with value: 0.8913883119141335.\n",
      "[I 2024-07-12 00:47:58,299] Trial 87 finished with value: 0.8445809870774053 and parameters: {'hidden_size': 83, 'num_layers': 2, 'learning_rate': 0.0030577706789753694}. Best is trial 62 with value: 0.8913883119141335.\n",
      "[I 2024-07-12 00:48:04,699] Trial 88 finished with value: 0.795488272305331 and parameters: {'hidden_size': 27, 'num_layers': 1, 'learning_rate': 0.005703253947831301}. Best is trial 62 with value: 0.8913883119141335.\n",
      "[I 2024-07-12 00:48:10,799] Trial 89 finished with value: 0.8605664517716807 and parameters: {'hidden_size': 88, 'num_layers': 1, 'learning_rate': 0.0014935875166408128}. Best is trial 62 with value: 0.8913883119141335.\n",
      "[I 2024-07-12 00:48:20,259] Trial 90 finished with value: 0.7292345729875169 and parameters: {'hidden_size': 60, 'num_layers': 5, 'learning_rate': 0.002772343091835373}. Best is trial 62 with value: 0.8913883119141335.\n",
      "[I 2024-07-12 00:48:26,284] Trial 91 finished with value: 0.8300400374818979 and parameters: {'hidden_size': 104, 'num_layers': 1, 'learning_rate': 0.0024548316194415234}. Best is trial 62 with value: 0.8913883119141335.\n",
      "[I 2024-07-12 00:48:31,972] Trial 92 finished with value: 0.6435845884309079 and parameters: {'hidden_size': 102, 'num_layers': 1, 'learning_rate': 0.00013356738200349813}. Best is trial 62 with value: 0.8913883119141335.\n",
      "[I 2024-07-12 00:48:38,187] Trial 93 finished with value: 0.86433649153029 and parameters: {'hidden_size': 97, 'num_layers': 1, 'learning_rate': 0.0035760488642968932}. Best is trial 62 with value: 0.8913883119141335.\n",
      "[I 2024-07-12 00:48:46,431] Trial 94 finished with value: 0.8032278508916768 and parameters: {'hidden_size': 92, 'num_layers': 4, 'learning_rate': 0.002160511575559839}. Best is trial 62 with value: 0.8913883119141335.\n",
      "[I 2024-07-12 00:48:52,126] Trial 95 finished with value: 0.8323630260649972 and parameters: {'hidden_size': 106, 'num_layers': 1, 'learning_rate': 0.0028859117291608004}. Best is trial 62 with value: 0.8913883119141335.\n",
      "[I 2024-07-12 00:49:00,369] Trial 96 finished with value: 0.8340094549873462 and parameters: {'hidden_size': 113, 'num_layers': 4, 'learning_rate': 0.003880957257329919}. Best is trial 62 with value: 0.8913883119141335.\n",
      "[I 2024-07-12 00:49:06,209] Trial 97 finished with value: 0.8779939509487829 and parameters: {'hidden_size': 110, 'num_layers': 1, 'learning_rate': 0.004988030722902542}. Best is trial 62 with value: 0.8913883119141335.\n",
      "[I 2024-07-12 00:49:12,007] Trial 98 finished with value: 0.8327918126040192 and parameters: {'hidden_size': 121, 'num_layers': 1, 'learning_rate': 0.004694701458091522}. Best is trial 62 with value: 0.8913883119141335.\n",
      "[I 2024-07-12 00:49:17,847] Trial 99 finished with value: 0.8362923947155929 and parameters: {'hidden_size': 109, 'num_layers': 1, 'learning_rate': 0.005361962284207506}. Best is trial 62 with value: 0.8913883119141335.\n"
     ]
    },
    {
     "name": "stdout",
     "output_type": "stream",
     "text": [
      "Number of finished trials:  100\n",
      "Best trial:\n",
      "  Value:  0.8913883119141335\n",
      "  Params: \n",
      "    hidden_size: 103\n",
      "    num_layers: 1\n",
      "    learning_rate: 0.004331616459644097\n",
      "do not know the model\n",
      "              precision    recall  f1-score   support\n",
      "\n",
      "           0       1.00      0.98      0.99       169\n",
      "           1       0.99      1.00      0.99       201\n",
      "\n",
      "    accuracy                           0.99       370\n",
      "   macro avg       0.99      0.99      0.99       370\n",
      "weighted avg       0.99      0.99      0.99       370\n",
      "\n",
      "              precision    recall  f1-score   support\n",
      "\n",
      "           0       0.44      0.65      0.53        49\n",
      "           1       0.60      0.39      0.48        66\n",
      "\n",
      "    accuracy                           0.50       115\n",
      "   macro avg       0.52      0.52      0.50       115\n",
      "weighted avg       0.54      0.50      0.50       115\n",
      "\n"
     ]
    }
   ],
   "source": [
    "model = treinar( X_train_reduced, y_train_reduced,GRUModel_dropout, n_trials, 'PETR4'+file_to_save_model)\n",
    "model.eval()\n",
    "avaliar(model, X_train_reduced, y_train_reduced, X_test_reduced, y_test_reduced)\n"
   ]
  },
  {
   "cell_type": "markdown",
   "metadata": {},
   "source": [
    "Os modelos continuam tendo overfit, provalvemente isso ocorre por causa da falta de daos, uma vez que o dataset é muito pequeno (menos de 400 samples)."
   ]
  },
  {
   "cell_type": "markdown",
   "metadata": {},
   "source": []
  }
 ],
 "metadata": {
  "kernelspec": {
   "display_name": "venv",
   "language": "python",
   "name": "python3"
  },
  "language_info": {
   "codemirror_mode": {
    "name": "ipython",
    "version": 3
   },
   "file_extension": ".py",
   "mimetype": "text/x-python",
   "name": "python",
   "nbconvert_exporter": "python",
   "pygments_lexer": "ipython3",
   "version": "3.12.3"
  }
 },
 "nbformat": 4,
 "nbformat_minor": 2
}
