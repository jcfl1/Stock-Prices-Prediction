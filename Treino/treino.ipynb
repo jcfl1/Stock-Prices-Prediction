{
 "cells": [
  {
   "cell_type": "markdown",
   "metadata": {},
   "source": [
    "# Downloads e imports"
   ]
  },
  {
   "cell_type": "code",
   "execution_count": 1,
   "metadata": {},
   "outputs": [
    {
     "name": "stderr",
     "output_type": "stream",
     "text": [
      "c:\\Users\\raafm\\Pessoal\\Ciencia-de-dados\\Stock-Prices-Prediction\\venv\\Lib\\site-packages\\tqdm\\auto.py:21: TqdmWarning: IProgress not found. Please update jupyter and ipywidgets. See https://ipywidgets.readthedocs.io/en/stable/user_install.html\n",
      "  from .autonotebook import tqdm as notebook_tqdm\n"
     ]
    }
   ],
   "source": [
    "from treino_avaliacao import treinar_avaliar\n",
    "from Models.LSTM.LSTM import LSTMModel\n",
    "from Models.GRU.GRU import GRUModel\n",
    "import sys, os\n",
    "sys.path.append('..')\n",
    "\n",
    "\n",
    "RANDOM_SEED = 33"
   ]
  },
  {
   "cell_type": "code",
   "execution_count": 2,
   "metadata": {},
   "outputs": [
    {
     "name": "stderr",
     "output_type": "stream",
     "text": [
      "[I 2024-07-11 21:24:39,329] A new study created in memory with name: no-name-b86c3589-f7ff-4c5f-9967-f7d4ed2e9ddb\n",
      "[I 2024-07-11 21:24:52,953] Trial 0 finished with value: 0.87233197295611 and parameters: {'hidden_size': 90, 'num_layers': 2, 'learning_rate': 0.002427092964014823}. Best is trial 0 with value: 0.87233197295611.\n",
      "[I 2024-07-11 21:25:02,274] Trial 1 finished with value: 0.8015271719376054 and parameters: {'hidden_size': 69, 'num_layers': 3, 'learning_rate': 0.0011620595775471512}. Best is trial 0 with value: 0.87233197295611.\n",
      "[I 2024-07-11 21:25:12,787] Trial 2 finished with value: 0.7078433354949508 and parameters: {'hidden_size': 17, 'num_layers': 4, 'learning_rate': 0.0010056988953143283}. Best is trial 0 with value: 0.87233197295611.\n",
      "[I 2024-07-11 21:25:20,811] Trial 3 finished with value: 0.7141000116609872 and parameters: {'hidden_size': 27, 'num_layers': 3, 'learning_rate': 0.00031271108947951567}. Best is trial 0 with value: 0.87233197295611.\n",
      "[I 2024-07-11 21:25:28,922] Trial 4 finished with value: 0.7829440068410657 and parameters: {'hidden_size': 88, 'num_layers': 3, 'learning_rate': 0.00035200605001373684}. Best is trial 0 with value: 0.87233197295611.\n",
      "[I 2024-07-11 21:25:35,947] Trial 5 finished with value: 0.8747740008196789 and parameters: {'hidden_size': 78, 'num_layers': 2, 'learning_rate': 0.0008762555745594027}. Best is trial 5 with value: 0.8747740008196789.\n",
      "[I 2024-07-11 21:25:46,119] Trial 6 finished with value: 0.5664276467289963 and parameters: {'hidden_size': 85, 'num_layers': 5, 'learning_rate': 0.004667635452973448}. Best is trial 5 with value: 0.8747740008196789.\n",
      "[I 2024-07-11 21:25:52,185] Trial 7 finished with value: 0.8835211735668356 and parameters: {'hidden_size': 91, 'num_layers': 1, 'learning_rate': 0.008762269271967063}. Best is trial 7 with value: 0.8835211735668356.\n",
      "[I 2024-07-11 21:25:59,173] Trial 8 finished with value: 0.7195789521876479 and parameters: {'hidden_size': 112, 'num_layers': 2, 'learning_rate': 0.0001159916788655118}. Best is trial 7 with value: 0.8835211735668356.\n",
      "[I 2024-07-11 21:26:09,099] Trial 9 finished with value: 0.35743596121161103 and parameters: {'hidden_size': 28, 'num_layers': 5, 'learning_rate': 0.004553550289064745}. Best is trial 7 with value: 0.8835211735668356.\n",
      "[I 2024-07-11 21:26:15,162] Trial 10 finished with value: 0.8652250642311617 and parameters: {'hidden_size': 128, 'num_layers': 1, 'learning_rate': 0.008676355760772648}. Best is trial 7 with value: 0.8835211735668356.\n",
      "[I 2024-07-11 21:26:21,287] Trial 11 finished with value: 0.8408327412748117 and parameters: {'hidden_size': 55, 'num_layers': 1, 'learning_rate': 0.0004588317263324246}. Best is trial 7 with value: 0.8835211735668356.\n",
      "[I 2024-07-11 21:26:28,611] Trial 12 finished with value: 0.8819536019536021 and parameters: {'hidden_size': 57, 'num_layers': 2, 'learning_rate': 0.0017819849797266263}. Best is trial 7 with value: 0.8835211735668356.\n",
      "[I 2024-07-11 21:26:34,649] Trial 13 finished with value: 0.8889377289377289 and parameters: {'hidden_size': 48, 'num_layers': 1, 'learning_rate': 0.0021611377556709304}. Best is trial 13 with value: 0.8889377289377289.\n",
      "[I 2024-07-11 21:26:40,499] Trial 14 finished with value: 0.839040000465257 and parameters: {'hidden_size': 46, 'num_layers': 1, 'learning_rate': 0.008914679949175532}. Best is trial 13 with value: 0.8889377289377289.\n",
      "[I 2024-07-11 21:26:46,323] Trial 15 finished with value: 0.8956445993031359 and parameters: {'hidden_size': 102, 'num_layers': 1, 'learning_rate': 0.0034595637438994686}. Best is trial 15 with value: 0.8956445993031359.\n",
      "[I 2024-07-11 21:26:52,429] Trial 16 finished with value: 0.9064002590996288 and parameters: {'hidden_size': 104, 'num_layers': 1, 'learning_rate': 0.0029308294553194235}. Best is trial 16 with value: 0.9064002590996288.\n",
      "[I 2024-07-11 21:27:02,619] Trial 17 finished with value: 0.8180699281260291 and parameters: {'hidden_size': 106, 'num_layers': 4, 'learning_rate': 0.0037833761205064084}. Best is trial 16 with value: 0.9064002590996288.\n",
      "[I 2024-07-11 21:27:09,917] Trial 18 finished with value: 0.8656367243867245 and parameters: {'hidden_size': 108, 'num_layers': 2, 'learning_rate': 0.0032525764000878262}. Best is trial 16 with value: 0.9064002590996288.\n",
      "[I 2024-07-11 21:27:16,372] Trial 19 finished with value: 0.9037412587412588 and parameters: {'hidden_size': 127, 'num_layers': 1, 'learning_rate': 0.001436643833131266}. Best is trial 16 with value: 0.9064002590996288.\n",
      "[I 2024-07-11 21:27:26,294] Trial 20 finished with value: 0.7436177248677248 and parameters: {'hidden_size': 127, 'num_layers': 4, 'learning_rate': 0.0006911873537912599}. Best is trial 16 with value: 0.9064002590996288.\n",
      "[I 2024-07-11 21:27:33,328] Trial 21 finished with value: 0.8798942351181157 and parameters: {'hidden_size': 100, 'num_layers': 1, 'learning_rate': 0.0017850135544975948}. Best is trial 16 with value: 0.9064002590996288.\n",
      "[I 2024-07-11 21:27:40,496] Trial 22 finished with value: 0.8810173129535223 and parameters: {'hidden_size': 116, 'num_layers': 1, 'learning_rate': 0.001470512759994712}. Best is trial 16 with value: 0.9064002590996288.\n",
      "[I 2024-07-11 21:27:47,981] Trial 23 finished with value: 0.8637886950244968 and parameters: {'hidden_size': 116, 'num_layers': 2, 'learning_rate': 0.005413274884471043}. Best is trial 16 with value: 0.9064002590996288.\n",
      "[I 2024-07-11 21:27:53,837] Trial 24 finished with value: 0.863066042337333 and parameters: {'hidden_size': 98, 'num_layers': 1, 'learning_rate': 0.0029462065909861444}. Best is trial 16 with value: 0.9064002590996288.\n",
      "[I 2024-07-11 21:28:00,857] Trial 25 finished with value: 0.8437581033425875 and parameters: {'hidden_size': 121, 'num_layers': 2, 'learning_rate': 0.00610205075221141}. Best is trial 16 with value: 0.9064002590996288.\n",
      "[I 2024-07-11 21:28:06,757] Trial 26 finished with value: 0.885887137346973 and parameters: {'hidden_size': 104, 'num_layers': 1, 'learning_rate': 0.0005852378768979467}. Best is trial 16 with value: 0.9064002590996288.\n",
      "[I 2024-07-11 21:28:13,567] Trial 27 finished with value: 0.8699807176391683 and parameters: {'hidden_size': 74, 'num_layers': 2, 'learning_rate': 0.0013660907765260084}. Best is trial 16 with value: 0.9064002590996288.\n",
      "[I 2024-07-11 21:28:19,491] Trial 28 finished with value: 0.8949735807807372 and parameters: {'hidden_size': 121, 'num_layers': 1, 'learning_rate': 0.0023989801087155494}. Best is trial 16 with value: 0.9064002590996288.\n",
      "[I 2024-07-11 21:28:26,322] Trial 29 finished with value: 0.9038969497121802 and parameters: {'hidden_size': 97, 'num_layers': 2, 'learning_rate': 0.0022814364277726163}. Best is trial 16 with value: 0.9064002590996288.\n",
      "[I 2024-07-11 21:28:33,034] Trial 30 finished with value: 0.7536351321567449 and parameters: {'hidden_size': 96, 'num_layers': 2, 'learning_rate': 0.00020795406052343869}. Best is trial 16 with value: 0.9064002590996288.\n",
      "[I 2024-07-11 21:28:38,730] Trial 31 finished with value: 0.8996711375737594 and parameters: {'hidden_size': 80, 'num_layers': 1, 'learning_rate': 0.0025665401587427273}. Best is trial 16 with value: 0.9064002590996288.\n",
      "[I 2024-07-11 21:28:45,470] Trial 32 finished with value: 0.8786367763411576 and parameters: {'hidden_size': 81, 'num_layers': 2, 'learning_rate': 0.002416164098500135}. Best is trial 16 with value: 0.9064002590996288.\n",
      "[I 2024-07-11 21:28:53,173] Trial 33 finished with value: 0.8165515098280594 and parameters: {'hidden_size': 66, 'num_layers': 3, 'learning_rate': 0.0009434875717784539}. Best is trial 16 with value: 0.9064002590996288.\n",
      "[I 2024-07-11 21:28:58,987] Trial 34 finished with value: 0.8808620973612102 and parameters: {'hidden_size': 93, 'num_layers': 1, 'learning_rate': 0.0012415278151886127}. Best is trial 16 with value: 0.9064002590996288.\n",
      "[I 2024-07-11 21:29:06,981] Trial 35 finished with value: 0.8730124384747672 and parameters: {'hidden_size': 67, 'num_layers': 3, 'learning_rate': 0.0018416880378425862}. Best is trial 16 with value: 0.9064002590996288.\n",
      "[I 2024-07-11 21:29:12,877] Trial 36 finished with value: 0.899233594769453 and parameters: {'hidden_size': 80, 'num_layers': 1, 'learning_rate': 0.002658476625343991}. Best is trial 16 with value: 0.9064002590996288.\n",
      "[I 2024-07-11 21:29:19,807] Trial 37 finished with value: 0.8824744579590543 and parameters: {'hidden_size': 87, 'num_layers': 2, 'learning_rate': 0.0010326605664538516}. Best is trial 16 with value: 0.9064002590996288.\n",
      "[I 2024-07-11 21:29:26,263] Trial 38 finished with value: 0.8587181993633607 and parameters: {'hidden_size': 110, 'num_layers': 1, 'learning_rate': 0.006001612934094287}. Best is trial 16 with value: 0.9064002590996288.\n",
      "[I 2024-07-11 21:29:33,509] Trial 39 finished with value: 0.8698819833277096 and parameters: {'hidden_size': 91, 'num_layers': 2, 'learning_rate': 0.0015031364908532976}. Best is trial 16 with value: 0.9064002590996288.\n",
      "[I 2024-07-11 21:29:42,056] Trial 40 finished with value: 0.8029075091575091 and parameters: {'hidden_size': 72, 'num_layers': 3, 'learning_rate': 0.000763252171425524}. Best is trial 16 with value: 0.9064002590996288.\n",
      "[I 2024-07-11 21:29:48,221] Trial 41 finished with value: 0.8778912071535021 and parameters: {'hidden_size': 81, 'num_layers': 1, 'learning_rate': 0.002772010065394904}. Best is trial 16 with value: 0.9064002590996288.\n",
      "[I 2024-07-11 21:29:53,902] Trial 42 finished with value: 0.879991758264006 and parameters: {'hidden_size': 77, 'num_layers': 1, 'learning_rate': 0.004410883591820065}. Best is trial 16 with value: 0.9064002590996288.\n",
      "[I 2024-07-11 21:29:59,812] Trial 43 finished with value: 0.8875525416242258 and parameters: {'hidden_size': 85, 'num_layers': 1, 'learning_rate': 0.0020538159984164056}. Best is trial 16 with value: 0.9064002590996288.\n",
      "[I 2024-07-11 21:30:05,313] Trial 44 finished with value: 0.8868778280542987 and parameters: {'hidden_size': 60, 'num_layers': 1, 'learning_rate': 0.0027579966164291655}. Best is trial 16 with value: 0.9064002590996288.\n",
      "[I 2024-07-11 21:30:11,988] Trial 45 finished with value: 0.8712014374514375 and parameters: {'hidden_size': 82, 'num_layers': 2, 'learning_rate': 0.003878370954415644}. Best is trial 16 with value: 0.9064002590996288.\n",
      "[I 2024-07-11 21:30:17,807] Trial 46 finished with value: 0.8945460730535357 and parameters: {'hidden_size': 96, 'num_layers': 1, 'learning_rate': 0.001123823042914433}. Best is trial 16 with value: 0.9064002590996288.\n",
      "[I 2024-07-11 21:30:23,711] Trial 47 finished with value: 0.8500882330845858 and parameters: {'hidden_size': 117, 'num_layers': 1, 'learning_rate': 0.0069333454757310765}. Best is trial 16 with value: 0.9064002590996288.\n",
      "[I 2024-07-11 21:30:29,480] Trial 48 finished with value: 0.900252808988764 and parameters: {'hidden_size': 91, 'num_layers': 1, 'learning_rate': 0.0016075449147270747}. Best is trial 16 with value: 0.9064002590996288.\n",
      "[I 2024-07-11 21:30:36,161] Trial 49 finished with value: 0.8868466113914923 and parameters: {'hidden_size': 90, 'num_layers': 2, 'learning_rate': 0.0015433499340172514}. Best is trial 16 with value: 0.9064002590996288.\n"
     ]
    },
    {
     "name": "stdout",
     "output_type": "stream",
     "text": [
      "Number of finished trials:  50\n",
      "Best trial:\n",
      "  Value:  0.9064002590996288\n",
      "  Params: \n",
      "    hidden_size: 104\n",
      "    num_layers: 1\n",
      "    learning_rate: 0.0029308294553194235\n",
      "saving model on: Models\\LSTM\\VALE3_all_features.pt\n",
      "              precision    recall  f1-score   support\n",
      "\n",
      "           0       1.00      1.00      1.00       187\n",
      "           1       1.00      1.00      1.00       183\n",
      "\n",
      "    accuracy                           1.00       370\n",
      "   macro avg       1.00      1.00      1.00       370\n",
      "weighted avg       1.00      1.00      1.00       370\n",
      "\n",
      "              precision    recall  f1-score   support\n",
      "\n",
      "           0       0.61      0.65      0.63        68\n",
      "           1       0.44      0.40      0.42        47\n",
      "\n",
      "    accuracy                           0.55       115\n",
      "   macro avg       0.53      0.53      0.53       115\n",
      "weighted avg       0.54      0.55      0.54       115\n",
      "\n"
     ]
    }
   ],
   "source": [
    "treinar_avaliar(LSTMModel, \"VALE3\", n_trials= 50,file_to_save_model= f\"VALE3_all_features.pt\")"
   ]
  },
  {
   "cell_type": "code",
   "execution_count": 3,
   "metadata": {},
   "outputs": [
    {
     "name": "stderr",
     "output_type": "stream",
     "text": [
      "[I 2024-07-11 21:30:39,363] A new study created in memory with name: no-name-dbf5668c-ae6e-4176-b4a2-0e63cb207895\n",
      "[I 2024-07-11 21:30:45,522] Trial 0 finished with value: 0.8863154540731483 and parameters: {'hidden_size': 117, 'num_layers': 2, 'learning_rate': 0.0007049488657437623}. Best is trial 0 with value: 0.8863154540731483.\n",
      "[I 2024-07-11 21:30:53,047] Trial 1 finished with value: 0.7779643541022241 and parameters: {'hidden_size': 43, 'num_layers': 3, 'learning_rate': 0.0005863693796327769}. Best is trial 0 with value: 0.8863154540731483.\n",
      "[I 2024-07-11 21:31:00,511] Trial 2 finished with value: 0.6537299879476584 and parameters: {'hidden_size': 23, 'num_layers': 3, 'learning_rate': 0.00012367087617512465}. Best is trial 0 with value: 0.8863154540731483.\n",
      "[I 2024-07-11 21:31:07,929] Trial 3 finished with value: 0.8475064686271583 and parameters: {'hidden_size': 41, 'num_layers': 3, 'learning_rate': 0.0009400846128018092}. Best is trial 0 with value: 0.8863154540731483.\n",
      "[I 2024-07-11 21:31:15,298] Trial 4 finished with value: 0.873663870376199 and parameters: {'hidden_size': 71, 'num_layers': 3, 'learning_rate': 0.0030601251650031105}. Best is trial 0 with value: 0.8863154540731483.\n",
      "[I 2024-07-11 21:31:23,541] Trial 5 finished with value: 0.857304002458223 and parameters: {'hidden_size': 74, 'num_layers': 4, 'learning_rate': 0.0009886110271282134}. Best is trial 0 with value: 0.8863154540731483.\n",
      "[I 2024-07-11 21:31:32,163] Trial 6 finished with value: 0.7886748799794286 and parameters: {'hidden_size': 114, 'num_layers': 5, 'learning_rate': 0.002757961346504024}. Best is trial 0 with value: 0.8863154540731483.\n",
      "[I 2024-07-11 21:31:38,120] Trial 7 finished with value: 0.838683206218404 and parameters: {'hidden_size': 114, 'num_layers': 2, 'learning_rate': 0.00726683858288413}. Best is trial 0 with value: 0.8863154540731483.\n",
      "[I 2024-07-11 21:31:44,836] Trial 8 finished with value: 0.8005553065559043 and parameters: {'hidden_size': 48, 'num_layers': 3, 'learning_rate': 0.006245772950822626}. Best is trial 0 with value: 0.8863154540731483.\n",
      "[I 2024-07-11 21:31:50,747] Trial 9 finished with value: 0.8695231730035123 and parameters: {'hidden_size': 36, 'num_layers': 2, 'learning_rate': 0.0009952418226238915}. Best is trial 0 with value: 0.8863154540731483.\n",
      "[I 2024-07-11 21:31:55,889] Trial 10 finished with value: 0.8365718065718066 and parameters: {'hidden_size': 127, 'num_layers': 1, 'learning_rate': 0.00028238930227176396}. Best is trial 0 with value: 0.8863154540731483.\n",
      "[I 2024-07-11 21:32:01,531] Trial 11 finished with value: 0.8957963555431909 and parameters: {'hidden_size': 79, 'num_layers': 1, 'learning_rate': 0.0026778590531446747}. Best is trial 11 with value: 0.8957963555431909.\n",
      "[I 2024-07-11 21:32:07,148] Trial 12 finished with value: 0.9034597149291412 and parameters: {'hidden_size': 88, 'num_layers': 1, 'learning_rate': 0.002412601735368311}. Best is trial 12 with value: 0.9034597149291412.\n",
      "[I 2024-07-11 21:32:12,778] Trial 13 finished with value: 0.8965939153439153 and parameters: {'hidden_size': 88, 'num_layers': 1, 'learning_rate': 0.0022870356151157368}. Best is trial 12 with value: 0.9034597149291412.\n",
      "[I 2024-07-11 21:32:18,329] Trial 14 finished with value: 0.8816221373108102 and parameters: {'hidden_size': 94, 'num_layers': 1, 'learning_rate': 0.0020377143646523634}. Best is trial 12 with value: 0.9034597149291412.\n",
      "[I 2024-07-11 21:32:24,073] Trial 15 finished with value: 0.8801719437335876 and parameters: {'hidden_size': 97, 'num_layers': 1, 'learning_rate': 0.004958699795103601}. Best is trial 12 with value: 0.9034597149291412.\n",
      "[I 2024-07-11 21:32:30,266] Trial 16 finished with value: 0.8758928511126426 and parameters: {'hidden_size': 89, 'num_layers': 2, 'learning_rate': 0.001763819207125071}. Best is trial 12 with value: 0.9034597149291412.\n",
      "[I 2024-07-11 21:32:35,659] Trial 17 finished with value: 0.8455938166931057 and parameters: {'hidden_size': 66, 'num_layers': 1, 'learning_rate': 0.009512482722057344}. Best is trial 12 with value: 0.9034597149291412.\n",
      "[I 2024-07-11 21:32:43,486] Trial 18 finished with value: 0.7799033621637538 and parameters: {'hidden_size': 60, 'num_layers': 4, 'learning_rate': 0.0003562687689260478}. Best is trial 12 with value: 0.9034597149291412.\n",
      "[I 2024-07-11 21:32:49,616] Trial 19 finished with value: 0.8825711275026343 and parameters: {'hidden_size': 103, 'num_layers': 2, 'learning_rate': 0.0014940807055829556}. Best is trial 12 with value: 0.9034597149291412.\n",
      "[I 2024-07-11 21:32:54,981] Trial 20 finished with value: 0.8893917336540287 and parameters: {'hidden_size': 86, 'num_layers': 1, 'learning_rate': 0.004357277759141949}. Best is trial 12 with value: 0.9034597149291412.\n",
      "[I 2024-07-11 21:33:00,501] Trial 21 finished with value: 0.8800000000000001 and parameters: {'hidden_size': 79, 'num_layers': 1, 'learning_rate': 0.0030502750690886496}. Best is trial 12 with value: 0.9034597149291412.\n",
      "[I 2024-07-11 21:33:06,097] Trial 22 finished with value: 0.9096153846153847 and parameters: {'hidden_size': 59, 'num_layers': 1, 'learning_rate': 0.0021397712761214755}. Best is trial 22 with value: 0.9096153846153847.\n",
      "[I 2024-07-11 21:33:12,487] Trial 23 finished with value: 0.8834722222222222 and parameters: {'hidden_size': 57, 'num_layers': 2, 'learning_rate': 0.001380350951159101}. Best is trial 22 with value: 0.9096153846153847.\n",
      "[I 2024-07-11 21:33:17,958] Trial 24 finished with value: 0.8905969148222669 and parameters: {'hidden_size': 103, 'num_layers': 1, 'learning_rate': 0.00360549052223579}. Best is trial 22 with value: 0.9096153846153847.\n",
      "[I 2024-07-11 21:33:24,456] Trial 25 finished with value: 0.8785112134509724 and parameters: {'hidden_size': 56, 'num_layers': 2, 'learning_rate': 0.0019713985626286534}. Best is trial 22 with value: 0.9096153846153847.\n",
      "[I 2024-07-11 21:33:29,986] Trial 26 finished with value: 0.8544330221749578 and parameters: {'hidden_size': 84, 'num_layers': 1, 'learning_rate': 0.004593961527064025}. Best is trial 22 with value: 0.9096153846153847.\n",
      "[I 2024-07-11 21:33:38,014] Trial 27 finished with value: 0.867077696747017 and parameters: {'hidden_size': 67, 'num_layers': 4, 'learning_rate': 0.0013286917150919428}. Best is trial 22 with value: 0.9096153846153847.\n",
      "[I 2024-07-11 21:33:44,351] Trial 28 finished with value: 0.8911192973692973 and parameters: {'hidden_size': 29, 'num_layers': 2, 'learning_rate': 0.002292475932649685}. Best is trial 22 with value: 0.9096153846153847.\n",
      "[I 2024-07-11 21:33:53,347] Trial 29 finished with value: 0.796997572457518 and parameters: {'hidden_size': 102, 'num_layers': 5, 'learning_rate': 0.0006461550314586747}. Best is trial 22 with value: 0.9096153846153847.\n",
      "[I 2024-07-11 21:33:59,490] Trial 30 finished with value: 0.8707220421854569 and parameters: {'hidden_size': 78, 'num_layers': 2, 'learning_rate': 0.0005358307398717776}. Best is trial 22 with value: 0.9096153846153847.\n",
      "[I 2024-07-11 21:34:04,906] Trial 31 finished with value: 0.9073015873015873 and parameters: {'hidden_size': 82, 'num_layers': 1, 'learning_rate': 0.0025975729598599864}. Best is trial 22 with value: 0.9096153846153847.\n",
      "[I 2024-07-11 21:34:10,340] Trial 32 finished with value: 0.9038719285182427 and parameters: {'hidden_size': 92, 'num_layers': 1, 'learning_rate': 0.0016381101618185854}. Best is trial 22 with value: 0.9096153846153847.\n",
      "[I 2024-07-11 21:34:15,717] Trial 33 finished with value: 0.9052749719416386 and parameters: {'hidden_size': 95, 'num_layers': 1, 'learning_rate': 0.0012634448132623694}. Best is trial 22 with value: 0.9096153846153847.\n",
      "[I 2024-07-11 21:34:20,971] Trial 34 finished with value: 0.8773017114464483 and parameters: {'hidden_size': 109, 'num_layers': 1, 'learning_rate': 0.0008228262632128907}. Best is trial 22 with value: 0.9096153846153847.\n",
      "[I 2024-07-11 21:34:26,491] Trial 35 finished with value: 0.8782995942930121 and parameters: {'hidden_size': 96, 'num_layers': 1, 'learning_rate': 0.001262001360632031}. Best is trial 22 with value: 0.9096153846153847.\n",
      "[I 2024-07-11 21:34:32,297] Trial 36 finished with value: 0.85901295412927 and parameters: {'hidden_size': 51, 'num_layers': 1, 'learning_rate': 0.0004983841840636551}. Best is trial 22 with value: 0.9096153846153847.\n",
      "[I 2024-07-11 21:34:38,843] Trial 37 finished with value: 0.6909419878022224 and parameters: {'hidden_size': 18, 'num_layers': 2, 'learning_rate': 0.00012133654540706415}. Best is trial 22 with value: 0.9096153846153847.\n",
      "[I 2024-07-11 21:34:46,380] Trial 38 finished with value: 0.8642161801414474 and parameters: {'hidden_size': 71, 'num_layers': 3, 'learning_rate': 0.0015712571011616164}. Best is trial 22 with value: 0.9096153846153847.\n",
      "[I 2024-07-11 21:34:52,566] Trial 39 finished with value: 0.9067997476568133 and parameters: {'hidden_size': 124, 'num_layers': 2, 'learning_rate': 0.0011568418726469573}. Best is trial 22 with value: 0.9096153846153847.\n",
      "[I 2024-07-11 21:34:59,046] Trial 40 finished with value: 0.8791609396152038 and parameters: {'hidden_size': 117, 'num_layers': 2, 'learning_rate': 0.001125602699072245}. Best is trial 22 with value: 0.9096153846153847.\n",
      "[I 2024-07-11 21:35:04,891] Trial 41 finished with value: 0.8823302469135802 and parameters: {'hidden_size': 128, 'num_layers': 1, 'learning_rate': 0.0008985723676715047}. Best is trial 22 with value: 0.9096153846153847.\n",
      "[I 2024-07-11 21:35:11,439] Trial 42 finished with value: 0.8819610855094726 and parameters: {'hidden_size': 121, 'num_layers': 2, 'learning_rate': 0.0035350609574039157}. Best is trial 22 with value: 0.9096153846153847.\n",
      "[I 2024-07-11 21:35:17,290] Trial 43 finished with value: 0.8722809085168637 and parameters: {'hidden_size': 109, 'num_layers': 1, 'learning_rate': 0.0017610312603102683}. Best is trial 22 with value: 0.9096153846153847.\n",
      "[I 2024-07-11 21:35:23,191] Trial 44 finished with value: 0.8906492445896284 and parameters: {'hidden_size': 64, 'num_layers': 1, 'learning_rate': 0.0010901773614427914}. Best is trial 22 with value: 0.9096153846153847.\n",
      "[I 2024-07-11 21:35:30,259] Trial 45 finished with value: 0.8548268490601677 and parameters: {'hidden_size': 44, 'num_layers': 3, 'learning_rate': 0.0008010417050154777}. Best is trial 22 with value: 0.9096153846153847.\n",
      "[I 2024-07-11 21:35:36,363] Trial 46 finished with value: 0.8160093370681606 and parameters: {'hidden_size': 73, 'num_layers': 2, 'learning_rate': 0.00041130192396777033}. Best is trial 22 with value: 0.9096153846153847.\n",
      "[I 2024-07-11 21:35:41,606] Trial 47 finished with value: 0.7905819754957686 and parameters: {'hidden_size': 92, 'num_layers': 1, 'learning_rate': 0.00024789503846526595}. Best is trial 22 with value: 0.9096153846153847.\n",
      "[I 2024-07-11 21:35:46,918] Trial 48 finished with value: 0.7119243219112921 and parameters: {'hidden_size': 82, 'num_layers': 1, 'learning_rate': 0.00016846976210948574}. Best is trial 22 with value: 0.9096153846153847.\n",
      "[I 2024-07-11 21:35:53,101] Trial 49 finished with value: 0.8614005004373857 and parameters: {'hidden_size': 106, 'num_layers': 2, 'learning_rate': 0.002898746858814037}. Best is trial 22 with value: 0.9096153846153847.\n"
     ]
    },
    {
     "name": "stdout",
     "output_type": "stream",
     "text": [
      "Number of finished trials:  50\n",
      "Best trial:\n",
      "  Value:  0.9096153846153847\n",
      "  Params: \n",
      "    hidden_size: 59\n",
      "    num_layers: 1\n",
      "    learning_rate: 0.0021397712761214755\n",
      "saving model on: Models\\GRU\\VALE3_all_features.pt\n",
      "              precision    recall  f1-score   support\n",
      "\n",
      "           0       1.00      0.99      1.00       187\n",
      "           1       0.99      1.00      1.00       183\n",
      "\n",
      "    accuracy                           1.00       370\n",
      "   macro avg       1.00      1.00      1.00       370\n",
      "weighted avg       1.00      1.00      1.00       370\n",
      "\n",
      "              precision    recall  f1-score   support\n",
      "\n",
      "           0       0.60      0.68      0.63        68\n",
      "           1       0.42      0.34      0.38        47\n",
      "\n",
      "    accuracy                           0.54       115\n",
      "   macro avg       0.51      0.51      0.51       115\n",
      "weighted avg       0.53      0.54      0.53       115\n",
      "\n"
     ]
    }
   ],
   "source": [
    "treinar_avaliar(GRUModel,  \"VALE3\", n_trials= 50,file_to_save_model= f\"VALE3_all_features.pt\")"
   ]
  },
  {
   "cell_type": "code",
   "execution_count": 4,
   "metadata": {},
   "outputs": [
    {
     "name": "stderr",
     "output_type": "stream",
     "text": [
      "[I 2024-07-11 21:35:57,840] A new study created in memory with name: no-name-a6c73878-e8f0-4ab4-9768-43ad8654ad49\n",
      "[I 2024-07-11 21:36:07,640] Trial 0 finished with value: 0.5990638990638991 and parameters: {'hidden_size': 99, 'num_layers': 5, 'learning_rate': 0.0007967891371302398}. Best is trial 0 with value: 0.5990638990638991.\n",
      "[I 2024-07-11 21:36:17,192] Trial 1 finished with value: 0.6282385796881169 and parameters: {'hidden_size': 116, 'num_layers': 5, 'learning_rate': 0.00023386433418226695}. Best is trial 1 with value: 0.6282385796881169.\n",
      "[I 2024-07-11 21:36:25,025] Trial 2 finished with value: 0.689074755032202 and parameters: {'hidden_size': 95, 'num_layers': 3, 'learning_rate': 0.00022033213877181005}. Best is trial 2 with value: 0.689074755032202.\n",
      "[I 2024-07-11 21:36:32,171] Trial 3 finished with value: 0.6700460199058297 and parameters: {'hidden_size': 52, 'num_layers': 3, 'learning_rate': 0.0003669017760435989}. Best is trial 2 with value: 0.689074755032202.\n",
      "[I 2024-07-11 21:36:39,261] Trial 4 finished with value: 0.7066032286570253 and parameters: {'hidden_size': 68, 'num_layers': 3, 'learning_rate': 0.0007566345536888083}. Best is trial 4 with value: 0.7066032286570253.\n",
      "[I 2024-07-11 21:36:48,116] Trial 5 finished with value: 0.652227529286322 and parameters: {'hidden_size': 123, 'num_layers': 5, 'learning_rate': 0.0023421883559760657}. Best is trial 4 with value: 0.7066032286570253.\n",
      "[I 2024-07-11 21:36:53,391] Trial 6 finished with value: 0.7641959545488957 and parameters: {'hidden_size': 112, 'num_layers': 1, 'learning_rate': 0.00037696271539768044}. Best is trial 6 with value: 0.7641959545488957.\n",
      "[I 2024-07-11 21:36:59,946] Trial 7 finished with value: 0.8248197776652594 and parameters: {'hidden_size': 112, 'num_layers': 2, 'learning_rate': 0.0021182366417626134}. Best is trial 7 with value: 0.8248197776652594.\n",
      "[I 2024-07-11 21:37:08,676] Trial 8 finished with value: 0.5943175749707442 and parameters: {'hidden_size': 71, 'num_layers': 4, 'learning_rate': 0.00022906321902994023}. Best is trial 7 with value: 0.8248197776652594.\n",
      "[I 2024-07-11 21:37:15,486] Trial 9 finished with value: 0.7503868870608864 and parameters: {'hidden_size': 44, 'num_layers': 2, 'learning_rate': 0.0009074033534353396}. Best is trial 7 with value: 0.8248197776652594.\n",
      "[I 2024-07-11 21:37:21,196] Trial 10 finished with value: 0.8142644948823989 and parameters: {'hidden_size': 90, 'num_layers': 1, 'learning_rate': 0.009814244914045098}. Best is trial 7 with value: 0.8248197776652594.\n",
      "[I 2024-07-11 21:37:26,871] Trial 11 finished with value: 0.811007457956084 and parameters: {'hidden_size': 17, 'num_layers': 1, 'learning_rate': 0.007175596546327727}. Best is trial 7 with value: 0.8248197776652594.\n",
      "[I 2024-07-11 21:37:33,701] Trial 12 finished with value: 0.8304779424915557 and parameters: {'hidden_size': 91, 'num_layers': 2, 'learning_rate': 0.007864677436608774}. Best is trial 12 with value: 0.8304779424915557.\n",
      "[I 2024-07-11 21:37:40,556] Trial 13 finished with value: 0.837841921794318 and parameters: {'hidden_size': 86, 'num_layers': 2, 'learning_rate': 0.0037333203104715296}. Best is trial 13 with value: 0.837841921794318.\n",
      "[I 2024-07-11 21:37:47,376] Trial 14 finished with value: 0.8151375500593669 and parameters: {'hidden_size': 85, 'num_layers': 2, 'learning_rate': 0.004356148031407758}. Best is trial 13 with value: 0.837841921794318.\n",
      "[I 2024-07-11 21:37:54,479] Trial 15 finished with value: 0.823414761841492 and parameters: {'hidden_size': 57, 'num_layers': 2, 'learning_rate': 0.003839562180332494}. Best is trial 13 with value: 0.837841921794318.\n",
      "[I 2024-07-11 21:38:03,437] Trial 16 finished with value: 0.6381781385081242 and parameters: {'hidden_size': 85, 'num_layers': 4, 'learning_rate': 0.0019829067524688186}. Best is trial 13 with value: 0.837841921794318.\n",
      "[I 2024-07-11 21:38:10,337] Trial 17 finished with value: 0.8291819370505277 and parameters: {'hidden_size': 34, 'num_layers': 2, 'learning_rate': 0.004224587376035135}. Best is trial 13 with value: 0.837841921794318.\n",
      "[I 2024-07-11 21:38:19,316] Trial 18 finished with value: 0.7614692995265789 and parameters: {'hidden_size': 79, 'num_layers': 4, 'learning_rate': 0.006191630363259021}. Best is trial 13 with value: 0.837841921794318.\n",
      "[I 2024-07-11 21:38:25,182] Trial 19 finished with value: 0.8516110487334825 and parameters: {'hidden_size': 101, 'num_layers': 1, 'learning_rate': 0.0014657973138618168}. Best is trial 19 with value: 0.8516110487334825.\n",
      "[I 2024-07-11 21:38:30,756] Trial 20 finished with value: 0.8345516156257023 and parameters: {'hidden_size': 103, 'num_layers': 1, 'learning_rate': 0.001296572573878104}. Best is trial 19 with value: 0.8516110487334825.\n",
      "[I 2024-07-11 21:38:36,786] Trial 21 finished with value: 0.8313595532798992 and parameters: {'hidden_size': 103, 'num_layers': 1, 'learning_rate': 0.0015049279676494893}. Best is trial 19 with value: 0.8516110487334825.\n",
      "[I 2024-07-11 21:38:42,641] Trial 22 finished with value: 0.8117326073805202 and parameters: {'hidden_size': 103, 'num_layers': 1, 'learning_rate': 0.0013136663360488725}. Best is trial 19 with value: 0.8516110487334825.\n",
      "[I 2024-07-11 21:38:48,781] Trial 23 finished with value: 0.8672805971712616 and parameters: {'hidden_size': 125, 'num_layers': 1, 'learning_rate': 0.003005889218854955}. Best is trial 23 with value: 0.8672805971712616.\n",
      "[I 2024-07-11 21:38:54,626] Trial 24 finished with value: 0.8415499207926522 and parameters: {'hidden_size': 128, 'num_layers': 1, 'learning_rate': 0.0029777886162646776}. Best is trial 23 with value: 0.8672805971712616.\n",
      "[I 2024-07-11 21:39:00,606] Trial 25 finished with value: 0.6507940043796723 and parameters: {'hidden_size': 127, 'num_layers': 1, 'learning_rate': 0.00011148589110258578}. Best is trial 23 with value: 0.8672805971712616.\n",
      "[I 2024-07-11 21:39:06,726] Trial 26 finished with value: 0.8018696414774847 and parameters: {'hidden_size': 128, 'num_layers': 1, 'learning_rate': 0.0027905873036862604}. Best is trial 23 with value: 0.8672805971712616.\n",
      "[I 2024-07-11 21:39:12,748] Trial 27 finished with value: 0.8400317423148473 and parameters: {'hidden_size': 117, 'num_layers': 1, 'learning_rate': 0.002845069618377884}. Best is trial 23 with value: 0.8672805971712616.\n",
      "[I 2024-07-11 21:39:19,947] Trial 28 finished with value: 0.8159466487675877 and parameters: {'hidden_size': 120, 'num_layers': 2, 'learning_rate': 0.0015868692299975237}. Best is trial 23 with value: 0.8672805971712616.\n",
      "[I 2024-07-11 21:39:25,889] Trial 29 finished with value: 0.8159226155723729 and parameters: {'hidden_size': 110, 'num_layers': 1, 'learning_rate': 0.0007173637607290006}. Best is trial 23 with value: 0.8672805971712616.\n",
      "[I 2024-07-11 21:39:31,719] Trial 30 finished with value: 0.8420046482101163 and parameters: {'hidden_size': 108, 'num_layers': 1, 'learning_rate': 0.0011463920098784598}. Best is trial 23 with value: 0.8672805971712616.\n",
      "[I 2024-07-11 21:39:37,406] Trial 31 finished with value: 0.7883819791907418 and parameters: {'hidden_size': 106, 'num_layers': 1, 'learning_rate': 0.0005244942787985762}. Best is trial 23 with value: 0.8672805971712616.\n",
      "[I 2024-07-11 21:39:43,108] Trial 32 finished with value: 0.8421843843654816 and parameters: {'hidden_size': 121, 'num_layers': 1, 'learning_rate': 0.0012696555505032367}. Best is trial 23 with value: 0.8672805971712616.\n",
      "[I 2024-07-11 21:39:48,760] Trial 33 finished with value: 0.8389415650041151 and parameters: {'hidden_size': 97, 'num_layers': 1, 'learning_rate': 0.0010185855472840616}. Best is trial 23 with value: 0.8672805971712616.\n",
      "[I 2024-07-11 21:39:55,446] Trial 34 finished with value: 0.7747174170858381 and parameters: {'hidden_size': 118, 'num_layers': 2, 'learning_rate': 0.0005799073922002041}. Best is trial 23 with value: 0.8672805971712616.\n",
      "[I 2024-07-11 21:40:03,616] Trial 35 finished with value: 0.7767557871029489 and parameters: {'hidden_size': 111, 'num_layers': 3, 'learning_rate': 0.0016953677641480865}. Best is trial 23 with value: 0.8672805971712616.\n",
      "[I 2024-07-11 21:40:09,867] Trial 36 finished with value: 0.8456453396679109 and parameters: {'hidden_size': 122, 'num_layers': 1, 'learning_rate': 0.0012749296170077994}. Best is trial 23 with value: 0.8672805971712616.\n",
      "[I 2024-07-11 21:40:18,041] Trial 37 finished with value: 0.7043086046449524 and parameters: {'hidden_size': 122, 'num_layers': 3, 'learning_rate': 0.0007884462526702859}. Best is trial 23 with value: 0.8672805971712616.\n",
      "[I 2024-07-11 21:40:27,881] Trial 38 finished with value: 0.5692643121663433 and parameters: {'hidden_size': 116, 'num_layers': 5, 'learning_rate': 0.00038721064962283613}. Best is trial 23 with value: 0.8672805971712616.\n",
      "[I 2024-07-11 21:40:34,439] Trial 39 finished with value: 0.8250992201483298 and parameters: {'hidden_size': 97, 'num_layers': 2, 'learning_rate': 0.002085334939272823}. Best is trial 23 with value: 0.8672805971712616.\n",
      "[I 2024-07-11 21:40:40,616] Trial 40 finished with value: 0.8407484209137017 and parameters: {'hidden_size': 123, 'num_layers': 1, 'learning_rate': 0.005155600345887677}. Best is trial 23 with value: 0.8672805971712616.\n",
      "[I 2024-07-11 21:40:46,086] Trial 41 finished with value: 0.8312563543936093 and parameters: {'hidden_size': 109, 'num_layers': 1, 'learning_rate': 0.0010577032222562268}. Best is trial 23 with value: 0.8672805971712616.\n",
      "[I 2024-07-11 21:40:51,647] Trial 42 finished with value: 0.8146574247581014 and parameters: {'hidden_size': 114, 'num_layers': 1, 'learning_rate': 0.001204341269378731}. Best is trial 23 with value: 0.8672805971712616.\n",
      "[I 2024-07-11 21:40:57,226] Trial 43 finished with value: 0.8063729729540221 and parameters: {'hidden_size': 123, 'num_layers': 1, 'learning_rate': 0.000611267153338858}. Best is trial 23 with value: 0.8672805971712616.\n",
      "[I 2024-07-11 21:41:03,008] Trial 44 finished with value: 0.8322242108312169 and parameters: {'hidden_size': 107, 'num_layers': 1, 'learning_rate': 0.0017712587018968687}. Best is trial 23 with value: 0.8672805971712616.\n",
      "[I 2024-07-11 21:41:09,681] Trial 45 finished with value: 0.7992729931177392 and parameters: {'hidden_size': 117, 'num_layers': 2, 'learning_rate': 0.0009296737236121525}. Best is trial 23 with value: 0.8672805971712616.\n",
      "[I 2024-07-11 21:41:15,427] Trial 46 finished with value: 0.834045592952184 and parameters: {'hidden_size': 94, 'num_layers': 1, 'learning_rate': 0.0023965699853909974}. Best is trial 23 with value: 0.8672805971712616.\n",
      "[I 2024-07-11 21:41:23,206] Trial 47 finished with value: 0.7161122178666038 and parameters: {'hidden_size': 60, 'num_layers': 3, 'learning_rate': 0.0012192788179597824}. Best is trial 23 with value: 0.8672805971712616.\n",
      "[I 2024-07-11 21:41:30,254] Trial 48 finished with value: 0.8375556368514114 and parameters: {'hidden_size': 124, 'num_layers': 2, 'learning_rate': 0.0025079844580854736}. Best is trial 23 with value: 0.8672805971712616.\n",
      "[I 2024-07-11 21:41:36,412] Trial 49 finished with value: 0.7416905035892378 and parameters: {'hidden_size': 75, 'num_layers': 1, 'learning_rate': 0.00042886410100375873}. Best is trial 23 with value: 0.8672805971712616.\n"
     ]
    },
    {
     "name": "stdout",
     "output_type": "stream",
     "text": [
      "Number of finished trials:  50\n",
      "Best trial:\n",
      "  Value:  0.8672805971712616\n",
      "  Params: \n",
      "    hidden_size: 125\n",
      "    num_layers: 1\n",
      "    learning_rate: 0.003005889218854955\n",
      "saving model on: Models\\LSTM\\PETR4_all_features.pt\n",
      "              precision    recall  f1-score   support\n",
      "\n",
      "           0       0.99      0.97      0.98       169\n",
      "           1       0.98      0.99      0.98       201\n",
      "\n",
      "    accuracy                           0.98       370\n",
      "   macro avg       0.98      0.98      0.98       370\n",
      "weighted avg       0.98      0.98      0.98       370\n",
      "\n",
      "              precision    recall  f1-score   support\n",
      "\n",
      "           0       0.43      0.67      0.53        49\n",
      "           1       0.59      0.35      0.44        66\n",
      "\n",
      "    accuracy                           0.49       115\n",
      "   macro avg       0.51      0.51      0.48       115\n",
      "weighted avg       0.52      0.49      0.48       115\n",
      "\n"
     ]
    }
   ],
   "source": [
    "treinar_avaliar(LSTMModel, \"PETR4\", n_trials= 50,file_to_save_model= f\"PETR4_all_features.pt\")"
   ]
  },
  {
   "cell_type": "code",
   "execution_count": 5,
   "metadata": {},
   "outputs": [
    {
     "name": "stderr",
     "output_type": "stream",
     "text": [
      "[I 2024-07-11 21:41:39,917] A new study created in memory with name: no-name-0560cae6-4328-43f3-89d5-736c046729a8\n",
      "[I 2024-07-11 21:41:45,262] Trial 0 finished with value: 0.8181064966843051 and parameters: {'hidden_size': 119, 'num_layers': 1, 'learning_rate': 0.008587963481672421}. Best is trial 0 with value: 0.8181064966843051.\n",
      "[I 2024-07-11 21:41:51,786] Trial 1 finished with value: 0.8492642225094439 and parameters: {'hidden_size': 68, 'num_layers': 2, 'learning_rate': 0.005303528956512207}. Best is trial 1 with value: 0.8492642225094439.\n",
      "[I 2024-07-11 21:41:59,906] Trial 2 finished with value: 0.6538828263439391 and parameters: {'hidden_size': 41, 'num_layers': 4, 'learning_rate': 0.0006957190717812635}. Best is trial 1 with value: 0.8492642225094439.\n",
      "[I 2024-07-11 21:42:05,401] Trial 3 finished with value: 0.6918486065474017 and parameters: {'hidden_size': 111, 'num_layers': 1, 'learning_rate': 0.00021944480730291317}. Best is trial 1 with value: 0.8492642225094439.\n",
      "[I 2024-07-11 21:42:10,961] Trial 4 finished with value: 0.7579156050577873 and parameters: {'hidden_size': 112, 'num_layers': 1, 'learning_rate': 0.00040528075126556836}. Best is trial 1 with value: 0.8492642225094439.\n",
      "[I 2024-07-11 21:42:16,356] Trial 5 finished with value: 0.6668317728782844 and parameters: {'hidden_size': 123, 'num_layers': 1, 'learning_rate': 0.0001404965458549662}. Best is trial 1 with value: 0.8492642225094439.\n",
      "[I 2024-07-11 21:42:25,361] Trial 6 finished with value: 0.6808139743961246 and parameters: {'hidden_size': 97, 'num_layers': 5, 'learning_rate': 0.003071301293970885}. Best is trial 1 with value: 0.8492642225094439.\n",
      "[I 2024-07-11 21:42:33,927] Trial 7 finished with value: 0.6860094784341557 and parameters: {'hidden_size': 73, 'num_layers': 5, 'learning_rate': 0.0002804562948165764}. Best is trial 1 with value: 0.8492642225094439.\n",
      "[I 2024-07-11 21:42:40,073] Trial 8 finished with value: 0.689048599521735 and parameters: {'hidden_size': 60, 'num_layers': 2, 'learning_rate': 0.000325763576897862}. Best is trial 1 with value: 0.8492642225094439.\n",
      "[I 2024-07-11 21:42:48,396] Trial 9 finished with value: 0.661198994803646 and parameters: {'hidden_size': 17, 'num_layers': 4, 'learning_rate': 0.002069342964668046}. Best is trial 1 with value: 0.8492642225094439.\n",
      "[I 2024-07-11 21:42:55,331] Trial 10 finished with value: 0.7307637349100764 and parameters: {'hidden_size': 82, 'num_layers': 3, 'learning_rate': 0.00749512583329495}. Best is trial 1 with value: 0.8492642225094439.\n",
      "[I 2024-07-11 21:43:01,936] Trial 11 finished with value: 0.7390573812809177 and parameters: {'hidden_size': 53, 'num_layers': 2, 'learning_rate': 0.009853037860520018}. Best is trial 1 with value: 0.8492642225094439.\n",
      "[I 2024-07-11 21:43:08,541] Trial 12 finished with value: 0.8257208327844964 and parameters: {'hidden_size': 89, 'num_layers': 2, 'learning_rate': 0.003582905831516771}. Best is trial 1 with value: 0.8492642225094439.\n",
      "[I 2024-07-11 21:43:15,271] Trial 13 finished with value: 0.852827138641968 and parameters: {'hidden_size': 90, 'num_layers': 2, 'learning_rate': 0.003340277532922177}. Best is trial 13 with value: 0.852827138641968.\n",
      "[I 2024-07-11 21:43:22,886] Trial 14 finished with value: 0.7496155649089244 and parameters: {'hidden_size': 62, 'num_layers': 3, 'learning_rate': 0.001453595920960119}. Best is trial 13 with value: 0.852827138641968.\n",
      "[I 2024-07-11 21:43:29,206] Trial 15 finished with value: 0.8134271754070893 and parameters: {'hidden_size': 97, 'num_layers': 2, 'learning_rate': 0.004524981216891814}. Best is trial 13 with value: 0.852827138641968.\n",
      "[I 2024-07-11 21:43:36,041] Trial 16 finished with value: 0.7003463203463204 and parameters: {'hidden_size': 40, 'num_layers': 3, 'learning_rate': 0.0009563340968319099}. Best is trial 13 with value: 0.852827138641968.\n",
      "[I 2024-07-11 21:43:42,186] Trial 17 finished with value: 0.8392255892255893 and parameters: {'hidden_size': 76, 'num_layers': 2, 'learning_rate': 0.0018658452273939638}. Best is trial 13 with value: 0.852827138641968.\n",
      "[I 2024-07-11 21:43:50,235] Trial 18 finished with value: 0.7561118077324973 and parameters: {'hidden_size': 91, 'num_layers': 3, 'learning_rate': 0.005596607850908092}. Best is trial 13 with value: 0.852827138641968.\n",
      "[I 2024-07-11 21:43:59,692] Trial 19 finished with value: 0.7429257522280779 and parameters: {'hidden_size': 104, 'num_layers': 4, 'learning_rate': 0.0028937482980937327}. Best is trial 13 with value: 0.852827138641968.\n",
      "[I 2024-07-11 21:44:06,479] Trial 20 finished with value: 0.7816256868386612 and parameters: {'hidden_size': 19, 'num_layers': 2, 'learning_rate': 0.0058678303335239585}. Best is trial 13 with value: 0.852827138641968.\n",
      "[I 2024-07-11 21:44:13,386] Trial 21 finished with value: 0.8347385877947311 and parameters: {'hidden_size': 76, 'num_layers': 2, 'learning_rate': 0.0018338521858121434}. Best is trial 13 with value: 0.852827138641968.\n",
      "[I 2024-07-11 21:44:20,067] Trial 22 finished with value: 0.8079357009004446 and parameters: {'hidden_size': 66, 'num_layers': 2, 'learning_rate': 0.0012031106952313777}. Best is trial 13 with value: 0.852827138641968.\n",
      "[I 2024-07-11 21:44:25,693] Trial 23 finished with value: 0.8735849680770121 and parameters: {'hidden_size': 80, 'num_layers': 1, 'learning_rate': 0.0024246689586388836}. Best is trial 23 with value: 0.8735849680770121.\n",
      "[I 2024-07-11 21:44:30,781] Trial 24 finished with value: 0.8471974594713225 and parameters: {'hidden_size': 48, 'num_layers': 1, 'learning_rate': 0.002508760024762019}. Best is trial 23 with value: 0.8735849680770121.\n",
      "[I 2024-07-11 21:44:36,160] Trial 25 finished with value: 0.8611995938210771 and parameters: {'hidden_size': 83, 'num_layers': 1, 'learning_rate': 0.004232411622685858}. Best is trial 23 with value: 0.8735849680770121.\n",
      "[I 2024-07-11 21:44:41,335] Trial 26 finished with value: 0.8148609106280891 and parameters: {'hidden_size': 84, 'num_layers': 1, 'learning_rate': 0.00068091354539266}. Best is trial 23 with value: 0.8735849680770121.\n",
      "[I 2024-07-11 21:44:46,541] Trial 27 finished with value: 0.8544483163614076 and parameters: {'hidden_size': 100, 'num_layers': 1, 'learning_rate': 0.004147945353470302}. Best is trial 23 with value: 0.8735849680770121.\n",
      "[I 2024-07-11 21:44:51,571] Trial 28 finished with value: 0.856368487753244 and parameters: {'hidden_size': 104, 'num_layers': 1, 'learning_rate': 0.00418583929644168}. Best is trial 23 with value: 0.8735849680770121.\n",
      "[I 2024-07-11 21:44:56,701] Trial 29 finished with value: 0.8304140934652711 and parameters: {'hidden_size': 114, 'num_layers': 1, 'learning_rate': 0.007220073193582378}. Best is trial 23 with value: 0.8735849680770121.\n",
      "[I 2024-07-11 21:45:02,012] Trial 30 finished with value: 0.8639119113356634 and parameters: {'hidden_size': 106, 'num_layers': 1, 'learning_rate': 0.0021949548864532275}. Best is trial 23 with value: 0.8735849680770121.\n",
      "[I 2024-07-11 21:45:07,453] Trial 31 finished with value: 0.8703948423246668 and parameters: {'hidden_size': 107, 'num_layers': 1, 'learning_rate': 0.0014543977085049887}. Best is trial 23 with value: 0.8735849680770121.\n",
      "[I 2024-07-11 21:45:12,891] Trial 32 finished with value: 0.846109705277609 and parameters: {'hidden_size': 117, 'num_layers': 1, 'learning_rate': 0.0008664405428201443}. Best is trial 23 with value: 0.8735849680770121.\n",
      "[I 2024-07-11 21:45:18,348] Trial 33 finished with value: 0.8431583610188262 and parameters: {'hidden_size': 122, 'num_layers': 1, 'learning_rate': 0.0014693766736036836}. Best is trial 23 with value: 0.8735849680770121.\n",
      "[I 2024-07-11 21:45:23,826] Trial 34 finished with value: 0.8723082092945107 and parameters: {'hidden_size': 127, 'num_layers': 1, 'learning_rate': 0.0023385082777774647}. Best is trial 23 with value: 0.8735849680770121.\n",
      "[I 2024-07-11 21:45:29,299] Trial 35 finished with value: 0.8233110611411305 and parameters: {'hidden_size': 108, 'num_layers': 1, 'learning_rate': 0.0005906471847532192}. Best is trial 23 with value: 0.8735849680770121.\n",
      "[I 2024-07-11 21:45:34,877] Trial 36 finished with value: 0.8825245486221096 and parameters: {'hidden_size': 127, 'num_layers': 1, 'learning_rate': 0.001326120350154706}. Best is trial 36 with value: 0.8825245486221096.\n",
      "[I 2024-07-11 21:45:40,272] Trial 37 finished with value: 0.8460433749257279 and parameters: {'hidden_size': 126, 'num_layers': 1, 'learning_rate': 0.0014221928192461701}. Best is trial 36 with value: 0.8825245486221096.\n",
      "[I 2024-07-11 21:45:45,629] Trial 38 finished with value: 0.8670011250719719 and parameters: {'hidden_size': 117, 'num_layers': 1, 'learning_rate': 0.0010454178179676692}. Best is trial 36 with value: 0.8825245486221096.\n",
      "[I 2024-07-11 21:45:51,188] Trial 39 finished with value: 0.8107114349065568 and parameters: {'hidden_size': 128, 'num_layers': 1, 'learning_rate': 0.0004584726427448537}. Best is trial 36 with value: 0.8825245486221096.\n",
      "[I 2024-07-11 21:45:59,065] Trial 40 finished with value: 0.6053025153952658 and parameters: {'hidden_size': 123, 'num_layers': 4, 'learning_rate': 0.0001209718936909946}. Best is trial 36 with value: 0.8825245486221096.\n",
      "[I 2024-07-11 21:46:04,369] Trial 41 finished with value: 0.8445420135082422 and parameters: {'hidden_size': 118, 'num_layers': 1, 'learning_rate': 0.0012004624067555316}. Best is trial 36 with value: 0.8825245486221096.\n",
      "[I 2024-07-11 21:46:09,790] Trial 42 finished with value: 0.8440505497414371 and parameters: {'hidden_size': 113, 'num_layers': 1, 'learning_rate': 0.0008668461185439989}. Best is trial 36 with value: 0.8825245486221096.\n",
      "[I 2024-07-11 21:46:15,190] Trial 43 finished with value: 0.8334883523437739 and parameters: {'hidden_size': 118, 'num_layers': 1, 'learning_rate': 0.0024776643429648185}. Best is trial 36 with value: 0.8825245486221096.\n",
      "[I 2024-07-11 21:46:21,395] Trial 44 finished with value: 0.840497496677272 and parameters: {'hidden_size': 128, 'num_layers': 2, 'learning_rate': 0.001203072225156575}. Best is trial 36 with value: 0.8825245486221096.\n",
      "[I 2024-07-11 21:46:26,756] Trial 45 finished with value: 0.8405675487897577 and parameters: {'hidden_size': 111, 'num_layers': 1, 'learning_rate': 0.0016523597068821244}. Best is trial 36 with value: 0.8825245486221096.\n",
      "[I 2024-07-11 21:46:32,461] Trial 46 finished with value: 0.8235319366500921 and parameters: {'hidden_size': 122, 'num_layers': 1, 'learning_rate': 0.0007119367681957321}. Best is trial 36 with value: 0.8825245486221096.\n",
      "[I 2024-07-11 21:46:39,162] Trial 47 finished with value: 0.8079898595275473 and parameters: {'hidden_size': 99, 'num_layers': 2, 'learning_rate': 0.0011306356374588703}. Best is trial 36 with value: 0.8825245486221096.\n",
      "[I 2024-07-11 21:46:48,655] Trial 48 finished with value: 0.7594523736410623 and parameters: {'hidden_size': 109, 'num_layers': 5, 'learning_rate': 0.0026889689040429862}. Best is trial 36 with value: 0.8825245486221096.\n",
      "[I 2024-07-11 21:46:54,956] Trial 49 finished with value: 0.656022277120368 and parameters: {'hidden_size': 115, 'num_layers': 2, 'learning_rate': 0.00021307745878781936}. Best is trial 36 with value: 0.8825245486221096.\n"
     ]
    },
    {
     "name": "stdout",
     "output_type": "stream",
     "text": [
      "Number of finished trials:  50\n",
      "Best trial:\n",
      "  Value:  0.8825245486221096\n",
      "  Params: \n",
      "    hidden_size: 127\n",
      "    num_layers: 1\n",
      "    learning_rate: 0.001326120350154706\n",
      "saving model on: Models\\GRU\\PETR4_all_features.pt\n",
      "              precision    recall  f1-score   support\n",
      "\n",
      "           0       0.97      0.98      0.97       169\n",
      "           1       0.98      0.97      0.98       201\n",
      "\n",
      "    accuracy                           0.98       370\n",
      "   macro avg       0.97      0.98      0.98       370\n",
      "weighted avg       0.98      0.98      0.98       370\n",
      "\n",
      "              precision    recall  f1-score   support\n",
      "\n",
      "           0       0.40      0.73      0.52        49\n",
      "           1       0.50      0.20      0.28        66\n",
      "\n",
      "    accuracy                           0.43       115\n",
      "   macro avg       0.45      0.47      0.40       115\n",
      "weighted avg       0.46      0.43      0.38       115\n",
      "\n"
     ]
    }
   ],
   "source": [
    "treinar_avaliar(GRUModel,  \"PETR4\", n_trials= 50,file_to_save_model= f\"PETR4_all_features.pt\")"
   ]
  },
  {
   "cell_type": "markdown",
   "metadata": {},
   "source": [
    "# Diagnóstico"
   ]
  },
  {
   "cell_type": "markdown",
   "metadata": {},
   "source": [
    "Temos um caso evidente de overfitting com todos os modelos em todos os datasets"
   ]
  },
  {
   "cell_type": "markdown",
   "metadata": {},
   "source": [
    "Podemos tentar resolver isso reduzindo o número de features fortemente correlacionadas. Desta forma reduziremos a complexidade do nosso modelo.\n",
    "\n",
    "Outra abordagem possível é adicionar dropout\n",
    "\n",
    "Vá para treino_corrigido.ipynb para ver as melhorias no treinamento"
   ]
  }
 ],
 "metadata": {
  "kernelspec": {
   "display_name": "venv",
   "language": "python",
   "name": "python3"
  },
  "language_info": {
   "codemirror_mode": {
    "name": "ipython",
    "version": 3
   },
   "file_extension": ".py",
   "mimetype": "text/x-python",
   "name": "python",
   "nbconvert_exporter": "python",
   "pygments_lexer": "ipython3",
   "version": "3.12.3"
  }
 },
 "nbformat": 4,
 "nbformat_minor": 2
}
