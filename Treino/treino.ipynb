{
 "cells": [
  {
   "cell_type": "markdown",
   "metadata": {},
   "source": [
    "# Downloads e imports"
   ]
  },
  {
   "cell_type": "code",
   "execution_count": 1,
   "metadata": {},
   "outputs": [
    {
     "name": "stderr",
     "output_type": "stream",
     "text": [
      "c:\\Users\\raafm\\Pessoal\\Ciencia-de-dados\\Stock-Prices-Prediction\\venv\\Lib\\site-packages\\tqdm\\auto.py:21: TqdmWarning: IProgress not found. Please update jupyter and ipywidgets. See https://ipywidgets.readthedocs.io/en/stable/user_install.html\n",
      "  from .autonotebook import tqdm as notebook_tqdm\n"
     ]
    }
   ],
   "source": [
    "import numpy as np\n",
    "from sklearn.metrics import classification_report\n",
    "from Models.LSTM.LSTM import LSTMModel\n",
    "from busca_hiperparametros_NN import run_hiperparameter_search\n",
    "import torch\n",
    "\n",
    "import sys, os\n",
    "sys.path.append('..')\n",
    "\n",
    "\n",
    "RANDOM_SEED = 33"
   ]
  },
  {
   "cell_type": "code",
   "execution_count": 2,
   "metadata": {},
   "outputs": [
    {
     "data": {
      "text/plain": [
       "((370, 7, 62), (115, 7, 62))"
      ]
     },
     "execution_count": 2,
     "metadata": {},
     "output_type": "execute_result"
    }
   ],
   "source": [
    "get_dataset_path = lambda  stock, get_labels,get_train: os.path.join(\"..\",\"FinalDatasets\", stock,f\"{stock}_{'y' if get_labels else 'X'}_timeseries_{'train' if get_train else 'test'}.npy\")\n",
    "\n",
    "X_train = np.load(get_dataset_path(stock= 'VALE3', get_labels= False, get_train= True))\n",
    "y_train = np.load(get_dataset_path(stock= 'VALE3', get_labels= True, get_train= True))\n",
    "X_test  = np.load(get_dataset_path(stock= 'VALE3', get_labels= False, get_train= False))\n",
    "y_test  = np.load(get_dataset_path(stock= 'VALE3', get_labels= True, get_train= False))\n",
    "\n",
    "X_train.shape, X_test.shape"
   ]
  },
  {
   "cell_type": "markdown",
   "metadata": {},
   "source": [
    "# Busca por Hiperparâmetros"
   ]
  },
  {
   "cell_type": "code",
   "execution_count": 3,
   "metadata": {},
   "outputs": [
    {
     "name": "stderr",
     "output_type": "stream",
     "text": [
      "[I 2024-07-11 03:41:17,370] A new study created in memory with name: no-name-36982b8a-9924-4984-a4e6-99db58573336\n",
      "[I 2024-07-11 03:41:29,622] Trial 0 finished with value: 0.8189923240918067 and parameters: {'hidden_size': 88, 'num_layers': 3, 'learning_rate': 0.0007494643706838835}. Best is trial 0 with value: 0.8189923240918067.\n",
      "[I 2024-07-11 03:41:36,983] Trial 1 finished with value: 0.8592432657204314 and parameters: {'hidden_size': 37, 'num_layers': 3, 'learning_rate': 0.0025320375766107327}. Best is trial 1 with value: 0.8592432657204314.\n",
      "[I 2024-07-11 03:41:46,198] Trial 2 finished with value: 0.7733898282659892 and parameters: {'hidden_size': 127, 'num_layers': 5, 'learning_rate': 0.0001404166039589777}. Best is trial 1 with value: 0.8592432657204314.\n",
      "[I 2024-07-11 03:41:52,376] Trial 3 finished with value: 0.8759108934718691 and parameters: {'hidden_size': 26, 'num_layers': 2, 'learning_rate': 0.003402079247794696}. Best is trial 3 with value: 0.8759108934718691.\n",
      "[I 2024-07-11 03:41:57,543] Trial 4 finished with value: 0.6817879377635475 and parameters: {'hidden_size': 81, 'num_layers': 1, 'learning_rate': 0.0001459435025009284}. Best is trial 3 with value: 0.8759108934718691.\n",
      "[I 2024-07-11 03:42:03,056] Trial 5 finished with value: 0.8488573067363457 and parameters: {'hidden_size': 119, 'num_layers': 1, 'learning_rate': 0.0006232230066515565}. Best is trial 3 with value: 0.8759108934718691.\n",
      "[I 2024-07-11 03:42:11,827] Trial 6 finished with value: 0.8363284165703521 and parameters: {'hidden_size': 83, 'num_layers': 4, 'learning_rate': 0.009442141215264965}. Best is trial 3 with value: 0.8759108934718691.\n",
      "[I 2024-07-11 03:42:23,067] Trial 7 finished with value: 0.7562462417559099 and parameters: {'hidden_size': 125, 'num_layers': 4, 'learning_rate': 0.00017761551771325212}. Best is trial 3 with value: 0.8759108934718691.\n",
      "[I 2024-07-11 03:42:33,685] Trial 8 finished with value: 0.7555843558687497 and parameters: {'hidden_size': 69, 'num_layers': 4, 'learning_rate': 0.0001951008041922299}. Best is trial 3 with value: 0.8759108934718691.\n",
      "[I 2024-07-11 03:42:42,025] Trial 9 finished with value: 0.8751354110932763 and parameters: {'hidden_size': 113, 'num_layers': 4, 'learning_rate': 0.00505308649341335}. Best is trial 3 with value: 0.8759108934718691.\n"
     ]
    },
    {
     "name": "stdout",
     "output_type": "stream",
     "text": [
      "Number of finished trials:  10\n",
      "Best trial:\n",
      "  Value:  0.8759108934718691\n",
      "  Params: \n",
      "    hidden_size: 26\n",
      "    num_layers: 2\n",
      "    learning_rate: 0.003402079247794696\n"
     ]
    }
   ],
   "source": [
    "study = run_hiperparameter_search(X_train, y_train, ModelClass= LSTMModel, n_trials= 10)"
   ]
  },
  {
   "cell_type": "markdown",
   "metadata": {},
   "source": [
    "# Treinando com os melhores Hiperparâmetros"
   ]
  },
  {
   "cell_type": "code",
   "execution_count": 4,
   "metadata": {},
   "outputs": [],
   "source": [
    "model = LSTMModel(input_size= X_train.shape[-1],\n",
    "                  hidden_size= study.best_params[\"hidden_size\"], \n",
    "                  num_layers= study.best_params[\"num_layers\"],\n",
    "                  output_size= 1)\n",
    "\n",
    "model.fit(X_train, y_train,\n",
    "          learning_rate= study.best_params['learning_rate'],\n",
    "          )"
   ]
  },
  {
   "cell_type": "markdown",
   "metadata": {},
   "source": [
    "# Avaliando o Modelo"
   ]
  },
  {
   "cell_type": "code",
   "execution_count": 5,
   "metadata": {},
   "outputs": [
    {
     "name": "stdout",
     "output_type": "stream",
     "text": [
      "              precision    recall  f1-score   support\n",
      "\n",
      "           0       1.00      1.00      1.00       187\n",
      "           1       1.00      1.00      1.00       183\n",
      "\n",
      "    accuracy                           1.00       370\n",
      "   macro avg       1.00      1.00      1.00       370\n",
      "weighted avg       1.00      1.00      1.00       370\n",
      "\n"
     ]
    }
   ],
   "source": [
    "y_pred = model.predict(X_train)\n",
    "print(classification_report(y_train,y_pred))"
   ]
  },
  {
   "cell_type": "code",
   "execution_count": 6,
   "metadata": {},
   "outputs": [
    {
     "name": "stdout",
     "output_type": "stream",
     "text": [
      "              precision    recall  f1-score   support\n",
      "\n",
      "           0       0.61      0.71      0.65        68\n",
      "           1       0.44      0.34      0.39        47\n",
      "\n",
      "    accuracy                           0.56       115\n",
      "   macro avg       0.53      0.52      0.52       115\n",
      "weighted avg       0.54      0.56      0.54       115\n",
      "\n"
     ]
    }
   ],
   "source": [
    "y_pred = model.predict(X_test)\n",
    "print(classification_report(y_test,y_pred))"
   ]
  },
  {
   "cell_type": "code",
   "execution_count": 7,
   "metadata": {},
   "outputs": [
    {
     "name": "stdout",
     "output_type": "stream",
     "text": [
      "Number of features: 62\n"
     ]
    }
   ],
   "source": [
    "print(\"Number of features:\",X_train.shape[-1])\n",
    "torch.save(model, os.path.join('Models','LSTM','all_features.pt'))"
   ]
  }
 ],
 "metadata": {
  "kernelspec": {
   "display_name": "venv",
   "language": "python",
   "name": "python3"
  },
  "language_info": {
   "codemirror_mode": {
    "name": "ipython",
    "version": 3
   },
   "file_extension": ".py",
   "mimetype": "text/x-python",
   "name": "python",
   "nbconvert_exporter": "python",
   "pygments_lexer": "ipython3",
   "version": "3.12.3"
  }
 },
 "nbformat": 4,
 "nbformat_minor": 2
}
