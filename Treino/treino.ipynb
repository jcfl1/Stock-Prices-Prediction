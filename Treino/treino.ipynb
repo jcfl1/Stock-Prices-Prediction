{
 "cells": [
  {
   "cell_type": "markdown",
   "metadata": {},
   "source": [
    "# Downloads e imports"
   ]
  },
  {
   "cell_type": "code",
   "execution_count": 1,
   "metadata": {},
   "outputs": [
    {
     "name": "stderr",
     "output_type": "stream",
     "text": [
      "c:\\Users\\raafm\\Pessoal\\Ciencia-de-dados\\Stock-Prices-Prediction\\venv\\Lib\\site-packages\\tqdm\\auto.py:21: TqdmWarning: IProgress not found. Please update jupyter and ipywidgets. See https://ipywidgets.readthedocs.io/en/stable/user_install.html\n",
      "  from .autonotebook import tqdm as notebook_tqdm\n"
     ]
    }
   ],
   "source": [
    "from treino_avaliacao import treinar_avaliar\n",
    "from Models.LSTM.LSTM import LSTMModel\n",
    "from Models.GRU.GRU import GRUModel\n",
    "import sys, os\n",
    "sys.path.append('..')\n",
    "\n",
    "\n",
    "RANDOM_SEED = 33"
   ]
  },
  {
   "cell_type": "code",
   "execution_count": null,
   "metadata": {},
   "outputs": [],
   "source": [
    "for stock in [\"VALE3\", \"PETR4\"]:\n",
    "    for ModelClass in [LSTMModel, GRUModel]:\n",
    "        print(\"iniciando treino do\", 'lstm' if ModelClass == LSTMModel else 'gru', 'no dataset da', stock, '\\n\\n')\n",
    "        treinar_avaliar(ModelClass, stock, n_trials= 50,file_to_save_model= f\"{stock}_all_features.pt\")\n",
    "        print(\"-\"*50 + '\\n\\n')"
   ]
  }
 ],
 "metadata": {
  "kernelspec": {
   "display_name": "venv",
   "language": "python",
   "name": "python3"
  },
  "language_info": {
   "codemirror_mode": {
    "name": "ipython",
    "version": 3
   },
   "file_extension": ".py",
   "mimetype": "text/x-python",
   "name": "python",
   "nbconvert_exporter": "python",
   "pygments_lexer": "ipython3",
   "version": "3.12.3"
  }
 },
 "nbformat": 4,
 "nbformat_minor": 2
}
