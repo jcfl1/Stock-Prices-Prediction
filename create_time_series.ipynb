{
 "cells": [
  {
   "cell_type": "code",
   "execution_count": 1,
   "metadata": {},
   "outputs": [],
   "source": [
    "import pandas as pd\n",
    "import os"
   ]
  },
  {
   "cell_type": "code",
   "execution_count": 2,
   "metadata": {},
   "outputs": [
    {
     "data": {
      "text/plain": [
       "['PETR4.csv', 'PETR4_AH.csv', 'VALE3.csv', 'VALE3_AH.csv']"
      ]
     },
     "execution_count": 2,
     "metadata": {},
     "output_type": "execute_result"
    }
   ],
   "source": [
    "DEMONSTRATIVOS_PATH= os.path.join(\"Demonstrativos\",\"Tables\",\"Limpas\")\n",
    "os.listdir(DEMONSTRATIVOS_PATH)"
   ]
  },
  {
   "cell_type": "code",
   "execution_count": null,
   "metadata": {},
   "outputs": [],
   "source": [
    "df_trimestrais = []\n",
    "for base in os.listdir(DEMONSTRATIVOS_PATH):\n",
    "    df_trimestrais.append( pd.read_csv(os.path.join(DEMONSTRATIVOS_PATH,base)))"
   ]
  },
  {
   "cell_type": "code",
   "execution_count": null,
   "metadata": {},
   "outputs": [],
   "source": [
    "df_trimestral = df_trimestrais[0]\n",
    "# Resetando o índice do df_trimestral para fazer a junção\n",
    "df_trimestral_reset = df_trimestral.reset_index()\n",
    "\n",
    "# Fazendo a junção\n",
    "df_resultado = pd.merge_asof(df_diario.reset_index(), df_trimestral_reset, on='data', direction='backward')\n",
    "\n",
    "# Configurando o índice de volta para 'data'\n",
    "df_resultado.set_index('data', inplace=True)\n",
    "\n",
    "# Visualizando o resultado\n",
    "print(df_resultado.head())\n"
   ]
  }
 ],
 "metadata": {
  "kernelspec": {
   "display_name": "venv",
   "language": "python",
   "name": "python3"
  },
  "language_info": {
   "codemirror_mode": {
    "name": "ipython",
    "version": 3
   },
   "file_extension": ".py",
   "mimetype": "text/x-python",
   "name": "python",
   "nbconvert_exporter": "python",
   "pygments_lexer": "ipython3",
   "version": "3.11.3"
  }
 },
 "nbformat": 4,
 "nbformat_minor": 2
}
