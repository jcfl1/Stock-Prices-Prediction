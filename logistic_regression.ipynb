{
 "cells": [
  {
   "cell_type": "code",
   "execution_count": 4,
   "metadata": {},
   "outputs": [],
   "source": [
    "import pandas as pd\n",
    "import numpy as np\n",
    "import xgboost as xgb\n",
    "import yfinance as yf\n",
    "from datetime import datetime\n",
    "from sklearn.metrics import confusion_matrix\n",
    "import seaborn as sns\n",
    "import matplotlib.pyplot as plt\n",
    "from sklearn.metrics import accuracy_score, classification_report, f1_score\n",
    "import mlflow\n",
    "from sklearn.model_selection import KFold, cross_val_score\n",
    "from sklearn.linear_model import LogisticRegression\n",
    "import optuna\n",
    "from pandas_datareader import data as pdr\n",
    "from datetime import datetime\n",
    "from datetime import timedelta\n",
    "\n",
    "RANDOM_SEED = 33"
   ]
  },
  {
   "cell_type": "code",
   "execution_count": 5,
   "metadata": {},
   "outputs": [],
   "source": [
    "yf.pdr_override()"
   ]
  },
  {
   "cell_type": "code",
   "execution_count": 10,
   "metadata": {},
   "outputs": [],
   "source": [
    "def calculo_lucro(model, df, X, acao= \"PETR4\", capital_inicial = 10_000):\n",
    "\n",
    "    datas = pd.to_datetime(df[\"Date\"])\n",
    "    start_date = datas.iloc[0]\n",
    "    end_date = datas.iloc[-1]\n",
    "    df = pdr.get_data_yahoo(acao+'.SA', start=start_date, end=end_date + timedelta(days=1))\n",
    "\n",
    "    \n",
    "    # Suponha que seu dataset tem as seguintes colunas:\n",
    "    # 'Date': Data da observação\n",
    "    # 'Prediction': Previsão do modelo (1 para alta, 0 para baixa)\n",
    "\n",
    "    y_pred = model.predict(X)\n",
    "\n",
    "    df[\"Prediction\"] = y_pred\n",
    "\n",
    "    # Inicializando variáveis\n",
    "   # Capital inicial para investimento\n",
    "    capital = capital_inicial\n",
    "    posicao = 0  # Quantidade de ações que possuímos\n",
    "\n",
    "    # Iterando sobre cada linha do dataset\n",
    "    for i in range(0, len(df)):\n",
    "        if df['Prediction'].iloc[i] == 1:  # Previsão de alta\n",
    "            # Comprar ações se tivermos capital\n",
    "            if capital >= df['Close'].iloc[i]:\n",
    "                acoes_compradas = np.floor(capital) // np.ceil(df[\"Close\"].iloc[i])\n",
    "                capital -= acoes_compradas * df[\"Close\"].iloc[i]\n",
    "                posicao += acoes_compradas\n",
    "        elif df['Prediction'].iloc[i] == 0:  # Previsão de baixa\n",
    "            # Vender todas as ações se tivermos alguma\n",
    "            if posicao > 0:\n",
    "                capital += posicao * df[\"Close\"].iloc[i]\n",
    "                posicao = 0\n",
    "\n",
    "    # Valor final considerando o valor das ações restantes\n",
    "    valor_final = capital + posicao * df['Close'].iloc[len(df) - 1]\n",
    "\n",
    "    # Calculando o retorno\n",
    "    retorno = (valor_final - capital_inicial) / capital_inicial * 100\n",
    "    print(f\"Retorno: {retorno:.2f}%\")"
   ]
  },
  {
   "cell_type": "markdown",
   "metadata": {},
   "source": [
    "# Importando dados"
   ]
  },
  {
   "cell_type": "code",
   "execution_count": 6,
   "metadata": {},
   "outputs": [],
   "source": [
    "PATH_PETR4_TABULAR_TRAIN = 'FinalDatasets/PETR4/PETR4_tabular_train.csv'\n",
    "PATH_PETR4_TABULAR_TEST = 'FinalDatasets/PETR4/PETR4_tabular_test.csv'\n",
    "\n",
    "# PETR4\n",
    "df_petr4_train = pd.read_csv(PATH_PETR4_TABULAR_TRAIN)\n",
    "df_petr4_test = pd.read_csv(PATH_PETR4_TABULAR_TEST)\n",
    "\n",
    "X_petr4_train = df_petr4_train.drop(['hasRise', 'Date'], axis='columns')\n",
    "y_petr4_train = df_petr4_train['hasRise']\n",
    "\n",
    "X_petr4_test = df_petr4_test.drop(['hasRise', 'Date'], axis='columns')\n",
    "y_petr4_test = df_petr4_test['hasRise']"
   ]
  },
  {
   "cell_type": "code",
   "execution_count": 7,
   "metadata": {},
   "outputs": [],
   "source": [
    "PATH_VALE3_TABULAR_TRAIN = 'FinalDatasets/VALE3/VALE3_tabular_train.csv'\n",
    "PATH_VALE3_TABULAR_TEST = 'FinalDatasets/VALE3/VALE3_tabular_test.csv'\n",
    "\n",
    "# vale3\n",
    "df_vale3_train = pd.read_csv(PATH_VALE3_TABULAR_TRAIN)\n",
    "df_vale3_test = pd.read_csv(PATH_VALE3_TABULAR_TEST)\n",
    "\n",
    "X_vale3_train = df_vale3_train.drop(['hasRise', 'Date'], axis='columns')\n",
    "y_vale3_train = df_vale3_train['hasRise']\n",
    "\n",
    "X_vale3_test = df_vale3_test.drop(['hasRise', 'Date'], axis='columns')\n",
    "y_vale3_test = df_vale3_test['hasRise']"
   ]
  },
  {
   "cell_type": "markdown",
   "metadata": {},
   "source": [
    "# Modelagem: Regressão Logística"
   ]
  },
  {
   "cell_type": "markdown",
   "metadata": {},
   "source": [
    "**Preparando função para registrar experimentos com MLFlow**"
   ]
  },
  {
   "cell_type": "code",
   "execution_count": 5,
   "metadata": {},
   "outputs": [],
   "source": [
    "def mlflow_callback(study, trial):\n",
    "    with mlflow.start_run(nested=True):\n",
    "        mlflow.log_params(trial.params)\n",
    "        mlflow.log_metric(\"accuracy\", trial.value)"
   ]
  },
  {
   "cell_type": "code",
   "execution_count": 6,
   "metadata": {},
   "outputs": [],
   "source": [
    "def plot_confusion_matrix(y_true, y_pred):\n",
    "    cm = confusion_matrix(y_true, y_pred)\n",
    "\n",
    "    # Plotar a matriz de confusão\n",
    "    plt.figure(figsize=(8, 6))\n",
    "    sns.heatmap(cm, annot=True, fmt='d', cmap='Blues', cbar=False)\n",
    "\n",
    "    # Nomear os eixos\n",
    "    plt.xlabel('Predito', fontsize=14)\n",
    "    plt.ylabel('Verdadeiro', fontsize=14)\n",
    "\n",
    "    # Adicionar rótulos dos eixos X e Y\n",
    "    plt.xticks([0.5, 1.5], ['Classe 0', 'Classe 1'])\n",
    "    plt.yticks([0.5, 1.5], ['Classe 0', 'Classe 1'])\n",
    "\n",
    "    # Adicionar título\n",
    "    plt.title('Matriz de Confusão', fontsize=16)\n",
    "\n",
    "    # Exibir o gráfico\n",
    "    plt.show()"
   ]
  },
  {
   "cell_type": "code",
   "execution_count": 7,
   "metadata": {},
   "outputs": [],
   "source": [
    "# def print_metrics(y_true, y_pred):\n",
    "#     cm = confusion_matrix(y_true, y_pred)\n",
    "\n",
    "#     # Plotar a matriz de confusão\n",
    "#     plt.figure(figsize=(8, 6))\n",
    "#     sns.heatmap(cm, annot=True, fmt='d', cmap='Blues', cbar=False)\n",
    "\n",
    "#     # Nomear os eixos\n",
    "#     plt.xlabel('Predito', fontsize=14)\n",
    "#     plt.ylabel('Verdadeiro', fontsize=14)\n",
    "\n",
    "#     # Adicionar rótulos dos eixos X e Y\n",
    "#     plt.xticks([0.5, 1.5], ['Classe 0', 'Classe 1'])\n",
    "#     plt.yticks([0.5, 1.5], ['Classe 0', 'Classe 1'])\n",
    "\n",
    "#     # Adicionar título\n",
    "#     plt.title('Matriz de Confusão', fontsize=16)\n",
    "\n",
    "#     # Exibir o gráfico\n",
    "#     plt.show()"
   ]
  },
  {
   "cell_type": "markdown",
   "metadata": {},
   "source": [
    "## VALE3"
   ]
  },
  {
   "cell_type": "markdown",
   "metadata": {},
   "source": [
    "Observando a quantidade de eventos no conjunto de treino/validação e teste. Podemos concluir que os modelos, por serem treinados com um dataset levemente desbalanceado, possuem maior viés para indicar a predição positiva `hasRise=1`, devido que, em geral, "
   ]
  },
  {
   "cell_type": "code",
   "execution_count": 8,
   "metadata": {},
   "outputs": [
    {
     "data": {
      "text/plain": [
       "hasRise\n",
       "0    0.503979\n",
       "1    0.496021\n",
       "Name: proportion, dtype: float64"
      ]
     },
     "execution_count": 8,
     "metadata": {},
     "output_type": "execute_result"
    }
   ],
   "source": [
    "y_vale3_train.value_counts(normalize=True)"
   ]
  },
  {
   "cell_type": "code",
   "execution_count": 9,
   "metadata": {},
   "outputs": [
    {
     "data": {
      "text/plain": [
       "hasRise\n",
       "0    0.581967\n",
       "1    0.418033\n",
       "Name: proportion, dtype: float64"
      ]
     },
     "execution_count": 9,
     "metadata": {},
     "output_type": "execute_result"
    }
   ],
   "source": [
    "y_vale3_test.value_counts(normalize=True)"
   ]
  },
  {
   "cell_type": "code",
   "execution_count": 18,
   "metadata": {},
   "outputs": [],
   "source": [
    "def objective(trial):\n",
    "    # Definir o espaço de busca dos hiperparâmetros\n",
    "    param = {\n",
    "        'solver': 'liblinear',\n",
    "        'random_state': RANDOM_SEED,\n",
    "        'C': trial.suggest_float('C', 1e-4, 1e2, log=True), # INVERSO do termo de regularização\n",
    "        'tol': trial.suggest_float('tol', 1e-6, 1e-1, log=True),\n",
    "        'penalty' : trial.suggest_categorical('penalty', ['l1', 'l2'])\n",
    "    }\n",
    "    \n",
    "    # Configurando o KFold\n",
    "    kf = KFold(n_splits=5, shuffle=True, random_state=RANDOM_SEED)\n",
    "    \n",
    "    # Inicializando o modelo XGBoost\n",
    "    model = LogisticRegression(**param)\n",
    "    \n",
    "    # Realizando a validação cruzada\n",
    "    scores = cross_val_score(model, X_vale3_train, y_vale3_train, cv=kf, scoring='accuracy')\n",
    "    \n",
    "    # Retornando a média dos scores como objetivo a ser minimizado\n",
    "    return np.mean(scores)"
   ]
  },
  {
   "cell_type": "code",
   "execution_count": 19,
   "metadata": {},
   "outputs": [
    {
     "name": "stderr",
     "output_type": "stream",
     "text": [
      "[I 2024-07-11 18:58:34,436] A new study created in memory with name: no-name-d64cb879-63dc-4f3b-8191-7e0e43a021a5\n",
      "[I 2024-07-11 18:58:34,456] Trial 0 finished with value: 0.4959999999999999 and parameters: {'C': 0.6534045399308419, 'tol': 0.008071598186343893, 'penalty': 'l1'}. Best is trial 0 with value: 0.4959999999999999.\n",
      "[I 2024-07-11 18:58:34,540] Trial 1 finished with value: 0.5383508771929825 and parameters: {'C': 2.460397118747197, 'tol': 0.00035217807640948375, 'penalty': 'l1'}. Best is trial 1 with value: 0.5383508771929825.\n",
      "[I 2024-07-11 18:58:34,560] Trial 2 finished with value: 0.4802456140350878 and parameters: {'C': 0.007141339009584146, 'tol': 8.497419848312992e-06, 'penalty': 'l2'}. Best is trial 1 with value: 0.5383508771929825.\n",
      "[I 2024-07-11 18:58:34,581] Trial 3 finished with value: 0.5331228070175439 and parameters: {'C': 4.2818579466583975, 'tol': 0.08876497403405141, 'penalty': 'l2'}. Best is trial 1 with value: 0.5383508771929825.\n",
      "[I 2024-07-11 18:58:34,600] Trial 4 finished with value: 0.5225964912280702 and parameters: {'C': 0.00022836818593018204, 'tol': 1.1873020099035413e-06, 'penalty': 'l2'}. Best is trial 1 with value: 0.5383508771929825.\n",
      "[I 2024-07-11 18:58:34,894] Trial 5 finished with value: 0.5171929824561403 and parameters: {'C': 12.704640169673917, 'tol': 8.180824406435e-05, 'penalty': 'l1'}. Best is trial 1 with value: 0.5383508771929825.\n",
      "[I 2024-07-11 18:58:34,919] Trial 6 finished with value: 0.5038596491228071 and parameters: {'C': 0.00046707196667731285, 'tol': 0.0016005848233997665, 'penalty': 'l1'}. Best is trial 1 with value: 0.5383508771929825.\n",
      "[I 2024-07-11 18:58:35,293] Trial 7 finished with value: 0.5091929824561403 and parameters: {'C': 64.53981608040012, 'tol': 0.00010664788495108584, 'penalty': 'l1'}. Best is trial 1 with value: 0.5383508771929825.\n",
      "[I 2024-07-11 18:58:35,313] Trial 8 finished with value: 0.5067368421052632 and parameters: {'C': 0.0014706674462261094, 'tol': 0.00024812833139466845, 'penalty': 'l2'}. Best is trial 1 with value: 0.5383508771929825.\n",
      "[I 2024-07-11 18:58:35,333] Trial 9 finished with value: 0.5067017543859649 and parameters: {'C': 0.0013117471386012661, 'tol': 7.140529666706962e-06, 'penalty': 'l2'}. Best is trial 1 with value: 0.5383508771929825.\n",
      "[I 2024-07-11 18:58:35,356] Trial 10 finished with value: 0.5119298245614036 and parameters: {'C': 0.07381896250357126, 'tol': 0.0030064628367571598, 'penalty': 'l1'}. Best is trial 1 with value: 0.5383508771929825.\n",
      "[I 2024-07-11 18:58:35,382] Trial 11 finished with value: 0.5331228070175438 and parameters: {'C': 2.1331948802055543, 'tol': 0.09277627266001698, 'penalty': 'l2'}. Best is trial 1 with value: 0.5383508771929825.\n",
      "[I 2024-07-11 18:58:35,407] Trial 12 finished with value: 0.5330175438596492 and parameters: {'C': 0.6003958984476949, 'tol': 0.09833855254839839, 'penalty': 'l2'}. Best is trial 1 with value: 0.5383508771929825.\n",
      "[I 2024-07-11 18:58:35,448] Trial 13 finished with value: 0.5278245614035088 and parameters: {'C': 6.690856362735673, 'tol': 0.013214524662511837, 'penalty': 'l1'}. Best is trial 1 with value: 0.5383508771929825.\n",
      "[I 2024-07-11 18:58:35,473] Trial 14 finished with value: 0.5040000000000001 and parameters: {'C': 0.11509939974733188, 'tol': 0.0006872553344330362, 'penalty': 'l1'}. Best is trial 1 with value: 0.5383508771929825.\n",
      "[I 2024-07-11 18:58:35,505] Trial 15 finished with value: 0.5198245614035089 and parameters: {'C': 97.58394707035359, 'tol': 0.022509631008172697, 'penalty': 'l2'}. Best is trial 1 with value: 0.5383508771929825.\n",
      "[I 2024-07-11 18:58:35,807] Trial 16 finished with value: 0.5277894736842106 and parameters: {'C': 9.103945001531294, 'tol': 5.593998683539714e-05, 'penalty': 'l1'}. Best is trial 1 with value: 0.5383508771929825.\n",
      "[I 2024-07-11 18:58:35,835] Trial 17 finished with value: 0.493298245614035 and parameters: {'C': 0.07659488153562588, 'tol': 2.8690683885873006e-05, 'penalty': 'l2'}. Best is trial 1 with value: 0.5383508771929825.\n",
      "[I 2024-07-11 18:58:35,867] Trial 18 finished with value: 0.49870175438596487 and parameters: {'C': 0.624362936831793, 'tol': 0.0008611882536032028, 'penalty': 'l1'}. Best is trial 1 with value: 0.5383508771929825.\n",
      "[I 2024-07-11 18:58:35,910] Trial 19 finished with value: 0.5384561403508772 and parameters: {'C': 3.118169009043654, 'tol': 1.2234207361368336e-06, 'penalty': 'l2'}. Best is trial 19 with value: 0.5384561403508772.\n",
      "[I 2024-07-11 18:58:35,932] Trial 20 finished with value: 0.5038596491228071 and parameters: {'C': 0.01256127701907199, 'tol': 3.247637645495234e-06, 'penalty': 'l1'}. Best is trial 19 with value: 0.5384561403508772.\n",
      "[I 2024-07-11 18:58:35,973] Trial 21 finished with value: 0.5358245614035088 and parameters: {'C': 2.6112703335575382, 'tol': 2.3271685995461656e-05, 'penalty': 'l2'}. Best is trial 19 with value: 0.5384561403508772.\n",
      "[I 2024-07-11 18:58:36,022] Trial 22 finished with value: 0.5118947368421053 and parameters: {'C': 24.0712249764921, 'tol': 1.568143535853724e-05, 'penalty': 'l2'}. Best is trial 19 with value: 0.5384561403508772.\n",
      "[I 2024-07-11 18:58:36,061] Trial 23 finished with value: 0.5331578947368422 and parameters: {'C': 1.663713636083249, 'tol': 1.7228842468581048e-06, 'penalty': 'l2'}. Best is trial 19 with value: 0.5384561403508772.\n",
      "[I 2024-07-11 18:58:36,096] Trial 24 finished with value: 0.5038245614035087 and parameters: {'C': 0.20498349563447754, 'tol': 0.00021209592991603267, 'penalty': 'l2'}. Best is trial 19 with value: 0.5384561403508772.\n",
      "[I 2024-07-11 18:58:36,136] Trial 25 finished with value: 0.5331578947368422 and parameters: {'C': 1.8848521195562549, 'tol': 3.918740653918572e-06, 'penalty': 'l2'}. Best is trial 19 with value: 0.5384561403508772.\n",
      "[I 2024-07-11 18:58:36,182] Trial 26 finished with value: 0.5198245614035089 and parameters: {'C': 39.795862605013056, 'tol': 3.552439903733577e-05, 'penalty': 'l2'}. Best is trial 19 with value: 0.5384561403508772.\n",
      "[I 2024-07-11 18:58:36,227] Trial 27 finished with value: 0.5118947368421053 and parameters: {'C': 16.59339752955724, 'tol': 1.72252682150612e-05, 'penalty': 'l2'}. Best is trial 19 with value: 0.5384561403508772.\n",
      "[I 2024-07-11 18:58:36,249] Trial 28 finished with value: 0.5038596491228071 and parameters: {'C': 0.03202666894217603, 'tol': 0.0005588057171494716, 'penalty': 'l1'}. Best is trial 19 with value: 0.5384561403508772.\n",
      "[I 2024-07-11 18:58:36,275] Trial 29 finished with value: 0.49866666666666665 and parameters: {'C': 0.3687559937152469, 'tol': 0.0042856099155138315, 'penalty': 'l1'}. Best is trial 19 with value: 0.5384561403508772.\n",
      "[I 2024-07-11 18:58:36,311] Trial 30 finished with value: 0.5384561403508772 and parameters: {'C': 3.5046975503622537, 'tol': 0.0001595699798203605, 'penalty': 'l2'}. Best is trial 19 with value: 0.5384561403508772.\n",
      "[I 2024-07-11 18:58:36,349] Trial 31 finished with value: 0.5384561403508772 and parameters: {'C': 3.3907321405931077, 'tol': 0.00013405313487106234, 'penalty': 'l2'}. Best is trial 19 with value: 0.5384561403508772.\n",
      "[I 2024-07-11 18:58:36,383] Trial 32 finished with value: 0.5384210526315789 and parameters: {'C': 1.0245820452198444, 'tol': 0.00018477874097894807, 'penalty': 'l2'}. Best is trial 19 with value: 0.5384561403508772.\n",
      "[I 2024-07-11 18:58:36,416] Trial 33 finished with value: 0.5331228070175439 and parameters: {'C': 1.3177420266306716, 'tol': 0.0002732782731625946, 'penalty': 'l2'}. Best is trial 19 with value: 0.5384561403508772.\n",
      "[I 2024-07-11 18:58:36,456] Trial 34 finished with value: 0.5331578947368422 and parameters: {'C': 4.966817865737215, 'tol': 0.00013013106465866982, 'penalty': 'l2'}. Best is trial 19 with value: 0.5384561403508772.\n",
      "[I 2024-07-11 18:58:36,484] Trial 35 finished with value: 0.5117543859649123 and parameters: {'C': 0.2966416506151561, 'tol': 0.001434523539270747, 'penalty': 'l2'}. Best is trial 19 with value: 0.5384561403508772.\n",
      "[I 2024-07-11 18:58:36,518] Trial 36 finished with value: 0.527719298245614 and parameters: {'C': 0.7923176217466691, 'tol': 5.3208642427309384e-05, 'penalty': 'l2'}. Best is trial 19 with value: 0.5384561403508772.\n",
      "[I 2024-07-11 18:58:36,555] Trial 37 finished with value: 0.5331228070175439 and parameters: {'C': 4.162150547389748, 'tol': 0.0001863546970288277, 'penalty': 'l2'}. Best is trial 19 with value: 0.5384561403508772.\n",
      "[I 2024-07-11 18:58:36,595] Trial 38 finished with value: 0.5118947368421053 and parameters: {'C': 21.117353420215302, 'tol': 0.00044652739386521513, 'penalty': 'l2'}. Best is trial 19 with value: 0.5384561403508772.\n",
      "[I 2024-07-11 18:58:36,630] Trial 39 finished with value: 0.5357192982456139 and parameters: {'C': 0.9102635413423831, 'tol': 7.114413292071426e-06, 'penalty': 'l2'}. Best is trial 19 with value: 0.5384561403508772.\n",
      "[I 2024-07-11 18:58:36,662] Trial 40 finished with value: 0.5224912280701755 and parameters: {'C': 8.369198007366766, 'tol': 0.0372429905619102, 'penalty': 'l2'}. Best is trial 19 with value: 0.5384561403508772.\n",
      "[I 2024-07-11 18:58:36,699] Trial 41 finished with value: 0.5358245614035088 and parameters: {'C': 2.930189976813591, 'tol': 7.457469544795528e-05, 'penalty': 'l2'}. Best is trial 19 with value: 0.5384561403508772.\n",
      "[I 2024-07-11 18:58:36,733] Trial 42 finished with value: 0.5357894736842105 and parameters: {'C': 3.650320650380547, 'tol': 0.0012669496529988614, 'penalty': 'l2'}. Best is trial 19 with value: 0.5384561403508772.\n",
      "[I 2024-07-11 18:58:37,053] Trial 43 finished with value: 0.511859649122807 and parameters: {'C': 36.51793715745845, 'tol': 0.0001317163826065637, 'penalty': 'l1'}. Best is trial 19 with value: 0.5384561403508772.\n",
      "[I 2024-07-11 18:58:37,086] Trial 44 finished with value: 0.5357894736842106 and parameters: {'C': 1.1769569924886563, 'tol': 0.0027285372234211597, 'penalty': 'l2'}. Best is trial 19 with value: 0.5384561403508772.\n",
      "[I 2024-07-11 18:58:37,262] Trial 45 finished with value: 0.5224561403508772 and parameters: {'C': 10.45774801368976, 'tol': 0.00039317332333486845, 'penalty': 'l1'}. Best is trial 19 with value: 0.5384561403508772.\n",
      "[I 2024-07-11 18:58:37,289] Trial 46 finished with value: 0.5011929824561403 and parameters: {'C': 0.17687037384951756, 'tol': 0.006606835546404439, 'penalty': 'l2'}. Best is trial 19 with value: 0.5384561403508772.\n",
      "[I 2024-07-11 18:58:37,323] Trial 47 finished with value: 0.519719298245614 and parameters: {'C': 0.3866253224938264, 'tol': 1.075274559716081e-06, 'penalty': 'l2'}. Best is trial 19 with value: 0.5384561403508772.\n",
      "[I 2024-07-11 18:58:37,520] Trial 48 finished with value: 0.5304561403508772 and parameters: {'C': 5.608598118048204, 'tol': 8.130723450919545e-05, 'penalty': 'l1'}. Best is trial 19 with value: 0.5384561403508772.\n",
      "[I 2024-07-11 18:58:37,558] Trial 49 finished with value: 0.5171929824561403 and parameters: {'C': 13.459288719408478, 'tol': 0.0009392613483060374, 'penalty': 'l2'}. Best is trial 19 with value: 0.5384561403508772.\n",
      "[I 2024-07-11 18:58:37,593] Trial 50 finished with value: 0.5435789473684209 and parameters: {'C': 1.6832408846247138, 'tol': 0.0023398616259380804, 'penalty': 'l1'}. Best is trial 50 with value: 0.5435789473684209.\n",
      "[I 2024-07-11 18:58:37,631] Trial 51 finished with value: 0.5515438596491228 and parameters: {'C': 2.1287345649703826, 'tol': 0.0028217882162796305, 'penalty': 'l1'}. Best is trial 51 with value: 0.5515438596491228.\n",
      "[I 2024-07-11 18:58:37,656] Trial 52 finished with value: 0.5038596491228071 and parameters: {'C': 0.00011577999574809519, 'tol': 0.006474710522468804, 'penalty': 'l1'}. Best is trial 51 with value: 0.5515438596491228.\n",
      "[I 2024-07-11 18:58:37,692] Trial 53 finished with value: 0.5488421052631579 and parameters: {'C': 1.8425676710210876, 'tol': 0.002357712822864634, 'penalty': 'l1'}. Best is trial 51 with value: 0.5515438596491228.\n",
      "[I 2024-07-11 18:58:37,732] Trial 54 finished with value: 0.5436491228070175 and parameters: {'C': 2.3468588964621766, 'tol': 0.00231886103061578, 'penalty': 'l1'}. Best is trial 51 with value: 0.5515438596491228.\n",
      "[I 2024-07-11 18:58:37,759] Trial 55 finished with value: 0.5066315789473684 and parameters: {'C': 0.4664999323228881, 'tol': 0.01202445759483907, 'penalty': 'l1'}. Best is trial 51 with value: 0.5515438596491228.\n",
      "[I 2024-07-11 18:58:37,799] Trial 56 finished with value: 0.5436491228070175 and parameters: {'C': 2.40624143554013, 'tol': 0.002511695553386615, 'penalty': 'l1'}. Best is trial 51 with value: 0.5515438596491228.\n",
      "[I 2024-07-11 18:58:37,837] Trial 57 finished with value: 0.5515438596491228 and parameters: {'C': 2.12118432600529, 'tol': 0.0024769308048002607, 'penalty': 'l1'}. Best is trial 51 with value: 0.5515438596491228.\n",
      "[I 2024-07-11 18:58:37,875] Trial 58 finished with value: 0.5488421052631579 and parameters: {'C': 1.9245523203178403, 'tol': 0.0025621314471744824, 'penalty': 'l1'}. Best is trial 51 with value: 0.5515438596491228.\n",
      "[I 2024-07-11 18:58:37,897] Trial 59 finished with value: 0.5038596491228071 and parameters: {'C': 0.03834154678704505, 'tol': 0.004783911016418593, 'penalty': 'l1'}. Best is trial 51 with value: 0.5515438596491228.\n",
      "[I 2024-07-11 18:58:37,927] Trial 60 finished with value: 0.49866666666666665 and parameters: {'C': 0.6510085828845664, 'tol': 0.0018771593004356768, 'penalty': 'l1'}. Best is trial 51 with value: 0.5515438596491228.\n",
      "[I 2024-07-11 18:58:37,966] Trial 61 finished with value: 0.5488421052631578 and parameters: {'C': 1.8277553963893929, 'tol': 0.0023104021521340944, 'penalty': 'l1'}. Best is trial 51 with value: 0.5515438596491228.\n",
      "[I 2024-07-11 18:58:38,003] Trial 62 finished with value: 0.5488771929824561 and parameters: {'C': 2.0423598800002876, 'tol': 0.0037095058468102444, 'penalty': 'l1'}. Best is trial 51 with value: 0.5515438596491228.\n",
      "[I 2024-07-11 18:58:38,077] Trial 63 finished with value: 0.5251228070175439 and parameters: {'C': 6.9486443927293235, 'tol': 0.004005435450119625, 'penalty': 'l1'}. Best is trial 51 with value: 0.5515438596491228.\n",
      "[I 2024-07-11 18:58:38,102] Trial 64 finished with value: 0.4987368421052632 and parameters: {'C': 0.22478963241979844, 'tol': 0.012698193518946374, 'penalty': 'l1'}. Best is trial 51 with value: 0.5515438596491228.\n",
      "[I 2024-07-11 18:58:38,132] Trial 65 finished with value: 0.5436491228070175 and parameters: {'C': 1.6956876460689134, 'tol': 0.0206524148994068, 'penalty': 'l1'}. Best is trial 51 with value: 0.5515438596491228.\n",
      "[I 2024-07-11 18:58:38,157] Trial 66 finished with value: 0.5038596491228071 and parameters: {'C': 0.003946030021208251, 'tol': 0.001172932062873142, 'penalty': 'l1'}. Best is trial 51 with value: 0.5515438596491228.\n",
      "[I 2024-07-11 18:58:38,185] Trial 67 finished with value: 0.5276842105263158 and parameters: {'C': 1.2022025213710776, 'tol': 0.008719097516864754, 'penalty': 'l1'}. Best is trial 51 with value: 0.5515438596491228.\n",
      "[I 2024-07-11 18:58:38,211] Trial 68 finished with value: 0.5066315789473684 and parameters: {'C': 0.1241831890793779, 'tol': 0.0035822945317510436, 'penalty': 'l1'}. Best is trial 51 with value: 0.5515438596491228.\n",
      "[I 2024-07-11 18:58:38,239] Trial 69 finished with value: 0.48543859649122806 and parameters: {'C': 0.5459502462323332, 'tol': 0.0018679989551535368, 'penalty': 'l1'}. Best is trial 51 with value: 0.5515438596491228.\n",
      "[I 2024-07-11 18:58:38,346] Trial 70 finished with value: 0.5357894736842105 and parameters: {'C': 5.597000905086265, 'tol': 0.0008384501996537812, 'penalty': 'l1'}. Best is trial 51 with value: 0.5515438596491228.\n",
      "[I 2024-07-11 18:58:38,390] Trial 71 finished with value: 0.5515438596491228 and parameters: {'C': 2.2096077351596892, 'tol': 0.002481175124150342, 'penalty': 'l1'}. Best is trial 51 with value: 0.5515438596491228.\n",
      "[I 2024-07-11 18:58:38,424] Trial 72 finished with value: 0.5462105263157895 and parameters: {'C': 2.035236630369499, 'tol': 0.005735013535187939, 'penalty': 'l1'}. Best is trial 51 with value: 0.5515438596491228.\n",
      "[I 2024-07-11 18:58:38,452] Trial 73 finished with value: 0.5145263157894737 and parameters: {'C': 0.8270926537996918, 'tol': 0.006030377422205376, 'penalty': 'l1'}. Best is trial 51 with value: 0.5515438596491228.\n",
      "[I 2024-07-11 18:58:38,484] Trial 74 finished with value: 0.5436140350877194 and parameters: {'C': 1.477272237335415, 'tol': 0.008167458495609355, 'penalty': 'l1'}. Best is trial 51 with value: 0.5515438596491228.\n",
      "[I 2024-07-11 18:58:38,519] Trial 75 finished with value: 0.5410877192982456 and parameters: {'C': 8.968618801044334, 'tol': 0.0234730307979418, 'penalty': 'l1'}. Best is trial 51 with value: 0.5515438596491228.\n",
      "[I 2024-07-11 18:58:38,557] Trial 76 finished with value: 0.5515087719298245 and parameters: {'C': 2.0850477920794273, 'tol': 0.0033454791400319064, 'penalty': 'l1'}. Best is trial 51 with value: 0.5515438596491228.\n",
      "[I 2024-07-11 18:58:38,608] Trial 77 finished with value: 0.5331228070175438 and parameters: {'C': 3.442791009185258, 'tol': 0.0035271215940205687, 'penalty': 'l1'}. Best is trial 51 with value: 0.5515438596491228.\n",
      "[I 2024-07-11 18:58:38,714] Trial 78 finished with value: 0.5331578947368422 and parameters: {'C': 4.792548388784142, 'tol': 0.0006560284228175836, 'penalty': 'l1'}. Best is trial 51 with value: 0.5515438596491228.\n",
      "[I 2024-07-11 18:58:38,751] Trial 79 finished with value: 0.5197894736842106 and parameters: {'C': 0.9266947374714505, 'tol': 0.0015188689950022042, 'penalty': 'l1'}. Best is trial 51 with value: 0.5515438596491228.\n",
      "[I 2024-07-11 18:58:38,811] Trial 80 finished with value: 0.5251228070175439 and parameters: {'C': 20.291876145491425, 'tol': 0.010339583327688837, 'penalty': 'l1'}. Best is trial 51 with value: 0.5515438596491228.\n",
      "[I 2024-07-11 18:58:38,849] Trial 81 finished with value: 0.5541754385964912 and parameters: {'C': 2.1027144881384436, 'tol': 0.004650741239313237, 'penalty': 'l1'}. Best is trial 81 with value: 0.5541754385964912.\n",
      "[I 2024-07-11 18:58:38,890] Trial 82 finished with value: 0.5489122807017544 and parameters: {'C': 2.2557527468933998, 'tol': 0.0032143927373414804, 'penalty': 'l1'}. Best is trial 81 with value: 0.5541754385964912.\n",
      "[I 2024-07-11 18:58:38,922] Trial 83 finished with value: 0.5436491228070175 and parameters: {'C': 2.5868980290155137, 'tol': 0.01654172345921624, 'penalty': 'l1'}. Best is trial 81 with value: 0.5541754385964912.\n",
      "[I 2024-07-11 18:58:38,996] Trial 84 finished with value: 0.5277894736842106 and parameters: {'C': 6.592140043965243, 'tol': 0.003213062918755016, 'penalty': 'l1'}. Best is trial 81 with value: 0.5541754385964912.\n",
      "[I 2024-07-11 18:58:39,028] Trial 85 finished with value: 0.5276842105263158 and parameters: {'C': 1.214126595398939, 'tol': 0.004711115954285061, 'penalty': 'l1'}. Best is trial 81 with value: 0.5541754385964912.\n",
      "[I 2024-07-11 18:58:39,056] Trial 86 finished with value: 0.48533333333333334 and parameters: {'C': 0.2857996150592574, 'tol': 0.001775484783153614, 'penalty': 'l1'}. Best is trial 81 with value: 0.5541754385964912.\n",
      "[I 2024-07-11 18:58:39,225] Trial 87 finished with value: 0.5171929824561403 and parameters: {'C': 13.794892651880865, 'tol': 0.0010228331424197083, 'penalty': 'l1'}. Best is trial 81 with value: 0.5541754385964912.\n",
      "[I 2024-07-11 18:58:39,252] Trial 88 finished with value: 0.4959999999999999 and parameters: {'C': 0.7013826953283482, 'tol': 0.035059318866352315, 'penalty': 'l1'}. Best is trial 81 with value: 0.5541754385964912.\n",
      "[I 2024-07-11 18:58:39,301] Trial 89 finished with value: 0.5304912280701755 and parameters: {'C': 4.18364016909215, 'tol': 0.005145677400407927, 'penalty': 'l1'}. Best is trial 81 with value: 0.5541754385964912.\n",
      "[I 2024-07-11 18:58:39,331] Trial 90 finished with value: 0.5039298245614034 and parameters: {'C': 0.45869303798249217, 'tol': 0.0005431494093715639, 'penalty': 'l1'}. Best is trial 81 with value: 0.5541754385964912.\n",
      "[I 2024-07-11 18:58:39,368] Trial 91 finished with value: 0.5515087719298245 and parameters: {'C': 1.8212815029505744, 'tol': 0.0028935799532287428, 'penalty': 'l1'}. Best is trial 81 with value: 0.5541754385964912.\n",
      "[I 2024-07-11 18:58:39,414] Trial 92 finished with value: 0.5410526315789472 and parameters: {'C': 2.9950944818606953, 'tol': 0.002849317338442708, 'penalty': 'l1'}. Best is trial 81 with value: 0.5541754385964912.\n",
      "[I 2024-07-11 18:58:39,450] Trial 93 finished with value: 0.5382807017543859 and parameters: {'C': 1.3980689771829486, 'tol': 0.001445727148338749, 'penalty': 'l1'}. Best is trial 81 with value: 0.5541754385964912.\n",
      "[I 2024-07-11 18:58:39,485] Trial 94 finished with value: 0.5462105263157895 and parameters: {'C': 2.1673229270796774, 'tol': 0.007303100895472457, 'penalty': 'l1'}. Best is trial 81 with value: 0.5541754385964912.\n",
      "[I 2024-07-11 18:58:39,516] Trial 95 finished with value: 0.5223859649122807 and parameters: {'C': 1.028818841320497, 'tol': 0.004074613509727061, 'penalty': 'l1'}. Best is trial 81 with value: 0.5541754385964912.\n",
      "[I 2024-07-11 18:58:39,573] Trial 96 finished with value: 0.5278245614035088 and parameters: {'C': 3.965524926995016, 'tol': 0.0018975460779101481, 'penalty': 'l1'}. Best is trial 81 with value: 0.5541754385964912.\n",
      "[I 2024-07-11 18:58:39,616] Trial 97 finished with value: 0.5383508771929825 and parameters: {'C': 2.7072611982546655, 'tol': 0.0031126292394784, 'penalty': 'l1'}. Best is trial 81 with value: 0.5541754385964912.\n",
      "[I 2024-07-11 18:58:39,665] Trial 98 finished with value: 0.5251578947368422 and parameters: {'C': 10.38691210844039, 'tol': 0.009256088986068504, 'penalty': 'l1'}. Best is trial 81 with value: 0.5541754385964912.\n",
      "[I 2024-07-11 18:58:39,787] Trial 99 finished with value: 0.5277543859649123 and parameters: {'C': 6.993647676236152, 'tol': 0.001149713486131337, 'penalty': 'l1'}. Best is trial 81 with value: 0.5541754385964912.\n",
      "[I 2024-07-11 18:58:39,823] Trial 100 finished with value: 0.5515087719298245 and parameters: {'C': 1.7446844149245386, 'tol': 0.0020368501341521744, 'penalty': 'l1'}. Best is trial 81 with value: 0.5541754385964912.\n",
      "[I 2024-07-11 18:58:39,859] Trial 101 finished with value: 0.5409122807017543 and parameters: {'C': 1.6663363719573192, 'tol': 0.0026481454619249325, 'penalty': 'l1'}. Best is trial 81 with value: 0.5541754385964912.\n",
      "[I 2024-07-11 18:58:39,888] Trial 102 finished with value: 0.5066666666666666 and parameters: {'C': 0.7479046600365107, 'tol': 0.004468669667001388, 'penalty': 'l1'}. Best is trial 81 with value: 0.5541754385964912.\n",
      "[I 2024-07-11 18:58:39,938] Trial 103 finished with value: 0.5515438596491228 and parameters: {'C': 2.2208166592028915, 'tol': 0.0007945118785569391, 'penalty': 'l1'}. Best is trial 81 with value: 0.5541754385964912.\n",
      "[I 2024-07-11 18:58:40,042] Trial 104 finished with value: 0.5331578947368422 and parameters: {'C': 5.1876796421606155, 'tol': 0.0008023740680508291, 'penalty': 'l1'}. Best is trial 81 with value: 0.5541754385964912.\n",
      "[I 2024-07-11 18:58:40,080] Trial 105 finished with value: 0.5356491228070175 and parameters: {'C': 1.2789695168488993, 'tol': 0.0020094816605193797, 'penalty': 'l1'}. Best is trial 81 with value: 0.5541754385964912.\n",
      "[I 2024-07-11 18:58:40,180] Trial 106 finished with value: 0.5304561403508772 and parameters: {'C': 3.307173531692913, 'tol': 0.0003373858798240511, 'penalty': 'l1'}. Best is trial 81 with value: 0.5541754385964912.\n",
      "[I 2024-07-11 18:58:40,235] Trial 107 finished with value: 0.5515438596491228 and parameters: {'C': 2.2579704462148054, 'tol': 0.0011999088078598022, 'penalty': 'l1'}. Best is trial 81 with value: 0.5541754385964912.\n",
      "[I 2024-07-11 18:58:40,284] Trial 108 finished with value: 0.5436491228070175 and parameters: {'C': 2.365280175194636, 'tol': 0.0013164434567529426, 'penalty': 'l1'}. Best is trial 81 with value: 0.5541754385964912.\n",
      "[I 2024-07-11 18:58:40,318] Trial 109 finished with value: 0.5197894736842106 and parameters: {'C': 0.946093110732063, 'tol': 0.000681110962716262, 'penalty': 'l1'}. Best is trial 81 with value: 0.5541754385964912.\n",
      "[I 2024-07-11 18:58:40,349] Trial 110 finished with value: 0.48807017543859643 and parameters: {'C': 0.5600510041999064, 'tol': 0.0005077069091400789, 'penalty': 'l1'}. Best is trial 81 with value: 0.5541754385964912.\n",
      "[I 2024-07-11 18:58:40,382] Trial 111 finished with value: 0.5383157894736842 and parameters: {'C': 1.5021221891400234, 'tol': 0.003521007768987481, 'penalty': 'l1'}. Best is trial 81 with value: 0.5541754385964912.\n",
      "[I 2024-07-11 18:58:40,420] Trial 112 finished with value: 0.5541754385964912 and parameters: {'C': 2.0330720948118777, 'tol': 0.002106434209941639, 'penalty': 'l1'}. Best is trial 81 with value: 0.5541754385964912.\n",
      "[I 2024-07-11 18:58:40,450] Trial 113 finished with value: 0.5038596491228071 and parameters: {'C': 0.0005227908236824888, 'tol': 0.005337469229685837, 'penalty': 'l1'}. Best is trial 81 with value: 0.5541754385964912.\n",
      "[I 2024-07-11 18:58:40,506] Trial 114 finished with value: 0.5384210526315789 and parameters: {'C': 3.0689480204998385, 'tol': 0.0017525142420055425, 'penalty': 'l1'}. Best is trial 81 with value: 0.5541754385964912.\n",
      "[I 2024-07-11 18:58:40,553] Trial 115 finished with value: 0.5488771929824561 and parameters: {'C': 2.1530373696454923, 'tol': 0.0009742132570880094, 'penalty': 'l1'}. Best is trial 81 with value: 0.5541754385964912.\n",
      "[I 2024-07-11 18:58:40,622] Trial 116 finished with value: 0.5278245614035088 and parameters: {'C': 4.070265152290346, 'tol': 0.0013155910915858822, 'penalty': 'l1'}. Best is trial 81 with value: 0.5541754385964912.\n",
      "[I 2024-07-11 18:58:40,654] Trial 117 finished with value: 0.5250526315789473 and parameters: {'C': 1.1163693437055904, 'tol': 0.0029933605843739087, 'penalty': 'l1'}. Best is trial 81 with value: 0.5541754385964912.\n",
      "[I 2024-07-11 18:58:40,741] Trial 118 finished with value: 0.5251228070175439 and parameters: {'C': 6.998716180112746, 'tol': 0.00221327204734193, 'penalty': 'l1'}. Best is trial 81 with value: 0.5541754385964912.\n",
      "[I 2024-07-11 18:58:40,784] Trial 119 finished with value: 0.5304912280701755 and parameters: {'C': 4.824988971706628, 'tol': 0.006692521946548699, 'penalty': 'l1'}. Best is trial 81 with value: 0.5541754385964912.\n",
      "[I 2024-07-11 18:58:40,819] Trial 120 finished with value: 0.5383157894736842 and parameters: {'C': 1.496260022018393, 'tol': 0.0016405587556309028, 'penalty': 'l1'}. Best is trial 81 with value: 0.5541754385964912.\n",
      "[I 2024-07-11 18:58:40,865] Trial 121 finished with value: 0.5515438596491228 and parameters: {'C': 1.9734030290863889, 'tol': 0.0009162078389802463, 'penalty': 'l1'}. Best is trial 81 with value: 0.5541754385964912.\n",
      "[I 2024-07-11 18:58:40,906] Trial 122 finished with value: 0.5409824561403509 and parameters: {'C': 2.6831094623429186, 'tol': 0.004025408850782422, 'penalty': 'l1'}. Best is trial 81 with value: 0.5541754385964912.\n",
      "[I 2024-07-11 18:58:40,952] Trial 123 finished with value: 0.5541754385964912 and parameters: {'C': 1.9254233129202873, 'tol': 0.0007652593186669056, 'penalty': 'l1'}. Best is trial 81 with value: 0.5541754385964912.\n",
      "[I 2024-07-11 18:58:40,985] Trial 124 finished with value: 0.5197894736842106 and parameters: {'C': 0.9123785831001839, 'tol': 0.0004511080225245481, 'penalty': 'l1'}. Best is trial 81 with value: 0.5541754385964912.\n",
      "[I 2024-07-11 18:58:41,066] Trial 125 finished with value: 0.5304561403508772 and parameters: {'C': 3.4712346882445377, 'tol': 0.00099035454360333, 'penalty': 'l1'}. Best is trial 81 with value: 0.5541754385964912.\n",
      "[I 2024-07-11 18:58:41,111] Trial 126 finished with value: 0.5515087719298245 and parameters: {'C': 1.856015527344168, 'tol': 0.0007272803441571945, 'penalty': 'l1'}. Best is trial 81 with value: 0.5541754385964912.\n",
      "[I 2024-07-11 18:58:41,177] Trial 127 finished with value: 0.504 and parameters: {'C': 0.7049730823497294, 'tol': 0.0006325093020194768, 'penalty': 'l1'}. Best is trial 81 with value: 0.5541754385964912.\n",
      "[I 2024-07-11 18:58:41,246] Trial 128 finished with value: 0.5435438596491228 and parameters: {'C': 1.703734027285502, 'tol': 0.0002776382922521417, 'penalty': 'l1'}. Best is trial 81 with value: 0.5541754385964912.\n",
      "[I 2024-07-11 18:58:41,284] Trial 129 finished with value: 0.5250526315789473 and parameters: {'C': 1.2116164432529908, 'tol': 0.0007556091238255537, 'penalty': 'l1'}. Best is trial 81 with value: 0.5541754385964912.\n",
      "[I 2024-07-11 18:58:41,374] Trial 130 finished with value: 0.5357894736842105 and parameters: {'C': 5.5330742556632995, 'tol': 0.0015059876732037394, 'penalty': 'l1'}. Best is trial 81 with value: 0.5541754385964912.\n",
      "[I 2024-07-11 18:58:41,412] Trial 131 finished with value: 0.5489122807017544 and parameters: {'C': 2.2481107668790923, 'tol': 0.0021381097483826727, 'penalty': 'l1'}. Best is trial 81 with value: 0.5541754385964912.\n",
      "[I 2024-07-11 18:58:41,465] Trial 132 finished with value: 0.5410526315789473 and parameters: {'C': 2.781296190638537, 'tol': 0.0012851818288609988, 'penalty': 'l1'}. Best is trial 81 with value: 0.5541754385964912.\n",
      "[I 2024-07-11 18:58:41,515] Trial 133 finished with value: 0.5515087719298245 and parameters: {'C': 1.913486411025455, 'tol': 0.0004066413905892512, 'penalty': 'l1'}. Best is trial 81 with value: 0.5541754385964912.\n",
      "[I 2024-07-11 18:58:41,556] Trial 134 finished with value: 0.5409122807017543 and parameters: {'C': 1.598450174421901, 'tol': 0.0008621000518097183, 'penalty': 'l1'}. Best is trial 81 with value: 0.5541754385964912.\n",
      "[I 2024-07-11 18:58:41,676] Trial 135 finished with value: 0.5304561403508772 and parameters: {'C': 3.903920378912294, 'tol': 0.00033536761898295635, 'penalty': 'l1'}. Best is trial 81 with value: 0.5541754385964912.\n",
      "[I 2024-07-11 18:58:41,714] Trial 136 finished with value: 0.5223859649122807 and parameters: {'C': 1.142057000482984, 'tol': 0.000413366289021184, 'penalty': 'l1'}. Best is trial 81 with value: 0.5541754385964912.\n",
      "[I 2024-07-11 18:58:41,744] Trial 137 finished with value: 0.5039649122807017 and parameters: {'C': 0.4873313583160164, 'tol': 0.0005931248933732919, 'penalty': 'l1'}. Best is trial 81 with value: 0.5541754385964912.\n",
      "[I 2024-07-11 18:58:41,800] Trial 138 finished with value: 0.5515087719298245 and parameters: {'C': 1.9035557173120843, 'tol': 0.00021823296020186562, 'penalty': 'l1'}. Best is trial 81 with value: 0.5541754385964912.\n",
      "[I 2024-07-11 18:58:41,832] Trial 139 finished with value: 0.5171228070175438 and parameters: {'C': 0.8560993604858808, 'tol': 0.0010667061708846772, 'penalty': 'l1'}. Best is trial 81 with value: 0.5541754385964912.\n",
      "[I 2024-07-11 18:58:41,900] Trial 140 finished with value: 0.5384210526315789 and parameters: {'C': 2.9470572499149603, 'tol': 0.000770075826941722, 'penalty': 'l1'}. Best is trial 81 with value: 0.5541754385964912.\n",
      "[I 2024-07-11 18:58:41,957] Trial 141 finished with value: 0.5515438596491228 and parameters: {'C': 1.9871858747231437, 'tol': 0.00016905898820512025, 'penalty': 'l1'}. Best is trial 81 with value: 0.5541754385964912.\n",
      "[I 2024-07-11 18:58:42,003] Trial 142 finished with value: 0.5515087719298245 and parameters: {'C': 1.8841081291934734, 'tol': 0.0005028473086252899, 'penalty': 'l1'}. Best is trial 81 with value: 0.5541754385964912.\n",
      "[I 2024-07-11 18:58:42,037] Trial 143 finished with value: 0.5383157894736842 and parameters: {'C': 1.448840784653325, 'tol': 0.002563308595016776, 'penalty': 'l1'}. Best is trial 81 with value: 0.5541754385964912.\n",
      "[I 2024-07-11 18:58:42,174] Trial 144 finished with value: 0.5331578947368422 and parameters: {'C': 4.429738617127412, 'tol': 0.00024742142773121763, 'penalty': 'l1'}. Best is trial 81 with value: 0.5541754385964912.\n",
      "[I 2024-07-11 18:58:42,245] Trial 145 finished with value: 0.5515438596491228 and parameters: {'C': 2.247224775524651, 'tol': 0.0001858580999327871, 'penalty': 'l1'}. Best is trial 81 with value: 0.5541754385964912.\n",
      "[I 2024-07-11 18:58:42,560] Trial 146 finished with value: 0.5065263157894736 and parameters: {'C': 88.97369513055429, 'tol': 0.000175327265301031, 'penalty': 'l1'}. Best is trial 81 with value: 0.5541754385964912.\n",
      "[I 2024-07-11 18:58:42,658] Trial 147 finished with value: 0.5383859649122807 and parameters: {'C': 2.746344274593018, 'tol': 0.00011065159337167743, 'penalty': 'l1'}. Best is trial 81 with value: 0.5541754385964912.\n",
      "[I 2024-07-11 18:58:42,682] Trial 148 finished with value: 0.5038596491228071 and parameters: {'C': 0.020761620831695988, 'tol': 5.479369940719348e-05, 'penalty': 'l1'}. Best is trial 81 with value: 0.5541754385964912.\n",
      "[I 2024-07-11 18:58:42,734] Trial 149 finished with value: 0.5330175438596491 and parameters: {'C': 1.2671340789903087, 'tol': 0.0001446165607999018, 'penalty': 'l1'}. Best is trial 81 with value: 0.5541754385964912.\n",
      "[I 2024-07-11 18:58:42,862] Trial 150 finished with value: 0.5304561403508772 and parameters: {'C': 3.202710136242753, 'tol': 8.873517400701062e-05, 'penalty': 'l1'}. Best is trial 81 with value: 0.5541754385964912.\n",
      "[I 2024-07-11 18:58:42,930] Trial 151 finished with value: 0.5462807017543859 and parameters: {'C': 2.291651718617774, 'tol': 0.00034889469912446474, 'penalty': 'l1'}. Best is trial 81 with value: 0.5541754385964912.\n",
      "[I 2024-07-11 18:58:42,970] Trial 152 finished with value: 0.5515087719298245 and parameters: {'C': 1.874115540706649, 'tol': 0.0016620996511692698, 'penalty': 'l1'}. Best is trial 81 with value: 0.5541754385964912.\n",
      "[I 2024-07-11 18:58:43,004] Trial 153 finished with value: 0.5197543859649123 and parameters: {'C': 0.9800944249610805, 'tol': 0.0011409585314208998, 'penalty': 'l1'}. Best is trial 81 with value: 0.5541754385964912.\n",
      "[I 2024-07-11 18:58:43,045] Trial 154 finished with value: 0.5436491228070175 and parameters: {'C': 2.36811324540722, 'tol': 0.002221603347144614, 'penalty': 'l1'}. Best is trial 81 with value: 0.5541754385964912.\n",
      "[I 2024-07-11 18:58:43,095] Trial 155 finished with value: 0.5329824561403509 and parameters: {'C': 1.414406747883893, 'tol': 0.0002718202746127571, 'penalty': 'l1'}. Best is trial 81 with value: 0.5541754385964912.\n",
      "[I 2024-07-11 18:58:43,242] Trial 156 finished with value: 0.5331578947368422 and parameters: {'C': 4.408137205262653, 'tol': 0.00019350677149192514, 'penalty': 'l1'}. Best is trial 81 with value: 0.5541754385964912.\n",
      "[I 2024-07-11 18:58:43,276] Trial 157 finished with value: 0.5039649122807017 and parameters: {'C': 0.706996059829023, 'tol': 0.0014526274401459106, 'penalty': 'l1'}. Best is trial 81 with value: 0.5541754385964912.\n",
      "[I 2024-07-11 18:58:43,357] Trial 158 finished with value: 0.5304561403508772 and parameters: {'C': 3.4924888869869126, 'tol': 0.0009064690701869379, 'penalty': 'l1'}. Best is trial 81 with value: 0.5541754385964912.\n",
      "[I 2024-07-11 18:58:43,394] Trial 159 finished with value: 0.5488421052631579 and parameters: {'C': 1.8547239289056894, 'tol': 0.0029365104146249587, 'penalty': 'l1'}. Best is trial 81 with value: 0.5541754385964912.\n",
      "[I 2024-07-11 18:58:43,436] Trial 160 finished with value: 0.5382807017543859 and parameters: {'C': 1.5559030469964645, 'tol': 0.00040021856115379865, 'penalty': 'l1'}. Best is trial 81 with value: 0.5541754385964912.\n",
      "[I 2024-07-11 18:58:43,511] Trial 161 finished with value: 0.5462807017543859 and parameters: {'C': 2.300252294872193, 'tol': 0.0002516505341465164, 'penalty': 'l1'}. Best is trial 81 with value: 0.5541754385964912.\n",
      "[I 2024-07-11 18:58:43,561] Trial 162 finished with value: 0.5223859649122807 and parameters: {'C': 1.1446046989512781, 'tol': 0.0001158448690287201, 'penalty': 'l1'}. Best is trial 81 with value: 0.5541754385964912.\n",
      "[I 2024-07-11 18:58:43,606] Trial 163 finished with value: 0.5515087719298245 and parameters: {'C': 1.8590222167106136, 'tol': 0.0006047079899113678, 'penalty': 'l1'}. Best is trial 81 with value: 0.5541754385964912.\n",
      "[I 2024-07-11 18:58:43,701] Trial 164 finished with value: 0.5383859649122807 and parameters: {'C': 2.789464003189234, 'tol': 0.000209613127270329, 'penalty': 'l1'}. Best is trial 81 with value: 0.5541754385964912.\n",
      "[I 2024-07-11 18:58:43,775] Trial 165 finished with value: 0.5304912280701755 and parameters: {'C': 5.646201342743803, 'tol': 0.0043508660217465136, 'penalty': 'l1'}. Best is trial 81 with value: 0.5541754385964912.\n",
      "[I 2024-07-11 18:58:43,830] Trial 166 finished with value: 0.5331228070175438 and parameters: {'C': 3.470362476327271, 'tol': 0.001991982125542304, 'penalty': 'l1'}. Best is trial 81 with value: 0.5541754385964912.\n",
      "[I 2024-07-11 18:58:43,870] Trial 167 finished with value: 0.5488421052631579 and parameters: {'C': 1.9677467011227328, 'tol': 0.0033891600098662216, 'penalty': 'l1'}. Best is trial 81 with value: 0.5541754385964912.\n",
      "[I 2024-07-11 18:58:43,920] Trial 168 finished with value: 0.5356140350877193 and parameters: {'C': 1.3909509437622374, 'tol': 0.0001614737510984922, 'penalty': 'l1'}. Best is trial 81 with value: 0.5541754385964912.\n",
      "[I 2024-07-11 18:58:43,955] Trial 169 finished with value: 0.5197894736842106 and parameters: {'C': 0.9361190728170957, 'tol': 0.0007301308540535489, 'penalty': 'l1'}. Best is trial 81 with value: 0.5541754385964912.\n",
      "[I 2024-07-11 18:58:44,014] Trial 170 finished with value: 0.5383508771929825 and parameters: {'C': 2.607559777758795, 'tol': 0.0004669725227212912, 'penalty': 'l1'}. Best is trial 81 with value: 0.5541754385964912.\n",
      "[I 2024-07-11 18:58:44,067] Trial 171 finished with value: 0.5462105263157895 and parameters: {'C': 1.7688226110602434, 'tol': 0.0003160639990117571, 'penalty': 'l1'}. Best is trial 81 with value: 0.5541754385964912.\n",
      "[I 2024-07-11 18:58:44,119] Trial 172 finished with value: 0.5488771929824561 and parameters: {'C': 2.0993573027895533, 'tol': 0.0005044508479869463, 'penalty': 'l1'}. Best is trial 81 with value: 0.5541754385964912.\n",
      "[I 2024-07-11 18:58:44,161] Trial 173 finished with value: 0.5356140350877193 and parameters: {'C': 1.39161974383224, 'tol': 0.0011849562825278822, 'penalty': 'l1'}. Best is trial 81 with value: 0.5541754385964912.\n",
      "[I 2024-07-11 18:58:44,216] Trial 174 finished with value: 0.5304561403508772 and parameters: {'C': 3.764607627069388, 'tol': 0.0027218269008549133, 'penalty': 'l1'}. Best is trial 81 with value: 0.5541754385964912.\n",
      "[I 2024-07-11 18:58:44,276] Trial 175 finished with value: 0.5541754385964912 and parameters: {'C': 1.8581654577716988, 'tol': 0.0002165968244762831, 'penalty': 'l1'}. Best is trial 81 with value: 0.5541754385964912.\n",
      "[I 2024-07-11 18:58:44,384] Trial 176 finished with value: 0.5384210526315789 and parameters: {'C': 2.9054556847080257, 'tol': 0.00016401662609283178, 'penalty': 'l1'}. Best is trial 81 with value: 0.5541754385964912.\n",
      "[I 2024-07-11 18:58:44,436] Trial 177 finished with value: 0.5223859649122807 and parameters: {'C': 1.0736475602153082, 'tol': 0.00021369764403410125, 'penalty': 'l1'}. Best is trial 81 with value: 0.5541754385964912.\n",
      "[I 2024-07-11 18:58:44,493] Trial 178 finished with value: 0.5435438596491228 and parameters: {'C': 1.6457952453648481, 'tol': 8.374332735072034e-05, 'penalty': 'l1'}. Best is trial 81 with value: 0.5541754385964912.\n",
      "[I 2024-07-11 18:58:44,535] Trial 179 finished with value: 0.5488771929824561 and parameters: {'C': 2.153053205617281, 'tol': 0.0017665123158720434, 'penalty': 'l1'}. Best is trial 81 with value: 0.5541754385964912.\n",
      "[I 2024-07-11 18:58:44,560] Trial 180 finished with value: 0.5038596491228071 and parameters: {'C': 0.0075315858024566935, 'tol': 0.005417776385672637, 'penalty': 'l1'}. Best is trial 81 with value: 0.5541754385964912.\n",
      "[I 2024-07-11 18:58:44,608] Trial 181 finished with value: 0.5515087719298245 and parameters: {'C': 1.8739625700328222, 'tol': 0.0006021917975602467, 'penalty': 'l1'}. Best is trial 81 with value: 0.5541754385964912.\n",
      "[I 2024-07-11 18:58:44,674] Trial 182 finished with value: 0.5383508771929825 and parameters: {'C': 2.538510022009588, 'tol': 0.0003928033988102489, 'penalty': 'l1'}. Best is trial 81 with value: 0.5541754385964912.\n",
      "[I 2024-07-11 18:58:44,725] Trial 183 finished with value: 0.5356491228070175 and parameters: {'C': 1.420313657935714, 'tol': 0.00028794741091602526, 'penalty': 'l1'}. Best is trial 81 with value: 0.5541754385964912.\n",
      "[I 2024-07-11 18:58:44,813] Trial 184 finished with value: 0.5304561403508772 and parameters: {'C': 3.568791807607056, 'tol': 0.0009199911189407262, 'penalty': 'l1'}. Best is trial 81 with value: 0.5541754385964912.\n",
      "[I 2024-07-11 18:58:44,859] Trial 185 finished with value: 0.5197543859649123 and parameters: {'C': 1.0337876238461472, 'tol': 0.00022031209751779474, 'penalty': 'l1'}. Best is trial 81 with value: 0.5541754385964912.\n",
      "[I 2024-07-11 18:58:44,971] Trial 186 finished with value: 0.5331578947368422 and parameters: {'C': 4.701485662946092, 'tol': 0.00046966427975404204, 'penalty': 'l1'}. Best is trial 81 with value: 0.5541754385964912.\n",
      "[I 2024-07-11 18:58:45,011] Trial 187 finished with value: 0.5541754385964912 and parameters: {'C': 2.097002192534522, 'tol': 0.0023744624522322156, 'penalty': 'l1'}. Best is trial 81 with value: 0.5541754385964912.\n",
      "[I 2024-07-11 18:58:45,054] Trial 188 finished with value: 0.5409824561403509 and parameters: {'C': 2.595797052499321, 'tol': 0.0023312953315046928, 'penalty': 'l1'}. Best is trial 81 with value: 0.5541754385964912.\n",
      "[I 2024-07-11 18:58:45,169] Trial 189 finished with value: 0.5118947368421053 and parameters: {'C': 33.17117866836249, 'tol': 0.0036854833615124955, 'penalty': 'l1'}. Best is trial 81 with value: 0.5541754385964912.\n",
      "[I 2024-07-11 18:58:45,205] Trial 190 finished with value: 0.5409473684210526 and parameters: {'C': 1.3666344103195138, 'tol': 0.0017396134823848626, 'penalty': 'l1'}. Best is trial 81 with value: 0.5541754385964912.\n",
      "[I 2024-07-11 18:58:45,242] Trial 191 finished with value: 0.5409122807017543 and parameters: {'C': 1.6782929243879727, 'tol': 0.0027047393566008377, 'penalty': 'l1'}. Best is trial 81 with value: 0.5541754385964912.\n",
      "[I 2024-07-11 18:58:45,288] Trial 192 finished with value: 0.5488771929824561 and parameters: {'C': 2.1486001499876553, 'tol': 0.0014360997095445775, 'penalty': 'l1'}. Best is trial 81 with value: 0.5541754385964912.\n",
      "[I 2024-07-11 18:58:45,353] Trial 193 finished with value: 0.5410526315789473 and parameters: {'C': 2.8765026628678454, 'tol': 0.0007549205617383732, 'penalty': 'l1'}. Best is trial 81 with value: 0.5541754385964912.\n",
      "[I 2024-07-11 18:58:45,410] Trial 194 finished with value: 0.5515087719298245 and parameters: {'C': 1.8908277604716726, 'tol': 0.00013658409274863725, 'penalty': 'l1'}. Best is trial 81 with value: 0.5541754385964912.\n",
      "[I 2024-07-11 18:58:45,442] Trial 195 finished with value: 0.5145263157894737 and parameters: {'C': 0.8284608108635845, 'tol': 0.004497682503066169, 'penalty': 'l1'}. Best is trial 81 with value: 0.5541754385964912.\n",
      "[I 2024-07-11 18:58:45,477] Trial 196 finished with value: 0.5250526315789473 and parameters: {'C': 1.1896823800885548, 'tol': 0.002066427360048985, 'penalty': 'l1'}. Best is trial 81 with value: 0.5541754385964912.\n",
      "[I 2024-07-11 18:58:45,550] Trial 197 finished with value: 0.5304561403508772 and parameters: {'C': 3.4306171317047927, 'tol': 0.0012742106576125326, 'penalty': 'l1'}. Best is trial 81 with value: 0.5541754385964912.\n",
      "[I 2024-07-11 18:58:45,576] Trial 198 finished with value: 0.5118245614035088 and parameters: {'C': 0.06171814364442655, 'tol': 0.003507036930755938, 'penalty': 'l1'}. Best is trial 81 with value: 0.5541754385964912.\n",
      "[I 2024-07-11 18:58:45,627] Trial 199 finished with value: 0.5488771929824561 and parameters: {'C': 2.1203123534024186, 'tol': 0.0009943259855075296, 'penalty': 'l1'}. Best is trial 81 with value: 0.5541754385964912.\n",
      "[I 2024-07-11 18:58:45,669] Trial 200 finished with value: 0.5436491228070175 and parameters: {'C': 2.579882692431842, 'tol': 0.0030022761929183158, 'penalty': 'l1'}. Best is trial 81 with value: 0.5541754385964912.\n",
      "[I 2024-07-11 18:58:45,706] Trial 201 finished with value: 0.5356491228070175 and parameters: {'C': 1.5110649806288028, 'tol': 0.0018338941808041934, 'penalty': 'l1'}. Best is trial 81 with value: 0.5541754385964912.\n",
      "[I 2024-07-11 18:58:45,752] Trial 202 finished with value: 0.5541754385964912 and parameters: {'C': 2.00884678841845, 'tol': 0.0015435323985713786, 'penalty': 'l1'}. Best is trial 81 with value: 0.5541754385964912.\n",
      "[I 2024-07-11 18:58:45,792] Trial 203 finished with value: 0.5488421052631579 and parameters: {'C': 1.9561435246484469, 'tol': 0.002384219057723989, 'penalty': 'l1'}. Best is trial 81 with value: 0.5541754385964912.\n",
      "[I 2024-07-11 18:58:45,866] Trial 204 finished with value: 0.5357543859649122 and parameters: {'C': 3.0432203547066186, 'tol': 0.0006011892421628173, 'penalty': 'l1'}. Best is trial 81 with value: 0.5541754385964912.\n",
      "[I 2024-07-11 18:58:45,912] Trial 205 finished with value: 0.5435438596491228 and parameters: {'C': 1.698166200574695, 'tol': 0.0011694463851884946, 'penalty': 'l1'}. Best is trial 81 with value: 0.5541754385964912.\n",
      "[I 2024-07-11 18:58:45,956] Trial 206 finished with value: 0.5330175438596491 and parameters: {'C': 1.2478007419636794, 'tol': 0.0014631490872730934, 'penalty': 'l1'}. Best is trial 81 with value: 0.5541754385964912.\n",
      "[I 2024-07-11 18:58:46,004] Trial 207 finished with value: 0.5488771929824561 and parameters: {'C': 2.1254061850730195, 'tol': 0.000773877275516356, 'penalty': 'l1'}. Best is trial 81 with value: 0.5541754385964912.\n",
      "[I 2024-07-11 18:58:46,122] Trial 208 finished with value: 0.5304561403508772 and parameters: {'C': 3.830494471128029, 'tol': 0.00034086377269453347, 'penalty': 'l1'}. Best is trial 81 with value: 0.5541754385964912.\n",
      "[I 2024-07-11 18:58:46,164] Trial 209 finished with value: 0.5436491228070175 and parameters: {'C': 2.563465135179679, 'tol': 0.0021700058082780365, 'penalty': 'l1'}. Best is trial 81 with value: 0.5541754385964912.\n",
      "[I 2024-07-11 18:58:46,201] Trial 210 finished with value: 0.5383157894736842 and parameters: {'C': 1.5428798697918888, 'tol': 0.0028975729539644866, 'penalty': 'l1'}. Best is trial 81 with value: 0.5541754385964912.\n",
      "[I 2024-07-11 18:58:46,242] Trial 211 finished with value: 0.5488421052631579 and parameters: {'C': 1.9314496946327016, 'tol': 0.00157886010217676, 'penalty': 'l1'}. Best is trial 81 with value: 0.5541754385964912.\n",
      "[I 2024-07-11 18:58:46,277] Trial 212 finished with value: 0.5250526315789473 and parameters: {'C': 1.1278056384249877, 'tol': 0.0018681115022946705, 'penalty': 'l1'}. Best is trial 81 with value: 0.5541754385964912.\n",
      "[I 2024-07-11 18:58:46,323] Trial 213 finished with value: 0.5488421052631578 and parameters: {'C': 1.7827892470704778, 'tol': 0.0010503189725073587, 'penalty': 'l1'}. Best is trial 81 with value: 0.5541754385964912.\n",
      "[I 2024-07-11 18:58:46,403] Trial 214 finished with value: 0.5383508771929825 and parameters: {'C': 2.452023219965429, 'tol': 0.0001743212322034683, 'penalty': 'l1'}. Best is trial 81 with value: 0.5541754385964912.\n",
      "[I 2024-07-11 18:58:46,466] Trial 215 finished with value: 0.5357894736842105 and parameters: {'C': 3.2133385641331835, 'tol': 0.001528122299522095, 'penalty': 'l1'}. Best is trial 81 with value: 0.5541754385964912.\n",
      "[I 2024-07-11 18:58:46,503] Trial 216 finished with value: 0.5331578947368422 and parameters: {'C': 1.6504838382864402, 'tol': 0.0002306242449461189, 'penalty': 'l2'}. Best is trial 81 with value: 0.5541754385964912.\n",
      "[I 2024-07-11 18:58:46,565] Trial 217 finished with value: 0.5304912280701755 and parameters: {'C': 4.523958553388057, 'tol': 0.002420853164790124, 'penalty': 'l1'}. Best is trial 81 with value: 0.5541754385964912.\n",
      "[I 2024-07-11 18:58:46,607] Trial 218 finished with value: 0.5489122807017544 and parameters: {'C': 2.2533012614409134, 'tol': 0.003845769031888723, 'penalty': 'l1'}. Best is trial 81 with value: 0.5541754385964912.\n",
      "[I 2024-07-11 18:58:46,647] Trial 219 finished with value: 0.5383157894736843 and parameters: {'C': 1.286495004788239, 'tol': 0.0009609837636100529, 'penalty': 'l1'}. Best is trial 81 with value: 0.5541754385964912.\n",
      "[I 2024-07-11 18:58:46,691] Trial 220 finished with value: 0.5145263157894737 and parameters: {'C': 0.8093931157739714, 'tol': 0.0005326757068108312, 'penalty': 'l1'}. Best is trial 81 with value: 0.5541754385964912.\n",
      "[I 2024-07-11 18:58:46,740] Trial 221 finished with value: 0.5515087719298245 and parameters: {'C': 1.8704047396613614, 'tol': 0.000722262468308096, 'penalty': 'l1'}. Best is trial 81 with value: 0.5541754385964912.\n",
      "[I 2024-07-11 18:58:46,821] Trial 222 finished with value: 0.5410526315789473 and parameters: {'C': 2.8177381309603193, 'tol': 0.0004170894002709946, 'penalty': 'l1'}. Best is trial 81 with value: 0.5541754385964912.\n",
      "[I 2024-07-11 18:58:46,866] Trial 223 finished with value: 0.5515087719298245 and parameters: {'C': 1.861042537926846, 'tol': 0.0006640487103407294, 'penalty': 'l1'}. Best is trial 81 with value: 0.5541754385964912.\n",
      "[I 2024-07-11 18:58:46,906] Trial 224 finished with value: 0.5356491228070175 and parameters: {'C': 1.2583731987050228, 'tol': 0.000547006822270816, 'penalty': 'l1'}. Best is trial 81 with value: 0.5541754385964912.\n",
      "[I 2024-07-11 18:58:46,953] Trial 225 finished with value: 0.5462807017543859 and parameters: {'C': 2.2653922884352165, 'tol': 0.0011961015776738193, 'penalty': 'l1'}. Best is trial 81 with value: 0.5541754385964912.\n",
      "[I 2024-07-11 18:58:47,000] Trial 226 finished with value: 0.5356842105263157 and parameters: {'C': 1.5701050773839198, 'tol': 0.003123748260049307, 'penalty': 'l1'}. Best is trial 81 with value: 0.5541754385964912.\n",
      "[I 2024-07-11 18:58:47,054] Trial 227 finished with value: 0.5331228070175438 and parameters: {'C': 3.429960746866672, 'tol': 0.002002286259835121, 'penalty': 'l1'}. Best is trial 81 with value: 0.5541754385964912.\n",
      "[I 2024-07-11 18:58:47,132] Trial 228 finished with value: 0.5436491228070175 and parameters: {'C': 2.3322720710683744, 'tol': 0.0002863307633552319, 'penalty': 'l1'}. Best is trial 81 with value: 0.5541754385964912.\n",
      "[I 2024-07-11 18:58:47,175] Trial 229 finished with value: 0.5409122807017543 and parameters: {'C': 1.5680691640945537, 'tol': 0.0008455530767754482, 'penalty': 'l1'}. Best is trial 81 with value: 0.5541754385964912.\n",
      "[I 2024-07-11 18:58:47,281] Trial 230 finished with value: 0.5384210526315789 and parameters: {'C': 2.9123825426755774, 'tol': 0.0001327743918063117, 'penalty': 'l1'}. Best is trial 81 with value: 0.5541754385964912.\n",
      "[I 2024-07-11 18:58:47,328] Trial 231 finished with value: 0.5515087719298245 and parameters: {'C': 1.8796897409849564, 'tol': 0.0006371024268016546, 'penalty': 'l1'}. Best is trial 81 with value: 0.5541754385964912.\n",
      "[I 2024-07-11 18:58:47,376] Trial 232 finished with value: 0.5515087719298245 and parameters: {'C': 1.9017105884412453, 'tol': 0.0006746825131279534, 'penalty': 'l1'}. Best is trial 81 with value: 0.5541754385964912.\n",
      "[I 2024-07-11 18:58:47,414] Trial 233 finished with value: 0.5197543859649123 and parameters: {'C': 1.020830435905161, 'tol': 0.00047657668762171156, 'penalty': 'l1'}. Best is trial 81 with value: 0.5541754385964912.\n",
      "[I 2024-07-11 18:58:47,466] Trial 234 finished with value: 0.5462807017543859 and parameters: {'C': 2.277991576957525, 'tol': 0.0005858912439736951, 'penalty': 'l1'}. Best is trial 81 with value: 0.5541754385964912.\n",
      "[I 2024-07-11 18:58:47,514] Trial 235 finished with value: 0.5356491228070175 and parameters: {'C': 1.422157256079678, 'tol': 0.00036896614477675187, 'penalty': 'l1'}. Best is trial 81 with value: 0.5541754385964912.\n",
      "[I 2024-07-11 18:58:47,558] Trial 236 finished with value: 0.5463157894736842 and parameters: {'C': 2.760931417518833, 'tol': 0.0026392559485489578, 'penalty': 'l1'}. Best is trial 81 with value: 0.5541754385964912.\n",
      "[I 2024-07-11 18:58:47,607] Trial 237 finished with value: 0.5488421052631579 and parameters: {'C': 1.8513771000693688, 'tol': 0.0016573258306350782, 'penalty': 'l1'}. Best is trial 81 with value: 0.5541754385964912.\n",
      "[I 2024-07-11 18:58:47,683] Trial 238 finished with value: 0.5356491228070175 and parameters: {'C': 1.270459136102424, 'tol': 0.0008696963512388688, 'penalty': 'l1'}. Best is trial 81 with value: 0.5541754385964912.\n",
      "[I 2024-07-11 18:58:47,828] Trial 239 finished with value: 0.5304561403508772 and parameters: {'C': 3.955243872093743, 'tol': 0.00020739820660227464, 'penalty': 'l1'}. Best is trial 81 with value: 0.5541754385964912.\n",
      "[I 2024-07-11 18:58:47,878] Trial 240 finished with value: 0.5488771929824561 and parameters: {'C': 2.1588236387808744, 'tol': 0.0012293426680100301, 'penalty': 'l1'}. Best is trial 81 with value: 0.5541754385964912.\n",
      "[I 2024-07-11 18:58:47,940] Trial 241 finished with value: 0.5541754385964912 and parameters: {'C': 1.8581657126697446, 'tol': 0.00017573863445811586, 'penalty': 'l1'}. Best is trial 81 with value: 0.5541754385964912.\n",
      "[I 2024-07-11 18:58:47,966] Trial 242 finished with value: 0.5038596491228071 and parameters: {'C': 0.0017689950122351634, 'tol': 0.00016716152855629238, 'penalty': 'l1'}. Best is trial 81 with value: 0.5541754385964912.\n",
      "[I 2024-07-11 18:58:48,022] Trial 243 finished with value: 0.5462105263157895 and parameters: {'C': 1.7601850335771756, 'tol': 0.0002232058173536049, 'penalty': 'l1'}. Best is trial 81 with value: 0.5541754385964912.\n",
      "[I 2024-07-11 18:58:48,113] Trial 244 finished with value: 0.5410175438596492 and parameters: {'C': 2.6665551741985776, 'tol': 0.00010400416920567573, 'penalty': 'l1'}. Best is trial 81 with value: 0.5541754385964912.\n",
      "[I 2024-07-11 18:58:48,196] Trial 245 finished with value: 0.5356491228070175 and parameters: {'C': 1.4442515057629233, 'tol': 2.1214133155018846e-06, 'penalty': 'l1'}. Best is trial 81 with value: 0.5541754385964912.\n",
      "[I 2024-07-11 18:58:48,260] Trial 246 finished with value: 0.5515438596491228 and parameters: {'C': 2.0942358880603367, 'tol': 0.00026049071175756233, 'penalty': 'l1'}. Best is trial 81 with value: 0.5541754385964912.\n",
      "[I 2024-07-11 18:58:48,378] Trial 247 finished with value: 0.5304561403508772 and parameters: {'C': 3.1420591884343754, 'tol': 0.00027107108825728007, 'penalty': 'l1'}. Best is trial 81 with value: 0.5541754385964912.\n",
      "[I 2024-07-11 18:58:48,465] Trial 248 finished with value: 0.5462807017543859 and parameters: {'C': 2.34242457525023, 'tol': 0.0002068476692752437, 'penalty': 'l1'}. Best is trial 81 with value: 0.5541754385964912.\n",
      "[I 2024-07-11 18:58:48,493] Trial 249 finished with value: 0.525017543859649 and parameters: {'C': 1.5295500196979948, 'tol': 0.06885872354252637, 'penalty': 'l1'}. Best is trial 81 with value: 0.5541754385964912.\n",
      "[I 2024-07-11 18:58:48,531] Trial 250 finished with value: 0.5358245614035088 and parameters: {'C': 2.128023008036834, 'tol': 0.0003117867773484149, 'penalty': 'l2'}. Best is trial 81 with value: 0.5541754385964912.\n",
      "[I 2024-07-11 18:58:48,582] Trial 251 finished with value: 0.5223859649122807 and parameters: {'C': 1.1305968387020182, 'tol': 0.00016161330377520962, 'penalty': 'l1'}. Best is trial 81 with value: 0.5541754385964912.\n",
      "[I 2024-07-11 18:58:48,634] Trial 252 finished with value: 0.5357894736842105 and parameters: {'C': 3.232327439311891, 'tol': 0.004911855471844087, 'penalty': 'l1'}. Best is trial 81 with value: 0.5541754385964912.\n",
      "[I 2024-07-11 18:58:48,673] Trial 253 finished with value: 0.5488421052631579 and parameters: {'C': 1.8568711977250112, 'tol': 0.002021793606760687, 'penalty': 'l1'}. Best is trial 81 with value: 0.5541754385964912.\n",
      "[I 2024-07-11 18:58:48,707] Trial 254 finished with value: 0.5224210526315789 and parameters: {'C': 0.9909736315910254, 'tol': 0.0026238865934674256, 'penalty': 'l1'}. Best is trial 81 with value: 0.5541754385964912.\n",
      "[I 2024-07-11 18:58:48,751] Trial 255 finished with value: 0.5436491228070175 and parameters: {'C': 2.5669604569982063, 'tol': 0.0033125747654836665, 'penalty': 'l1'}. Best is trial 81 with value: 0.5541754385964912.\n",
      "[I 2024-07-11 18:58:48,911] Trial 256 finished with value: 0.5304912280701755 and parameters: {'C': 4.147928089592325, 'tol': 0.000265530571249432, 'penalty': 'l1'}. Best is trial 81 with value: 0.5541754385964912.\n",
      "[I 2024-07-11 18:58:48,969] Trial 257 finished with value: 0.5329824561403509 and parameters: {'C': 1.479266471309793, 'tol': 0.0001113294251925469, 'penalty': 'l1'}. Best is trial 81 with value: 0.5541754385964912.\n",
      "[I 2024-07-11 18:58:49,046] Trial 258 finished with value: 0.5515438596491228 and parameters: {'C': 2.251782539648554, 'tol': 0.00014261800455101235, 'penalty': 'l1'}. Best is trial 81 with value: 0.5541754385964912.\n",
      "[I 2024-07-11 18:58:49,124] Trial 259 finished with value: 0.5383508771929825 and parameters: {'C': 2.564265455973813, 'tol': 0.00013854785442466534, 'penalty': 'l1'}. Best is trial 81 with value: 0.5541754385964912.\n",
      "[I 2024-07-11 18:58:49,291] Trial 260 finished with value: 0.5304561403508772 and parameters: {'C': 5.668187872396691, 'tol': 0.0001797528778119021, 'penalty': 'l1'}. Best is trial 81 with value: 0.5541754385964912.\n",
      "[I 2024-07-11 18:58:49,479] Trial 261 finished with value: 0.5304561403508772 and parameters: {'C': 3.3128997306289962, 'tol': 6.443692247253012e-05, 'penalty': 'l1'}. Best is trial 81 with value: 0.5541754385964912.\n",
      "[I 2024-07-11 18:58:49,546] Trial 262 finished with value: 0.5488771929824561 and parameters: {'C': 2.1767287403616504, 'tol': 0.0001419337344952967, 'penalty': 'l1'}. Best is trial 81 with value: 0.5541754385964912.\n",
      "[I 2024-07-11 18:58:49,582] Trial 263 finished with value: 0.5409473684210526 and parameters: {'C': 1.3112470127650497, 'tol': 0.004030661778174185, 'penalty': 'l1'}. Best is trial 81 with value: 0.5541754385964912.\n",
      "[I 2024-07-11 18:58:49,640] Trial 264 finished with value: 0.5462105263157895 and parameters: {'C': 1.7211439582029613, 'tol': 9.735719204021577e-05, 'penalty': 'l1'}. Best is trial 81 with value: 0.5541754385964912.\n",
      "[I 2024-07-11 18:58:49,684] Trial 265 finished with value: 0.5436842105263158 and parameters: {'C': 2.784064288829461, 'tol': 0.002269855802019217, 'penalty': 'l1'}. Best is trial 81 with value: 0.5541754385964912.\n",
      "[I 2024-07-11 18:58:49,767] Trial 266 finished with value: 0.5304912280701755 and parameters: {'C': 4.1506277811033225, 'tol': 0.0015134876611016606, 'penalty': 'l1'}. Best is trial 81 with value: 0.5541754385964912.\n",
      "[I 2024-07-11 18:58:49,815] Trial 267 finished with value: 0.5171228070175439 and parameters: {'C': 1.047441158215027, 'tol': 0.00018590071454801222, 'penalty': 'l1'}. Best is trial 81 with value: 0.5541754385964912.\n",
      "[I 2024-07-11 18:58:49,887] Trial 268 finished with value: 0.5515438596491228 and parameters: {'C': 2.1542013479339026, 'tol': 0.00023226430058306824, 'penalty': 'l1'}. Best is trial 81 with value: 0.5541754385964912.\n",
      "[I 2024-07-11 18:58:49,924] Trial 269 finished with value: 0.5358245614035088 and parameters: {'C': 2.2179696807888707, 'tol': 0.00023128528073267126, 'penalty': 'l2'}. Best is trial 81 with value: 0.5541754385964912.\n",
      "[I 2024-07-11 18:58:50,045] Trial 270 finished with value: 0.5304561403508772 and parameters: {'C': 3.266488850092008, 'tol': 0.00026440085522181755, 'penalty': 'l1'}. Best is trial 81 with value: 0.5541754385964912.\n",
      "[I 2024-07-11 18:58:50,094] Trial 271 finished with value: 0.5356491228070175 and parameters: {'C': 1.4910966900805103, 'tol': 0.00032534675891963196, 'penalty': 'l1'}. Best is trial 81 with value: 0.5541754385964912.\n",
      "[I 2024-07-11 18:58:50,174] Trial 272 finished with value: 0.5383508771929825 and parameters: {'C': 2.4571688465101813, 'tol': 0.00019609615772536593, 'penalty': 'l1'}. Best is trial 81 with value: 0.5541754385964912.\n",
      "[I 2024-07-11 18:58:50,230] Trial 273 finished with value: 0.5462105263157895 and parameters: {'C': 1.7040641060496204, 'tol': 0.00013138330348552634, 'penalty': 'l1'}. Best is trial 81 with value: 0.5541754385964912.\n",
      "[I 2024-07-11 18:58:50,268] Trial 274 finished with value: 0.5250526315789473 and parameters: {'C': 1.216804220725169, 'tol': 0.0003854770694516578, 'penalty': 'l1'}. Best is trial 81 with value: 0.5541754385964912.\n",
      "[I 2024-07-11 18:58:50,299] Trial 275 finished with value: 0.49866666666666665 and parameters: {'C': 0.6708680740087596, 'tol': 0.003609785719419604, 'penalty': 'l1'}. Best is trial 81 with value: 0.5541754385964912.\n",
      "[I 2024-07-11 18:58:50,415] Trial 276 finished with value: 0.5357543859649122 and parameters: {'C': 3.0740797579999133, 'tol': 0.0001466003299096595, 'penalty': 'l1'}. Best is trial 81 with value: 0.5541754385964912.\n",
      "[I 2024-07-11 18:58:50,457] Trial 277 finished with value: 0.5515438596491228 and parameters: {'C': 2.228533395003194, 'tol': 0.00282562393010632, 'penalty': 'l1'}. Best is trial 81 with value: 0.5541754385964912.\n",
      "[I 2024-07-11 18:58:50,509] Trial 278 finished with value: 0.5278245614035088 and parameters: {'C': 4.7674019249729, 'tol': 0.006396592687044142, 'penalty': 'l1'}. Best is trial 81 with value: 0.5541754385964912.\n",
      "[I 2024-07-11 18:58:50,552] Trial 279 finished with value: 0.5436491228070175 and parameters: {'C': 2.409651493812518, 'tol': 0.0028908581570083972, 'penalty': 'l1'}. Best is trial 81 with value: 0.5541754385964912.\n",
      "[I 2024-07-11 18:58:50,609] Trial 280 finished with value: 0.5304561403508772 and parameters: {'C': 3.8872242492761035, 'tol': 0.002481456374907105, 'penalty': 'l1'}. Best is trial 81 with value: 0.5541754385964912.\n",
      "[I 2024-07-11 18:58:50,648] Trial 281 finished with value: 0.5435087719298245 and parameters: {'C': 1.9768305046662, 'tol': 0.0048611148205894615, 'penalty': 'l1'}. Best is trial 81 with value: 0.5541754385964912.\n",
      "[I 2024-07-11 18:58:50,685] Trial 282 finished with value: 0.5383157894736842 and parameters: {'C': 1.4994143879143085, 'tol': 0.0032268417192351205, 'penalty': 'l1'}. Best is trial 81 with value: 0.5541754385964912.\n",
      "[I 2024-07-11 18:58:50,907] Trial 283 finished with value: 0.5384210526315789 and parameters: {'C': 2.8853502960788466, 'tol': 1.2912585197585405e-05, 'penalty': 'l1'}. Best is trial 81 with value: 0.5541754385964912.\n",
      "[I 2024-07-11 18:58:50,942] Trial 284 finished with value: 0.5197894736842106 and parameters: {'C': 0.9301373308885689, 'tol': 0.0018849931614042395, 'penalty': 'l1'}. Best is trial 81 with value: 0.5541754385964912.\n",
      "[I 2024-07-11 18:58:51,019] Trial 285 finished with value: 0.5515438596491228 and parameters: {'C': 2.2356812146738307, 'tol': 0.00018026874345102785, 'penalty': 'l1'}. Best is trial 81 with value: 0.5541754385964912.\n",
      "[I 2024-07-11 18:58:51,107] Trial 286 finished with value: 0.5436491228070175 and parameters: {'C': 2.394533642203026, 'tol': 0.0001687776005418055, 'penalty': 'l1'}. Best is trial 81 with value: 0.5541754385964912.\n",
      "[I 2024-07-11 18:58:51,163] Trial 287 finished with value: 0.5304561403508772 and parameters: {'C': 3.6289311565114764, 'tol': 0.0022850474457901605, 'penalty': 'l1'}. Best is trial 81 with value: 0.5541754385964912.\n",
      "[I 2024-07-11 18:58:51,204] Trial 288 finished with value: 0.5356140350877193 and parameters: {'C': 1.360623734166393, 'tol': 0.0013142313288911098, 'penalty': 'l1'}. Best is trial 81 with value: 0.5541754385964912.\n",
      "[I 2024-07-11 18:58:51,239] Trial 289 finished with value: 0.5331578947368422 and parameters: {'C': 2.085012990618948, 'tol': 0.002902893946335644, 'penalty': 'l2'}. Best is trial 81 with value: 0.5541754385964912.\n",
      "[I 2024-07-11 18:58:51,352] Trial 290 finished with value: 0.5384210526315789 and parameters: {'C': 2.9187600222294607, 'tol': 0.00011947354385859335, 'penalty': 'l1'}. Best is trial 81 with value: 0.5541754385964912.\n",
      "[I 2024-07-11 18:58:51,459] Trial 291 finished with value: 0.5277894736842106 and parameters: {'C': 6.074239111324273, 'tol': 0.0010201604811108493, 'penalty': 'l1'}. Best is trial 81 with value: 0.5541754385964912.\n",
      "[I 2024-07-11 18:58:51,499] Trial 292 finished with value: 0.5409473684210526 and parameters: {'C': 1.63496438993006, 'tol': 0.003928386636964001, 'penalty': 'l1'}. Best is trial 81 with value: 0.5541754385964912.\n",
      "[I 2024-07-11 18:58:51,542] Trial 293 finished with value: 0.5515438596491228 and parameters: {'C': 2.199889754242489, 'tol': 0.0018812873387390513, 'penalty': 'l1'}. Best is trial 81 with value: 0.5541754385964912.\n",
      "[I 2024-07-11 18:58:51,611] Trial 294 finished with value: 0.5304912280701755 and parameters: {'C': 4.362530489978397, 'tol': 0.0015975579440509985, 'penalty': 'l1'}. Best is trial 81 with value: 0.5541754385964912.\n",
      "[I 2024-07-11 18:58:51,655] Trial 295 finished with value: 0.5436491228070175 and parameters: {'C': 2.5861191498112963, 'tol': 0.0022978615540216922, 'penalty': 'l1'}. Best is trial 81 with value: 0.5541754385964912.\n",
      "[I 2024-07-11 18:58:51,710] Trial 296 finished with value: 0.5304561403508772 and parameters: {'C': 3.4884907660194426, 'tol': 0.001793429185333926, 'penalty': 'l1'}. Best is trial 81 with value: 0.5541754385964912.\n",
      "[I 2024-07-11 18:58:51,737] Trial 297 finished with value: 0.5038596491228071 and parameters: {'C': 0.00010298322455040054, 'tol': 0.0019419453723035825, 'penalty': 'l1'}. Best is trial 81 with value: 0.5541754385964912.\n",
      "[I 2024-07-11 18:58:51,782] Trial 298 finished with value: 0.5515087719298245 and parameters: {'C': 2.0298048835499625, 'tol': 0.0029948993949529975, 'penalty': 'l1'}. Best is trial 81 with value: 0.5541754385964912.\n",
      "[I 2024-07-11 18:58:51,817] Trial 299 finished with value: 0.5250526315789473 and parameters: {'C': 1.125872533312956, 'tol': 0.00397380544265808, 'penalty': 'l1'}. Best is trial 81 with value: 0.5541754385964912.\n"
     ]
    }
   ],
   "source": [
    "mlflow.set_experiment(\"Logistic Regression VALE3\")\n",
    "study = optuna.create_study(direction='maximize')\n",
    "study.optimize(objective, n_trials=300, callbacks=[mlflow_callback])"
   ]
  },
  {
   "cell_type": "markdown",
   "metadata": {},
   "source": [
    "### Avaliação "
   ]
  },
  {
   "cell_type": "code",
   "execution_count": 20,
   "metadata": {},
   "outputs": [
    {
     "data": {
      "text/plain": [
       "{'C': 2.1027144881384436, 'tol': 0.004650741239313237, 'penalty': 'l1'}"
      ]
     },
     "execution_count": 20,
     "metadata": {},
     "output_type": "execute_result"
    }
   ],
   "source": [
    "study.best_params\n"
   ]
  },
  {
   "cell_type": "code",
   "execution_count": 3,
   "metadata": {},
   "outputs": [
    {
     "ename": "NameError",
     "evalue": "name 'X_vale3_train' is not defined",
     "output_type": "error",
     "traceback": [
      "\u001b[0;31m---------------------------------------------------------------------------\u001b[0m",
      "\u001b[0;31mNameError\u001b[0m                                 Traceback (most recent call last)",
      "Cell \u001b[0;32mIn[3], line 5\u001b[0m\n\u001b[1;32m      2\u001b[0m model \u001b[38;5;241m=\u001b[39m LogisticRegression(\u001b[38;5;241m*\u001b[39m\u001b[38;5;241m*\u001b[39mbest_params)\n\u001b[1;32m      4\u001b[0m \u001b[38;5;66;03m# Treinando o modelo no conjunto de treinamento completo\u001b[39;00m\n\u001b[0;32m----> 5\u001b[0m model \u001b[38;5;241m=\u001b[39m model\u001b[38;5;241m.\u001b[39mfit(\u001b[43mX_vale3_train\u001b[49m, y_vale3_train)\n",
      "\u001b[0;31mNameError\u001b[0m: name 'X_vale3_train' is not defined"
     ]
    }
   ],
   "source": [
    "best_params = {'random_state': RANDOM_SEED, 'solver': 'liblinear','C': 2.1027144881384436, 'tol': 0.004650741239313237, 'penalty': 'l1'}\n",
    "model = LogisticRegression(**best_params)\n",
    "\n",
    "# Treinando o modelo no conjunto de treinamento completo\n",
    "model = model.fit(X_vale3_train, y_vale3_train)"
   ]
  },
  {
   "cell_type": "markdown",
   "metadata": {},
   "source": [
    "Exibindo os resultados do KFold no conjunto de treino para termos uma referência:"
   ]
  },
  {
   "cell_type": "code",
   "execution_count": 25,
   "metadata": {},
   "outputs": [
    {
     "name": "stdout",
     "output_type": "stream",
     "text": [
      "[TRAINING SET KFOLD] The model scored a mean of: f1-score=0.5495 | accuracy=0.5542\n"
     ]
    }
   ],
   "source": [
    "kf = KFold(n_splits=5, shuffle=True, random_state=RANDOM_SEED)\n",
    "f1_kfold_scores = cross_val_score(model, X_vale3_train, y_vale3_train, cv=kf, scoring='f1').mean()\n",
    "accuracy_kfold_scores = cross_val_score(model, X_vale3_train, y_vale3_train, cv=kf, scoring='accuracy').mean()\n",
    "\n",
    "print(f'[TRAINING SET KFOLD] The model scored a mean of: f1-score={f1_kfold_scores:.4f} | accuracy={accuracy_kfold_scores:.4f}')"
   ]
  },
  {
   "cell_type": "markdown",
   "metadata": {},
   "source": [
    "Resultados para o conjunto de teste:"
   ]
  },
  {
   "cell_type": "code",
   "execution_count": 26,
   "metadata": {},
   "outputs": [
    {
     "name": "stdout",
     "output_type": "stream",
     "text": [
      "              precision    recall  f1-score   support\n",
      "\n",
      "           0     0.6071    0.7183    0.6581        71\n",
      "           1     0.4737    0.3529    0.4045        51\n",
      "\n",
      "    accuracy                         0.5656       122\n",
      "   macro avg     0.5404    0.5356    0.5313       122\n",
      "weighted avg     0.5514    0.5656    0.5521       122\n",
      "\n"
     ]
    }
   ],
   "source": [
    "# Avaliando o modelo\n",
    "y_pred = model.predict(X_vale3_test)\n",
    "report = classification_report(y_vale3_test, y_pred, digits=4)\n",
    "print(report)"
   ]
  },
  {
   "cell_type": "code",
   "execution_count": 27,
   "metadata": {},
   "outputs": [
    {
     "data": {
      "image/png": "[encoded data removed]",
      "text/plain": [
       "<Figure size 800x600 with 1 Axes>"
      ]
     },
     "metadata": {},
     "output_type": "display_data"
    }
   ],
   "source": [
    "plot_confusion_matrix(y_petr4_test, y_pred)"
   ]
  },
  {
   "cell_type": "markdown",
   "metadata": {},
   "source": [
    "### Diagnóstico"
   ]
  },
  {
   "cell_type": "markdown",
   "metadata": {},
   "source": [
    "- Underfitting:  Não deve ter ocorrido muito. Obtivemos (f1-score=0.5495 | accuracy=0.5542) no KFold, o que está relativamente próximo à resultados de trabalhos da litetura de predição do movimento de ações\n",
    "\n",
    "- Overfitting: Não ocorreu. O modelo está com resultados até melhores no conjunto de teste em relação ao conjunto de treino.\n"
   ]
  },
  {
   "cell_type": "markdown",
   "metadata": {},
   "source": [
    "O diagnóstico final é que o principal fenômeno ocorrido foi a sorte no conjutno de teste, e que o modelo está com um leve **underfitting**.\n",
    "\n",
    "- Para evitar o problema do modelo ter sorte no conjunto de teste, poderíamos:\n",
    "    - Aumentar o tamanho do conjunto de teste. Porém, não é algo que é possível fazer no momento.\n",
    "\n",
    "- Para reduzir o underfitting, poderíamos:\n",
    "    - Inserir mais features\n",
    "    - *Mudança no espaço de busca de hiperparâmetros*: Modificar o espaço de busca para hiperparâmetros que tornem o modelo **mais complexo**"
   ]
  },
  {
   "cell_type": "markdown",
   "metadata": {},
   "source": [
    "Como não houve muito underfitting e não podemos fazer muito quanto a aumentar o tamanho do conjunto de dados de teste, resolvemos concentrar esforços nos outros modelos."
   ]
  },
  {
   "cell_type": "markdown",
   "metadata": {},
   "source": [
    "## PETR4"
   ]
  },
  {
   "cell_type": "markdown",
   "metadata": {},
   "source": [
    "Observando a quantidade de eventos no conjunto de treino/validação e teste. Podemos concluir que os modelos, por serem treinados com um dataset levemente desbalanceado, possuem maior viés para indicar a predição positiva `hasRise=1`, devido que, em geral, "
   ]
  },
  {
   "cell_type": "code",
   "execution_count": 28,
   "metadata": {},
   "outputs": [
    {
     "data": {
      "text/plain": [
       "hasRise\n",
       "1    0.541114\n",
       "0    0.458886\n",
       "Name: proportion, dtype: float64"
      ]
     },
     "execution_count": 28,
     "metadata": {},
     "output_type": "execute_result"
    }
   ],
   "source": [
    "y_petr4_train.value_counts(normalize=True)"
   ]
  },
  {
   "cell_type": "code",
   "execution_count": 29,
   "metadata": {},
   "outputs": [
    {
     "data": {
      "text/plain": [
       "hasRise\n",
       "1    0.54918\n",
       "0    0.45082\n",
       "Name: proportion, dtype: float64"
      ]
     },
     "execution_count": 29,
     "metadata": {},
     "output_type": "execute_result"
    }
   ],
   "source": [
    "y_petr4_test.value_counts(normalize=True)"
   ]
  },
  {
   "cell_type": "code",
   "execution_count": 30,
   "metadata": {},
   "outputs": [],
   "source": [
    "def objective(trial):\n",
    "    # Definir o espaço de busca dos hiperparâmetros\n",
    "    param = {\n",
    "        'solver': 'liblinear',\n",
    "        'random_state': RANDOM_SEED,\n",
    "        'C': trial.suggest_float('C', 1e-4, 1e2, log=True), # INVERSO do termo de regularização\n",
    "        'tol': trial.suggest_float('tol', 1e-6, 1e-1, log=True),\n",
    "        'penalty' : trial.suggest_categorical('penalty', ['l1', 'l2'])\n",
    "    }\n",
    "    \n",
    "    # Configurando o KFold\n",
    "    kf = KFold(n_splits=5, shuffle=True, random_state=RANDOM_SEED)\n",
    "    \n",
    "    # Inicializando o modelo XGBoost\n",
    "    model = LogisticRegression(**param)\n",
    "    \n",
    "    # Realizando a validação cruzada\n",
    "    scores = cross_val_score(model, X_petr4_train, y_petr4_train, cv=kf, scoring='accuracy')\n",
    "    \n",
    "    # Retornando a média dos scores como objetivo a ser minimizado\n",
    "    return np.mean(scores)"
   ]
  },
  {
   "cell_type": "code",
   "execution_count": 31,
   "metadata": {},
   "outputs": [
    {
     "name": "stderr",
     "output_type": "stream",
     "text": [
      "2024/07/11 19:04:36 INFO mlflow.tracking.fluent: Experiment with name 'Logistic Regression PETR4' does not exist. Creating a new experiment.\n",
      "[I 2024-07-11 19:04:36,045] A new study created in memory with name: no-name-43855876-2948-472d-9828-e9c8558089c6\n",
      "[I 2024-07-11 19:04:36,238] Trial 0 finished with value: 0.5519999999999999 and parameters: {'C': 40.758813424837314, 'tol': 0.00028224590707688364, 'penalty': 'l1'}. Best is trial 0 with value: 0.5519999999999999.\n",
      "[I 2024-07-11 19:04:36,262] Trial 1 finished with value: 0.5225263157894736 and parameters: {'C': 0.004975991319972616, 'tol': 0.00018863002127169707, 'penalty': 'l2'}. Best is trial 0 with value: 0.5519999999999999.\n",
      "[I 2024-07-11 19:04:36,285] Trial 2 finished with value: 0.5305964912280702 and parameters: {'C': 0.019419833700803395, 'tol': 6.675905961827798e-05, 'penalty': 'l2'}. Best is trial 0 with value: 0.5519999999999999.\n",
      "[I 2024-07-11 19:04:36,327] Trial 3 finished with value: 0.5785263157894737 and parameters: {'C': 5.8000301714203575, 'tol': 2.2447310509799686e-05, 'penalty': 'l2'}. Best is trial 3 with value: 0.5785263157894737.\n",
      "[I 2024-07-11 19:04:36,351] Trial 4 finished with value: 0.5305964912280702 and parameters: {'C': 0.01974094246379875, 'tol': 1.0572128859052767e-06, 'penalty': 'l2'}. Best is trial 3 with value: 0.5785263157894737.\n",
      "[I 2024-07-11 19:04:36,391] Trial 5 finished with value: 0.575859649122807 and parameters: {'C': 7.763899619345945, 'tol': 0.00016966639720739234, 'penalty': 'l2'}. Best is trial 3 with value: 0.5785263157894737.\n",
      "[I 2024-07-11 19:04:36,429] Trial 6 finished with value: 0.5785614035087719 and parameters: {'C': 2.744623064673784, 'tol': 2.3341933928833244e-05, 'penalty': 'l2'}. Best is trial 6 with value: 0.5785614035087719.\n",
      "[I 2024-07-11 19:04:36,458] Trial 7 finished with value: 0.5573684210526316 and parameters: {'C': 46.227852733747056, 'tol': 0.04775458421881136, 'penalty': 'l2'}. Best is trial 6 with value: 0.5785614035087719.\n",
      "[I 2024-07-11 19:04:36,480] Trial 8 finished with value: 0.5225964912280701 and parameters: {'C': 0.012115921714434846, 'tol': 0.00019137783197006723, 'penalty': 'l2'}. Best is trial 6 with value: 0.5785614035087719.\n",
      "[I 2024-07-11 19:04:36,510] Trial 9 finished with value: 0.5758947368421052 and parameters: {'C': 16.920339823122806, 'tol': 0.025617242041827498, 'penalty': 'l1'}. Best is trial 6 with value: 0.5785614035087719.\n",
      "[I 2024-07-11 19:04:36,534] Trial 10 finished with value: 0.4591578947368421 and parameters: {'C': 0.00016732569984621685, 'tol': 0.0035330382368543526, 'penalty': 'l1'}. Best is trial 6 with value: 0.5785614035087719.\n",
      "[I 2024-07-11 19:04:36,571] Trial 11 finished with value: 0.5864561403508772 and parameters: {'C': 0.9144871683692339, 'tol': 7.286955291080132e-06, 'penalty': 'l2'}. Best is trial 11 with value: 0.5864561403508772.\n",
      "[I 2024-07-11 19:04:36,611] Trial 12 finished with value: 0.5838245614035088 and parameters: {'C': 1.109347478259611, 'tol': 5.025154788736514e-06, 'penalty': 'l2'}. Best is trial 11 with value: 0.5864561403508772.\n",
      "[I 2024-07-11 19:04:36,646] Trial 13 finished with value: 0.5838245614035088 and parameters: {'C': 0.5147691435877737, 'tol': 1.3943286333231434e-06, 'penalty': 'l2'}. Best is trial 11 with value: 0.5864561403508772.\n",
      "[I 2024-07-11 19:04:36,693] Trial 14 finished with value: 0.5491228070175438 and parameters: {'C': 0.5509123520155874, 'tol': 6.6044910782156835e-06, 'penalty': 'l1'}. Best is trial 11 with value: 0.5864561403508772.\n",
      "[I 2024-07-11 19:04:36,726] Trial 15 finished with value: 0.5652631578947369 and parameters: {'C': 0.18489650923801393, 'tol': 5.367431448977499e-06, 'penalty': 'l2'}. Best is trial 11 with value: 0.5864561403508772.\n",
      "[I 2024-07-11 19:04:36,765] Trial 16 finished with value: 0.5758947368421052 and parameters: {'C': 1.1966297024603765, 'tol': 6.205542389517745e-06, 'penalty': 'l2'}. Best is trial 11 with value: 0.5864561403508772.\n",
      "[I 2024-07-11 19:04:36,794] Trial 17 finished with value: 0.5545614035087719 and parameters: {'C': 0.10178894774257012, 'tol': 0.00084111598025445, 'penalty': 'l2'}. Best is trial 11 with value: 0.5864561403508772.\n",
      "[I 2024-07-11 19:04:36,818] Trial 18 finished with value: 0.4591578947368421 and parameters: {'C': 0.0005535194829252116, 'tol': 2.7416770885228688e-05, 'penalty': 'l1'}. Best is trial 11 with value: 0.5864561403508772.\n",
      "[I 2024-07-11 19:04:36,855] Trial 19 finished with value: 0.5732631578947369 and parameters: {'C': 2.263097507922838, 'tol': 0.001348891280266741, 'penalty': 'l2'}. Best is trial 11 with value: 0.5864561403508772.\n",
      "[I 2024-07-11 19:04:36,889] Trial 20 finished with value: 0.5705614035087719 and parameters: {'C': 0.25285892787254804, 'tol': 2.5027440514547453e-06, 'penalty': 'l2'}. Best is trial 11 with value: 0.5864561403508772.\n",
      "[I 2024-07-11 19:04:36,928] Trial 21 finished with value: 0.5838245614035088 and parameters: {'C': 0.6725981749323313, 'tol': 1.014775268480937e-06, 'penalty': 'l2'}. Best is trial 11 with value: 0.5864561403508772.\n",
      "[I 2024-07-11 19:04:36,959] Trial 22 finished with value: 0.5359649122807018 and parameters: {'C': 0.057969731306087346, 'tol': 3.7634520956700636e-06, 'penalty': 'l2'}. Best is trial 11 with value: 0.5864561403508772.\n",
      "[I 2024-07-11 19:04:36,996] Trial 23 finished with value: 0.5838245614035088 and parameters: {'C': 0.5597629583747296, 'tol': 1.5161978545590374e-05, 'penalty': 'l2'}. Best is trial 11 with value: 0.5864561403508772.\n",
      "[I 2024-07-11 19:04:37,043] Trial 24 finished with value: 0.5785263157894737 and parameters: {'C': 4.2963334524989145, 'tol': 1.8319376252593534e-06, 'penalty': 'l2'}. Best is trial 11 with value: 0.5864561403508772.\n",
      "[I 2024-07-11 19:04:37,073] Trial 25 finished with value: 0.5439298245614036 and parameters: {'C': 0.06723792224728224, 'tol': 6.668407225053538e-05, 'penalty': 'l2'}. Best is trial 11 with value: 0.5864561403508772.\n",
      "[I 2024-07-11 19:04:37,372] Trial 26 finished with value: 0.5598947368421052 and parameters: {'C': 14.38316801784924, 'tol': 1.0329066596907622e-05, 'penalty': 'l1'}. Best is trial 11 with value: 0.5864561403508772.\n",
      "[I 2024-07-11 19:04:37,411] Trial 27 finished with value: 0.5785614035087719 and parameters: {'C': 1.5515274134347643, 'tol': 6.691589615833917e-05, 'penalty': 'l2'}. Best is trial 11 with value: 0.5864561403508772.\n",
      "[I 2024-07-11 19:04:37,446] Trial 28 finished with value: 0.5705614035087719 and parameters: {'C': 0.2539829459233505, 'tol': 2.3744334421582936e-06, 'penalty': 'l2'}. Best is trial 11 with value: 0.5864561403508772.\n",
      "[I 2024-07-11 19:04:37,508] Trial 29 finished with value: 0.5625263157894737 and parameters: {'C': 72.0820181907936, 'tol': 0.007781451659763107, 'penalty': 'l1'}. Best is trial 11 with value: 0.5864561403508772.\n",
      "[I 2024-07-11 19:04:37,546] Trial 30 finished with value: 0.5864561403508772 and parameters: {'C': 1.0046007604409202, 'tol': 1.0638927750055662e-05, 'penalty': 'l2'}. Best is trial 11 with value: 0.5864561403508772.\n",
      "[I 2024-07-11 19:04:37,587] Trial 31 finished with value: 0.5864561403508772 and parameters: {'C': 0.8922384809774558, 'tol': 1.1137845369553233e-05, 'penalty': 'l2'}. Best is trial 11 with value: 0.5864561403508772.\n",
      "[I 2024-07-11 19:04:37,662] Trial 32 finished with value: 0.5732631578947369 and parameters: {'C': 1.331047661721327, 'tol': 3.90411289618926e-05, 'penalty': 'l2'}. Best is trial 11 with value: 0.5864561403508772.\n",
      "[I 2024-07-11 19:04:37,716] Trial 33 finished with value: 0.5626315789473685 and parameters: {'C': 15.959047488296816, 'tol': 1.0689750406746524e-05, 'penalty': 'l2'}. Best is trial 11 with value: 0.5864561403508772.\n",
      "[I 2024-07-11 19:04:37,747] Trial 34 finished with value: 0.5519298245614036 and parameters: {'C': 0.13219994099980095, 'tol': 1.1306003527161432e-05, 'penalty': 'l2'}. Best is trial 11 with value: 0.5864561403508772.\n",
      "[I 2024-07-11 19:04:37,791] Trial 35 finished with value: 0.5785263157894737 and parameters: {'C': 5.51648524819672, 'tol': 5.910229597480982e-05, 'penalty': 'l2'}. Best is trial 11 with value: 0.5864561403508772.\n",
      "[I 2024-07-11 19:04:37,820] Trial 36 finished with value: 0.546561403508772 and parameters: {'C': 0.03642391878766687, 'tol': 3.842245958176571e-06, 'penalty': 'l2'}. Best is trial 11 with value: 0.5864561403508772.\n",
      "[I 2024-07-11 19:04:37,846] Trial 37 finished with value: 0.527719298245614 and parameters: {'C': 0.0018320035020950051, 'tol': 1.762108219758836e-05, 'penalty': 'l2'}. Best is trial 11 with value: 0.5864561403508772.\n",
      "[I 2024-07-11 19:04:37,887] Trial 38 finished with value: 0.5811929824561404 and parameters: {'C': 2.991206468736515, 'tol': 0.00011331669936806603, 'penalty': 'l2'}. Best is trial 11 with value: 0.5864561403508772.\n",
      "[I 2024-07-11 19:04:37,930] Trial 39 finished with value: 0.5732280701754385 and parameters: {'C': 8.71609775610445, 'tol': 0.00042562783151915267, 'penalty': 'l2'}. Best is trial 11 with value: 0.5864561403508772.\n",
      "[I 2024-07-11 19:04:37,963] Trial 40 finished with value: 0.5732631578947369 and parameters: {'C': 0.28100114926765823, 'tol': 3.467768220037011e-05, 'penalty': 'l2'}. Best is trial 11 with value: 0.5864561403508772.\n",
      "[I 2024-07-11 19:04:38,002] Trial 41 finished with value: 0.5864561403508772 and parameters: {'C': 0.7764629439979442, 'tol': 1.8220479184820497e-06, 'penalty': 'l2'}. Best is trial 11 with value: 0.5864561403508772.\n",
      "[I 2024-07-11 19:04:38,042] Trial 42 finished with value: 0.5732631578947369 and parameters: {'C': 1.3309178970559776, 'tol': 3.5425581114113886e-06, 'penalty': 'l2'}. Best is trial 11 with value: 0.5864561403508772.\n",
      "[I 2024-07-11 19:04:38,080] Trial 43 finished with value: 0.5864561403508772 and parameters: {'C': 0.900076920490611, 'tol': 7.525276979128026e-06, 'penalty': 'l2'}. Best is trial 11 with value: 0.5864561403508772.\n",
      "[I 2024-07-11 19:04:38,115] Trial 44 finished with value: 0.5706315789473685 and parameters: {'C': 0.3695867688092688, 'tol': 7.922040115453387e-06, 'penalty': 'l2'}. Best is trial 11 with value: 0.5864561403508772.\n",
      "[I 2024-07-11 19:04:38,160] Trial 45 finished with value: 0.5785614035087719 and parameters: {'C': 2.7023075996070336, 'tol': 1.8414846607049778e-06, 'penalty': 'l2'}. Best is trial 11 with value: 0.5864561403508772.\n",
      "[I 2024-07-11 19:04:38,230] Trial 46 finished with value: 0.551859649122807 and parameters: {'C': 0.8345503818318608, 'tol': 1.688854831343836e-05, 'penalty': 'l1'}. Best is trial 11 with value: 0.5864561403508772.\n",
      "[I 2024-07-11 19:04:38,258] Trial 47 finished with value: 0.5172982456140351 and parameters: {'C': 0.008612369244417667, 'tol': 2.868344686907344e-06, 'penalty': 'l2'}. Best is trial 11 with value: 0.5864561403508772.\n",
      "[I 2024-07-11 19:04:38,309] Trial 48 finished with value: 0.575859649122807 and parameters: {'C': 8.005973189346424, 'tol': 1.3575011255003693e-06, 'penalty': 'l2'}. Best is trial 11 with value: 0.5864561403508772.\n",
      "[I 2024-07-11 19:04:38,342] Trial 49 finished with value: 0.5519298245614036 and parameters: {'C': 0.1323504058032533, 'tol': 5.558013281877194e-06, 'penalty': 'l2'}. Best is trial 11 with value: 0.5864561403508772.\n",
      "[I 2024-07-11 19:04:38,366] Trial 50 finished with value: 0.4591578947368421 and parameters: {'C': 0.02433931483710216, 'tol': 2.351424945016567e-05, 'penalty': 'l1'}. Best is trial 11 with value: 0.5864561403508772.\n",
      "[I 2024-07-11 19:04:38,404] Trial 51 finished with value: 0.5864561403508772 and parameters: {'C': 0.8246996588060039, 'tol': 5.053494785732439e-06, 'penalty': 'l2'}. Best is trial 11 with value: 0.5864561403508772.\n",
      "[I 2024-07-11 19:04:38,439] Trial 52 finished with value: 0.5759298245614035 and parameters: {'C': 0.4068475170663585, 'tol': 8.99260386985392e-06, 'penalty': 'l2'}. Best is trial 11 with value: 0.5864561403508772.\n",
      "[I 2024-07-11 19:04:38,481] Trial 53 finished with value: 0.5759298245614035 and parameters: {'C': 1.9510924451341671, 'tol': 4.749402164180808e-06, 'penalty': 'l2'}. Best is trial 11 with value: 0.5864561403508772.\n",
      "[I 2024-07-11 19:04:38,521] Trial 54 finished with value: 0.5864561403508772 and parameters: {'C': 0.7713693479507504, 'tol': 1.8068279285955134e-06, 'penalty': 'l2'}. Best is trial 11 with value: 0.5864561403508772.\n",
      "[I 2024-07-11 19:04:38,558] Trial 55 finished with value: 0.5864561403508772 and parameters: {'C': 0.8486963585886967, 'tol': 1.3706968332669183e-05, 'penalty': 'l2'}. Best is trial 11 with value: 0.5864561403508772.\n",
      "[I 2024-07-11 19:04:38,604] Trial 56 finished with value: 0.5785263157894737 and parameters: {'C': 4.087808444492537, 'tol': 6.681186688403626e-06, 'penalty': 'l2'}. Best is trial 11 with value: 0.5864561403508772.\n",
      "[I 2024-07-11 19:04:38,657] Trial 57 finished with value: 0.5573333333333335 and parameters: {'C': 34.60937824110627, 'tol': 4.31755728334999e-05, 'penalty': 'l2'}. Best is trial 11 with value: 0.5864561403508772.\n",
      "[I 2024-07-11 19:04:38,690] Trial 58 finished with value: 0.5652631578947369 and parameters: {'C': 0.15989613788071, 'tol': 2.8188304187481372e-06, 'penalty': 'l2'}. Best is trial 11 with value: 0.5864561403508772.\n",
      "[I 2024-07-11 19:04:38,725] Trial 59 finished with value: 0.5759298245614035 and parameters: {'C': 0.404591983771423, 'tol': 2.6334799217189864e-05, 'penalty': 'l2'}. Best is trial 11 with value: 0.5864561403508772.\n",
      "[I 2024-07-11 19:04:38,751] Trial 60 finished with value: 0.5117543859649123 and parameters: {'C': 0.07726338843739734, 'tol': 9.812579098902817e-05, 'penalty': 'l1'}. Best is trial 11 with value: 0.5864561403508772.\n",
      "[I 2024-07-11 19:04:38,792] Trial 61 finished with value: 0.5864561403508772 and parameters: {'C': 0.7655180083359837, 'tol': 1.570555483523162e-06, 'penalty': 'l2'}. Best is trial 11 with value: 0.5864561403508772.\n",
      "[I 2024-07-11 19:04:38,835] Trial 62 finished with value: 0.5785614035087719 and parameters: {'C': 1.7153556105818324, 'tol': 2.4370903657730866e-06, 'penalty': 'l2'}. Best is trial 11 with value: 0.5864561403508772.\n",
      "[I 2024-07-11 19:04:38,875] Trial 63 finished with value: 0.5891228070175438 and parameters: {'C': 0.97294101649907, 'tol': 1.0539563277175033e-06, 'penalty': 'l2'}. Best is trial 63 with value: 0.5891228070175438.\n",
      "[I 2024-07-11 19:04:38,923] Trial 64 finished with value: 0.575859649122807 and parameters: {'C': 3.24959224404264, 'tol': 1.187693420219889e-06, 'penalty': 'l2'}. Best is trial 63 with value: 0.5891228070175438.\n",
      "[I 2024-07-11 19:04:38,958] Trial 65 finished with value: 0.5679298245614035 and parameters: {'C': 0.26692072534958367, 'tol': 4.175980118017784e-06, 'penalty': 'l2'}. Best is trial 63 with value: 0.5891228070175438.\n",
      "[I 2024-07-11 19:04:38,993] Trial 66 finished with value: 0.5838245614035088 and parameters: {'C': 0.5148007245027977, 'tol': 7.890980708221328e-06, 'penalty': 'l2'}. Best is trial 63 with value: 0.5891228070175438.\n",
      "[I 2024-07-11 19:04:39,035] Trial 67 finished with value: 0.5838245614035088 and parameters: {'C': 1.0893369857559427, 'tol': 1.0937331226788453e-06, 'penalty': 'l2'}. Best is trial 63 with value: 0.5891228070175438.\n",
      "[I 2024-07-11 19:04:39,078] Trial 68 finished with value: 0.5785614035087719 and parameters: {'C': 1.796109337750773, 'tol': 2.00543655487363e-06, 'penalty': 'l2'}. Best is trial 63 with value: 0.5891228070175438.\n",
      "[I 2024-07-11 19:04:39,120] Trial 69 finished with value: 0.5865263157894737 and parameters: {'C': 5.388591029396542, 'tol': 0.0612949637981496, 'penalty': 'l2'}. Best is trial 63 with value: 0.5891228070175438.\n",
      "[I 2024-07-11 19:04:39,152] Trial 70 finished with value: 0.5812280701754386 and parameters: {'C': 10.908320524763566, 'tol': 0.06841881841080949, 'penalty': 'l2'}. Best is trial 63 with value: 0.5891228070175438.\n",
      "[I 2024-07-11 19:04:39,185] Trial 71 finished with value: 0.5811929824561404 and parameters: {'C': 5.213943051482797, 'tol': 0.022155394141510854, 'penalty': 'l2'}. Best is trial 63 with value: 0.5891228070175438.\n",
      "[I 2024-07-11 19:04:39,224] Trial 72 finished with value: 0.5732631578947369 and parameters: {'C': 2.4143259329111064, 'tol': 0.0021711850198804132, 'penalty': 'l2'}. Best is trial 63 with value: 0.5891228070175438.\n",
      "[I 2024-07-11 19:04:39,256] Trial 73 finished with value: 0.5652631578947369 and parameters: {'C': 0.19579416896623916, 'tol': 0.00035463574266744063, 'penalty': 'l2'}. Best is trial 63 with value: 0.5891228070175438.\n",
      "[I 2024-07-11 19:04:39,300] Trial 74 finished with value: 0.5547017543859649 and parameters: {'C': 27.895040135117345, 'tol': 0.007181064097088431, 'penalty': 'l2'}. Best is trial 63 with value: 0.5891228070175438.\n",
      "[I 2024-07-11 19:04:39,337] Trial 75 finished with value: 0.5838245614035088 and parameters: {'C': 1.1090825908859456, 'tol': 0.0005427879663712037, 'penalty': 'l2'}. Best is trial 63 with value: 0.5891228070175438.\n",
      "[I 2024-07-11 19:04:39,386] Trial 76 finished with value: 0.5517894736842105 and parameters: {'C': 0.5364448406171848, 'tol': 3.342409147829322e-06, 'penalty': 'l1'}. Best is trial 63 with value: 0.5891228070175438.\n",
      "[I 2024-07-11 19:04:39,431] Trial 77 finished with value: 0.5785263157894737 and parameters: {'C': 3.890216162446774, 'tol': 1.1964502549495898e-05, 'penalty': 'l2'}. Best is trial 63 with value: 0.5891228070175438.\n",
      "[I 2024-07-11 19:04:39,478] Trial 78 finished with value: 0.575859649122807 and parameters: {'C': 6.341381976449001, 'tol': 1.7507892203288785e-05, 'penalty': 'l2'}. Best is trial 63 with value: 0.5891228070175438.\n",
      "[I 2024-07-11 19:04:39,513] Trial 79 finished with value: 0.5732982456140351 and parameters: {'C': 0.33622157491203447, 'tol': 7.449932136559135e-06, 'penalty': 'l2'}. Best is trial 63 with value: 0.5891228070175438.\n",
      "[I 2024-07-11 19:04:39,564] Trial 80 finished with value: 0.5573333333333335 and parameters: {'C': 21.791085135751985, 'tol': 0.00020404335330457564, 'penalty': 'l2'}. Best is trial 63 with value: 0.5891228070175438.\n",
      "[I 2024-07-11 19:04:39,605] Trial 81 finished with value: 0.5864561403508772 and parameters: {'C': 0.7686180274431449, 'tol': 1.938756184559322e-06, 'penalty': 'l2'}. Best is trial 63 with value: 0.5891228070175438.\n",
      "[I 2024-07-11 19:04:39,644] Trial 82 finished with value: 0.5891228070175438 and parameters: {'C': 0.9672281950374932, 'tol': 5.28481667763159e-06, 'penalty': 'l2'}. Best is trial 63 with value: 0.5891228070175438.\n",
      "[I 2024-07-11 19:04:39,686] Trial 83 finished with value: 0.5758947368421052 and parameters: {'C': 1.2149725505370024, 'tol': 5.400164702079595e-06, 'penalty': 'l2'}. Best is trial 63 with value: 0.5891228070175438.\n",
      "[I 2024-07-11 19:04:39,729] Trial 84 finished with value: 0.5732631578947369 and parameters: {'C': 2.221494589423388, 'tol': 4.800388502970123e-06, 'penalty': 'l2'}. Best is trial 63 with value: 0.5891228070175438.\n",
      "[I 2024-07-11 19:04:39,755] Trial 85 finished with value: 0.5409824561403509 and parameters: {'C': 0.000157360375619108, 'tol': 3.3742725906915316e-06, 'penalty': 'l2'}. Best is trial 63 with value: 0.5891228070175438.\n",
      "[I 2024-07-11 19:04:39,791] Trial 86 finished with value: 0.5838245614035088 and parameters: {'C': 0.5801073196018358, 'tol': 2.0316326302018666e-05, 'penalty': 'l2'}. Best is trial 63 with value: 0.5891228070175438.\n",
      "[I 2024-07-11 19:04:39,824] Trial 87 finished with value: 0.5599298245614036 and parameters: {'C': 0.21343332673252052, 'tol': 1.0013139093608753e-05, 'penalty': 'l2'}. Best is trial 63 with value: 0.5891228070175438.\n",
      "[I 2024-07-11 19:04:39,917] Trial 88 finished with value: 0.5491929824561403 and parameters: {'C': 0.9940940466278572, 'tol': 6.683576595799386e-06, 'penalty': 'l1'}. Best is trial 63 with value: 0.5891228070175438.\n",
      "[I 2024-07-11 19:04:39,951] Trial 89 finished with value: 0.5759298245614035 and parameters: {'C': 0.41720257900119995, 'tol': 1.3841473553360737e-05, 'penalty': 'l2'}. Best is trial 63 with value: 0.5891228070175438.\n",
      "[I 2024-07-11 19:04:39,995] Trial 90 finished with value: 0.5785614035087719 and parameters: {'C': 1.5169224506742023, 'tol': 1.3516035959629125e-06, 'penalty': 'l2'}. Best is trial 63 with value: 0.5891228070175438.\n",
      "[I 2024-07-11 19:04:40,033] Trial 91 finished with value: 0.5864561403508772 and parameters: {'C': 0.8119584692303821, 'tol': 2.605622236515988e-06, 'penalty': 'l2'}. Best is trial 63 with value: 0.5891228070175438.\n",
      "[I 2024-07-11 19:04:40,070] Trial 92 finished with value: 0.5838245614035088 and parameters: {'C': 0.5576776138235023, 'tol': 1.696085408022915e-06, 'penalty': 'l2'}. Best is trial 63 with value: 0.5891228070175438.\n",
      "[I 2024-07-11 19:04:40,117] Trial 93 finished with value: 0.5785614035087719 and parameters: {'C': 2.6847000758162314, 'tol': 1.0256071046838818e-06, 'penalty': 'l2'}. Best is trial 63 with value: 0.5891228070175438.\n",
      "[I 2024-07-11 19:04:40,148] Trial 94 finished with value: 0.5706315789473684 and parameters: {'C': 1.5839162043027055, 'tol': 0.02668555058035047, 'penalty': 'l2'}. Best is trial 63 with value: 0.5891228070175438.\n",
      "[I 2024-07-11 19:04:40,182] Trial 95 finished with value: 0.5732982456140351 and parameters: {'C': 0.3080673351817887, 'tol': 4.01164179822029e-06, 'penalty': 'l2'}. Best is trial 63 with value: 0.5891228070175438.\n",
      "[I 2024-07-11 19:04:40,266] Trial 96 finished with value: 0.5546666666666666 and parameters: {'C': 56.05782450628962, 'tol': 2.366719874542232e-06, 'penalty': 'l2'}. Best is trial 63 with value: 0.5891228070175438.\n",
      "[I 2024-07-11 19:04:40,299] Trial 97 finished with value: 0.5519298245614036 and parameters: {'C': 0.1250501080858511, 'tol': 3.147103076837281e-05, 'penalty': 'l2'}. Best is trial 63 with value: 0.5891228070175438.\n",
      "[I 2024-07-11 19:04:40,336] Trial 98 finished with value: 0.5864561403508772 and parameters: {'C': 0.7104064918556581, 'tol': 9.074963781992102e-06, 'penalty': 'l2'}. Best is trial 63 with value: 0.5891228070175438.\n",
      "[I 2024-07-11 19:04:40,367] Trial 99 finished with value: 0.5358947368421052 and parameters: {'C': 0.04863500577359741, 'tol': 6.024417663468706e-06, 'penalty': 'l2'}. Best is trial 63 with value: 0.5891228070175438.\n",
      "[I 2024-07-11 19:04:40,419] Trial 100 finished with value: 0.570561403508772 and parameters: {'C': 11.548111247396447, 'tol': 3.0979848690988867e-06, 'penalty': 'l2'}. Best is trial 63 with value: 0.5891228070175438.\n",
      "[I 2024-07-11 19:04:40,457] Trial 101 finished with value: 0.5891228070175438 and parameters: {'C': 0.9432879343315833, 'tol': 1.364920240788128e-05, 'penalty': 'l2'}. Best is trial 63 with value: 0.5891228070175438.\n",
      "[I 2024-07-11 19:04:40,496] Trial 102 finished with value: 0.5864561403508772 and parameters: {'C': 1.000466146527663, 'tol': 4.301471980915827e-06, 'penalty': 'l2'}. Best is trial 63 with value: 0.5891228070175438.\n",
      "[I 2024-07-11 19:04:40,535] Trial 103 finished with value: 0.5732631578947369 and parameters: {'C': 1.3078050149087785, 'tol': 1.1635270253943972e-05, 'penalty': 'l2'}. Best is trial 63 with value: 0.5891228070175438.\n",
      "[I 2024-07-11 19:04:40,591] Trial 104 finished with value: 0.575859649122807 and parameters: {'C': 3.401377115477574, 'tol': 1.3971543264638353e-06, 'penalty': 'l2'}. Best is trial 63 with value: 0.5891228070175438.\n",
      "[I 2024-07-11 19:04:40,628] Trial 105 finished with value: 0.5759298245614035 and parameters: {'C': 0.42132603128603835, 'tol': 4.585457449722064e-05, 'penalty': 'l2'}. Best is trial 63 with value: 0.5891228070175438.\n",
      "[I 2024-07-11 19:04:40,671] Trial 106 finished with value: 0.5680000000000001 and parameters: {'C': 2.217456083179097, 'tol': 0.001156541119251495, 'penalty': 'l1'}. Best is trial 63 with value: 0.5891228070175438.\n",
      "[I 2024-07-11 19:04:40,712] Trial 107 finished with value: 0.5785614035087719 and parameters: {'C': 1.8572545331526895, 'tol': 2.0293392230043814e-05, 'penalty': 'l2'}. Best is trial 63 with value: 0.5891228070175438.\n",
      "[I 2024-07-11 19:04:40,751] Trial 108 finished with value: 0.5864561403508772 and parameters: {'C': 0.8805758497499809, 'tol': 2.08430074111674e-06, 'penalty': 'l2'}. Best is trial 63 with value: 0.5891228070175438.\n",
      "[I 2024-07-11 19:04:40,787] Trial 109 finished with value: 0.5838245614035088 and parameters: {'C': 0.6508634036319503, 'tol': 8.200902660499103e-06, 'penalty': 'l2'}. Best is trial 63 with value: 0.5891228070175438.\n",
      "[I 2024-07-11 19:04:40,819] Trial 110 finished with value: 0.5492280701754386 and parameters: {'C': 0.0951972711047555, 'tol': 1.425051837838447e-05, 'penalty': 'l2'}. Best is trial 63 with value: 0.5891228070175438.\n",
      "[I 2024-07-11 19:04:40,854] Trial 111 finished with value: 0.5785964912280701 and parameters: {'C': 0.43658408540008076, 'tol': 1.3552421494773496e-05, 'penalty': 'l2'}. Best is trial 63 with value: 0.5891228070175438.\n",
      "[I 2024-07-11 19:04:40,894] Trial 112 finished with value: 0.5891228070175438 and parameters: {'C': 0.9614707169245805, 'tol': 6.2776462830613516e-06, 'penalty': 'l2'}. Best is trial 63 with value: 0.5891228070175438.\n",
      "[I 2024-07-11 19:04:40,936] Trial 113 finished with value: 0.5785614035087719 and parameters: {'C': 1.45320898972271, 'tol': 5.3417386999075966e-06, 'penalty': 'l2'}. Best is trial 63 with value: 0.5891228070175438.\n",
      "[I 2024-07-11 19:04:40,986] Trial 114 finished with value: 0.5785263157894737 and parameters: {'C': 5.210526888462512, 'tol': 6.738008654256567e-06, 'penalty': 'l2'}. Best is trial 63 with value: 0.5891228070175438.\n",
      "[I 2024-07-11 19:04:41,018] Trial 115 finished with value: 0.5838245614035088 and parameters: {'C': 0.6619431736056239, 'tol': 0.006858747500251605, 'penalty': 'l2'}. Best is trial 63 with value: 0.5891228070175438.\n",
      "[I 2024-07-11 19:04:41,052] Trial 116 finished with value: 0.5678947368421052 and parameters: {'C': 0.23391661933814242, 'tol': 2.939817491443649e-06, 'penalty': 'l2'}. Best is trial 63 with value: 0.5891228070175438.\n",
      "[I 2024-07-11 19:04:41,092] Trial 117 finished with value: 0.5758947368421052 and parameters: {'C': 1.195776196434743, 'tol': 9.390355974935872e-06, 'penalty': 'l2'}. Best is trial 63 with value: 0.5891228070175438.\n",
      "[I 2024-07-11 19:04:41,157] Trial 118 finished with value: 0.5546666666666666 and parameters: {'C': 98.75115336484194, 'tol': 4.2807432130012565e-06, 'penalty': 'l2'}. Best is trial 63 with value: 0.5891228070175438.\n",
      "[I 2024-07-11 19:04:41,195] Trial 119 finished with value: 0.5732982456140351 and parameters: {'C': 0.3090416654552756, 'tol': 1.56935252615447e-06, 'penalty': 'l2'}. Best is trial 63 with value: 0.5891228070175438.\n",
      "[I 2024-07-11 19:04:41,290] Trial 120 finished with value: 0.5491929824561403 and parameters: {'C': 1.0037753454535594, 'tol': 5.60341438942831e-06, 'penalty': 'l1'}. Best is trial 63 with value: 0.5891228070175438.\n",
      "[I 2024-07-11 19:04:41,327] Trial 121 finished with value: 0.5864561403508772 and parameters: {'C': 0.7650961241358117, 'tol': 1.5783286556741837e-05, 'penalty': 'l2'}. Best is trial 63 with value: 0.5891228070175438.\n",
      "[I 2024-07-11 19:04:41,354] Trial 122 finished with value: 0.5383157894736843 and parameters: {'C': 0.0003556855400268509, 'tol': 2.4415300676526516e-05, 'penalty': 'l2'}. Best is trial 63 with value: 0.5891228070175438.\n",
      "[I 2024-07-11 19:04:41,398] Trial 123 finished with value: 0.5759298245614035 and parameters: {'C': 1.966341772265452, 'tol': 1.0894901808872947e-05, 'penalty': 'l2'}. Best is trial 63 with value: 0.5891228070175438.\n",
      "[I 2024-07-11 19:04:41,438] Trial 124 finished with value: 0.5864561403508772 and parameters: {'C': 0.8544293937886428, 'tol': 7.77244018615733e-06, 'penalty': 'l2'}. Best is trial 63 with value: 0.5891228070175438.\n",
      "[I 2024-07-11 19:04:41,475] Trial 125 finished with value: 0.5838245614035088 and parameters: {'C': 0.5053450979970047, 'tol': 3.485042422022285e-06, 'penalty': 'l2'}. Best is trial 63 with value: 0.5891228070175438.\n",
      "[I 2024-07-11 19:04:41,520] Trial 126 finished with value: 0.5811929824561404 and parameters: {'C': 2.8988097156551023, 'tol': 2.055775740342631e-05, 'penalty': 'l2'}. Best is trial 63 with value: 0.5891228070175438.\n",
      "[I 2024-07-11 19:04:41,551] Trial 127 finished with value: 0.5652631578947369 and parameters: {'C': 0.16529376190742054, 'tol': 0.0038361020878107262, 'penalty': 'l2'}. Best is trial 63 with value: 0.5891228070175438.\n",
      "[I 2024-07-11 19:04:41,593] Trial 128 finished with value: 0.5785614035087719 and parameters: {'C': 1.4299627467525635, 'tol': 2.2310287021286783e-06, 'penalty': 'l2'}. Best is trial 63 with value: 0.5891228070175438.\n",
      "[I 2024-07-11 19:04:41,629] Trial 129 finished with value: 0.5838245614035088 and parameters: {'C': 0.5801753877842375, 'tol': 0.00010528107518382932, 'penalty': 'l2'}. Best is trial 63 with value: 0.5891228070175438.\n",
      "[I 2024-07-11 19:04:41,674] Trial 130 finished with value: 0.5891228070175438 and parameters: {'C': 0.9694146869127565, 'tol': 1.2617401702849486e-05, 'penalty': 'l2'}. Best is trial 63 with value: 0.5891228070175438.\n",
      "[I 2024-07-11 19:04:41,713] Trial 131 finished with value: 0.5864561403508772 and parameters: {'C': 1.007259469132947, 'tol': 1.1747387923187941e-05, 'penalty': 'l2'}. Best is trial 63 with value: 0.5891228070175438.\n",
      "[I 2024-07-11 19:04:41,755] Trial 132 finished with value: 0.5785614035087719 and parameters: {'C': 1.6531299043331347, 'tol': 6.5933533394095215e-06, 'penalty': 'l2'}. Best is trial 63 with value: 0.5891228070175438.\n",
      "[I 2024-07-11 19:04:41,793] Trial 133 finished with value: 0.5864561403508772 and parameters: {'C': 0.7083798270903477, 'tol': 1.4549535237231586e-05, 'penalty': 'l2'}. Best is trial 63 with value: 0.5891228070175438.\n",
      "[I 2024-07-11 19:04:41,829] Trial 134 finished with value: 0.5812280701754386 and parameters: {'C': 0.45411460629295697, 'tol': 2.880348056418993e-05, 'penalty': 'l2'}. Best is trial 63 with value: 0.5891228070175438.\n",
      "[I 2024-07-11 19:04:41,865] Trial 135 finished with value: 0.5732982456140351 and parameters: {'C': 0.32915361639544277, 'tol': 8.408831734282934e-06, 'penalty': 'l2'}. Best is trial 63 with value: 0.5891228070175438.\n",
      "[I 2024-07-11 19:04:41,907] Trial 136 finished with value: 0.5758947368421052 and parameters: {'C': 1.18752560347764, 'tol': 1.1556997747359573e-06, 'penalty': 'l2'}. Best is trial 63 with value: 0.5891228070175438.\n",
      "[I 2024-07-11 19:04:41,935] Trial 137 finished with value: 0.5276842105263159 and parameters: {'C': 0.00222764709614897, 'tol': 4.377845291891108e-06, 'penalty': 'l2'}. Best is trial 63 with value: 0.5891228070175438.\n",
      "[I 2024-07-11 19:04:41,982] Trial 138 finished with value: 0.5785263157894737 and parameters: {'C': 4.243423544886829, 'tol': 1.0180800776958477e-05, 'penalty': 'l2'}. Best is trial 63 with value: 0.5891228070175438.\n",
      "[I 2024-07-11 19:04:42,022] Trial 139 finished with value: 0.5864561403508772 and parameters: {'C': 0.9327584030248727, 'tol': 1.8021321971119073e-05, 'penalty': 'l2'}. Best is trial 63 with value: 0.5891228070175438.\n",
      "[I 2024-07-11 19:04:42,053] Trial 140 finished with value: 0.5706315789473684 and parameters: {'C': 2.2686806784438436, 'tol': 0.09961443209740696, 'penalty': 'l2'}. Best is trial 63 with value: 0.5891228070175438.\n",
      "[I 2024-07-11 19:04:42,093] Trial 141 finished with value: 0.5864561403508772 and parameters: {'C': 0.7153912485490311, 'tol': 1.4695102505151783e-06, 'penalty': 'l2'}. Best is trial 63 with value: 0.5891228070175438.\n",
      "[I 2024-07-11 19:04:42,131] Trial 142 finished with value: 0.5838245614035088 and parameters: {'C': 0.5664642467060744, 'tol': 1.7082634464974283e-06, 'penalty': 'l2'}. Best is trial 63 with value: 0.5891228070175438.\n",
      "[I 2024-07-11 19:04:42,171] Trial 143 finished with value: 0.5758947368421052 and parameters: {'C': 1.2586506920159908, 'tol': 4.843589043411197e-06, 'penalty': 'l2'}. Best is trial 63 with value: 0.5891228070175438.\n",
      "[I 2024-07-11 19:04:42,212] Trial 144 finished with value: 0.5785614035087719 and parameters: {'C': 1.7190671701574303, 'tol': 2.859291643397597e-06, 'penalty': 'l2'}. Best is trial 63 with value: 0.5891228070175438.\n",
      "[I 2024-07-11 19:04:42,251] Trial 145 finished with value: 0.5864561403508772 and parameters: {'C': 0.8362632809233284, 'tol': 1.887472076186122e-06, 'penalty': 'l2'}. Best is trial 63 with value: 0.5891228070175438.\n",
      "[I 2024-07-11 19:04:42,299] Trial 146 finished with value: 0.5570877192982456 and parameters: {'C': 0.414913191969438, 'tol': 1.0924081793922659e-06, 'penalty': 'l1'}. Best is trial 63 with value: 0.5891228070175438.\n",
      "[I 2024-07-11 19:04:42,340] Trial 147 finished with value: 0.5838245614035088 and parameters: {'C': 1.0982492784140845, 'tol': 6.1647176202937735e-06, 'penalty': 'l2'}. Best is trial 63 with value: 0.5891228070175438.\n",
      "[I 2024-07-11 19:04:42,378] Trial 148 finished with value: 0.5838245614035088 and parameters: {'C': 0.6321362348316945, 'tol': 2.5553107146500347e-06, 'penalty': 'l2'}. Best is trial 63 with value: 0.5891228070175438.\n",
      "[I 2024-07-11 19:04:42,418] Trial 149 finished with value: 0.5785614035087719 and parameters: {'C': 1.4838153577522546, 'tol': 1.2875738888098e-05, 'penalty': 'l2'}. Best is trial 63 with value: 0.5891228070175438.\n",
      "[I 2024-07-11 19:04:42,462] Trial 150 finished with value: 0.5732631578947369 and parameters: {'C': 2.265863485915439, 'tol': 3.595152891867305e-06, 'penalty': 'l2'}. Best is trial 63 with value: 0.5891228070175438.\n",
      "[I 2024-07-11 19:04:42,503] Trial 151 finished with value: 0.5891228070175438 and parameters: {'C': 0.9596770120188606, 'tol': 1.911966713422606e-06, 'penalty': 'l2'}. Best is trial 63 with value: 0.5891228070175438.\n",
      "[I 2024-07-11 19:04:42,544] Trial 152 finished with value: 0.5864561403508772 and parameters: {'C': 0.8659338633812158, 'tol': 1.3216740466942168e-06, 'penalty': 'l2'}. Best is trial 63 with value: 0.5891228070175438.\n",
      "[I 2024-07-11 19:04:42,582] Trial 153 finished with value: 0.5812280701754386 and parameters: {'C': 0.4646321736882624, 'tol': 2.2112389290655487e-06, 'penalty': 'l2'}. Best is trial 63 with value: 0.5891228070175438.\n",
      "[I 2024-07-11 19:04:42,624] Trial 154 finished with value: 0.5758947368421052 and parameters: {'C': 1.2226958747769505, 'tol': 1.6820106618697031e-06, 'penalty': 'l2'}. Best is trial 63 with value: 0.5891228070175438.\n",
      "[I 2024-07-11 19:04:42,658] Trial 155 finished with value: 0.5705614035087719 and parameters: {'C': 0.2621088647117906, 'tol': 8.009617503027787e-06, 'penalty': 'l2'}. Best is trial 63 with value: 0.5891228070175438.\n",
      "[I 2024-07-11 19:04:42,692] Trial 156 finished with value: 0.5864561403508772 and parameters: {'C': 0.734699352616575, 'tol': 0.0006722682457513512, 'penalty': 'l2'}. Best is trial 63 with value: 0.5891228070175438.\n",
      "[I 2024-07-11 19:04:42,740] Trial 157 finished with value: 0.5785263157894737 and parameters: {'C': 3.0747189547430804, 'tol': 1.042799482298802e-06, 'penalty': 'l2'}. Best is trial 63 with value: 0.5891228070175438.\n",
      "[I 2024-07-11 19:04:42,776] Trial 158 finished with value: 0.5732982456140351 and parameters: {'C': 0.3386723497468806, 'tol': 5.681675138845546e-06, 'penalty': 'l2'}. Best is trial 63 with value: 0.5891228070175438.\n",
      "[I 2024-07-11 19:04:42,816] Trial 159 finished with value: 0.5891228070175438 and parameters: {'C': 0.998457133882177, 'tol': 3.0448763165734882e-06, 'penalty': 'l2'}. Best is trial 63 with value: 0.5891228070175438.\n",
      "[I 2024-07-11 19:04:42,868] Trial 160 finished with value: 0.5785614035087719 and parameters: {'C': 1.662907426003998, 'tol': 3.6905152162651766e-06, 'penalty': 'l2'}. Best is trial 63 with value: 0.5891228070175438.\n",
      "[I 2024-07-11 19:04:42,940] Trial 161 finished with value: 0.5864561403508772 and parameters: {'C': 0.8634664884614409, 'tol': 2.8938203529045688e-06, 'penalty': 'l2'}. Best is trial 63 with value: 0.5891228070175438.\n",
      "[I 2024-07-11 19:04:42,980] Trial 162 finished with value: 0.5838245614035088 and parameters: {'C': 0.5449459608553447, 'tol': 9.85004478324921e-06, 'penalty': 'l2'}. Best is trial 63 with value: 0.5891228070175438.\n",
      "[I 2024-07-11 19:04:43,016] Trial 163 finished with value: 0.5838245614035088 and parameters: {'C': 1.0548563501179575, 'tol': 0.00024254747045852226, 'penalty': 'l2'}. Best is trial 63 with value: 0.5891228070175438.\n",
      "[I 2024-07-11 19:04:43,055] Trial 164 finished with value: 0.5838245614035088 and parameters: {'C': 0.6406816650310045, 'tol': 2.1743301344426144e-06, 'penalty': 'l2'}. Best is trial 63 with value: 0.5891228070175438.\n",
      "[I 2024-07-11 19:04:43,097] Trial 165 finished with value: 0.5705964912280701 and parameters: {'C': 1.3952099795426252, 'tol': 4.932165454427131e-06, 'penalty': 'l2'}. Best is trial 63 with value: 0.5891228070175438.\n",
      "[I 2024-07-11 19:04:43,143] Trial 166 finished with value: 0.5759298245614035 and parameters: {'C': 1.9390148093788617, 'tol': 1.4135013961536413e-06, 'penalty': 'l2'}. Best is trial 63 with value: 0.5891228070175438.\n",
      "[I 2024-07-11 19:04:43,183] Trial 167 finished with value: 0.5891228070175438 and parameters: {'C': 0.996293901143963, 'tol': 7.160452563304002e-06, 'penalty': 'l2'}. Best is trial 63 with value: 0.5891228070175438.\n",
      "[I 2024-07-11 19:04:43,223] Trial 168 finished with value: 0.5838245614035088 and parameters: {'C': 1.0991462251677209, 'tol': 7.696842807740602e-06, 'penalty': 'l2'}. Best is trial 63 with value: 0.5891228070175438.\n",
      "[I 2024-07-11 19:04:43,252] Trial 169 finished with value: 0.5518947368421052 and parameters: {'C': 0.932468672788733, 'tol': 0.031825350749163525, 'penalty': 'l1'}. Best is trial 63 with value: 0.5891228070175438.\n",
      "[I 2024-07-11 19:04:43,289] Trial 170 finished with value: 0.5838245614035088 and parameters: {'C': 0.5149588057793965, 'tol': 1.6073339667379916e-05, 'penalty': 'l2'}. Best is trial 63 with value: 0.5891228070175438.\n",
      "[I 2024-07-11 19:04:43,321] Trial 171 finished with value: 0.5864561403508772 and parameters: {'C': 0.7280042841048499, 'tol': 0.015228169374844332, 'penalty': 'l2'}. Best is trial 63 with value: 0.5891228070175438.\n",
      "[I 2024-07-11 19:04:43,363] Trial 172 finished with value: 0.5785614035087719 and parameters: {'C': 1.4454158948202873, 'tol': 6.9706995766012225e-06, 'penalty': 'l2'}. Best is trial 63 with value: 0.5891228070175438.\n",
      "[I 2024-07-11 19:04:43,403] Trial 173 finished with value: 0.5864561403508772 and parameters: {'C': 0.8771191892347728, 'tol': 1.2323683343955394e-05, 'penalty': 'l2'}. Best is trial 63 with value: 0.5891228070175438.\n",
      "[I 2024-07-11 19:04:43,442] Trial 174 finished with value: 0.5838245614035088 and parameters: {'C': 0.618604417051288, 'tol': 4.488003849901676e-06, 'penalty': 'l2'}. Best is trial 63 with value: 0.5891228070175438.\n",
      "[I 2024-07-11 19:04:43,483] Trial 175 finished with value: 0.5758947368421052 and parameters: {'C': 1.1939241384454418, 'tol': 9.366861253578005e-06, 'penalty': 'l2'}. Best is trial 63 with value: 0.5891228070175438.\n",
      "[I 2024-07-11 19:04:43,519] Trial 176 finished with value: 0.5759298245614035 and parameters: {'C': 0.4105299738610247, 'tol': 5.911476754459569e-06, 'penalty': 'l2'}. Best is trial 63 with value: 0.5891228070175438.\n",
      "[I 2024-07-11 19:04:43,569] Trial 177 finished with value: 0.5758947368421052 and parameters: {'C': 2.4162219164339738, 'tol': 3.4636876159117438e-06, 'penalty': 'l2'}. Best is trial 63 with value: 0.5891228070175438.\n",
      "[I 2024-07-11 19:04:43,611] Trial 178 finished with value: 0.5864561403508772 and parameters: {'C': 0.8281018250674312, 'tol': 2.7390037587806622e-06, 'penalty': 'l2'}. Best is trial 63 with value: 0.5891228070175438.\n",
      "[I 2024-07-11 19:04:43,656] Trial 179 finished with value: 0.5785614035087719 and parameters: {'C': 1.7659451599533402, 'tol': 2.1107567170714114e-06, 'penalty': 'l2'}. Best is trial 63 with value: 0.5891228070175438.\n",
      "[I 2024-07-11 19:04:43,697] Trial 180 finished with value: 0.5838245614035088 and parameters: {'C': 1.1024916451631541, 'tol': 1.6818511970165777e-06, 'penalty': 'l2'}. Best is trial 63 with value: 0.5891228070175438.\n",
      "[I 2024-07-11 19:04:43,737] Trial 181 finished with value: 0.5864561403508772 and parameters: {'C': 0.7309904096628181, 'tol': 2.1323506462408255e-06, 'penalty': 'l2'}. Best is trial 63 with value: 0.5891228070175438.\n",
      "[I 2024-07-11 19:04:43,776] Trial 182 finished with value: 0.5838245614035088 and parameters: {'C': 0.5252351582072371, 'tol': 1.008389617505379e-06, 'penalty': 'l2'}. Best is trial 63 with value: 0.5891228070175438.\n",
      "[I 2024-07-11 19:04:43,817] Trial 183 finished with value: 0.5891228070175438 and parameters: {'C': 0.9723124170651538, 'tol': 1.4112105291016682e-06, 'penalty': 'l2'}. Best is trial 63 with value: 0.5891228070175438.\n",
      "[I 2024-07-11 19:04:43,859] Trial 184 finished with value: 0.5705964912280701 and parameters: {'C': 1.3868319327829666, 'tol': 1.6048529292824255e-06, 'penalty': 'l2'}. Best is trial 63 with value: 0.5891228070175438.\n",
      "[I 2024-07-11 19:04:43,900] Trial 185 finished with value: 0.5891228070175438 and parameters: {'C': 0.9461505367416081, 'tol': 1.424561329181178e-06, 'penalty': 'l2'}. Best is trial 63 with value: 0.5891228070175438.\n",
      "[I 2024-07-11 19:04:43,940] Trial 186 finished with value: 0.5891228070175438 and parameters: {'C': 0.9748145897844992, 'tol': 1.302602713429003e-06, 'penalty': 'l2'}. Best is trial 63 with value: 0.5891228070175438.\n",
      "[I 2024-07-11 19:04:43,982] Trial 187 finished with value: 0.5838245614035088 and parameters: {'C': 1.0666672505357375, 'tol': 1.3386989758249427e-06, 'penalty': 'l2'}. Best is trial 63 with value: 0.5891228070175438.\n",
      "[I 2024-07-11 19:04:44,012] Trial 188 finished with value: 0.5251929824561403 and parameters: {'C': 0.013048072956793997, 'tol': 1.2541584122768308e-06, 'penalty': 'l2'}. Best is trial 63 with value: 0.5891228070175438.\n",
      "[I 2024-07-11 19:04:44,064] Trial 189 finished with value: 0.575859649122807 and parameters: {'C': 7.222633250620437, 'tol': 1.8248346565594968e-06, 'penalty': 'l2'}. Best is trial 63 with value: 0.5891228070175438.\n",
      "[I 2024-07-11 19:04:44,108] Trial 190 finished with value: 0.5759298245614035 and parameters: {'C': 1.9193619623757077, 'tol': 2.6725986508692616e-06, 'penalty': 'l2'}. Best is trial 63 with value: 0.5891228070175438.\n",
      "[I 2024-07-11 19:04:44,148] Trial 191 finished with value: 0.5864561403508772 and parameters: {'C': 0.8628004708597107, 'tol': 1.0684304728815657e-05, 'penalty': 'l2'}. Best is trial 63 with value: 0.5891228070175438.\n",
      "[I 2024-07-11 19:04:44,191] Trial 192 finished with value: 0.5732631578947369 and parameters: {'C': 1.3500398985368578, 'tol': 1.275610379239529e-06, 'penalty': 'l2'}. Best is trial 63 with value: 0.5891228070175438.\n",
      "[I 2024-07-11 19:04:44,230] Trial 193 finished with value: 0.5838245614035088 and parameters: {'C': 0.6674111699574817, 'tol': 8.250643324037846e-06, 'penalty': 'l2'}. Best is trial 63 with value: 0.5891228070175438.\n",
      "[I 2024-07-11 19:04:44,269] Trial 194 finished with value: 0.5891228070175438 and parameters: {'C': 0.9979899536956429, 'tol': 6.5677440612249816e-06, 'penalty': 'l2'}. Best is trial 63 with value: 0.5891228070175438.\n",
      "[I 2024-07-11 19:04:44,312] Trial 195 finished with value: 0.5838245614035088 and parameters: {'C': 1.0633626611340286, 'tol': 5.234365707292846e-06, 'penalty': 'l2'}. Best is trial 63 with value: 0.5891228070175438.\n",
      "[I 2024-07-11 19:04:44,354] Trial 196 finished with value: 0.5785614035087719 and parameters: {'C': 1.4977915146974594, 'tol': 7.341082313863196e-06, 'penalty': 'l2'}. Best is trial 63 with value: 0.5891228070175438.\n",
      "[I 2024-07-11 19:04:44,392] Trial 197 finished with value: 0.5838245614035088 and parameters: {'C': 0.619078627963866, 'tol': 4.016699673408262e-06, 'penalty': 'l2'}. Best is trial 63 with value: 0.5891228070175438.\n",
      "[I 2024-07-11 19:04:44,428] Trial 198 finished with value: 0.5732631578947369 and parameters: {'C': 0.3760419777250259, 'tol': 6.516427073006699e-06, 'penalty': 'l2'}. Best is trial 63 with value: 0.5891228070175438.\n",
      "[I 2024-07-11 19:04:44,468] Trial 199 finished with value: 0.5891228070175438 and parameters: {'C': 0.9415341982544997, 'tol': 1.760453638458997e-06, 'penalty': 'l2'}. Best is trial 63 with value: 0.5891228070175438.\n",
      "[I 2024-07-11 19:04:44,509] Trial 200 finished with value: 0.5864561403508772 and parameters: {'C': 1.0171491482022075, 'tol': 3.212543465949618e-06, 'penalty': 'l2'}. Best is trial 63 with value: 0.5891228070175438.\n",
      "[I 2024-07-11 19:04:44,551] Trial 201 finished with value: 0.5864561403508772 and parameters: {'C': 0.8224553183320351, 'tol': 1.000180098838155e-06, 'penalty': 'l2'}. Best is trial 63 with value: 0.5891228070175438.\n",
      "[I 2024-07-11 19:04:44,591] Trial 202 finished with value: 0.5758947368421052 and parameters: {'C': 1.2303970029468476, 'tol': 0.00013776550225249776, 'penalty': 'l2'}. Best is trial 63 with value: 0.5891228070175438.\n",
      "[I 2024-07-11 19:04:44,629] Trial 203 finished with value: 0.5838245614035088 and parameters: {'C': 0.5293218051709625, 'tol': 1.5803474195763095e-06, 'penalty': 'l2'}. Best is trial 63 with value: 0.5891228070175438.\n",
      "[I 2024-07-11 19:04:44,686] Trial 204 finished with value: 0.5573333333333335 and parameters: {'C': 18.294851907689562, 'tol': 1.908452446697324e-06, 'penalty': 'l2'}. Best is trial 63 with value: 0.5891228070175438.\n",
      "[I 2024-07-11 19:04:44,728] Trial 205 finished with value: 0.5864561403508772 and parameters: {'C': 0.9133220039440842, 'tol': 1.4481010060613015e-06, 'penalty': 'l2'}. Best is trial 63 with value: 0.5891228070175438.\n",
      "[I 2024-07-11 19:04:44,771] Trial 206 finished with value: 0.5759298245614035 and parameters: {'C': 1.8887209688160846, 'tol': 2.5460656241087856e-06, 'penalty': 'l2'}. Best is trial 63 with value: 0.5891228070175438.\n",
      "[I 2024-07-11 19:04:44,799] Trial 207 finished with value: 0.4591578947368421 and parameters: {'C': 0.0001060054673577461, 'tol': 4.83710362612348e-06, 'penalty': 'l1'}. Best is trial 63 with value: 0.5891228070175438.\n",
      "[I 2024-07-11 19:04:44,841] Trial 208 finished with value: 0.5838245614035088 and parameters: {'C': 0.6701262109549277, 'tol': 1.941642148935405e-06, 'penalty': 'l2'}. Best is trial 63 with value: 0.5891228070175438.\n",
      "[I 2024-07-11 19:04:44,877] Trial 209 finished with value: 0.5811929824561404 and parameters: {'C': 1.1440457809893267, 'tol': 0.0029782389531427724, 'penalty': 'l2'}. Best is trial 63 with value: 0.5891228070175438.\n",
      "[I 2024-07-11 19:04:44,919] Trial 210 finished with value: 0.5785614035087719 and parameters: {'C': 1.4884800863147896, 'tol': 9.751337086369023e-06, 'penalty': 'l2'}. Best is trial 63 with value: 0.5891228070175438.\n",
      "[I 2024-07-11 19:04:44,959] Trial 211 finished with value: 0.5864561403508772 and parameters: {'C': 0.8257711179531806, 'tol': 1.4251029929528189e-05, 'penalty': 'l2'}. Best is trial 63 with value: 0.5891228070175438.\n",
      "[I 2024-07-11 19:04:44,998] Trial 212 finished with value: 0.5864561403508772 and parameters: {'C': 0.6969881159142362, 'tol': 1.2734982441910182e-05, 'penalty': 'l2'}. Best is trial 63 with value: 0.5891228070175438.\n",
      "[I 2024-07-11 19:04:45,040] Trial 213 finished with value: 0.5891228070175438 and parameters: {'C': 0.9616613673584173, 'tol': 6.574643442245574e-06, 'penalty': 'l2'}. Best is trial 63 with value: 0.5891228070175438.\n",
      "[I 2024-07-11 19:04:45,080] Trial 214 finished with value: 0.5891228070175438 and parameters: {'C': 0.94541236713258, 'tol': 6.618100456166066e-06, 'penalty': 'l2'}. Best is trial 63 with value: 0.5891228070175438.\n",
      "[I 2024-07-11 19:04:45,126] Trial 215 finished with value: 0.5838245614035088 and parameters: {'C': 1.0889913296639977, 'tol': 6.201127241163535e-06, 'penalty': 'l2'}. Best is trial 63 with value: 0.5891228070175438.\n",
      "[I 2024-07-11 19:04:45,169] Trial 216 finished with value: 0.5785614035087719 and parameters: {'C': 1.440414789963432, 'tol': 6.167586576219287e-06, 'penalty': 'l2'}. Best is trial 63 with value: 0.5891228070175438.\n",
      "[I 2024-07-11 19:04:45,209] Trial 217 finished with value: 0.5891228070175438 and parameters: {'C': 0.9427473148949547, 'tol': 9.055141453124632e-06, 'penalty': 'l2'}. Best is trial 63 with value: 0.5891228070175438.\n",
      "[I 2024-07-11 19:04:45,254] Trial 218 finished with value: 0.5758947368421052 and parameters: {'C': 2.3746417421973107, 'tol': 9.197147145658212e-06, 'penalty': 'l2'}. Best is trial 63 with value: 0.5891228070175438.\n",
      "[I 2024-07-11 19:04:45,296] Trial 219 finished with value: 0.5891228070175438 and parameters: {'C': 0.9656218823495489, 'tol': 8.716878862021005e-06, 'penalty': 'l2'}. Best is trial 63 with value: 0.5891228070175438.\n",
      "[I 2024-07-11 19:04:45,336] Trial 220 finished with value: 0.5891228070175438 and parameters: {'C': 0.970431000616615, 'tol': 8.76586027228254e-06, 'penalty': 'l2'}. Best is trial 63 with value: 0.5891228070175438.\n",
      "[I 2024-07-11 19:04:45,378] Trial 221 finished with value: 0.5891228070175438 and parameters: {'C': 0.9891100114829141, 'tol': 7.773110097833621e-06, 'penalty': 'l2'}. Best is trial 63 with value: 0.5891228070175438.\n",
      "[I 2024-07-11 19:04:45,419] Trial 222 finished with value: 0.5891228070175438 and parameters: {'C': 0.9847218057488499, 'tol': 8.86933719311066e-06, 'penalty': 'l2'}. Best is trial 63 with value: 0.5891228070175438.\n",
      "[I 2024-07-11 19:04:45,461] Trial 223 finished with value: 0.5864561403508772 and parameters: {'C': 1.0265343092506927, 'tol': 8.470871403243763e-06, 'penalty': 'l2'}. Best is trial 63 with value: 0.5891228070175438.\n",
      "[I 2024-07-11 19:04:45,503] Trial 224 finished with value: 0.5758947368421052 and parameters: {'C': 1.2392449953895968, 'tol': 1.0403136347343e-05, 'penalty': 'l2'}. Best is trial 63 with value: 0.5891228070175438.\n",
      "[I 2024-07-11 19:04:45,546] Trial 225 finished with value: 0.5785614035087719 and parameters: {'C': 1.684863579218953, 'tol': 7.327791121919831e-06, 'penalty': 'l2'}. Best is trial 63 with value: 0.5891228070175438.\n",
      "[I 2024-07-11 19:04:45,588] Trial 226 finished with value: 0.5864561403508772 and parameters: {'C': 0.9226498905711624, 'tol': 7.58856390925891e-06, 'penalty': 'l2'}. Best is trial 63 with value: 0.5891228070175438.\n",
      "[I 2024-07-11 19:04:45,626] Trial 227 finished with value: 0.5838245614035088 and parameters: {'C': 0.5471796235825263, 'tol': 1.1143106504356493e-05, 'penalty': 'l2'}. Best is trial 63 with value: 0.5891228070175438.\n",
      "[I 2024-07-11 19:04:45,669] Trial 228 finished with value: 0.5732280701754385 and parameters: {'C': 1.4172950640149193, 'tol': 5.288576673924669e-06, 'penalty': 'l2'}. Best is trial 63 with value: 0.5891228070175438.\n",
      "[I 2024-07-11 19:04:45,709] Trial 229 finished with value: 0.5864561403508772 and parameters: {'C': 0.6958007768136149, 'tol': 8.928164774691246e-06, 'penalty': 'l2'}. Best is trial 63 with value: 0.5891228070175438.\n",
      "[I 2024-07-11 19:04:45,751] Trial 230 finished with value: 0.5891228070175438 and parameters: {'C': 0.9960006395495026, 'tol': 6.522205094695049e-06, 'penalty': 'l2'}. Best is trial 63 with value: 0.5891228070175438.\n",
      "[I 2024-07-11 19:04:45,793] Trial 231 finished with value: 0.5758947368421052 and parameters: {'C': 1.2058473680456325, 'tol': 6.289323664161019e-06, 'penalty': 'l2'}. Best is trial 63 with value: 0.5891228070175438.\n",
      "[I 2024-07-11 19:04:45,834] Trial 232 finished with value: 0.5891228070175438 and parameters: {'C': 0.9687995944630646, 'tol': 7.52093286021852e-06, 'penalty': 'l2'}. Best is trial 63 with value: 0.5891228070175438.\n",
      "[I 2024-07-11 19:04:45,877] Trial 233 finished with value: 0.5864561403508772 and parameters: {'C': 0.9342433884742296, 'tol': 7.139323418066353e-06, 'penalty': 'l2'}. Best is trial 63 with value: 0.5891228070175438.\n",
      "[I 2024-07-11 19:04:45,918] Trial 234 finished with value: 0.5864561403508772 and parameters: {'C': 0.8773475238872915, 'tol': 4.803561634511915e-06, 'penalty': 'l2'}. Best is trial 63 with value: 0.5891228070175438.\n",
      "[I 2024-07-11 19:04:45,958] Trial 235 finished with value: 0.5864561403508772 and parameters: {'C': 0.7347853056917049, 'tol': 9.16757066666989e-06, 'penalty': 'l2'}. Best is trial 63 with value: 0.5891228070175438.\n",
      "[I 2024-07-11 19:04:46,003] Trial 236 finished with value: 0.5785614035087719 and parameters: {'C': 1.752642192639649, 'tol': 5.863630816986613e-06, 'penalty': 'l2'}. Best is trial 63 with value: 0.5891228070175438.\n",
      "[I 2024-07-11 19:04:46,045] Trial 237 finished with value: 0.5758947368421052 and parameters: {'C': 1.2120155704436613, 'tol': 7.671998180104023e-06, 'penalty': 'l2'}. Best is trial 63 with value: 0.5891228070175438.\n",
      "[I 2024-07-11 19:04:46,084] Trial 238 finished with value: 0.5838245614035088 and parameters: {'C': 0.5578047262040885, 'tol': 4.289937312034758e-06, 'penalty': 'l2'}. Best is trial 63 with value: 0.5891228070175438.\n",
      "[I 2024-07-11 19:04:46,126] Trial 239 finished with value: 0.5891228070175438 and parameters: {'C': 0.9966220468840739, 'tol': 1.1783114610451972e-05, 'penalty': 'l2'}. Best is trial 63 with value: 0.5891228070175438.\n",
      "[I 2024-07-11 19:04:46,167] Trial 240 finished with value: 0.5864561403508772 and parameters: {'C': 1.0179863939835379, 'tol': 1.0915612276407422e-05, 'penalty': 'l2'}. Best is trial 63 with value: 0.5891228070175438.\n",
      "[I 2024-07-11 19:04:46,207] Trial 241 finished with value: 0.5864561403508772 and parameters: {'C': 0.767023340214078, 'tol': 8.74613743066182e-06, 'penalty': 'l2'}. Best is trial 63 with value: 0.5891228070175438.\n",
      "[I 2024-07-11 19:04:46,254] Trial 242 finished with value: 0.5705964912280701 and parameters: {'C': 1.389233025240915, 'tol': 1.2148766048400403e-05, 'penalty': 'l2'}. Best is trial 63 with value: 0.5891228070175438.\n",
      "[I 2024-07-11 19:04:46,296] Trial 243 finished with value: 0.5891228070175438 and parameters: {'C': 0.9644100027067487, 'tol': 6.843131114424881e-06, 'penalty': 'l2'}. Best is trial 63 with value: 0.5891228070175438.\n",
      "[I 2024-07-11 19:04:46,338] Trial 244 finished with value: 0.5864561403508772 and parameters: {'C': 1.0060883014901938, 'tol': 6.885813388021288e-06, 'penalty': 'l2'}. Best is trial 63 with value: 0.5891228070175438.\n",
      "[I 2024-07-11 19:04:46,377] Trial 245 finished with value: 0.5838245614035088 and parameters: {'C': 0.6656997424803072, 'tol': 1.530273095756948e-05, 'penalty': 'l2'}. Best is trial 63 with value: 0.5891228070175438.\n",
      "[I 2024-07-11 19:04:46,419] Trial 246 finished with value: 0.5758947368421052 and parameters: {'C': 1.2034963040710562, 'tol': 5.803155789819509e-06, 'penalty': 'l2'}. Best is trial 63 with value: 0.5891228070175438.\n",
      "[I 2024-07-11 19:04:46,460] Trial 247 finished with value: 0.5864561403508772 and parameters: {'C': 0.8997090849059751, 'tol': 8.466806469419237e-06, 'penalty': 'l2'}. Best is trial 63 with value: 0.5891228070175438.\n",
      "[I 2024-07-11 19:04:46,513] Trial 248 finished with value: 0.5705614035087719 and parameters: {'C': 9.848031121396694, 'tol': 6.827704588609893e-06, 'penalty': 'l2'}. Best is trial 63 with value: 0.5891228070175438.\n",
      "[I 2024-07-11 19:04:46,561] Trial 249 finished with value: 0.5759298245614035 and parameters: {'C': 1.951060870491664, 'tol': 1.2303675236941693e-06, 'penalty': 'l2'}. Best is trial 63 with value: 0.5891228070175438.\n",
      "[I 2024-07-11 19:04:46,599] Trial 250 finished with value: 0.5838596491228071 and parameters: {'C': 0.49476262882530025, 'tol': 1.1626178780497817e-05, 'penalty': 'l2'}. Best is trial 63 with value: 0.5891228070175438.\n",
      "[I 2024-07-11 19:04:46,738] Trial 251 finished with value: 0.5545263157894738 and parameters: {'C': 1.415533093672911, 'tol': 4.926472482287958e-06, 'penalty': 'l1'}. Best is trial 63 with value: 0.5891228070175438.\n",
      "[I 2024-07-11 19:04:46,774] Trial 252 finished with value: 0.5864561403508772 and parameters: {'C': 0.7793465595809469, 'tol': 0.0014204752082431346, 'penalty': 'l2'}. Best is trial 63 with value: 0.5891228070175438.\n",
      "[I 2024-07-11 19:04:46,815] Trial 253 finished with value: 0.5864561403508772 and parameters: {'C': 1.0244214385988921, 'tol': 9.221440464989106e-06, 'penalty': 'l2'}. Best is trial 63 with value: 0.5891228070175438.\n",
      "[I 2024-07-11 19:04:46,874] Trial 254 finished with value: 0.5864561403508772 and parameters: {'C': 0.7031858594157602, 'tol': 7.287864121295343e-06, 'penalty': 'l2'}. Best is trial 63 with value: 0.5891228070175438.\n",
      "[I 2024-07-11 19:04:46,944] Trial 255 finished with value: 0.5785614035087719 and parameters: {'C': 1.6706093617159448, 'tol': 7.236466831045545e-05, 'penalty': 'l2'}. Best is trial 63 with value: 0.5891228070175438.\n",
      "[I 2024-07-11 19:04:46,989] Trial 256 finished with value: 0.5758947368421052 and parameters: {'C': 1.1887705618163662, 'tol': 5.7610795312597225e-06, 'penalty': 'l2'}. Best is trial 63 with value: 0.5891228070175438.\n",
      "[I 2024-07-11 19:04:47,031] Trial 257 finished with value: 0.5864561403508772 and parameters: {'C': 0.898007274416587, 'tol': 3.6734247546821996e-06, 'penalty': 'l2'}. Best is trial 63 with value: 0.5891228070175438.\n",
      "[I 2024-07-11 19:04:47,070] Trial 258 finished with value: 0.5838245614035088 and parameters: {'C': 0.5992119125798502, 'tol': 1.834785203931442e-05, 'penalty': 'l2'}. Best is trial 63 with value: 0.5891228070175438.\n",
      "[I 2024-07-11 19:04:47,116] Trial 259 finished with value: 0.5732631578947369 and parameters: {'C': 1.3102003420125847, 'tol': 9.995449873907192e-06, 'penalty': 'l2'}. Best is trial 63 with value: 0.5891228070175438.\n",
      "[I 2024-07-11 19:04:47,163] Trial 260 finished with value: 0.5785614035087719 and parameters: {'C': 2.6149531867566864, 'tol': 1.3497893930901363e-05, 'penalty': 'l2'}. Best is trial 63 with value: 0.5891228070175438.\n",
      "[I 2024-07-11 19:04:47,203] Trial 261 finished with value: 0.5812280701754386 and parameters: {'C': 0.47262541657966045, 'tol': 4.277434351921539e-06, 'penalty': 'l2'}. Best is trial 63 with value: 0.5891228070175438.\n",
      "[I 2024-07-11 19:04:47,248] Trial 262 finished with value: 0.5891228070175438 and parameters: {'C': 0.9658488576019812, 'tol': 1.4561692695351452e-06, 'penalty': 'l2'}. Best is trial 63 with value: 0.5891228070175438.\n",
      "[I 2024-07-11 19:04:47,294] Trial 263 finished with value: 0.5891228070175438 and parameters: {'C': 0.9943911236404678, 'tol': 1.4080304666186897e-06, 'penalty': 'l2'}. Best is trial 63 with value: 0.5891228070175438.\n",
      "[I 2024-07-11 19:04:47,338] Trial 264 finished with value: 0.5864561403508772 and parameters: {'C': 0.7255666572211483, 'tol': 1.249698290094396e-06, 'penalty': 'l2'}. Best is trial 63 with value: 0.5891228070175438.\n",
      "[I 2024-07-11 19:04:47,385] Trial 265 finished with value: 0.5785614035087719 and parameters: {'C': 1.5629428861323515, 'tol': 1.6745163123424274e-06, 'penalty': 'l2'}. Best is trial 63 with value: 0.5891228070175438.\n",
      "[I 2024-07-11 19:04:47,430] Trial 266 finished with value: 0.5864561403508772 and parameters: {'C': 1.0352231850954237, 'tol': 1.119507234970736e-06, 'penalty': 'l2'}. Best is trial 63 with value: 0.5891228070175438.\n",
      "[I 2024-07-11 19:04:47,471] Trial 267 finished with value: 0.5864561403508772 and parameters: {'C': 0.7886063226412882, 'tol': 7.539386670704168e-06, 'penalty': 'l2'}. Best is trial 63 with value: 0.5891228070175438.\n",
      "[I 2024-07-11 19:04:47,516] Trial 268 finished with value: 0.5758947368421052 and parameters: {'C': 1.2307037922228825, 'tol': 5.529299328762101e-06, 'penalty': 'l2'}. Best is trial 63 with value: 0.5891228070175438.\n",
      "[I 2024-07-11 19:04:47,569] Trial 269 finished with value: 0.5491578947368421 and parameters: {'C': 0.5974046309942856, 'tol': 1.6834177614077602e-06, 'penalty': 'l1'}. Best is trial 63 with value: 0.5891228070175438.\n",
      "[I 2024-07-11 19:04:47,618] Trial 270 finished with value: 0.5759298245614035 and parameters: {'C': 2.0556585932054694, 'tol': 2.2915400729342868e-06, 'penalty': 'l2'}. Best is trial 63 with value: 0.5891228070175438.\n",
      "[I 2024-07-11 19:04:47,661] Trial 271 finished with value: 0.5864561403508772 and parameters: {'C': 0.8436770057864293, 'tol': 1.0068638394871522e-06, 'penalty': 'l2'}. Best is trial 63 with value: 0.5891228070175438.\n",
      "[I 2024-07-11 19:04:47,707] Trial 272 finished with value: 0.5785614035087719 and parameters: {'C': 1.543538276775332, 'tol': 1.0201030435074709e-05, 'penalty': 'l2'}. Best is trial 63 with value: 0.5891228070175438.\n",
      "[I 2024-07-11 19:04:47,756] Trial 273 finished with value: 0.5838245614035088 and parameters: {'C': 1.0910569364211753, 'tol': 6.391836674534102e-06, 'penalty': 'l2'}. Best is trial 63 with value: 0.5891228070175438.\n",
      "[I 2024-07-11 19:04:47,797] Trial 274 finished with value: 0.5838245614035088 and parameters: {'C': 0.6705747806259966, 'tol': 8.101803000707265e-06, 'penalty': 'l2'}. Best is trial 63 with value: 0.5891228070175438.\n",
      "[I 2024-07-11 19:04:47,836] Trial 275 finished with value: 0.5759298245614035 and parameters: {'C': 0.4193172122572831, 'tol': 1.4000114743448575e-05, 'penalty': 'l2'}. Best is trial 63 with value: 0.5891228070175438.\n",
      "[I 2024-07-11 19:04:47,879] Trial 276 finished with value: 0.5864561403508772 and parameters: {'C': 0.8914364162500422, 'tol': 1.5468591104039094e-06, 'penalty': 'l2'}. Best is trial 63 with value: 0.5891228070175438.\n",
      "[I 2024-07-11 19:04:47,924] Trial 277 finished with value: 0.5732631578947369 and parameters: {'C': 1.311775807920404, 'tol': 4.334956931468746e-06, 'penalty': 'l2'}. Best is trial 63 with value: 0.5891228070175438.\n",
      "[I 2024-07-11 19:04:47,965] Trial 278 finished with value: 0.5838245614035088 and parameters: {'C': 0.6118208688873813, 'tol': 3.2079768159738824e-06, 'penalty': 'l2'}. Best is trial 63 with value: 0.5891228070175438.\n",
      "[I 2024-07-11 19:04:48,008] Trial 279 finished with value: 0.5891228070175438 and parameters: {'C': 0.9866682613420538, 'tol': 1.1412532110635892e-05, 'penalty': 'l2'}. Best is trial 63 with value: 0.5891228070175438.\n",
      "[I 2024-07-11 19:04:48,058] Trial 280 finished with value: 0.5759298245614035 and parameters: {'C': 1.9768115065645968, 'tol': 1.332485893836111e-06, 'penalty': 'l2'}. Best is trial 63 with value: 0.5891228070175438.\n",
      "[I 2024-07-11 19:04:48,104] Trial 281 finished with value: 0.5758947368421052 and parameters: {'C': 1.263805897860954, 'tol': 5.538787136872132e-06, 'penalty': 'l2'}. Best is trial 63 with value: 0.5891228070175438.\n",
      "[I 2024-07-11 19:04:48,145] Trial 282 finished with value: 0.5864561403508772 and parameters: {'C': 0.7971185421321485, 'tol': 8.83275393414429e-06, 'penalty': 'l2'}. Best is trial 63 with value: 0.5891228070175438.\n",
      "[I 2024-07-11 19:04:48,185] Trial 283 finished with value: 0.5838245614035088 and parameters: {'C': 0.5027283561728725, 'tol': 7.017387282420625e-06, 'penalty': 'l2'}. Best is trial 63 with value: 0.5891228070175438.\n",
      "[I 2024-07-11 19:04:48,232] Trial 284 finished with value: 0.5785614035087719 and parameters: {'C': 1.6259846642870452, 'tol': 2.2486690057173173e-06, 'penalty': 'l2'}. Best is trial 63 with value: 0.5891228070175438.\n",
      "[I 2024-07-11 19:04:48,274] Trial 285 finished with value: 0.5864561403508772 and parameters: {'C': 1.0232906056116793, 'tol': 5.201071200081678e-06, 'penalty': 'l2'}. Best is trial 63 with value: 0.5891228070175438.\n",
      "[I 2024-07-11 19:04:48,317] Trial 286 finished with value: 0.5838245614035088 and parameters: {'C': 0.677236802789439, 'tol': 9.513286331417713e-06, 'penalty': 'l2'}. Best is trial 63 with value: 0.5891228070175438.\n",
      "[I 2024-07-11 19:04:48,349] Trial 287 finished with value: 0.5225263157894736 and parameters: {'C': 0.005269125839245187, 'tol': 6.804575364782679e-06, 'penalty': 'l2'}. Best is trial 63 with value: 0.5891228070175438.\n",
      "[I 2024-07-11 19:04:48,392] Trial 288 finished with value: 0.5758947368421052 and parameters: {'C': 1.2290179501718597, 'tol': 1.6832982681274143e-05, 'penalty': 'l2'}. Best is trial 63 with value: 0.5891228070175438.\n",
      "[I 2024-07-11 19:04:48,467] Trial 289 finished with value: 0.551859649122807 and parameters: {'C': 0.7853277096055292, 'tol': 1.925147765478868e-06, 'penalty': 'l1'}. Best is trial 63 with value: 0.5891228070175438.\n",
      "[I 2024-07-11 19:04:48,501] Trial 290 finished with value: 0.5491929824561403 and parameters: {'C': 0.03325348005240647, 'tol': 3.8060724823376326e-06, 'penalty': 'l2'}. Best is trial 63 with value: 0.5891228070175438.\n",
      "[I 2024-07-11 19:04:48,544] Trial 291 finished with value: 0.5864561403508772 and parameters: {'C': 0.9321959426969597, 'tol': 1.2466528003320615e-05, 'penalty': 'l2'}. Best is trial 63 with value: 0.5891228070175438.\n",
      "[I 2024-07-11 19:04:48,596] Trial 292 finished with value: 0.5785614035087719 and parameters: {'C': 1.54538137804338, 'tol': 1.2571459555578247e-06, 'penalty': 'l2'}. Best is trial 63 with value: 0.5891228070175438.\n",
      "[I 2024-07-11 19:04:48,637] Trial 293 finished with value: 0.5838245614035088 and parameters: {'C': 0.5621772403405787, 'tol': 8.256083798597781e-06, 'penalty': 'l2'}. Best is trial 63 with value: 0.5891228070175438.\n",
      "[I 2024-07-11 19:04:48,681] Trial 294 finished with value: 0.5785263157894737 and parameters: {'C': 1.149709007543697, 'tol': 6.197239491691715e-06, 'penalty': 'l2'}. Best is trial 63 with value: 0.5891228070175438.\n",
      "[I 2024-07-11 19:04:48,728] Trial 295 finished with value: 0.5864561403508772 and parameters: {'C': 0.8105365494052257, 'tol': 2.8843121399481015e-06, 'penalty': 'l2'}. Best is trial 63 with value: 0.5891228070175438.\n",
      "[I 2024-07-11 19:04:48,789] Trial 296 finished with value: 0.5759298245614035 and parameters: {'C': 2.1113142796689637, 'tol': 2.117721018665853e-05, 'penalty': 'l2'}. Best is trial 63 with value: 0.5891228070175438.\n",
      "[I 2024-07-11 19:04:48,840] Trial 297 finished with value: 0.5785614035087719 and parameters: {'C': 1.4396758919748145, 'tol': 4.7067570595916565e-06, 'penalty': 'l2'}. Best is trial 63 with value: 0.5891228070175438.\n",
      "[I 2024-07-11 19:04:48,883] Trial 298 finished with value: 0.5732982456140351 and parameters: {'C': 0.366081654300708, 'tol': 1.5191721345248057e-06, 'penalty': 'l2'}. Best is trial 63 with value: 0.5891228070175438.\n",
      "[I 2024-07-11 19:04:48,930] Trial 299 finished with value: 0.5864561403508772 and parameters: {'C': 1.0086936911675572, 'tol': 1.1091309878358233e-05, 'penalty': 'l2'}. Best is trial 63 with value: 0.5891228070175438.\n"
     ]
    }
   ],
   "source": [
    "mlflow.set_experiment(\"Logistic Regression PETR4\")\n",
    "study = optuna.create_study(direction='maximize')\n",
    "study.optimize(objective, n_trials=300, callbacks=[mlflow_callback])\n"
   ]
  },
  {
   "cell_type": "markdown",
   "metadata": {},
   "source": [
    "### Avaliação "
   ]
  },
  {
   "cell_type": "code",
   "execution_count": 32,
   "metadata": {},
   "outputs": [
    {
     "data": {
      "text/plain": [
       "{'C': 0.97294101649907, 'tol': 1.0539563277175033e-06, 'penalty': 'l2'}"
      ]
     },
     "execution_count": 32,
     "metadata": {},
     "output_type": "execute_result"
    }
   ],
   "source": [
    "study.best_params\n"
   ]
  },
  {
   "cell_type": "code",
   "execution_count": 8,
   "metadata": {},
   "outputs": [],
   "source": [
    "best_params = {'random_state': RANDOM_SEED, 'solver': 'liblinear', 'C': 0.97294101649907, 'tol': 1.0539563277175033e-06, 'penalty': 'l2'}\n",
    "model = LogisticRegression(**best_params)\n",
    "\n",
    "# Treinando o modelo no conjunto de treinamento completo\n",
    "model = model.fit(X_petr4_train, y_petr4_train)"
   ]
  },
  {
   "cell_type": "code",
   "execution_count": 11,
   "metadata": {},
   "outputs": [
    {
     "name": "stderr",
     "output_type": "stream",
     "text": [
      "[*********************100%%**********************]  1 of 1 completed"
     ]
    },
    {
     "name": "stdout",
     "output_type": "stream",
     "text": [
      "Retorno: -8.88%\n"
     ]
    },
    {
     "name": "stderr",
     "output_type": "stream",
     "text": [
      "\n"
     ]
    }
   ],
   "source": [
    "calculo_lucro(model, df_vale3_test, X_vale3_test, acao='VALE3')"
   ]
  },
  {
   "cell_type": "markdown",
   "metadata": {},
   "source": [
    "Exibindo os resultados do KFold no conjunto de treino para termos uma referência:"
   ]
  },
  {
   "cell_type": "code",
   "execution_count": 36,
   "metadata": {},
   "outputs": [
    {
     "name": "stdout",
     "output_type": "stream",
     "text": [
      "[TRAINING SET KFOLD] The model scored a mean of: f1-score=0.6293 | accuracy=0.5891\n"
     ]
    }
   ],
   "source": [
    "kf = KFold(n_splits=5, shuffle=True, random_state=RANDOM_SEED)\n",
    "f1_kfold_scores = cross_val_score(model, X_petr4_train, y_petr4_train, cv=kf, scoring='f1').mean()\n",
    "accuracy_kfold_scores = cross_val_score(model, X_petr4_train, y_petr4_train, cv=kf, scoring='accuracy').mean()\n",
    "\n",
    "print(f'[TRAINING SET KFOLD] The model scored a mean of: f1-score={f1_kfold_scores:.4f} | accuracy={accuracy_kfold_scores:.4f}')"
   ]
  },
  {
   "cell_type": "markdown",
   "metadata": {},
   "source": [
    "Resultados para o conjunto de teste:"
   ]
  },
  {
   "cell_type": "code",
   "execution_count": 37,
   "metadata": {},
   "outputs": [
    {
     "name": "stdout",
     "output_type": "stream",
     "text": [
      "              precision    recall  f1-score   support\n",
      "\n",
      "           0     0.4522    0.9455    0.6118        55\n",
      "           1     0.5714    0.0597    0.1081        67\n",
      "\n",
      "    accuracy                         0.4590       122\n",
      "   macro avg     0.5118    0.5026    0.3599       122\n",
      "weighted avg     0.5177    0.4590    0.3352       122\n",
      "\n"
     ]
    }
   ],
   "source": [
    "# Avaliando o modelo\n",
    "y_pred = model.predict(X_petr4_test)\n",
    "report = classification_report(y_petr4_test, y_pred, digits=4)\n",
    "print(report)"
   ]
  },
  {
   "cell_type": "code",
   "execution_count": 38,
   "metadata": {},
   "outputs": [
    {
     "data": {
      "image/png": "[encoded data removed]",
      "text/plain": [
       "<Figure size 800x600 with 1 Axes>"
      ]
     },
     "metadata": {},
     "output_type": "display_data"
    }
   ],
   "source": [
    "plot_confusion_matrix(y_petr4_test, y_pred)"
   ]
  },
  {
   "cell_type": "markdown",
   "metadata": {},
   "source": [
    "### Diagnóstico"
   ]
  },
  {
   "cell_type": "markdown",
   "metadata": {},
   "source": [
    "f1-score=0.6293 | accuracy=0.5891"
   ]
  },
  {
   "cell_type": "markdown",
   "metadata": {},
   "source": [
    "Podemos diagnosticar o modelo com **overfitting**, visto que os resultados no conjunto de treino (58,91% de acurácia, 0.6293 de F1-Score) estão significativamente superiores aos resultados do conjunto de teste (45,90% de acurácia, 0.1081 de F1-Score)"
   ]
  },
  {
   "cell_type": "markdown",
   "metadata": {},
   "source": [
    "Após diagnosticar o problema de **overfitting**, podemos tentar melhorar o modelo tomando medidas como:\n",
    "- *Reduzir features utilizadas*\n",
    "- *Utilizar modelos mais simples*\n",
    "- *Aumentar o tamanho do conjunto de treinamento*\n",
    "- *Mudança no espaço de busca de hiperparâmetros*: Adicionar hiperparâmetros de regularização ou restringir o espaço de busca para hiperparâmetros que tornem o modelo menos complexo"
   ]
  },
  {
   "cell_type": "markdown",
   "metadata": {},
   "source": [
    "#### Tentativa 1 de melhorar o modelo"
   ]
  },
  {
   "cell_type": "markdown",
   "metadata": {},
   "source": [
    "##### - *Reduzir features utilizadas*: Removendo features com alta correlação"
   ]
  },
  {
   "cell_type": "code",
   "execution_count": 39,
   "metadata": {},
   "outputs": [
    {
     "data": {
      "text/plain": [
       "(53,\n",
       " [(('bom negócio_count', 'valorização_count'), 1.0),\n",
       "  (('lucro_count', 'valorização_count'), 1.0),\n",
       "  (('lucro_count', 'bom negócio_count'), 1.0),\n",
       "  (('neutro_count', 'valorização_count'), 1.0),\n",
       "  (('neutro_count', 'bom negócio_count'), 1.0),\n",
       "  (('neutro_count', 'lucro_count'), 1.0),\n",
       "  (('desvalorização_count', 'valorização_count'), 1.0),\n",
       "  (('desvalorização_count', 'bom negócio_count'), 1.0),\n",
       "  (('desvalorização_count', 'lucro_count'), 1.0),\n",
       "  (('desvalorização_count', 'neutro_count'), 1.0)])"
      ]
     },
     "execution_count": 39,
     "metadata": {},
     "output_type": "execute_result"
    }
   ],
   "source": [
    "def get_highly_correlated_features(correlation_matrix, threshold):\n",
    "  correlated_pairs = []\n",
    "  for i in range(len(correlation_matrix.columns)):\n",
    "    for j in range(i):\n",
    "      if abs(correlation_matrix.iloc[i, j]) > threshold:\n",
    "        pair = (correlation_matrix.columns[i], correlation_matrix.columns[j])\n",
    "        coefficient = correlation_matrix.iloc[i, j]\n",
    "        correlated_pairs.append((pair, coefficient))\n",
    "  return sorted(correlated_pairs, key= lambda pair: pair[1], reverse=True)\n",
    "\n",
    "MAX_CORRELATION = 0.90\n",
    "\n",
    "corr_matrix = X_petr4_train.corr(method='spearman').abs()\n",
    "correlation_list = get_highly_correlated_features(corr_matrix, MAX_CORRELATION)\n",
    "len(correlation_list), correlation_list[:10]\n"
   ]
  },
  {
   "cell_type": "markdown",
   "metadata": {},
   "source": [
    "Temos 53 PARES features com correlação maior que 0.95! Vamos remover um dos elementos dos pares para reduzir essa redundância"
   ]
  },
  {
   "cell_type": "code",
   "execution_count": 40,
   "metadata": {},
   "outputs": [],
   "source": [
    "# Drop high correlated features in correlation list\n",
    "\n",
    "f2drop = []\n",
    "for feature_pair, _ in correlation_list:\n",
    "  if feature_pair[0] not in f2drop and feature_pair[1] not in f2drop:\n",
    "    f2drop.append(feature_pair[1])\n",
    "\n",
    "X_petr4_train_reduced = X_petr4_train.drop(f2drop, axis='columns')\n",
    "X_petr4_test_reduced = X_petr4_test.drop(f2drop, axis='columns')"
   ]
  },
  {
   "cell_type": "code",
   "execution_count": 41,
   "metadata": {},
   "outputs": [
    {
     "data": {
      "text/plain": [
       "((377, 62), (377, 38))"
      ]
     },
     "execution_count": 41,
     "metadata": {},
     "output_type": "execute_result"
    }
   ],
   "source": [
    "X_petr4_train.shape, X_petr4_train_reduced.shape "
   ]
  },
  {
   "cell_type": "markdown",
   "metadata": {},
   "source": [
    "##### - *Mudança no espaço de busca de hiperparâmetros*: Adicionar hiperparâmetros de regularização ou restringir o espaço de busca para hiperparâmetros que tornem o modelo menos complexo"
   ]
  },
  {
   "cell_type": "code",
   "execution_count": 42,
   "metadata": {},
   "outputs": [],
   "source": [
    "def objective_xgboost(trial):\n",
    "    # Definir o espaço de busca dos hiperparâmetros\n",
    "    param = {\n",
    "        'solver': 'liblinear',\n",
    "        'random_state': RANDOM_SEED,\n",
    "        'C': trial.suggest_float('C', 1e-6, 1e-1, log=True), # INVERSO do termo de regularização\n",
    "        'tol': trial.suggest_float('tol', 1e-6, 1e-1, log=True),\n",
    "        'penalty' : trial.suggest_categorical('penalty', ['l1', 'l2'])\n",
    "    }\n",
    "    \n",
    "    # Configurando o KFold\n",
    "    kf = KFold(n_splits=5, shuffle=True, random_state=RANDOM_SEED)\n",
    "    \n",
    "    # Inicializando o modelo XGBoost\n",
    "    model = LogisticRegression(**param)\n",
    "    \n",
    "    # Realizando a validação cruzada\n",
    "    scores = cross_val_score(model, X_petr4_train_reduced, y_petr4_train, cv=kf, scoring='accuracy')\n",
    "    \n",
    "    # Retornando a média dos scores como objetivo a ser minimizado\n",
    "    return np.mean(scores)"
   ]
  },
  {
   "cell_type": "code",
   "execution_count": 43,
   "metadata": {},
   "outputs": [
    {
     "name": "stderr",
     "output_type": "stream",
     "text": [
      "2024/07/11 19:12:17 INFO mlflow.tracking.fluent: Experiment with name 'Logistic Regression PETR4 Trial 2' does not exist. Creating a new experiment.\n",
      "[I 2024-07-11 19:12:17,182] A new study created in memory with name: no-name-fef517b0-aed5-4ae3-879c-41c8552a7d75\n",
      "[I 2024-07-11 19:12:17,197] Trial 0 finished with value: 0.4591578947368421 and parameters: {'C': 1.1151742129160417e-05, 'tol': 0.006882021293224991, 'penalty': 'l1'}. Best is trial 0 with value: 0.4591578947368421.\n",
      "[I 2024-07-11 19:12:17,229] Trial 1 finished with value: 0.5252280701754386 and parameters: {'C': 0.01871635386051379, 'tol': 1.5756855297080596e-05, 'penalty': 'l2'}. Best is trial 1 with value: 0.5252280701754386.\n",
      "[I 2024-07-11 19:12:17,258] Trial 2 finished with value: 0.5196842105263157 and parameters: {'C': 0.062107952210244094, 'tol': 0.01930040525762339, 'penalty': 'l1'}. Best is trial 1 with value: 0.5252280701754386.\n",
      "[I 2024-07-11 19:12:17,290] Trial 3 finished with value: 0.5251578947368422 and parameters: {'C': 0.010494764425975757, 'tol': 2.6193521973152372e-05, 'penalty': 'l2'}. Best is trial 1 with value: 0.5252280701754386.\n",
      "[I 2024-07-11 19:12:17,317] Trial 4 finished with value: 0.5170175438596492 and parameters: {'C': 8.385186286444643e-06, 'tol': 7.36080560696635e-06, 'penalty': 'l2'}. Best is trial 1 with value: 0.5252280701754386.\n",
      "[I 2024-07-11 19:12:17,344] Trial 5 finished with value: 0.4591578947368421 and parameters: {'C': 0.00029057928526519977, 'tol': 0.007965452872503642, 'penalty': 'l1'}. Best is trial 1 with value: 0.5252280701754386.\n",
      "[I 2024-07-11 19:12:17,372] Trial 6 finished with value: 0.4591578947368421 and parameters: {'C': 0.012563037662741043, 'tol': 1.323873048556006e-05, 'penalty': 'l1'}. Best is trial 1 with value: 0.5252280701754386.\n",
      "[I 2024-07-11 19:12:17,399] Trial 7 finished with value: 0.4591578947368421 and parameters: {'C': 0.0005225150594322064, 'tol': 0.004294790353031241, 'penalty': 'l1'}. Best is trial 1 with value: 0.5252280701754386.\n",
      "[I 2024-07-11 19:12:17,427] Trial 8 finished with value: 0.5170175438596492 and parameters: {'C': 0.000238282833325639, 'tol': 0.005641104780156825, 'penalty': 'l2'}. Best is trial 1 with value: 0.5252280701754386.\n",
      "[I 2024-07-11 19:12:17,453] Trial 9 finished with value: 0.4591578947368421 and parameters: {'C': 4.656423106365732e-05, 'tol': 0.0006539548722268022, 'penalty': 'l1'}. Best is trial 1 with value: 0.5252280701754386.\n",
      "[I 2024-07-11 19:12:17,486] Trial 10 finished with value: 0.5250526315789473 and parameters: {'C': 0.002824724957773849, 'tol': 1.5502812966615695e-06, 'penalty': 'l2'}. Best is trial 1 with value: 0.5252280701754386.\n",
      "[I 2024-07-11 19:12:17,520] Trial 11 finished with value: 0.5465263157894736 and parameters: {'C': 0.08916566491359051, 'tol': 7.772715924541478e-05, 'penalty': 'l2'}. Best is trial 11 with value: 0.5465263157894736.\n",
      "[I 2024-07-11 19:12:17,554] Trial 12 finished with value: 0.5358947368421052 and parameters: {'C': 0.06449881642596944, 'tol': 0.00012297594537689005, 'penalty': 'l2'}. Best is trial 11 with value: 0.5465263157894736.\n",
      "[I 2024-07-11 19:12:17,588] Trial 13 finished with value: 0.543859649122807 and parameters: {'C': 0.07838872576450781, 'tol': 0.00022016243874334215, 'penalty': 'l2'}. Best is trial 11 with value: 0.5465263157894736.\n",
      "[I 2024-07-11 19:12:17,619] Trial 14 finished with value: 0.5170175438596492 and parameters: {'C': 1.3575401260069279e-06, 'tol': 0.0005512462033114041, 'penalty': 'l2'}. Best is trial 11 with value: 0.5465263157894736.\n",
      "[I 2024-07-11 19:12:17,650] Trial 15 finished with value: 0.5277543859649122 and parameters: {'C': 0.002354768252716539, 'tol': 0.00011430828602258932, 'penalty': 'l2'}. Best is trial 11 with value: 0.5465263157894736.\n",
      "[I 2024-07-11 19:12:17,683] Trial 16 finished with value: 0.543859649122807 and parameters: {'C': 0.08390178971919923, 'tol': 0.0014224785359181094, 'penalty': 'l2'}. Best is trial 11 with value: 0.5465263157894736.\n",
      "[I 2024-07-11 19:12:17,740] Trial 17 finished with value: 0.5224210526315789 and parameters: {'C': 0.0032231966632127284, 'tol': 5.482760874642699e-05, 'penalty': 'l2'}. Best is trial 11 with value: 0.5465263157894736.\n",
      "[I 2024-07-11 19:12:17,785] Trial 18 finished with value: 0.5226315789473684 and parameters: {'C': 0.022727253417824656, 'tol': 3.068706090151548e-06, 'penalty': 'l2'}. Best is trial 11 with value: 0.5465263157894736.\n",
      "[I 2024-07-11 19:12:17,818] Trial 19 finished with value: 0.527719298245614 and parameters: {'C': 0.0010101939799767822, 'tol': 0.00019552614133809513, 'penalty': 'l2'}. Best is trial 11 with value: 0.5465263157894736.\n",
      "[I 2024-07-11 19:12:17,849] Trial 20 finished with value: 0.5171929824561403 and parameters: {'C': 0.007044882582419741, 'tol': 0.09912211095653255, 'penalty': 'l2'}. Best is trial 11 with value: 0.5465263157894736.\n",
      "[I 2024-07-11 19:12:17,883] Trial 21 finished with value: 0.5412280701754387 and parameters: {'C': 0.07213150386617789, 'tol': 0.001103164725071242, 'penalty': 'l2'}. Best is trial 11 with value: 0.5465263157894736.\n",
      "[I 2024-07-11 19:12:17,916] Trial 22 finished with value: 0.543859649122807 and parameters: {'C': 0.08296665575111727, 'tol': 0.001866530882535571, 'penalty': 'l2'}. Best is trial 11 with value: 0.5465263157894736.\n",
      "[I 2024-07-11 19:12:17,949] Trial 23 finished with value: 0.5305964912280702 and parameters: {'C': 0.0298507974871713, 'tol': 0.0002696577805420513, 'penalty': 'l2'}. Best is trial 11 with value: 0.5465263157894736.\n",
      "[I 2024-07-11 19:12:17,982] Trial 24 finished with value: 0.5171929824561403 and parameters: {'C': 0.006301482184445078, 'tol': 3.8007610013996006e-05, 'penalty': 'l2'}. Best is trial 11 with value: 0.5465263157894736.\n",
      "[I 2024-07-11 19:12:18,015] Trial 25 finished with value: 0.5332631578947369 and parameters: {'C': 0.02913968710508619, 'tol': 7.705354044113163e-05, 'penalty': 'l2'}. Best is trial 11 with value: 0.5465263157894736.\n",
      "[I 2024-07-11 19:12:18,049] Trial 26 finished with value: 0.5492280701754386 and parameters: {'C': 0.09966979380960873, 'tol': 0.00039827929664069944, 'penalty': 'l2'}. Best is trial 26 with value: 0.5492280701754386.\n",
      "[I 2024-07-11 19:12:18,082] Trial 27 finished with value: 0.5196842105263159 and parameters: {'C': 9.51810094286698e-05, 'tol': 0.00024995395144502115, 'penalty': 'l2'}. Best is trial 26 with value: 0.5492280701754386.\n",
      "[I 2024-07-11 19:12:18,116] Trial 28 finished with value: 0.5305964912280702 and parameters: {'C': 0.035554758829621676, 'tol': 0.0005037822602191015, 'penalty': 'l2'}. Best is trial 26 with value: 0.5492280701754386.\n",
      "[I 2024-07-11 19:12:18,148] Trial 29 finished with value: 0.4591578947368421 and parameters: {'C': 0.0012518522067490898, 'tol': 6.36917316000195e-06, 'penalty': 'l1'}. Best is trial 26 with value: 0.5492280701754386.\n",
      "[I 2024-07-11 19:12:18,179] Trial 30 finished with value: 0.5144912280701754 and parameters: {'C': 0.004613132374020755, 'tol': 9.800849116355414e-05, 'penalty': 'l2'}. Best is trial 26 with value: 0.5492280701754386.\n",
      "[I 2024-07-11 19:12:18,213] Trial 31 finished with value: 0.551859649122807 and parameters: {'C': 0.09500564917682214, 'tol': 0.001962864133608186, 'penalty': 'l2'}. Best is trial 31 with value: 0.551859649122807.\n",
      "[I 2024-07-11 19:12:18,247] Trial 32 finished with value: 0.5492280701754386 and parameters: {'C': 0.0985599364376471, 'tol': 0.0028679562295046684, 'penalty': 'l2'}. Best is trial 31 with value: 0.551859649122807.\n",
      "[I 2024-07-11 19:12:18,280] Trial 33 finished with value: 0.522561403508772 and parameters: {'C': 0.01816091506166999, 'tol': 0.002835884253575637, 'penalty': 'l2'}. Best is trial 31 with value: 0.551859649122807.\n",
      "[I 2024-07-11 19:12:18,314] Trial 34 finished with value: 0.543859649122807 and parameters: {'C': 0.042989372682467254, 'tol': 0.04814125664786853, 'penalty': 'l2'}. Best is trial 31 with value: 0.551859649122807.\n",
      "[I 2024-07-11 19:12:18,346] Trial 35 finished with value: 0.5251929824561403 and parameters: {'C': 0.012882364386064644, 'tol': 0.01349295410466213, 'penalty': 'l2'}. Best is trial 31 with value: 0.551859649122807.\n",
      "[I 2024-07-11 19:12:18,378] Trial 36 finished with value: 0.4591578947368421 and parameters: {'C': 0.04213243617944642, 'tol': 0.0009617871936985148, 'penalty': 'l1'}. Best is trial 31 with value: 0.551859649122807.\n",
      "[I 2024-07-11 19:12:18,409] Trial 37 finished with value: 0.5198947368421052 and parameters: {'C': 0.011976573116717489, 'tol': 0.002334309582123498, 'penalty': 'l2'}. Best is trial 31 with value: 0.551859649122807.\n",
      "[I 2024-07-11 19:12:18,442] Trial 38 finished with value: 0.5492280701754386 and parameters: {'C': 0.09922293913420278, 'tol': 0.016069775806553794, 'penalty': 'l2'}. Best is trial 31 with value: 0.551859649122807.\n",
      "[I 2024-07-11 19:12:18,473] Trial 39 finished with value: 0.4591578947368421 and parameters: {'C': 0.021618475487013452, 'tol': 0.018008203782578915, 'penalty': 'l1'}. Best is trial 31 with value: 0.551859649122807.\n",
      "[I 2024-07-11 19:12:18,504] Trial 40 finished with value: 0.5170175438596492 and parameters: {'C': 2.100045071373187e-05, 'tol': 0.008053293061619334, 'penalty': 'l2'}. Best is trial 31 with value: 0.551859649122807.\n",
      "[I 2024-07-11 19:12:18,560] Trial 41 finished with value: 0.5465263157894737 and parameters: {'C': 0.04964574173381239, 'tol': 0.031152389948829764, 'penalty': 'l2'}. Best is trial 31 with value: 0.551859649122807.\n",
      "[I 2024-07-11 19:12:18,599] Trial 42 finished with value: 0.5385263157894737 and parameters: {'C': 0.04024587844152012, 'tol': 0.034266254518736335, 'penalty': 'l2'}. Best is trial 31 with value: 0.551859649122807.\n",
      "[I 2024-07-11 19:12:18,633] Trial 43 finished with value: 0.551859649122807 and parameters: {'C': 0.09576810939185029, 'tol': 0.010374488294700852, 'penalty': 'l2'}. Best is trial 31 with value: 0.551859649122807.\n",
      "[I 2024-07-11 19:12:18,668] Trial 44 finished with value: 0.5492280701754386 and parameters: {'C': 0.0998524656378423, 'tol': 0.003694760703142591, 'penalty': 'l2'}. Best is trial 31 with value: 0.551859649122807.\n",
      "[I 2024-07-11 19:12:18,701] Trial 45 finished with value: 0.4591578947368421 and parameters: {'C': 0.016092485474098743, 'tol': 0.009163859139199908, 'penalty': 'l1'}. Best is trial 31 with value: 0.551859649122807.\n",
      "[I 2024-07-11 19:12:18,734] Trial 46 finished with value: 0.5225263157894737 and parameters: {'C': 0.009044952234038336, 'tol': 0.004522009483706404, 'penalty': 'l2'}. Best is trial 31 with value: 0.551859649122807.\n",
      "[I 2024-07-11 19:12:18,766] Trial 47 finished with value: 0.5170175438596492 and parameters: {'C': 2.4219770621554927e-06, 'tol': 0.005774279304818464, 'penalty': 'l2'}. Best is trial 31 with value: 0.551859649122807.\n",
      "[I 2024-07-11 19:12:18,801] Trial 48 finished with value: 0.543859649122807 and parameters: {'C': 0.05312469577693641, 'tol': 0.015443600567505999, 'penalty': 'l2'}. Best is trial 31 with value: 0.551859649122807.\n",
      "[I 2024-07-11 19:12:18,835] Trial 49 finished with value: 0.5305964912280702 and parameters: {'C': 0.03010473176679668, 'tol': 0.000756513729869636, 'penalty': 'l2'}. Best is trial 31 with value: 0.551859649122807.\n",
      "[I 2024-07-11 19:12:18,869] Trial 50 finished with value: 0.48785964912280705 and parameters: {'C': 0.09760177108688498, 'tol': 0.000395753828192983, 'penalty': 'l1'}. Best is trial 31 with value: 0.551859649122807.\n",
      "[I 2024-07-11 19:12:18,904] Trial 51 finished with value: 0.5492280701754386 and parameters: {'C': 0.09823301379379717, 'tol': 0.0034291811784776705, 'penalty': 'l2'}. Best is trial 31 with value: 0.551859649122807.\n",
      "[I 2024-07-11 19:12:18,939] Trial 52 finished with value: 0.5412280701754386 and parameters: {'C': 0.056563200106405837, 'tol': 0.0021645039657876906, 'penalty': 'l2'}. Best is trial 31 with value: 0.551859649122807.\n",
      "[I 2024-07-11 19:12:18,973] Trial 53 finished with value: 0.5412280701754386 and parameters: {'C': 0.05855158976255826, 'tol': 0.012222679139045577, 'penalty': 'l2'}. Best is trial 31 with value: 0.551859649122807.\n",
      "[I 2024-07-11 19:12:19,007] Trial 54 finished with value: 0.5226315789473684 and parameters: {'C': 0.023478476056836357, 'tol': 0.0013950868121152368, 'penalty': 'l2'}. Best is trial 31 with value: 0.551859649122807.\n",
      "[I 2024-07-11 19:12:19,042] Trial 55 finished with value: 0.551859649122807 and parameters: {'C': 0.0936514286506062, 'tol': 0.026794830885876843, 'penalty': 'l2'}. Best is trial 31 with value: 0.551859649122807.\n",
      "[I 2024-07-11 19:12:19,076] Trial 56 finished with value: 0.5170526315789473 and parameters: {'C': 0.0001648716500610144, 'tol': 0.05251119797308798, 'penalty': 'l2'}. Best is trial 31 with value: 0.551859649122807.\n",
      "[I 2024-07-11 19:12:19,111] Trial 57 finished with value: 0.5358947368421052 and parameters: {'C': 0.06074347183156208, 'tol': 0.07589297401642178, 'penalty': 'l2'}. Best is trial 31 with value: 0.551859649122807.\n",
      "[I 2024-07-11 19:12:19,145] Trial 58 finished with value: 0.5278596491228071 and parameters: {'C': 0.016823931483698075, 'tol': 0.024774022957822127, 'penalty': 'l2'}. Best is trial 31 with value: 0.551859649122807.\n",
      "[I 2024-07-11 19:12:19,179] Trial 59 finished with value: 0.5332631578947368 and parameters: {'C': 0.03951645481004641, 'tol': 0.010284032532538349, 'penalty': 'l2'}. Best is trial 31 with value: 0.551859649122807.\n",
      "[I 2024-07-11 19:12:19,214] Trial 60 finished with value: 0.5411929824561404 and parameters: {'C': 0.06807703313840364, 'tol': 0.006248295254795847, 'penalty': 'l2'}. Best is trial 31 with value: 0.551859649122807.\n",
      "[I 2024-07-11 19:12:19,249] Trial 61 finished with value: 0.5492280701754386 and parameters: {'C': 0.09659405282763213, 'tol': 0.003960692644322324, 'penalty': 'l2'}. Best is trial 31 with value: 0.551859649122807.\n",
      "[I 2024-07-11 19:12:19,283] Trial 62 finished with value: 0.5332631578947369 and parameters: {'C': 0.028906189564916373, 'tol': 0.027147933717175967, 'penalty': 'l2'}. Best is trial 31 with value: 0.551859649122807.\n",
      "[I 2024-07-11 19:12:19,318] Trial 63 finished with value: 0.5358947368421052 and parameters: {'C': 0.06277193192945182, 'tol': 0.0018286173062280627, 'penalty': 'l2'}. Best is trial 31 with value: 0.551859649122807.\n",
      "[I 2024-07-11 19:12:19,353] Trial 64 finished with value: 0.5465263157894736 and parameters: {'C': 0.08929660071128133, 'tol': 0.01987026755628699, 'penalty': 'l2'}. Best is trial 31 with value: 0.551859649122807.\n",
      "[I 2024-07-11 19:12:19,387] Trial 65 finished with value: 0.5303508771929824 and parameters: {'C': 0.00045797646786363886, 'tol': 0.006908226498118813, 'penalty': 'l2'}. Best is trial 31 with value: 0.551859649122807.\n",
      "[I 2024-07-11 19:12:19,422] Trial 66 finished with value: 0.5492280701754386 and parameters: {'C': 0.0992665886106985, 'tol': 0.004691558149589428, 'penalty': 'l2'}. Best is trial 31 with value: 0.551859649122807.\n",
      "[I 2024-07-11 19:12:19,456] Trial 67 finished with value: 0.5305964912280702 and parameters: {'C': 0.0355480615401424, 'tol': 0.0030745044813357512, 'penalty': 'l2'}. Best is trial 31 with value: 0.551859649122807.\n",
      "[I 2024-07-11 19:12:19,490] Trial 68 finished with value: 0.5226315789473684 and parameters: {'C': 0.024356313386082566, 'tol': 0.0012019705406587048, 'penalty': 'l2'}. Best is trial 31 with value: 0.551859649122807.\n",
      "[I 2024-07-11 19:12:19,523] Trial 69 finished with value: 0.4591578947368421 and parameters: {'C': 0.008692782681762217, 'tol': 0.00016350124236300136, 'penalty': 'l1'}. Best is trial 31 with value: 0.551859649122807.\n",
      "[I 2024-07-11 19:12:19,558] Trial 70 finished with value: 0.5465263157894737 and parameters: {'C': 0.05124021332730564, 'tol': 0.043338855677928396, 'penalty': 'l2'}. Best is trial 31 with value: 0.551859649122807.\n",
      "[I 2024-07-11 19:12:19,593] Trial 71 finished with value: 0.5412280701754387 and parameters: {'C': 0.07237538852156263, 'tol': 0.0035522492304704742, 'penalty': 'l2'}. Best is trial 31 with value: 0.551859649122807.\n",
      "[I 2024-07-11 19:12:19,630] Trial 72 finished with value: 0.5492280701754386 and parameters: {'C': 0.09900236911596788, 'tol': 0.0006951944268711126, 'penalty': 'l2'}. Best is trial 31 with value: 0.551859649122807.\n",
      "[I 2024-07-11 19:12:19,664] Trial 73 finished with value: 0.5464912280701755 and parameters: {'C': 0.04498534921527162, 'tol': 0.00968084033963085, 'penalty': 'l2'}. Best is trial 31 with value: 0.551859649122807.\n",
      "[I 2024-07-11 19:12:19,699] Trial 74 finished with value: 0.538561403508772 and parameters: {'C': 0.07042399542451712, 'tol': 0.002916142876126155, 'penalty': 'l2'}. Best is trial 31 with value: 0.551859649122807.\n",
      "[I 2024-07-11 19:12:19,734] Trial 75 finished with value: 0.5305964912280702 and parameters: {'C': 0.03390094394655402, 'tol': 0.0003511994690881231, 'penalty': 'l2'}. Best is trial 31 with value: 0.551859649122807.\n",
      "[I 2024-07-11 19:12:19,770] Trial 76 finished with value: 0.5412280701754387 and parameters: {'C': 0.07216767017029188, 'tol': 0.0016551901311247874, 'penalty': 'l2'}. Best is trial 31 with value: 0.551859649122807.\n",
      "[I 2024-07-11 19:12:19,805] Trial 77 finished with value: 0.5251929824561403 and parameters: {'C': 0.014190332832088166, 'tol': 0.01394851305405055, 'penalty': 'l2'}. Best is trial 31 with value: 0.551859649122807.\n",
      "[I 2024-07-11 19:12:19,840] Trial 78 finished with value: 0.5464912280701755 and parameters: {'C': 0.048028783500775316, 'tol': 0.000964116816530664, 'penalty': 'l2'}. Best is trial 31 with value: 0.551859649122807.\n",
      "[I 2024-07-11 19:12:19,873] Trial 79 finished with value: 0.4591578947368421 and parameters: {'C': 0.001663187866141035, 'tol': 0.02020534180249274, 'penalty': 'l1'}. Best is trial 31 with value: 0.551859649122807.\n",
      "[I 2024-07-11 19:12:19,907] Trial 80 finished with value: 0.5170175438596492 and parameters: {'C': 6.597974546989888e-06, 'tol': 0.0056491802713059674, 'penalty': 'l2'}. Best is trial 31 with value: 0.551859649122807.\n",
      "[I 2024-07-11 19:12:19,941] Trial 81 finished with value: 0.5492280701754386 and parameters: {'C': 0.09971429069603636, 'tol': 0.003876120619089311, 'penalty': 'l2'}. Best is trial 31 with value: 0.551859649122807.\n",
      "[I 2024-07-11 19:12:19,975] Trial 82 finished with value: 0.543859649122807 and parameters: {'C': 0.07585453732394347, 'tol': 0.004349823071713857, 'penalty': 'l2'}. Best is trial 31 with value: 0.551859649122807.\n",
      "[I 2024-07-11 19:12:20,012] Trial 83 finished with value: 0.5492280701754386 and parameters: {'C': 0.09996423272099147, 'tol': 0.00259820185259567, 'penalty': 'l2'}. Best is trial 31 with value: 0.551859649122807.\n",
      "[I 2024-07-11 19:12:20,048] Trial 84 finished with value: 0.5305964912280702 and parameters: {'C': 0.02654898631216114, 'tol': 1.6770905888606408e-05, 'penalty': 'l2'}. Best is trial 31 with value: 0.551859649122807.\n",
      "[I 2024-07-11 19:12:20,084] Trial 85 finished with value: 0.543859649122807 and parameters: {'C': 0.050965218479444234, 'tol': 0.008287036062053372, 'penalty': 'l2'}. Best is trial 31 with value: 0.551859649122807.\n",
      "[I 2024-07-11 19:12:20,126] Trial 86 finished with value: 0.5278947368421053 and parameters: {'C': 0.020247861972879245, 'tol': 1.1214577636982893e-06, 'penalty': 'l2'}. Best is trial 31 with value: 0.551859649122807.\n",
      "[I 2024-07-11 19:12:20,164] Trial 87 finished with value: 0.5332631578947368 and parameters: {'C': 0.03796517817056712, 'tol': 0.012132728313545425, 'penalty': 'l2'}. Best is trial 31 with value: 0.551859649122807.\n",
      "[I 2024-07-11 19:12:20,202] Trial 88 finished with value: 0.543859649122807 and parameters: {'C': 0.07723816841732674, 'tol': 0.002223654461310888, 'penalty': 'l2'}. Best is trial 31 with value: 0.551859649122807.\n",
      "[I 2024-07-11 19:12:20,243] Trial 89 finished with value: 0.538561403508772 and parameters: {'C': 0.06119408048063987, 'tol': 0.00675971569388849, 'penalty': 'l2'}. Best is trial 31 with value: 0.551859649122807.\n",
      "[I 2024-07-11 19:12:20,276] Trial 90 finished with value: 0.5412280701754386 and parameters: {'C': 0.046475860522262054, 'tol': 0.037910334718866553, 'penalty': 'l2'}. Best is trial 31 with value: 0.551859649122807.\n",
      "[I 2024-07-11 19:12:20,313] Trial 91 finished with value: 0.5412280701754386 and parameters: {'C': 0.08164897446699823, 'tol': 0.005283332264002745, 'penalty': 'l2'}. Best is trial 31 with value: 0.551859649122807.\n",
      "[I 2024-07-11 19:12:20,348] Trial 92 finished with value: 0.5492280701754386 and parameters: {'C': 0.09737180618197935, 'tol': 0.003241636168346475, 'penalty': 'l2'}. Best is trial 31 with value: 0.551859649122807.\n",
      "[I 2024-07-11 19:12:20,383] Trial 93 finished with value: 0.5385263157894737 and parameters: {'C': 0.06437458711751347, 'tol': 0.016926604564907306, 'penalty': 'l2'}. Best is trial 31 with value: 0.551859649122807.\n",
      "[I 2024-07-11 19:12:20,419] Trial 94 finished with value: 0.5279298245614035 and parameters: {'C': 0.03313479421966455, 'tol': 0.004991512204562655, 'penalty': 'l2'}. Best is trial 31 with value: 0.551859649122807.\n",
      "[I 2024-07-11 19:12:20,453] Trial 95 finished with value: 0.5170175438596492 and parameters: {'C': 6.458084998555382e-05, 'tol': 0.061544595899139735, 'penalty': 'l2'}. Best is trial 31 with value: 0.551859649122807.\n",
      "[I 2024-07-11 19:12:20,488] Trial 96 finished with value: 0.5412280701754386 and parameters: {'C': 0.05769843793156112, 'tol': 0.0017185868187220342, 'penalty': 'l2'}. Best is trial 31 with value: 0.551859649122807.\n",
      "[I 2024-07-11 19:12:20,523] Trial 97 finished with value: 0.49319298245614035 and parameters: {'C': 0.09910921064701833, 'tol': 0.023416487203336212, 'penalty': 'l1'}. Best is trial 31 with value: 0.551859649122807.\n",
      "[I 2024-07-11 19:12:20,557] Trial 98 finished with value: 0.5438245614035088 and parameters: {'C': 0.042456702739267584, 'tol': 0.003995999843002184, 'penalty': 'l2'}. Best is trial 31 with value: 0.551859649122807.\n",
      "[I 2024-07-11 19:12:20,592] Trial 99 finished with value: 0.543859649122807 and parameters: {'C': 0.07682814589710395, 'tol': 0.00048607786486073475, 'penalty': 'l2'}. Best is trial 31 with value: 0.551859649122807.\n",
      "[I 2024-07-11 19:12:20,626] Trial 100 finished with value: 0.5305964912280702 and parameters: {'C': 0.02699687938060931, 'tol': 0.010866467258390567, 'penalty': 'l2'}. Best is trial 31 with value: 0.551859649122807.\n",
      "[I 2024-07-11 19:12:20,661] Trial 101 finished with value: 0.5492280701754386 and parameters: {'C': 0.09846647424556841, 'tol': 0.0007572739598962015, 'penalty': 'l2'}. Best is trial 31 with value: 0.551859649122807.\n",
      "[I 2024-07-11 19:12:20,697] Trial 102 finished with value: 0.5412280701754386 and parameters: {'C': 0.05690712255108757, 'tol': 0.0006603721763805109, 'penalty': 'l2'}. Best is trial 31 with value: 0.551859649122807.\n",
      "[I 2024-07-11 19:12:20,733] Trial 103 finished with value: 0.543859649122807 and parameters: {'C': 0.07826018815707801, 'tol': 0.0013974935802389728, 'penalty': 'l2'}. Best is trial 31 with value: 0.551859649122807.\n",
      "[I 2024-07-11 19:12:20,769] Trial 104 finished with value: 0.543859649122807 and parameters: {'C': 0.0471411255795188, 'tol': 0.00028135451090949894, 'penalty': 'l2'}. Best is trial 31 with value: 0.551859649122807.\n",
      "[I 2024-07-11 19:12:20,807] Trial 105 finished with value: 0.543859649122807 and parameters: {'C': 0.0774765654420339, 'tol': 0.0011228049447465308, 'penalty': 'l2'}. Best is trial 31 with value: 0.551859649122807.\n",
      "[I 2024-07-11 19:12:20,845] Trial 106 finished with value: 0.5412280701754386 and parameters: {'C': 0.05974645722534109, 'tol': 0.002182729358419105, 'penalty': 'l2'}. Best is trial 31 with value: 0.551859649122807.\n",
      "[I 2024-07-11 19:12:20,881] Trial 107 finished with value: 0.5305964912280702 and parameters: {'C': 0.0352929514414354, 'tol': 0.007409792193115532, 'penalty': 'l2'}. Best is trial 31 with value: 0.551859649122807.\n",
      "[I 2024-07-11 19:12:20,922] Trial 108 finished with value: 0.543859649122807 and parameters: {'C': 0.07881504350246243, 'tol': 0.0008244717523216101, 'penalty': 'l2'}. Best is trial 31 with value: 0.551859649122807.\n",
      "[I 2024-07-11 19:12:20,957] Trial 109 finished with value: 0.5332631578947368 and parameters: {'C': 0.03937750866053746, 'tol': 0.0033634765771485557, 'penalty': 'l2'}. Best is trial 31 with value: 0.551859649122807.\n",
      "[I 2024-07-11 19:12:20,990] Trial 110 finished with value: 0.5196842105263157 and parameters: {'C': 0.061323934287648985, 'tol': 0.0004270220447340332, 'penalty': 'l1'}. Best is trial 31 with value: 0.551859649122807.\n",
      "[I 2024-07-11 19:12:21,026] Trial 111 finished with value: 0.5492280701754386 and parameters: {'C': 0.0991685545354496, 'tol': 0.004082671091603347, 'penalty': 'l2'}. Best is trial 31 with value: 0.551859649122807.\n",
      "[I 2024-07-11 19:12:21,062] Trial 112 finished with value: 0.5492280701754386 and parameters: {'C': 0.09728578800107099, 'tol': 0.0001908734811483562, 'penalty': 'l2'}. Best is trial 31 with value: 0.551859649122807.\n",
      "[I 2024-07-11 19:12:21,098] Trial 113 finished with value: 0.543859649122807 and parameters: {'C': 0.05353564079218422, 'tol': 0.0025750498451090065, 'penalty': 'l2'}. Best is trial 31 with value: 0.551859649122807.\n",
      "[I 2024-07-11 19:12:21,136] Trial 114 finished with value: 0.5492280701754386 and parameters: {'C': 0.09976870757375603, 'tol': 0.004845402415346097, 'penalty': 'l2'}. Best is trial 31 with value: 0.551859649122807.\n",
      "[I 2024-07-11 19:12:21,171] Trial 115 finished with value: 0.538561403508772 and parameters: {'C': 0.07180306561316582, 'tol': 0.009172549131274271, 'penalty': 'l2'}. Best is trial 31 with value: 0.551859649122807.\n",
      "[I 2024-07-11 19:12:21,209] Trial 116 finished with value: 0.5464912280701755 and parameters: {'C': 0.0481200935948521, 'tol': 0.0017892875424755398, 'penalty': 'l2'}. Best is trial 31 with value: 0.551859649122807.\n",
      "[I 2024-07-11 19:12:21,244] Trial 117 finished with value: 0.5438947368421053 and parameters: {'C': 0.08082746938814982, 'tol': 0.006467291965692512, 'penalty': 'l2'}. Best is trial 31 with value: 0.551859649122807.\n",
      "[I 2024-07-11 19:12:21,280] Trial 118 finished with value: 0.5279298245614035 and parameters: {'C': 0.029765299870292757, 'tol': 0.0014267791820872062, 'penalty': 'l2'}. Best is trial 31 with value: 0.551859649122807.\n",
      "[I 2024-07-11 19:12:21,317] Trial 119 finished with value: 0.5385263157894737 and parameters: {'C': 0.06613936193460883, 'tol': 0.0005782964722146113, 'penalty': 'l2'}. Best is trial 31 with value: 0.551859649122807.\n",
      "[I 2024-07-11 19:12:21,351] Trial 120 finished with value: 0.538561403508772 and parameters: {'C': 0.041639732567278265, 'tol': 0.003701111783104823, 'penalty': 'l2'}. Best is trial 31 with value: 0.551859649122807.\n",
      "[I 2024-07-11 19:12:21,386] Trial 121 finished with value: 0.5492280701754386 and parameters: {'C': 0.09886465745311623, 'tol': 0.0025897510245193683, 'penalty': 'l2'}. Best is trial 31 with value: 0.551859649122807.\n",
      "[I 2024-07-11 19:12:21,421] Trial 122 finished with value: 0.5412280701754386 and parameters: {'C': 0.08205444702534205, 'tol': 0.0024631199178433, 'penalty': 'l2'}. Best is trial 31 with value: 0.551859649122807.\n",
      "[I 2024-07-11 19:12:21,454] Trial 123 finished with value: 0.527719298245614 and parameters: {'C': 0.0008828159608622944, 'tol': 0.0028590276256477707, 'penalty': 'l2'}. Best is trial 31 with value: 0.551859649122807.\n",
      "[I 2024-07-11 19:12:21,488] Trial 124 finished with value: 0.5358947368421052 and parameters: {'C': 0.0639835256646999, 'tol': 0.005010350039123858, 'penalty': 'l2'}. Best is trial 31 with value: 0.551859649122807.\n",
      "[I 2024-07-11 19:12:21,523] Trial 125 finished with value: 0.5465263157894737 and parameters: {'C': 0.04976176708084317, 'tol': 0.0020508327233796837, 'penalty': 'l2'}. Best is trial 31 with value: 0.551859649122807.\n",
      "[I 2024-07-11 19:12:21,558] Trial 126 finished with value: 0.5412280701754386 and parameters: {'C': 0.08176233173719531, 'tol': 0.014757212323796022, 'penalty': 'l2'}. Best is trial 31 with value: 0.551859649122807.\n",
      "[I 2024-07-11 19:12:21,593] Trial 127 finished with value: 0.5358947368421052 and parameters: {'C': 0.06209699540661178, 'tol': 0.0036561598461125507, 'penalty': 'l2'}. Best is trial 31 with value: 0.551859649122807.\n",
      "[I 2024-07-11 19:12:21,628] Trial 128 finished with value: 0.5170175438596492 and parameters: {'C': 2.1181941441935005e-05, 'tol': 0.00768457653528511, 'penalty': 'l2'}. Best is trial 31 with value: 0.551859649122807.\n",
      "[I 2024-07-11 19:12:21,662] Trial 129 finished with value: 0.48519298245614034 and parameters: {'C': 0.09725581396642334, 'tol': 0.010940183484052986, 'penalty': 'l1'}. Best is trial 31 with value: 0.551859649122807.\n",
      "[I 2024-07-11 19:12:21,697] Trial 130 finished with value: 0.5252631578947369 and parameters: {'C': 0.02144132129969704, 'tol': 0.0011747878790251264, 'penalty': 'l2'}. Best is trial 31 with value: 0.551859649122807.\n",
      "[I 2024-07-11 19:12:21,733] Trial 131 finished with value: 0.5492280701754386 and parameters: {'C': 0.09976889096027103, 'tol': 0.003114790802909731, 'penalty': 'l2'}. Best is trial 31 with value: 0.551859649122807.\n",
      "[I 2024-07-11 19:12:21,768] Trial 132 finished with value: 0.5411929824561404 and parameters: {'C': 0.06946430879441529, 'tol': 0.0059801607865255955, 'penalty': 'l2'}. Best is trial 31 with value: 0.551859649122807.\n",
      "[I 2024-07-11 19:12:21,803] Trial 133 finished with value: 0.5412280701754386 and parameters: {'C': 0.08188695036805667, 'tol': 0.0041097231149815425, 'penalty': 'l2'}. Best is trial 31 with value: 0.551859649122807.\n",
      "[I 2024-07-11 19:12:21,839] Trial 134 finished with value: 0.5224210526315789 and parameters: {'C': 0.0038426056817202673, 'tol': 0.032762296690107044, 'penalty': 'l2'}. Best is trial 31 with value: 0.551859649122807.\n",
      "[I 2024-07-11 19:12:21,874] Trial 135 finished with value: 0.5412280701754386 and parameters: {'C': 0.05764924340350811, 'tol': 0.0015076335183128295, 'penalty': 'l2'}. Best is trial 31 with value: 0.551859649122807.\n",
      "[I 2024-07-11 19:12:21,909] Trial 136 finished with value: 0.5492280701754386 and parameters: {'C': 0.09856229414567147, 'tol': 0.0030591833609510035, 'penalty': 'l2'}. Best is trial 31 with value: 0.551859649122807.\n",
      "[I 2024-07-11 19:12:21,944] Trial 137 finished with value: 0.5464912280701755 and parameters: {'C': 0.04332807047170164, 'tol': 0.0020698169697521544, 'penalty': 'l2'}. Best is trial 31 with value: 0.551859649122807.\n",
      "[I 2024-07-11 19:12:21,978] Trial 138 finished with value: 0.5170526315789473 and parameters: {'C': 0.00021001002659068352, 'tol': 0.004744441386053468, 'penalty': 'l2'}. Best is trial 31 with value: 0.551859649122807.\n",
      "[I 2024-07-11 19:12:22,013] Trial 139 finished with value: 0.5412280701754387 and parameters: {'C': 0.07091138415924962, 'tol': 0.02633166910477615, 'penalty': 'l2'}. Best is trial 31 with value: 0.551859649122807.\n",
      "[I 2024-07-11 19:12:22,048] Trial 140 finished with value: 0.5279298245614035 and parameters: {'C': 0.03515822306863253, 'tol': 3.5116455172902013e-06, 'penalty': 'l2'}. Best is trial 31 with value: 0.551859649122807.\n",
      "[I 2024-07-11 19:12:22,083] Trial 141 finished with value: 0.5465263157894736 and parameters: {'C': 0.08528390267911258, 'tol': 0.0007663461030296674, 'penalty': 'l2'}. Best is trial 31 with value: 0.551859649122807.\n",
      "[I 2024-07-11 19:12:22,120] Trial 142 finished with value: 0.5492280701754386 and parameters: {'C': 0.09784634992572964, 'tol': 0.0005296618254688345, 'penalty': 'l2'}. Best is trial 31 with value: 0.551859649122807.\n",
      "[I 2024-07-11 19:12:22,155] Trial 143 finished with value: 0.543859649122807 and parameters: {'C': 0.052798932858980886, 'tol': 0.0008783372501285674, 'penalty': 'l2'}. Best is trial 31 with value: 0.551859649122807.\n",
      "[I 2024-07-11 19:12:22,191] Trial 144 finished with value: 0.5411929824561404 and parameters: {'C': 0.06905971674530753, 'tol': 0.00031142845104480176, 'penalty': 'l2'}. Best is trial 31 with value: 0.551859649122807.\n",
      "[I 2024-07-11 19:12:22,226] Trial 145 finished with value: 0.5412280701754386 and parameters: {'C': 0.08265296181216895, 'tol': 0.0033337497142733306, 'penalty': 'l2'}. Best is trial 31 with value: 0.551859649122807.\n",
      "[I 2024-07-11 19:12:22,261] Trial 146 finished with value: 0.5492280701754386 and parameters: {'C': 0.0982604305486768, 'tol': 0.0010388841183115562, 'penalty': 'l2'}. Best is trial 31 with value: 0.551859649122807.\n",
      "[I 2024-07-11 19:12:22,296] Trial 147 finished with value: 0.543859649122807 and parameters: {'C': 0.054835462598858055, 'tol': 0.017945121112238865, 'penalty': 'l2'}. Best is trial 31 with value: 0.551859649122807.\n",
      "[I 2024-07-11 19:12:22,331] Trial 148 finished with value: 0.5385263157894737 and parameters: {'C': 0.06676813282696625, 'tol': 0.0007021582939063411, 'penalty': 'l2'}. Best is trial 31 with value: 0.551859649122807.\n",
      "[I 2024-07-11 19:12:22,367] Trial 149 finished with value: 0.5464912280701755 and parameters: {'C': 0.04440888326696143, 'tol': 0.0017192778193927147, 'penalty': 'l2'}. Best is trial 31 with value: 0.551859649122807.\n",
      "[I 2024-07-11 19:12:22,401] Trial 150 finished with value: 0.5117543859649123 and parameters: {'C': 0.07245377115876041, 'tol': 0.0026253207911518055, 'penalty': 'l1'}. Best is trial 31 with value: 0.551859649122807.\n",
      "[I 2024-07-11 19:12:22,437] Trial 151 finished with value: 0.551859649122807 and parameters: {'C': 0.09562625564893613, 'tol': 0.00424356585454914, 'penalty': 'l2'}. Best is trial 31 with value: 0.551859649122807.\n",
      "[I 2024-07-11 19:12:22,472] Trial 152 finished with value: 0.5492280701754386 and parameters: {'C': 0.09748731987972777, 'tol': 0.005618305715832165, 'penalty': 'l2'}. Best is trial 31 with value: 0.551859649122807.\n",
      "[I 2024-07-11 19:12:22,514] Trial 153 finished with value: 0.5412280701754386 and parameters: {'C': 0.05646469444254499, 'tol': 0.00423443950589532, 'penalty': 'l2'}. Best is trial 31 with value: 0.551859649122807.\n",
      "[I 2024-07-11 19:12:22,575] Trial 154 finished with value: 0.5492280701754386 and parameters: {'C': 0.09982531556850006, 'tol': 0.008329906857798827, 'penalty': 'l2'}. Best is trial 31 with value: 0.551859649122807.\n",
      "[I 2024-07-11 19:12:22,615] Trial 155 finished with value: 0.543859649122807 and parameters: {'C': 0.07855879929364373, 'tol': 0.0021357527754427633, 'penalty': 'l2'}. Best is trial 31 with value: 0.551859649122807.\n",
      "[I 2024-07-11 19:12:22,652] Trial 156 finished with value: 0.5385263157894737 and parameters: {'C': 0.0658400844997272, 'tol': 0.0003986749288860334, 'penalty': 'l2'}. Best is trial 31 with value: 0.551859649122807.\n",
      "[I 2024-07-11 19:12:22,688] Trial 157 finished with value: 0.5438947368421053 and parameters: {'C': 0.08085659302779387, 'tol': 0.006850512301267715, 'penalty': 'l2'}. Best is trial 31 with value: 0.551859649122807.\n",
      "[I 2024-07-11 19:12:22,723] Trial 158 finished with value: 0.543859649122807 and parameters: {'C': 0.05183815667995577, 'tol': 0.003186556044384087, 'penalty': 'l2'}. Best is trial 31 with value: 0.551859649122807.\n",
      "[I 2024-07-11 19:12:22,756] Trial 159 finished with value: 0.5170175438596492 and parameters: {'C': 1.5650164269785142e-06, 'tol': 0.0013458813771356232, 'penalty': 'l2'}. Best is trial 31 with value: 0.551859649122807.\n",
      "[I 2024-07-11 19:12:22,791] Trial 160 finished with value: 0.5412280701754387 and parameters: {'C': 0.07977004157268502, 'tol': 0.003925627069177801, 'penalty': 'l2'}. Best is trial 31 with value: 0.551859649122807.\n",
      "[I 2024-07-11 19:12:22,831] Trial 161 finished with value: 0.551859649122807 and parameters: {'C': 0.09553662953223896, 'tol': 0.0045300299275082, 'penalty': 'l2'}. Best is trial 31 with value: 0.551859649122807.\n",
      "[I 2024-07-11 19:12:22,867] Trial 162 finished with value: 0.5492280701754386 and parameters: {'C': 0.09888701111610043, 'tol': 0.005101228032413752, 'penalty': 'l2'}. Best is trial 31 with value: 0.551859649122807.\n",
      "[I 2024-07-11 19:12:22,903] Trial 163 finished with value: 0.5385263157894737 and parameters: {'C': 0.06714037879546407, 'tol': 0.0025948971235620526, 'penalty': 'l2'}. Best is trial 31 with value: 0.551859649122807.\n",
      "[I 2024-07-11 19:12:22,938] Trial 164 finished with value: 0.5492280701754386 and parameters: {'C': 0.09946547765738073, 'tol': 0.01181634103395647, 'penalty': 'l2'}. Best is trial 31 with value: 0.551859649122807.\n",
      "[I 2024-07-11 19:12:22,973] Trial 165 finished with value: 0.5412280701754386 and parameters: {'C': 0.058472968627592, 'tol': 0.003436115452066987, 'penalty': 'l2'}. Best is trial 31 with value: 0.551859649122807.\n",
      "[I 2024-07-11 19:12:23,008] Trial 166 finished with value: 0.5438947368421053 and parameters: {'C': 0.08123844883477706, 'tol': 0.005702609110507579, 'penalty': 'l2'}. Best is trial 31 with value: 0.551859649122807.\n",
      "[I 2024-07-11 19:12:23,044] Trial 167 finished with value: 0.5438245614035088 and parameters: {'C': 0.04196525931715518, 'tol': 0.00439311049060043, 'penalty': 'l2'}. Best is trial 31 with value: 0.551859649122807.\n",
      "[I 2024-07-11 19:12:23,078] Trial 168 finished with value: 0.5412280701754386 and parameters: {'C': 0.060059346287196586, 'tol': 0.008917692291288496, 'penalty': 'l2'}. Best is trial 31 with value: 0.551859649122807.\n",
      "[I 2024-07-11 19:12:23,114] Trial 169 finished with value: 0.5438947368421052 and parameters: {'C': 0.07770826102903844, 'tol': 0.021884025935750638, 'penalty': 'l2'}. Best is trial 31 with value: 0.551859649122807.\n",
      "[I 2024-07-11 19:12:23,149] Trial 170 finished with value: 0.5465263157894737 and parameters: {'C': 0.049585004193334864, 'tol': 0.0018884157155654522, 'penalty': 'l2'}. Best is trial 31 with value: 0.551859649122807.\n",
      "[I 2024-07-11 19:12:23,185] Trial 171 finished with value: 0.5412280701754386 and parameters: {'C': 0.08181100055449923, 'tol': 0.004145207761713869, 'penalty': 'l2'}. Best is trial 31 with value: 0.551859649122807.\n",
      "[I 2024-07-11 19:12:23,221] Trial 172 finished with value: 0.551859649122807 and parameters: {'C': 0.09515047831714137, 'tol': 0.002609125046507273, 'penalty': 'l2'}. Best is trial 31 with value: 0.551859649122807.\n",
      "[I 2024-07-11 19:12:23,256] Trial 173 finished with value: 0.5358947368421052 and parameters: {'C': 0.06455929800975621, 'tol': 0.002432704276617136, 'penalty': 'l2'}. Best is trial 31 with value: 0.551859649122807.\n",
      "[I 2024-07-11 19:12:23,292] Trial 174 finished with value: 0.5438947368421053 and parameters: {'C': 0.0803802923623114, 'tol': 0.002959434572457081, 'penalty': 'l2'}. Best is trial 31 with value: 0.551859649122807.\n",
      "[I 2024-07-11 19:12:23,328] Trial 175 finished with value: 0.5492280701754386 and parameters: {'C': 0.09765895242738137, 'tol': 0.006390643637577831, 'penalty': 'l2'}. Best is trial 31 with value: 0.551859649122807.\n",
      "[I 2024-07-11 19:12:23,363] Trial 176 finished with value: 0.5358947368421052 and parameters: {'C': 0.06347015185749313, 'tol': 0.0035821088487206386, 'penalty': 'l2'}. Best is trial 31 with value: 0.551859649122807.\n",
      "[I 2024-07-11 19:12:23,399] Trial 177 finished with value: 0.543859649122807 and parameters: {'C': 0.0731725712696281, 'tol': 0.002218892036427863, 'penalty': 'l2'}. Best is trial 31 with value: 0.551859649122807.\n",
      "[I 2024-07-11 19:12:23,436] Trial 178 finished with value: 0.5492280701754386 and parameters: {'C': 0.09730292668121958, 'tol': 0.0029263125033374125, 'penalty': 'l2'}. Best is trial 31 with value: 0.551859649122807.\n",
      "[I 2024-07-11 19:12:23,470] Trial 179 finished with value: 0.4486315789473684 and parameters: {'C': 0.05112660059652407, 'tol': 0.0002462239263580013, 'penalty': 'l1'}. Best is trial 31 with value: 0.551859649122807.\n",
      "[I 2024-07-11 19:12:23,507] Trial 180 finished with value: 0.5492280701754386 and parameters: {'C': 0.09875907595160764, 'tol': 0.0015209131124815129, 'penalty': 'l2'}. Best is trial 31 with value: 0.551859649122807.\n",
      "[I 2024-07-11 19:12:23,543] Trial 181 finished with value: 0.5492280701754386 and parameters: {'C': 0.09929156533883454, 'tol': 0.004573580674494846, 'penalty': 'l2'}. Best is trial 31 with value: 0.551859649122807.\n",
      "[I 2024-07-11 19:12:23,579] Trial 182 finished with value: 0.543859649122807 and parameters: {'C': 0.0756980187477736, 'tol': 0.004068733928240325, 'penalty': 'l2'}. Best is trial 31 with value: 0.551859649122807.\n",
      "[I 2024-07-11 19:12:23,615] Trial 183 finished with value: 0.543859649122807 and parameters: {'C': 0.06960937045731264, 'tol': 0.015242032305735382, 'penalty': 'l2'}. Best is trial 31 with value: 0.551859649122807.\n",
      "[I 2024-07-11 19:12:23,651] Trial 184 finished with value: 0.5492280701754386 and parameters: {'C': 0.09921664741745852, 'tol': 0.003457415991705599, 'penalty': 'l2'}. Best is trial 31 with value: 0.551859649122807.\n",
      "[I 2024-07-11 19:12:23,686] Trial 185 finished with value: 0.5412280701754386 and parameters: {'C': 0.060142877757564564, 'tol': 0.007181976100007355, 'penalty': 'l2'}. Best is trial 31 with value: 0.551859649122807.\n",
      "[I 2024-07-11 19:12:23,722] Trial 186 finished with value: 0.543859649122807 and parameters: {'C': 0.07841781627723036, 'tol': 0.00014605541571263556, 'penalty': 'l2'}. Best is trial 31 with value: 0.551859649122807.\n",
      "[I 2024-07-11 19:12:23,757] Trial 187 finished with value: 0.543859649122807 and parameters: {'C': 0.047847992666769285, 'tol': 0.005452697133131283, 'penalty': 'l2'}. Best is trial 31 with value: 0.551859649122807.\n",
      "[I 2024-07-11 19:12:23,792] Trial 188 finished with value: 0.5412280701754387 and parameters: {'C': 0.079749681832247, 'tol': 0.002345484982141032, 'penalty': 'l2'}. Best is trial 31 with value: 0.551859649122807.\n",
      "[I 2024-07-11 19:12:23,827] Trial 189 finished with value: 0.5332631578947368 and parameters: {'C': 0.03759829883173278, 'tol': 0.0017498812556248214, 'penalty': 'l2'}. Best is trial 31 with value: 0.551859649122807.\n",
      "[I 2024-07-11 19:12:23,864] Trial 190 finished with value: 0.5492280701754386 and parameters: {'C': 0.09903432105603056, 'tol': 0.0029490457329660637, 'penalty': 'l2'}. Best is trial 31 with value: 0.551859649122807.\n",
      "[I 2024-07-11 19:12:23,900] Trial 191 finished with value: 0.5438947368421053 and parameters: {'C': 0.07997678184275034, 'tol': 0.00022421724749312576, 'penalty': 'l2'}. Best is trial 31 with value: 0.551859649122807.\n",
      "[I 2024-07-11 19:12:23,937] Trial 192 finished with value: 0.5492280701754386 and parameters: {'C': 0.09937206199623003, 'tol': 7.165990112590245e-05, 'penalty': 'l2'}. Best is trial 31 with value: 0.551859649122807.\n",
      "[I 2024-07-11 19:12:23,973] Trial 193 finished with value: 0.5358947368421052 and parameters: {'C': 0.06382075683787371, 'tol': 0.00012335352890458613, 'penalty': 'l2'}. Best is trial 31 with value: 0.551859649122807.\n",
      "[I 2024-07-11 19:12:24,009] Trial 194 finished with value: 0.5412280701754386 and parameters: {'C': 0.08068450412106304, 'tol': 0.00046493834863006685, 'penalty': 'l2'}. Best is trial 31 with value: 0.551859649122807.\n",
      "[I 2024-07-11 19:12:24,045] Trial 195 finished with value: 0.5358947368421052 and parameters: {'C': 0.06387933977348223, 'tol': 0.0006268916737673697, 'penalty': 'l2'}. Best is trial 31 with value: 0.551859649122807.\n",
      "[I 2024-07-11 19:12:24,081] Trial 196 finished with value: 0.5492280701754386 and parameters: {'C': 0.09966467545958858, 'tol': 0.00034697639459852853, 'penalty': 'l2'}. Best is trial 31 with value: 0.551859649122807.\n",
      "[I 2024-07-11 19:12:24,116] Trial 197 finished with value: 0.5170175438596492 and parameters: {'C': 5.259733063660325e-06, 'tol': 0.00019674607592168862, 'penalty': 'l2'}. Best is trial 31 with value: 0.551859649122807.\n",
      "[I 2024-07-11 19:12:24,152] Trial 198 finished with value: 0.543859649122807 and parameters: {'C': 0.05413144437818155, 'tol': 0.0001604760880932686, 'penalty': 'l2'}. Best is trial 31 with value: 0.551859649122807.\n",
      "[I 2024-07-11 19:12:24,188] Trial 199 finished with value: 0.5438947368421053 and parameters: {'C': 0.08079290520021717, 'tol': 0.00482661487098336, 'penalty': 'l2'}. Best is trial 31 with value: 0.551859649122807.\n",
      "[I 2024-07-11 19:12:24,223] Trial 200 finished with value: 0.5385263157894737 and parameters: {'C': 0.06674021672439447, 'tol': 0.003682843732020557, 'penalty': 'l2'}. Best is trial 31 with value: 0.551859649122807.\n",
      "[I 2024-07-11 19:12:24,259] Trial 201 finished with value: 0.5492280701754386 and parameters: {'C': 0.09843611403249207, 'tol': 0.004696142617968486, 'penalty': 'l2'}. Best is trial 31 with value: 0.551859649122807.\n",
      "[I 2024-07-11 19:12:24,299] Trial 202 finished with value: 0.5277543859649122 and parameters: {'C': 0.0023360863921990166, 'tol': 0.002668276205989696, 'penalty': 'l2'}. Best is trial 31 with value: 0.551859649122807.\n",
      "[I 2024-07-11 19:12:24,335] Trial 203 finished with value: 0.5438947368421053 and parameters: {'C': 0.08089244311861894, 'tol': 0.0058511114583104686, 'penalty': 'l2'}. Best is trial 31 with value: 0.551859649122807.\n",
      "[I 2024-07-11 19:12:24,371] Trial 204 finished with value: 0.5438947368421053 and parameters: {'C': 0.0808609278186379, 'tol': 0.0036973776893602438, 'penalty': 'l2'}. Best is trial 31 with value: 0.551859649122807.\n",
      "[I 2024-07-11 19:12:24,406] Trial 205 finished with value: 0.5411929824561404 and parameters: {'C': 0.06796891615217426, 'tol': 0.009411824811644348, 'penalty': 'l2'}. Best is trial 31 with value: 0.551859649122807.\n",
      "[I 2024-07-11 19:12:24,442] Trial 206 finished with value: 0.5492280701754386 and parameters: {'C': 0.09882018429031061, 'tol': 0.004782599140355761, 'penalty': 'l2'}. Best is trial 31 with value: 0.551859649122807.\n",
      "[I 2024-07-11 19:12:24,477] Trial 207 finished with value: 0.5492280701754386 and parameters: {'C': 0.09994825866528477, 'tol': 0.007485191421817785, 'penalty': 'l2'}. Best is trial 31 with value: 0.551859649122807.\n",
      "[I 2024-07-11 19:12:24,511] Trial 208 finished with value: 0.5303508771929824 and parameters: {'C': 0.0004948383045729554, 'tol': 0.0022377897433670203, 'penalty': 'l2'}. Best is trial 31 with value: 0.551859649122807.\n",
      "[I 2024-07-11 19:12:24,546] Trial 209 finished with value: 0.4591578947368421 and parameters: {'C': 0.005954818034977338, 'tol': 0.03837174718521696, 'penalty': 'l1'}. Best is trial 31 with value: 0.551859649122807.\n",
      "[I 2024-07-11 19:12:24,581] Trial 210 finished with value: 0.543859649122807 and parameters: {'C': 0.05483378746282252, 'tol': 0.0030809252089646333, 'penalty': 'l2'}. Best is trial 31 with value: 0.551859649122807.\n",
      "[I 2024-07-11 19:12:24,618] Trial 211 finished with value: 0.5492280701754386 and parameters: {'C': 0.09963623537436977, 'tol': 0.002784000788389115, 'penalty': 'l2'}. Best is trial 31 with value: 0.551859649122807.\n",
      "[I 2024-07-11 19:12:24,654] Trial 212 finished with value: 0.543859649122807 and parameters: {'C': 0.07904191800181325, 'tol': 0.004081390043252307, 'penalty': 'l2'}. Best is trial 31 with value: 0.551859649122807.\n",
      "[I 2024-07-11 19:12:24,688] Trial 213 finished with value: 0.5196842105263159 and parameters: {'C': 0.0001256306854126467, 'tol': 0.00203215453520141, 'penalty': 'l2'}. Best is trial 31 with value: 0.551859649122807.\n",
      "[I 2024-07-11 19:12:24,724] Trial 214 finished with value: 0.5411929824561404 and parameters: {'C': 0.06808675338419112, 'tol': 0.002740499761293715, 'penalty': 'l2'}. Best is trial 31 with value: 0.551859649122807.\n",
      "[I 2024-07-11 19:12:24,759] Trial 215 finished with value: 0.543859649122807 and parameters: {'C': 0.07689518573558303, 'tol': 0.0034976311515057313, 'penalty': 'l2'}. Best is trial 31 with value: 0.551859649122807.\n",
      "[I 2024-07-11 19:12:24,795] Trial 216 finished with value: 0.5412280701754386 and parameters: {'C': 0.08258704346071474, 'tol': 0.005500975501581203, 'penalty': 'l2'}. Best is trial 31 with value: 0.551859649122807.\n",
      "[I 2024-07-11 19:12:24,832] Trial 217 finished with value: 0.5492280701754386 and parameters: {'C': 0.09812422643638358, 'tol': 0.00029862105819109517, 'penalty': 'l2'}. Best is trial 31 with value: 0.551859649122807.\n",
      "[I 2024-07-11 19:12:24,868] Trial 218 finished with value: 0.5412280701754386 and parameters: {'C': 0.05963055298556195, 'tol': 0.004288849822283141, 'penalty': 'l2'}. Best is trial 31 with value: 0.551859649122807.\n",
      "[I 2024-07-11 19:12:24,904] Trial 219 finished with value: 0.5492280701754386 and parameters: {'C': 0.09922989482798296, 'tol': 0.002412736731068238, 'penalty': 'l2'}. Best is trial 31 with value: 0.551859649122807.\n",
      "[I 2024-07-11 19:12:24,941] Trial 220 finished with value: 0.5411929824561404 and parameters: {'C': 0.06857790849774965, 'tol': 0.0009702188663559884, 'penalty': 'l2'}. Best is trial 31 with value: 0.551859649122807.\n",
      "[I 2024-07-11 19:12:24,976] Trial 221 finished with value: 0.5412280701754386 and parameters: {'C': 0.08260915075912262, 'tol': 0.003332359249537891, 'penalty': 'l2'}. Best is trial 31 with value: 0.551859649122807.\n",
      "[I 2024-07-11 19:12:25,012] Trial 222 finished with value: 0.5492280701754386 and parameters: {'C': 0.09791664321256181, 'tol': 0.0030403683433893186, 'penalty': 'l2'}. Best is trial 31 with value: 0.551859649122807.\n",
      "[I 2024-07-11 19:12:25,049] Trial 223 finished with value: 0.5412280701754387 and parameters: {'C': 0.07969624393261784, 'tol': 0.001789973783554335, 'penalty': 'l2'}. Best is trial 31 with value: 0.551859649122807.\n",
      "[I 2024-07-11 19:12:25,084] Trial 224 finished with value: 0.5358947368421052 and parameters: {'C': 0.06438790351180475, 'tol': 0.003794514413132326, 'penalty': 'l2'}. Best is trial 31 with value: 0.551859649122807.\n",
      "[I 2024-07-11 19:12:25,120] Trial 225 finished with value: 0.5492280701754386 and parameters: {'C': 0.0994599221510478, 'tol': 0.028445056171855273, 'penalty': 'l2'}. Best is trial 31 with value: 0.551859649122807.\n",
      "[I 2024-07-11 19:12:25,157] Trial 226 finished with value: 0.5492280701754386 and parameters: {'C': 0.09968372589318338, 'tol': 0.006410482283458816, 'penalty': 'l2'}. Best is trial 31 with value: 0.551859649122807.\n",
      "[I 2024-07-11 19:12:25,192] Trial 227 finished with value: 0.543859649122807 and parameters: {'C': 0.07744570650251133, 'tol': 0.0024993753168251792, 'penalty': 'l2'}. Best is trial 31 with value: 0.551859649122807.\n",
      "[I 2024-07-11 19:12:25,228] Trial 228 finished with value: 0.543859649122807 and parameters: {'C': 0.05469929450953736, 'tol': 0.019228212224938084, 'penalty': 'l2'}. Best is trial 31 with value: 0.551859649122807.\n",
      "[I 2024-07-11 19:12:25,263] Trial 229 finished with value: 0.5411929824561404 and parameters: {'C': 0.06798244077497455, 'tol': 0.004846406270285783, 'penalty': 'l2'}. Best is trial 31 with value: 0.551859649122807.\n",
      "[I 2024-07-11 19:12:25,299] Trial 230 finished with value: 0.5438947368421053 and parameters: {'C': 0.08106504296640704, 'tol': 0.0031316258234806, 'penalty': 'l2'}. Best is trial 31 with value: 0.551859649122807.\n",
      "[I 2024-07-11 19:12:25,336] Trial 231 finished with value: 0.5465263157894736 and parameters: {'C': 0.0864347210506583, 'tol': 0.0031662955032620115, 'penalty': 'l2'}. Best is trial 31 with value: 0.551859649122807.\n",
      "[I 2024-07-11 19:12:25,372] Trial 232 finished with value: 0.5412280701754386 and parameters: {'C': 0.08259941928866409, 'tol': 0.0021790897798460197, 'penalty': 'l2'}. Best is trial 31 with value: 0.551859649122807.\n",
      "[I 2024-07-11 19:12:25,408] Trial 233 finished with value: 0.551859649122807 and parameters: {'C': 0.09616261205812808, 'tol': 0.003920226148915433, 'penalty': 'l2'}. Best is trial 31 with value: 0.551859649122807.\n",
      "[I 2024-07-11 19:12:25,444] Trial 234 finished with value: 0.5358947368421052 and parameters: {'C': 0.06354441601327647, 'tol': 0.004727008937989584, 'penalty': 'l2'}. Best is trial 31 with value: 0.551859649122807.\n",
      "[I 2024-07-11 19:12:25,479] Trial 235 finished with value: 0.5412280701754386 and parameters: {'C': 0.08284193633196316, 'tol': 0.003976633714303631, 'penalty': 'l2'}. Best is trial 31 with value: 0.551859649122807.\n",
      "[I 2024-07-11 19:12:25,521] Trial 236 finished with value: 0.5492280701754386 and parameters: {'C': 0.09920798568022678, 'tol': 0.005381806567256865, 'penalty': 'l2'}. Best is trial 31 with value: 0.551859649122807.\n",
      "[I 2024-07-11 19:12:25,557] Trial 237 finished with value: 0.538561403508772 and parameters: {'C': 0.07058163924905965, 'tol': 0.003595690399399451, 'penalty': 'l2'}. Best is trial 31 with value: 0.551859649122807.\n",
      "[I 2024-07-11 19:12:25,591] Trial 238 finished with value: 0.5303859649122806 and parameters: {'C': 0.000718468631907672, 'tol': 0.0025417227979739423, 'penalty': 'l2'}. Best is trial 31 with value: 0.551859649122807.\n",
      "[I 2024-07-11 19:12:25,628] Trial 239 finished with value: 0.5465263157894737 and parameters: {'C': 0.049991385843228646, 'tol': 0.0014724101930989897, 'penalty': 'l2'}. Best is trial 31 with value: 0.551859649122807.\n",
      "[I 2024-07-11 19:12:25,664] Trial 240 finished with value: 0.551859649122807 and parameters: {'C': 0.0981795272651024, 'tol': 0.006235133018746283, 'penalty': 'l2'}. Best is trial 31 with value: 0.551859649122807.\n",
      "[I 2024-07-11 19:12:25,700] Trial 241 finished with value: 0.5492280701754386 and parameters: {'C': 0.09948814118169302, 'tol': 0.00655565825795573, 'penalty': 'l2'}. Best is trial 31 with value: 0.551859649122807.\n",
      "[I 2024-07-11 19:12:25,736] Trial 242 finished with value: 0.5492280701754386 and parameters: {'C': 0.09939357587276948, 'tol': 0.0106256217318445, 'penalty': 'l2'}. Best is trial 31 with value: 0.551859649122807.\n",
      "[I 2024-07-11 19:12:25,772] Trial 243 finished with value: 0.543859649122807 and parameters: {'C': 0.07663447748858444, 'tol': 0.004283059171847229, 'penalty': 'l2'}. Best is trial 31 with value: 0.551859649122807.\n",
      "[I 2024-07-11 19:12:25,808] Trial 244 finished with value: 0.5492280701754386 and parameters: {'C': 0.09983045657965021, 'tol': 0.008015699903750595, 'penalty': 'l2'}. Best is trial 31 with value: 0.551859649122807.\n",
      "[I 2024-07-11 19:12:25,844] Trial 245 finished with value: 0.538561403508772 and parameters: {'C': 0.07104766014656907, 'tol': 0.005663033332898359, 'penalty': 'l2'}. Best is trial 31 with value: 0.551859649122807.\n",
      "[I 2024-07-11 19:12:25,883] Trial 246 finished with value: 0.5412280701754386 and parameters: {'C': 0.08194326985303797, 'tol': 0.014679807237879951, 'penalty': 'l2'}. Best is trial 31 with value: 0.551859649122807.\n",
      "[I 2024-07-11 19:12:25,919] Trial 247 finished with value: 0.5358947368421052 and parameters: {'C': 0.06200425262252557, 'tol': 0.004233911920419773, 'penalty': 'l2'}. Best is trial 31 with value: 0.551859649122807.\n",
      "[I 2024-07-11 19:12:25,955] Trial 248 finished with value: 0.49319298245614035 and parameters: {'C': 0.0997664727624327, 'tol': 0.0032245929555042786, 'penalty': 'l1'}. Best is trial 31 with value: 0.551859649122807.\n",
      "[I 2024-07-11 19:12:25,990] Trial 249 finished with value: 0.543859649122807 and parameters: {'C': 0.07748755152109445, 'tol': 0.002642429844833477, 'penalty': 'l2'}. Best is trial 31 with value: 0.551859649122807.\n",
      "[I 2024-07-11 19:12:26,026] Trial 250 finished with value: 0.5412280701754386 and parameters: {'C': 0.059862270581767914, 'tol': 0.0005529492018477354, 'penalty': 'l2'}. Best is trial 31 with value: 0.551859649122807.\n",
      "[I 2024-07-11 19:12:26,063] Trial 251 finished with value: 0.543859649122807 and parameters: {'C': 0.07854653795125174, 'tol': 0.005047847623633489, 'penalty': 'l2'}. Best is trial 31 with value: 0.551859649122807.\n",
      "[I 2024-07-11 19:12:26,099] Trial 252 finished with value: 0.5438947368421053 and parameters: {'C': 0.0806558177113263, 'tol': 0.0036800644164792797, 'penalty': 'l2'}. Best is trial 31 with value: 0.551859649122807.\n",
      "[I 2024-07-11 19:12:26,137] Trial 253 finished with value: 0.5492280701754386 and parameters: {'C': 0.09930642115852693, 'tol': 0.0018851950192834651, 'penalty': 'l2'}. Best is trial 31 with value: 0.551859649122807.\n",
      "[I 2024-07-11 19:12:26,173] Trial 254 finished with value: 0.5358947368421052 and parameters: {'C': 0.06427211679548228, 'tol': 0.007076809014010595, 'penalty': 'l2'}. Best is trial 31 with value: 0.551859649122807.\n",
      "[I 2024-07-11 19:12:26,208] Trial 255 finished with value: 0.5465263157894737 and parameters: {'C': 0.049557238705011136, 'tol': 0.002976327786497122, 'penalty': 'l2'}. Best is trial 31 with value: 0.551859649122807.\n",
      "[I 2024-07-11 19:12:26,243] Trial 256 finished with value: 0.5170175438596492 and parameters: {'C': 3.926464727596917e-05, 'tol': 0.00038139613015318596, 'penalty': 'l2'}. Best is trial 31 with value: 0.551859649122807.\n",
      "[I 2024-07-11 19:12:26,279] Trial 257 finished with value: 0.543859649122807 and parameters: {'C': 0.0778979490089344, 'tol': 0.004574239765154352, 'penalty': 'l2'}. Best is trial 31 with value: 0.551859649122807.\n",
      "[I 2024-07-11 19:12:26,316] Trial 258 finished with value: 0.5358947368421052 and parameters: {'C': 0.06515355278614578, 'tol': 0.012274924598103618, 'penalty': 'l2'}. Best is trial 31 with value: 0.551859649122807.\n",
      "[I 2024-07-11 19:12:26,353] Trial 259 finished with value: 0.5492280701754386 and parameters: {'C': 0.09904288792781409, 'tol': 0.00010015468094636833, 'penalty': 'l2'}. Best is trial 31 with value: 0.551859649122807.\n",
      "[I 2024-07-11 19:12:26,389] Trial 260 finished with value: 0.543859649122807 and parameters: {'C': 0.07829279659464529, 'tol': 0.005527906953667816, 'penalty': 'l2'}. Best is trial 31 with value: 0.551859649122807.\n",
      "[I 2024-07-11 19:12:26,425] Trial 261 finished with value: 0.5492280701754386 and parameters: {'C': 0.09980029840699836, 'tol': 0.0038783185987967886, 'penalty': 'l2'}. Best is trial 31 with value: 0.551859649122807.\n",
      "[I 2024-07-11 19:12:26,465] Trial 262 finished with value: 0.543859649122807 and parameters: {'C': 0.0543613476600571, 'tol': 0.002208399892825208, 'penalty': 'l2'}. Best is trial 31 with value: 0.551859649122807.\n",
      "[I 2024-07-11 19:12:26,502] Trial 263 finished with value: 0.538561403508772 and parameters: {'C': 0.07043105432898666, 'tol': 0.008374551753449222, 'penalty': 'l2'}. Best is trial 31 with value: 0.551859649122807.\n",
      "[I 2024-07-11 19:12:26,538] Trial 264 finished with value: 0.543859649122807 and parameters: {'C': 0.0850283984564844, 'tol': 0.002925477521507034, 'penalty': 'l2'}. Best is trial 31 with value: 0.551859649122807.\n",
      "[I 2024-07-11 19:12:26,572] Trial 265 finished with value: 0.5170526315789473 and parameters: {'C': 0.06421732458295532, 'tol': 0.006209821120204318, 'penalty': 'l1'}. Best is trial 31 with value: 0.551859649122807.\n",
      "[I 2024-07-11 19:12:26,609] Trial 266 finished with value: 0.5412280701754386 and parameters: {'C': 0.08237173531594433, 'tol': 0.00017967622618526621, 'penalty': 'l2'}. Best is trial 31 with value: 0.551859649122807.\n",
      "[I 2024-07-11 19:12:26,646] Trial 267 finished with value: 0.543859649122807 and parameters: {'C': 0.046066487926105605, 'tol': 0.0006904851340537392, 'penalty': 'l2'}. Best is trial 31 with value: 0.551859649122807.\n",
      "[I 2024-07-11 19:12:26,682] Trial 268 finished with value: 0.5492280701754386 and parameters: {'C': 0.09954289746331883, 'tol': 0.0037891846678853856, 'penalty': 'l2'}. Best is trial 31 with value: 0.551859649122807.\n",
      "[I 2024-07-11 19:12:26,718] Trial 269 finished with value: 0.5358947368421052 and parameters: {'C': 0.06561302367774074, 'tol': 0.0023826718440291784, 'penalty': 'l2'}. Best is trial 31 with value: 0.551859649122807.\n",
      "[I 2024-07-11 19:12:26,755] Trial 270 finished with value: 0.543859649122807 and parameters: {'C': 0.07870504645911168, 'tol': 0.005016297926893084, 'penalty': 'l2'}. Best is trial 31 with value: 0.551859649122807.\n",
      "[I 2024-07-11 19:12:26,791] Trial 271 finished with value: 0.5412280701754386 and parameters: {'C': 0.05825965036276872, 'tol': 0.0035568118832090038, 'penalty': 'l2'}. Best is trial 31 with value: 0.551859649122807.\n",
      "[I 2024-07-11 19:12:26,828] Trial 272 finished with value: 0.5492280701754386 and parameters: {'C': 0.09914452928334062, 'tol': 0.00025826834399108077, 'penalty': 'l2'}. Best is trial 31 with value: 0.551859649122807.\n",
      "[I 2024-07-11 19:12:26,865] Trial 273 finished with value: 0.5412280701754386 and parameters: {'C': 0.08151390489319565, 'tol': 0.0012038770684495645, 'penalty': 'l2'}. Best is trial 31 with value: 0.551859649122807.\n",
      "[I 2024-07-11 19:12:26,919] Trial 274 finished with value: 0.538561403508772 and parameters: {'C': 0.0701735260245835, 'tol': 0.0018359066172595618, 'penalty': 'l2'}. Best is trial 31 with value: 0.551859649122807.\n",
      "[I 2024-07-11 19:12:26,978] Trial 275 finished with value: 0.5492280701754386 and parameters: {'C': 0.09970035473190282, 'tol': 0.002947352096853148, 'penalty': 'l2'}. Best is trial 31 with value: 0.551859649122807.\n",
      "[I 2024-07-11 19:12:27,016] Trial 276 finished with value: 0.543859649122807 and parameters: {'C': 0.05350572900570027, 'tol': 0.004467352204453597, 'penalty': 'l2'}. Best is trial 31 with value: 0.551859649122807.\n",
      "[I 2024-07-11 19:12:27,054] Trial 277 finished with value: 0.5412280701754386 and parameters: {'C': 0.08358554942667554, 'tol': 0.006720216619911951, 'penalty': 'l2'}. Best is trial 31 with value: 0.551859649122807.\n",
      "[I 2024-07-11 19:12:27,091] Trial 278 finished with value: 0.5411929824561404 and parameters: {'C': 0.06950915647630386, 'tol': 0.0034417682511160884, 'penalty': 'l2'}. Best is trial 31 with value: 0.551859649122807.\n",
      "[I 2024-07-11 19:12:27,127] Trial 279 finished with value: 0.5196842105263157 and parameters: {'C': 0.0002787790518333877, 'tol': 0.0004837457067680828, 'penalty': 'l2'}. Best is trial 31 with value: 0.551859649122807.\n",
      "[I 2024-07-11 19:12:27,164] Trial 280 finished with value: 0.5438947368421052 and parameters: {'C': 0.08277223315235517, 'tol': 0.022079933698929046, 'penalty': 'l2'}. Best is trial 31 with value: 0.551859649122807.\n",
      "[I 2024-07-11 19:12:27,200] Trial 281 finished with value: 0.5464912280701755 and parameters: {'C': 0.044720090069613624, 'tol': 0.0026483653811077965, 'penalty': 'l2'}. Best is trial 31 with value: 0.551859649122807.\n",
      "[I 2024-07-11 19:12:27,238] Trial 282 finished with value: 0.5358947368421052 and parameters: {'C': 0.06309300499171401, 'tol': 0.0009280262333729435, 'penalty': 'l2'}. Best is trial 31 with value: 0.551859649122807.\n",
      "[I 2024-07-11 19:12:27,275] Trial 283 finished with value: 0.5492280701754386 and parameters: {'C': 0.09872077481770496, 'tol': 0.004478415057291114, 'penalty': 'l2'}. Best is trial 31 with value: 0.551859649122807.\n",
      "[I 2024-07-11 19:12:27,313] Trial 284 finished with value: 0.5412280701754386 and parameters: {'C': 0.08218000242107437, 'tol': 3.169611478182799e-05, 'penalty': 'l2'}. Best is trial 31 with value: 0.551859649122807.\n",
      "[I 2024-07-11 19:12:27,349] Trial 285 finished with value: 0.487859649122807 and parameters: {'C': 0.09916182064944076, 'tol': 0.055181327373929716, 'penalty': 'l1'}. Best is trial 31 with value: 0.551859649122807.\n",
      "[I 2024-07-11 19:12:27,387] Trial 286 finished with value: 0.543859649122807 and parameters: {'C': 0.05472464346748315, 'tol': 0.0015347363335771246, 'penalty': 'l2'}. Best is trial 31 with value: 0.551859649122807.\n",
      "[I 2024-07-11 19:12:27,424] Trial 287 finished with value: 0.538561403508772 and parameters: {'C': 0.07090507487959923, 'tol': 0.009767284360087463, 'penalty': 'l2'}. Best is trial 31 with value: 0.551859649122807.\n",
      "[I 2024-07-11 19:12:27,462] Trial 288 finished with value: 0.543859649122807 and parameters: {'C': 0.07875809610388879, 'tol': 0.005995644634742789, 'penalty': 'l2'}. Best is trial 31 with value: 0.551859649122807.\n",
      "[I 2024-07-11 19:12:27,499] Trial 289 finished with value: 0.5412280701754386 and parameters: {'C': 0.05980655866217505, 'tol': 0.00195711503181395, 'penalty': 'l2'}. Best is trial 31 with value: 0.551859649122807.\n",
      "[I 2024-07-11 19:12:27,542] Trial 290 finished with value: 0.5412280701754387 and parameters: {'C': 0.07949263932676748, 'tol': 0.0033001856092965487, 'penalty': 'l2'}. Best is trial 31 with value: 0.551859649122807.\n",
      "[I 2024-07-11 19:12:27,578] Trial 291 finished with value: 0.5492280701754386 and parameters: {'C': 0.09988970349733486, 'tol': 0.002722828839773928, 'penalty': 'l2'}. Best is trial 31 with value: 0.551859649122807.\n",
      "[I 2024-07-11 19:12:27,614] Trial 292 finished with value: 0.5492280701754386 and parameters: {'C': 0.09971487837135586, 'tol': 0.004379812134722267, 'penalty': 'l2'}. Best is trial 31 with value: 0.551859649122807.\n",
      "[I 2024-07-11 19:12:27,652] Trial 293 finished with value: 0.5358947368421052 and parameters: {'C': 0.06540605049679919, 'tol': 9.95832490930867e-06, 'penalty': 'l2'}. Best is trial 31 with value: 0.551859649122807.\n",
      "[I 2024-07-11 19:12:27,688] Trial 294 finished with value: 0.5464912280701755 and parameters: {'C': 0.04335956987403484, 'tol': 0.005246790415605603, 'penalty': 'l2'}. Best is trial 31 with value: 0.551859649122807.\n",
      "[I 2024-07-11 19:12:27,725] Trial 295 finished with value: 0.5412280701754386 and parameters: {'C': 0.08168552832743185, 'tol': 0.0024393091639706246, 'penalty': 'l2'}. Best is trial 31 with value: 0.551859649122807.\n",
      "[I 2024-07-11 19:12:27,761] Trial 296 finished with value: 0.5412280701754386 and parameters: {'C': 0.05528020232550039, 'tol': 0.01433033278888702, 'penalty': 'l2'}. Best is trial 31 with value: 0.551859649122807.\n",
      "[I 2024-07-11 19:12:27,798] Trial 297 finished with value: 0.543859649122807 and parameters: {'C': 0.0782596118134224, 'tol': 0.0001353413357681059, 'penalty': 'l2'}. Best is trial 31 with value: 0.551859649122807.\n",
      "[I 2024-07-11 19:12:27,834] Trial 298 finished with value: 0.5385263157894737 and parameters: {'C': 0.06680017602673667, 'tol': 0.007513994585363232, 'penalty': 'l2'}. Best is trial 31 with value: 0.551859649122807.\n",
      "[I 2024-07-11 19:12:27,870] Trial 299 finished with value: 0.5492280701754386 and parameters: {'C': 0.09825250095188924, 'tol': 0.03176334900940701, 'penalty': 'l2'}. Best is trial 31 with value: 0.551859649122807.\n"
     ]
    }
   ],
   "source": [
    "mlflow.set_experiment(\"Logistic Regression PETR4 Trial 2\")\n",
    "study = optuna.create_study(direction='maximize')\n",
    "study.optimize(objective_xgboost, n_trials=300, callbacks=[mlflow_callback])\n"
   ]
  },
  {
   "cell_type": "markdown",
   "metadata": {},
   "source": [
    "##### Avaliação "
   ]
  },
  {
   "cell_type": "code",
   "execution_count": 45,
   "metadata": {},
   "outputs": [
    {
     "data": {
      "text/plain": [
       "{'C': 0.09500564917682214, 'tol': 0.001962864133608186, 'penalty': 'l2'}"
      ]
     },
     "execution_count": 45,
     "metadata": {},
     "output_type": "execute_result"
    }
   ],
   "source": [
    "study.best_params\n"
   ]
  },
  {
   "cell_type": "code",
   "execution_count": 46,
   "metadata": {},
   "outputs": [],
   "source": [
    "best_params = {'random_state': RANDOM_SEED, 'solver': 'liblinear', 'C': 0.09500564917682214, 'tol': 0.001962864133608186, 'penalty': 'l2'}\n",
    "\n",
    "model = LogisticRegression(**best_params)\n",
    "\n",
    "# Treinando o modelo no conjunto de treinamento completo\n",
    "model = model.fit(X_petr4_train_reduced, y_petr4_train)"
   ]
  },
  {
   "cell_type": "markdown",
   "metadata": {},
   "source": [
    "Exibindo os resultados do KFold no conjunto de treino para termos uma referência:"
   ]
  },
  {
   "cell_type": "code",
   "execution_count": 47,
   "metadata": {},
   "outputs": [
    {
     "name": "stdout",
     "output_type": "stream",
     "text": [
      "[TRAINING SET KFOLD] The model scored a mean of: f1-score=0.5990 | accuracy=0.5519\n"
     ]
    }
   ],
   "source": [
    "kf = KFold(n_splits=5, shuffle=True, random_state=RANDOM_SEED)\n",
    "f1_kfold_scores = cross_val_score(model, X_petr4_train_reduced, y_petr4_train, cv=kf, scoring='f1').mean()\n",
    "accuracy_kfold_scores = cross_val_score(model, X_petr4_train_reduced, y_petr4_train, cv=kf, scoring='accuracy').mean()\n",
    "\n",
    "print(f'[TRAINING SET KFOLD] The model scored a mean of: f1-score={f1_kfold_scores:.4f} | accuracy={accuracy_kfold_scores:.4f}')"
   ]
  },
  {
   "cell_type": "markdown",
   "metadata": {},
   "source": [
    "Resultados para o conjunto de teste:"
   ]
  },
  {
   "cell_type": "code",
   "execution_count": 48,
   "metadata": {},
   "outputs": [
    {
     "name": "stdout",
     "output_type": "stream",
     "text": [
      "              precision    recall  f1-score   support\n",
      "\n",
      "           0     0.4404    0.8727    0.5854        55\n",
      "           1     0.4615    0.0896    0.1500        67\n",
      "\n",
      "    accuracy                         0.4426       122\n",
      "   macro avg     0.4510    0.4811    0.3677       122\n",
      "weighted avg     0.4520    0.4426    0.3463       122\n",
      "\n"
     ]
    }
   ],
   "source": [
    "# Avaliando o modelo\n",
    "y_pred = model.predict(X_petr4_test_reduced)\n",
    "report = classification_report(y_petr4_test, y_pred, digits=4)\n",
    "print(report)"
   ]
  },
  {
   "cell_type": "code",
   "execution_count": 49,
   "metadata": {},
   "outputs": [
    {
     "data": {
      "image/png": "[encoded data removed]",
      "text/plain": [
       "<Figure size 800x600 with 1 Axes>"
      ]
     },
     "metadata": {},
     "output_type": "display_data"
    }
   ],
   "source": [
    "plot_confusion_matrix(y_petr4_test, y_pred)"
   ]
  },
  {
   "cell_type": "markdown",
   "metadata": {},
   "source": [
    "Os resultados não melhoraram :(\n",
    "    \n",
    "O overfitting aparenta ainda permanecer forte. Vamos fazer um experimento: incluir mais dados no conjunto de treino para verificar como o resultado se comporta. Visto que ainda estamos tratando de um problema de overfitting, é esperado que os resultados melhorem"
   ]
  },
  {
   "cell_type": "markdown",
   "metadata": {},
   "source": [
    "#### Tentativa 2 de melhorar o modelo"
   ]
  },
  {
   "cell_type": "markdown",
   "metadata": {},
   "source": [
    "Vamos fazer um experimento: incluir mais dados no conjunto de treino para verificar como o resultado se comporta. Visto que ainda estamos tratando de um problema de overfitting, é esperado que os resultados melhorem"
   ]
  },
  {
   "cell_type": "code",
   "execution_count": 50,
   "metadata": {},
   "outputs": [],
   "source": [
    "df_petr4_test = df_petr4_test.set_index('Date')"
   ]
  },
  {
   "cell_type": "code",
   "execution_count": 51,
   "metadata": {},
   "outputs": [],
   "source": [
    "CUTOFF_DATE = '2024-03-01'\n",
    "\n",
    "df_petr4_test_until_2023_03_01 = df_petr4_test[:CUTOFF_DATE].reset_index()\n",
    "df_petr4_test_from_2023_03_01 = df_petr4_test[CUTOFF_DATE:].reset_index()\n"
   ]
  },
  {
   "cell_type": "code",
   "execution_count": 52,
   "metadata": {},
   "outputs": [],
   "source": [
    "df_petr4_train_until_2023_03_01 = pd.concat([df_petr4_train, df_petr4_test_until_2023_03_01], ignore_index=True)"
   ]
  },
  {
   "cell_type": "code",
   "execution_count": 53,
   "metadata": {},
   "outputs": [],
   "source": [
    "X_petr4_train_until_2023_03_01 = df_petr4_train_until_2023_03_01.drop(['hasRise', 'Date'], axis='columns')\n",
    "y_petr4_train_until_2023_03_01 = df_petr4_train_until_2023_03_01['hasRise']\n",
    "\n",
    "X_petr4_test_from_2023_03_01 = df_petr4_test_from_2023_03_01.drop(['hasRise', 'Date'], axis='columns')\n",
    "y_petr4_test_from_2023_03_01 = df_petr4_test_from_2023_03_01['hasRise']"
   ]
  },
  {
   "cell_type": "code",
   "execution_count": 54,
   "metadata": {},
   "outputs": [
    {
     "data": {
      "text/plain": [
       "(((438, 62), (438,)), ((62, 62), (62,)))"
      ]
     },
     "execution_count": 54,
     "metadata": {},
     "output_type": "execute_result"
    }
   ],
   "source": [
    "(X_petr4_train_until_2023_03_01.shape, y_petr4_train_until_2023_03_01.shape), \\\n",
    "(X_petr4_test_from_2023_03_01.shape, y_petr4_test_from_2023_03_01.shape)"
   ]
  },
  {
   "cell_type": "markdown",
   "metadata": {},
   "source": [
    "Utilizando técnicas da Tentativa 1:"
   ]
  },
  {
   "cell_type": "code",
   "execution_count": 55,
   "metadata": {},
   "outputs": [],
   "source": [
    "# Dropping highly correlated columns\n",
    "X_petr4_train_until_2023_03_01_reduced = X_petr4_train_until_2023_03_01.drop(f2drop, axis='columns')\n",
    "X_petr4_test_from_2023_03_01_reduced = X_petr4_test_from_2023_03_01.drop(f2drop, axis='columns')"
   ]
  },
  {
   "cell_type": "code",
   "execution_count": 56,
   "metadata": {},
   "outputs": [],
   "source": [
    "# Usando espaço de busca de parâmetros focado em modelos mais simples, que tende a reduzir overfitting\n",
    "\n",
    "def objective_xgboost(trial):\n",
    "    # Definir o espaço de busca dos hiperparâmetros\n",
    "    param = {\n",
    "        'solver': 'liblinear',\n",
    "        'random_state': RANDOM_SEED,\n",
    "        'C': trial.suggest_float('C', 1e-6, 1e-1, log=True), # INVERSO do termo de regularização\n",
    "        'tol': trial.suggest_float('tol', 1e-6, 1e-1, log=True),\n",
    "        'penalty' : trial.suggest_categorical('penalty', ['l1', 'l2'])\n",
    "    }\n",
    "    \n",
    "    # Configurando o KFold\n",
    "    kf = KFold(n_splits=5, shuffle=True, random_state=RANDOM_SEED)\n",
    "    \n",
    "    # Inicializando o modelo XGBoost\n",
    "    model = LogisticRegression(**param)\n",
    "    \n",
    "    # Realizando a validação cruzada\n",
    "    scores = cross_val_score(model, X_petr4_train_until_2023_03_01_reduced, y_petr4_train_until_2023_03_01, cv=kf, scoring='accuracy')\n",
    "    \n",
    "    # Retornando a média dos scores como objetivo a ser minimizado\n",
    "    return np.mean(scores)"
   ]
  },
  {
   "cell_type": "code",
   "execution_count": 57,
   "metadata": {},
   "outputs": [
    {
     "name": "stderr",
     "output_type": "stream",
     "text": [
      "2024/07/11 19:15:05 INFO mlflow.tracking.fluent: Experiment with name 'Logistic Regression PETR4 Trial 3' does not exist. Creating a new experiment.\n",
      "[I 2024-07-11 19:15:05,687] A new study created in memory with name: no-name-38a45837-bc88-45a7-8bdc-98c40ba1a942\n",
      "[I 2024-07-11 19:15:05,703] Trial 0 finished with value: 0.45906478578892373 and parameters: {'C': 0.0018034215657202807, 'tol': 0.00469854968021973, 'penalty': 'l1'}. Best is trial 0 with value: 0.45906478578892373.\n",
      "[I 2024-07-11 19:15:05,730] Trial 1 finished with value: 0.5318443051201671 and parameters: {'C': 1.2234108059192064e-06, 'tol': 5.440634351096359e-06, 'penalty': 'l2'}. Best is trial 1 with value: 0.5318443051201671.\n",
      "[I 2024-07-11 19:15:05,760] Trial 2 finished with value: 0.5364158829676071 and parameters: {'C': 8.554419301711155e-05, 'tol': 4.67453586936177e-06, 'penalty': 'l2'}. Best is trial 2 with value: 0.5364158829676071.\n",
      "[I 2024-07-11 19:15:05,789] Trial 3 finished with value: 0.45906478578892373 and parameters: {'C': 1.778437200762483e-05, 'tol': 2.9876968758249476e-05, 'penalty': 'l1'}. Best is trial 2 with value: 0.5364158829676071.\n",
      "[I 2024-07-11 19:15:05,816] Trial 4 finished with value: 0.45906478578892373 and parameters: {'C': 4.499443508157291e-06, 'tol': 1.0981419299575426e-05, 'penalty': 'l1'}. Best is trial 2 with value: 0.5364158829676071.\n",
      "[I 2024-07-11 19:15:05,844] Trial 5 finished with value: 0.5181034482758621 and parameters: {'C': 0.009294109353044479, 'tol': 0.0005914083587438631, 'penalty': 'l2'}. Best is trial 2 with value: 0.5364158829676071.\n",
      "[I 2024-07-11 19:15:05,872] Trial 6 finished with value: 0.45906478578892373 and parameters: {'C': 0.004792129677697969, 'tol': 1.1093050315094628e-06, 'penalty': 'l1'}. Best is trial 2 with value: 0.5364158829676071.\n",
      "[I 2024-07-11 19:15:05,900] Trial 7 finished with value: 0.45906478578892373 and parameters: {'C': 1.0802753704823898e-06, 'tol': 0.00012899974688585934, 'penalty': 'l1'}. Best is trial 2 with value: 0.5364158829676071.\n",
      "[I 2024-07-11 19:15:05,927] Trial 8 finished with value: 0.5363636363636364 and parameters: {'C': 0.0006061481724544353, 'tol': 0.00023895383957267858, 'penalty': 'l2'}. Best is trial 2 with value: 0.5364158829676071.\n",
      "[I 2024-07-11 19:15:05,955] Trial 9 finished with value: 0.5182079414838036 and parameters: {'C': 0.001932342854536397, 'tol': 0.02028892821139623, 'penalty': 'l2'}. Best is trial 2 with value: 0.5364158829676071.\n",
      "[I 2024-07-11 19:15:05,989] Trial 10 finished with value: 0.5295454545454545 and parameters: {'C': 0.07560303014396438, 'tol': 1.6737387838102704e-06, 'penalty': 'l2'}. Best is trial 2 with value: 0.5364158829676071.\n",
      "[I 2024-07-11 19:15:06,022] Trial 11 finished with value: 0.5386886102403344 and parameters: {'C': 0.00010545954004621527, 'tol': 0.0005126040562842711, 'penalty': 'l2'}. Best is trial 11 with value: 0.5386886102403344.\n",
      "[I 2024-07-11 19:15:06,053] Trial 12 finished with value: 0.5364158829676071 and parameters: {'C': 6.357639022895396e-05, 'tol': 0.003223153816063774, 'penalty': 'l2'}. Best is trial 11 with value: 0.5386886102403344.\n",
      "[I 2024-07-11 19:15:06,084] Trial 13 finished with value: 0.5386886102403344 and parameters: {'C': 0.00010534358563496749, 'tol': 3.9916686328079745e-05, 'penalty': 'l2'}. Best is trial 11 with value: 0.5386886102403344.\n",
      "[I 2024-07-11 19:15:06,116] Trial 14 finished with value: 0.5363897596656217 and parameters: {'C': 0.0001367804378046429, 'tol': 7.081574371829737e-05, 'penalty': 'l2'}. Best is trial 11 with value: 0.5386886102403344.\n",
      "[I 2024-07-11 19:15:06,147] Trial 15 finished with value: 0.5364158829676071 and parameters: {'C': 3.767145824888237e-05, 'tol': 0.0016005821733125734, 'penalty': 'l2'}. Best is trial 11 with value: 0.5386886102403344.\n",
      "[I 2024-07-11 19:15:06,178] Trial 16 finished with value: 0.5386624869383491 and parameters: {'C': 0.0003427257906190621, 'tol': 0.048498010883469035, 'penalty': 'l2'}. Best is trial 11 with value: 0.5386886102403344.\n",
      "[I 2024-07-11 19:15:06,209] Trial 17 finished with value: 0.5318443051201671 and parameters: {'C': 1.1901253109361553e-05, 'tol': 0.0006627185200682801, 'penalty': 'l2'}. Best is trial 11 with value: 0.5386886102403344.\n",
      "[I 2024-07-11 19:15:06,241] Trial 18 finished with value: 0.5386624869383491 and parameters: {'C': 0.0003237268175376493, 'tol': 2.5236042456258002e-05, 'penalty': 'l2'}. Best is trial 11 with value: 0.5386886102403344.\n",
      "[I 2024-07-11 19:15:06,272] Trial 19 finished with value: 0.5318443051201671 and parameters: {'C': 6.955423415134141e-06, 'tol': 6.649311100883327e-05, 'penalty': 'l2'}. Best is trial 11 with value: 0.5386886102403344.\n",
      "[I 2024-07-11 19:15:06,304] Trial 20 finished with value: 0.5295454545454545 and parameters: {'C': 0.0009525270426576405, 'tol': 0.010310684083924961, 'penalty': 'l2'}. Best is trial 11 with value: 0.5386886102403344.\n",
      "[I 2024-07-11 19:15:06,335] Trial 21 finished with value: 0.5363897596656217 and parameters: {'C': 0.00021372872611759248, 'tol': 0.04029153724664464, 'penalty': 'l2'}. Best is trial 11 with value: 0.5386886102403344.\n",
      "[I 2024-07-11 19:15:06,366] Trial 22 finished with value: 0.5318443051201671 and parameters: {'C': 4.2252457037677975e-05, 'tol': 0.0613420834273293, 'penalty': 'l2'}. Best is trial 11 with value: 0.5386886102403344.\n",
      "[I 2024-07-11 19:15:06,397] Trial 23 finished with value: 0.5386624869383491 and parameters: {'C': 0.00035599046763265416, 'tol': 0.0010183947097000532, 'penalty': 'l2'}. Best is trial 11 with value: 0.5386886102403344.\n",
      "[I 2024-07-11 19:15:06,433] Trial 24 finished with value: 0.5363897596656217 and parameters: {'C': 0.00014007434658571224, 'tol': 0.00025771439080165637, 'penalty': 'l2'}. Best is trial 11 with value: 0.5386886102403344.\n",
      "[I 2024-07-11 19:15:06,466] Trial 25 finished with value: 0.5364158829676071 and parameters: {'C': 2.27414561392627e-05, 'tol': 0.0037654261374413587, 'penalty': 'l2'}. Best is trial 11 with value: 0.5386886102403344.\n",
      "[I 2024-07-11 19:15:06,498] Trial 26 finished with value: 0.45906478578892373 and parameters: {'C': 0.015205200915806363, 'tol': 0.08150196977708686, 'penalty': 'l1'}. Best is trial 11 with value: 0.5386886102403344.\n",
      "[I 2024-07-11 19:15:06,530] Trial 27 finished with value: 0.5340909090909092 and parameters: {'C': 0.0008174995358274566, 'tol': 0.012540804808059674, 'penalty': 'l2'}. Best is trial 11 with value: 0.5386886102403344.\n",
      "[I 2024-07-11 19:15:06,565] Trial 28 finished with value: 0.5159090909090909 and parameters: {'C': 0.0025619412880582737, 'tol': 2.1726565856851313e-05, 'penalty': 'l2'}. Best is trial 11 with value: 0.5386886102403344.\n",
      "[I 2024-07-11 19:15:06,598] Trial 29 finished with value: 0.45906478578892373 and parameters: {'C': 7.586441081286481e-05, 'tol': 0.0021441846620873493, 'penalty': 'l1'}. Best is trial 11 with value: 0.5386886102403344.\n",
      "[I 2024-07-11 19:15:06,630] Trial 30 finished with value: 0.5318443051201671 and parameters: {'C': 3.1981579186631257e-06, 'tol': 0.007000549351987171, 'penalty': 'l2'}. Best is trial 11 with value: 0.5386886102403344.\n",
      "[I 2024-07-11 19:15:06,663] Trial 31 finished with value: 0.5386624869383491 and parameters: {'C': 0.0003294558456045824, 'tol': 2.902438127100281e-05, 'penalty': 'l2'}. Best is trial 11 with value: 0.5386886102403344.\n",
      "[I 2024-07-11 19:15:06,696] Trial 32 finished with value: 0.5409352142110764 and parameters: {'C': 0.0004202195565893979, 'tol': 1.0056135062917044e-05, 'penalty': 'l2'}. Best is trial 32 with value: 0.5409352142110764.\n",
      "[I 2024-07-11 19:15:06,729] Trial 33 finished with value: 0.5295715778474399 and parameters: {'C': 0.0011825922430298396, 'tol': 3.658957477411637e-06, 'penalty': 'l2'}. Best is trial 32 with value: 0.5409352142110764.\n",
      "[I 2024-07-11 19:15:06,762] Trial 34 finished with value: 0.5363897596656217 and parameters: {'C': 0.000148316522271924, 'tol': 1.1215056591628063e-05, 'penalty': 'l2'}. Best is trial 32 with value: 0.5409352142110764.\n",
      "[I 2024-07-11 19:15:06,795] Trial 35 finished with value: 0.5386363636363637 and parameters: {'C': 0.0005344974978801903, 'tol': 1.0521121235891113e-05, 'penalty': 'l2'}. Best is trial 32 with value: 0.5409352142110764.\n",
      "[I 2024-07-11 19:15:06,827] Trial 36 finished with value: 0.45906478578892373 and parameters: {'C': 3.471501672727465e-05, 'tol': 7.492279507080704e-05, 'penalty': 'l1'}. Best is trial 32 with value: 0.5409352142110764.\n",
      "[I 2024-07-11 19:15:06,860] Trial 37 finished with value: 0.5364158829676071 and parameters: {'C': 8.648263909946113e-05, 'tol': 3.34922596134621e-06, 'penalty': 'l2'}. Best is trial 32 with value: 0.5409352142110764.\n",
      "[I 2024-07-11 19:15:06,894] Trial 38 finished with value: 0.5363897596656217 and parameters: {'C': 0.0002093659398120311, 'tol': 6.960647062836472e-06, 'penalty': 'l2'}. Best is trial 32 with value: 0.5409352142110764.\n",
      "[I 2024-07-11 19:15:06,926] Trial 39 finished with value: 0.45906478578892373 and parameters: {'C': 1.0535572404504842e-05, 'tol': 0.00012715405665406304, 'penalty': 'l1'}. Best is trial 32 with value: 0.5409352142110764.\n",
      "[I 2024-07-11 19:15:06,960] Trial 40 finished with value: 0.5135841170323929 and parameters: {'C': 0.002827154565634438, 'tol': 4.448692206564749e-05, 'penalty': 'l2'}. Best is trial 32 with value: 0.5409352142110764.\n",
      "[I 2024-07-11 19:15:06,994] Trial 41 finished with value: 0.5386363636363637 and parameters: {'C': 0.0004978344274249479, 'tol': 1.8204017060346314e-05, 'penalty': 'l2'}. Best is trial 32 with value: 0.5409352142110764.\n",
      "[I 2024-07-11 19:15:07,028] Trial 42 finished with value: 0.5386624869383491 and parameters: {'C': 0.00024264710663213752, 'tol': 2.4535587654594187e-06, 'penalty': 'l2'}. Best is trial 32 with value: 0.5409352142110764.\n",
      "[I 2024-07-11 19:15:07,064] Trial 43 finished with value: 0.5386886102403344 and parameters: {'C': 0.00011327084475640711, 'tol': 0.0001451453008123622, 'penalty': 'l2'}. Best is trial 32 with value: 0.5409352142110764.\n",
      "[I 2024-07-11 19:15:07,097] Trial 44 finished with value: 0.5364158829676071 and parameters: {'C': 8.170847813364053e-05, 'tol': 0.00014546156050599033, 'penalty': 'l2'}. Best is trial 32 with value: 0.5409352142110764.\n",
      "[I 2024-07-11 19:15:07,130] Trial 45 finished with value: 0.5386886102403344 and parameters: {'C': 0.00011578676259830912, 'tol': 0.00047027898695239207, 'penalty': 'l2'}. Best is trial 32 with value: 0.5409352142110764.\n",
      "[I 2024-07-11 19:15:07,163] Trial 46 finished with value: 0.5364158829676071 and parameters: {'C': 2.294988030958569e-05, 'tol': 0.0005876827395544598, 'penalty': 'l2'}. Best is trial 32 with value: 0.5409352142110764.\n",
      "[I 2024-07-11 19:15:07,194] Trial 47 finished with value: 0.45906478578892373 and parameters: {'C': 0.00012015697328275999, 'tol': 0.0004706706350752677, 'penalty': 'l1'}. Best is trial 32 with value: 0.5409352142110764.\n",
      "[I 2024-07-11 19:15:07,228] Trial 48 finished with value: 0.5364158829676071 and parameters: {'C': 5.4573541335923706e-05, 'tol': 0.0003525992672143316, 'penalty': 'l2'}. Best is trial 32 with value: 0.5409352142110764.\n",
      "[I 2024-07-11 19:15:07,260] Trial 49 finished with value: 0.5386886102403344 and parameters: {'C': 3.0506513397033676e-05, 'tol': 0.00016452458296471043, 'penalty': 'l2'}. Best is trial 32 with value: 0.5409352142110764.\n",
      "[I 2024-07-11 19:15:07,293] Trial 50 finished with value: 0.5318443051201671 and parameters: {'C': 2.484647306491589e-06, 'tol': 0.0011279579000583366, 'penalty': 'l2'}. Best is trial 32 with value: 0.5409352142110764.\n",
      "[I 2024-07-11 19:15:07,326] Trial 51 finished with value: 0.5386886102403344 and parameters: {'C': 2.9796055708889583e-05, 'tol': 0.00027974148052650657, 'penalty': 'l2'}. Best is trial 32 with value: 0.5409352142110764.\n",
      "[I 2024-07-11 19:15:07,358] Trial 52 finished with value: 0.5364158829676071 and parameters: {'C': 5.3303984848866705e-05, 'tol': 0.00011489337148397718, 'penalty': 'l2'}. Best is trial 32 with value: 0.5409352142110764.\n",
      "[I 2024-07-11 19:15:07,397] Trial 53 finished with value: 0.5386886102403344 and parameters: {'C': 0.00010563087467497056, 'tol': 0.00017505948715871013, 'penalty': 'l2'}. Best is trial 32 with value: 0.5409352142110764.\n",
      "[I 2024-07-11 19:15:07,430] Trial 54 finished with value: 0.5318443051201671 and parameters: {'C': 1.1609728041064037e-05, 'tol': 4.927606232953187e-05, 'penalty': 'l2'}. Best is trial 32 with value: 0.5409352142110764.\n",
      "[I 2024-07-11 19:15:07,463] Trial 55 finished with value: 0.5363897596656217 and parameters: {'C': 0.00019029602877565393, 'tol': 9.73293954344027e-05, 'penalty': 'l2'}. Best is trial 32 with value: 0.5409352142110764.\n",
      "[I 2024-07-11 19:15:07,495] Trial 56 finished with value: 0.5364158829676071 and parameters: {'C': 2.1497783111833014e-05, 'tol': 0.0008472163006810623, 'penalty': 'l2'}. Best is trial 32 with value: 0.5409352142110764.\n",
      "[I 2024-07-11 19:15:07,528] Trial 57 finished with value: 0.5364158829676071 and parameters: {'C': 5.3755714673926744e-05, 'tol': 0.00042669844482089305, 'penalty': 'l2'}. Best is trial 32 with value: 0.5409352142110764.\n",
      "[I 2024-07-11 19:15:07,562] Trial 58 finished with value: 0.5318443051201671 and parameters: {'C': 1.6147270000914154e-05, 'tol': 0.00019164356984118208, 'penalty': 'l2'}. Best is trial 32 with value: 0.5409352142110764.\n",
      "[I 2024-07-11 19:15:07,595] Trial 59 finished with value: 0.45906478578892373 and parameters: {'C': 0.0004771130648435275, 'tol': 4.2483828682302005e-05, 'penalty': 'l1'}. Best is trial 32 with value: 0.5409352142110764.\n",
      "[I 2024-07-11 19:15:07,628] Trial 60 finished with value: 0.5272988505747127 and parameters: {'C': 0.0013622927337973761, 'tol': 0.0026110882488537047, 'penalty': 'l2'}. Best is trial 32 with value: 0.5409352142110764.\n",
      "[I 2024-07-11 19:15:07,660] Trial 61 finished with value: 0.5318443051201671 and parameters: {'C': 6.769088838457061e-06, 'tol': 0.00027503561135899595, 'penalty': 'l2'}. Best is trial 32 with value: 0.5409352142110764.\n",
      "[I 2024-07-11 19:15:07,693] Trial 62 finished with value: 0.5364158829676071 and parameters: {'C': 2.6878771822250455e-05, 'tol': 0.000231865150796277, 'penalty': 'l2'}. Best is trial 32 with value: 0.5409352142110764.\n",
      "[I 2024-07-11 19:15:07,726] Trial 63 finished with value: 0.5386886102403344 and parameters: {'C': 3.358692415373103e-05, 'tol': 0.0015723450808202831, 'penalty': 'l2'}. Best is trial 32 with value: 0.5409352142110764.\n",
      "[I 2024-07-11 19:15:07,758] Trial 64 finished with value: 0.5363897596656217 and parameters: {'C': 0.00015059236094165095, 'tol': 8.938536462972158e-05, 'penalty': 'l2'}. Best is trial 32 with value: 0.5409352142110764.\n",
      "[I 2024-07-11 19:15:07,792] Trial 65 finished with value: 0.5386886102403344 and parameters: {'C': 9.330674637076178e-05, 'tol': 1.3416149217276185e-05, 'penalty': 'l2'}. Best is trial 32 with value: 0.5409352142110764.\n",
      "[I 2024-07-11 19:15:07,824] Trial 66 finished with value: 0.5364158829676071 and parameters: {'C': 4.247186697952308e-05, 'tol': 0.0003558399341480469, 'penalty': 'l2'}. Best is trial 32 with value: 0.5409352142110764.\n",
      "[I 2024-07-11 19:15:07,858] Trial 67 finished with value: 0.5386624869383491 and parameters: {'C': 0.000268281470770663, 'tol': 5.7421145523858905e-05, 'penalty': 'l2'}. Best is trial 32 with value: 0.5409352142110764.\n",
      "[I 2024-07-11 19:15:07,893] Trial 68 finished with value: 0.5295977011494253 and parameters: {'C': 0.09346555981864388, 'tol': 0.000741314709823855, 'penalty': 'l2'}. Best is trial 32 with value: 0.5409352142110764.\n",
      "[I 2024-07-11 19:15:07,928] Trial 69 finished with value: 0.5363636363636365 and parameters: {'C': 0.0007045518197438137, 'tol': 7.851896475990098e-06, 'penalty': 'l2'}. Best is trial 32 with value: 0.5409352142110764.\n",
      "[I 2024-07-11 19:15:07,962] Trial 70 finished with value: 0.5364158829676071 and parameters: {'C': 6.624039912652187e-05, 'tol': 3.3447766823185746e-05, 'penalty': 'l2'}. Best is trial 32 with value: 0.5409352142110764.\n",
      "[I 2024-07-11 19:15:07,995] Trial 71 finished with value: 0.5386886102403344 and parameters: {'C': 0.00011750829036807506, 'tol': 0.00019766696939560113, 'penalty': 'l2'}. Best is trial 32 with value: 0.5409352142110764.\n",
      "[I 2024-07-11 19:15:08,028] Trial 72 finished with value: 0.5386886102403344 and parameters: {'C': 0.00011306740537384691, 'tol': 0.0001658933911601467, 'penalty': 'l2'}. Best is trial 32 with value: 0.5409352142110764.\n",
      "[I 2024-07-11 19:15:08,065] Trial 73 finished with value: 0.5318443051201671 and parameters: {'C': 1.576399052358369e-05, 'tol': 0.0002826480326200434, 'penalty': 'l2'}. Best is trial 32 with value: 0.5409352142110764.\n",
      "[I 2024-07-11 19:15:08,098] Trial 74 finished with value: 0.5363897596656217 and parameters: {'C': 0.00016599743238048643, 'tol': 0.0005064913605227488, 'penalty': 'l2'}. Best is trial 32 with value: 0.5409352142110764.\n",
      "[I 2024-07-11 19:15:08,167] Trial 75 finished with value: 0.5386624869383491 and parameters: {'C': 0.00035020717639807405, 'tol': 0.001190004814535869, 'penalty': 'l2'}. Best is trial 32 with value: 0.5409352142110764.\n",
      "[I 2024-07-11 19:15:08,209] Trial 76 finished with value: 0.45906478578892373 and parameters: {'C': 9.74547965145663e-05, 'tol': 8.211481426015601e-05, 'penalty': 'l1'}. Best is trial 32 with value: 0.5409352142110764.\n",
      "[I 2024-07-11 19:15:08,243] Trial 77 finished with value: 0.5364158829676071 and parameters: {'C': 3.667496527626763e-05, 'tol': 0.00014484207371294263, 'penalty': 'l2'}. Best is trial 32 with value: 0.5409352142110764.\n",
      "[I 2024-07-11 19:15:08,278] Trial 78 finished with value: 0.5364158829676071 and parameters: {'C': 6.936280619536283e-05, 'tol': 0.000380591093172037, 'penalty': 'l2'}. Best is trial 32 with value: 0.5409352142110764.\n",
      "[I 2024-07-11 19:15:08,312] Trial 79 finished with value: 0.5318443051201671 and parameters: {'C': 7.934745492106153e-06, 'tol': 1.9651208476568876e-05, 'penalty': 'l2'}. Best is trial 32 with value: 0.5409352142110764.\n",
      "[I 2024-07-11 19:15:08,346] Trial 80 finished with value: 0.5386624869383491 and parameters: {'C': 0.0002648665913388659, 'tol': 0.0006156385660774668, 'penalty': 'l2'}. Best is trial 32 with value: 0.5409352142110764.\n",
      "[I 2024-07-11 19:15:08,379] Trial 81 finished with value: 0.5386886102403344 and parameters: {'C': 2.96709408054044e-05, 'tol': 0.0016722598259740539, 'penalty': 'l2'}. Best is trial 32 with value: 0.5409352142110764.\n",
      "[I 2024-07-11 19:15:08,411] Trial 82 finished with value: 0.5364158829676071 and parameters: {'C': 4.704654236744066e-05, 'tol': 0.0016074377621081548, 'penalty': 'l2'}. Best is trial 32 with value: 0.5409352142110764.\n",
      "[I 2024-07-11 19:15:08,445] Trial 83 finished with value: 0.5363897596656217 and parameters: {'C': 0.0001810482468508758, 'tol': 0.005264763495013976, 'penalty': 'l2'}. Best is trial 32 with value: 0.5409352142110764.\n",
      "[I 2024-07-11 19:15:08,479] Trial 84 finished with value: 0.5386886102403344 and parameters: {'C': 3.157399714572962e-05, 'tol': 1.1364425142993083e-06, 'penalty': 'l2'}. Best is trial 32 with value: 0.5409352142110764.\n",
      "[I 2024-07-11 19:15:08,513] Trial 85 finished with value: 0.5409352142110764 and parameters: {'C': 0.00043008498420980926, 'tol': 0.0009002992348882915, 'penalty': 'l2'}. Best is trial 32 with value: 0.5409352142110764.\n",
      "[I 2024-07-11 19:15:08,547] Trial 86 finished with value: 0.5409352142110764 and parameters: {'C': 0.0004163326504597617, 'tol': 0.0009361840356715596, 'penalty': 'l2'}. Best is trial 32 with value: 0.5409352142110764.\n",
      "[I 2024-07-11 19:15:08,580] Trial 87 finished with value: 0.45906478578892373 and parameters: {'C': 0.001070981566067321, 'tol': 0.0009291558320823121, 'penalty': 'l1'}. Best is trial 32 with value: 0.5409352142110764.\n",
      "[I 2024-07-11 19:15:08,613] Trial 88 finished with value: 0.5386363636363637 and parameters: {'C': 0.0005074431484455064, 'tol': 0.000677117454061037, 'penalty': 'l2'}. Best is trial 32 with value: 0.5409352142110764.\n",
      "[I 2024-07-11 19:15:08,645] Trial 89 finished with value: 0.5340909090909092 and parameters: {'C': 0.0006520159297376785, 'tol': 0.00045477834989277613, 'penalty': 'l2'}. Best is trial 32 with value: 0.5409352142110764.\n",
      "[I 2024-07-11 19:15:08,679] Trial 90 finished with value: 0.5272988505747127 and parameters: {'C': 0.0014441156595679813, 'tol': 0.00011530467679533183, 'penalty': 'l2'}. Best is trial 32 with value: 0.5409352142110764.\n",
      "[I 2024-07-11 19:15:08,711] Trial 91 finished with value: 0.5409352142110764 and parameters: {'C': 0.0004274982535146456, 'tol': 0.00025584376239050295, 'penalty': 'l2'}. Best is trial 32 with value: 0.5409352142110764.\n",
      "[I 2024-07-11 19:15:08,744] Trial 92 finished with value: 0.5409352142110764 and parameters: {'C': 0.00039015635228028313, 'tol': 0.00029976654879592806, 'penalty': 'l2'}. Best is trial 32 with value: 0.5409352142110764.\n",
      "[I 2024-07-11 19:15:08,780] Trial 93 finished with value: 0.5409352142110764 and parameters: {'C': 0.0004074739999284638, 'tol': 0.00021800626355786726, 'penalty': 'l2'}. Best is trial 32 with value: 0.5409352142110764.\n",
      "[I 2024-07-11 19:15:08,813] Trial 94 finished with value: 0.5409352142110764 and parameters: {'C': 0.0004043773950292534, 'tol': 0.0005655239064593884, 'penalty': 'l2'}. Best is trial 32 with value: 0.5409352142110764.\n",
      "[I 2024-07-11 19:15:08,846] Trial 95 finished with value: 0.5386363636363637 and parameters: {'C': 0.00045689215886767946, 'tol': 0.0012865692479001602, 'penalty': 'l2'}. Best is trial 32 with value: 0.5409352142110764.\n",
      "[I 2024-07-11 19:15:08,880] Trial 96 finished with value: 0.5340909090909092 and parameters: {'C': 0.0008275870195826232, 'tol': 0.0007644625057066205, 'penalty': 'l2'}. Best is trial 32 with value: 0.5409352142110764.\n",
      "[I 2024-07-11 19:15:08,913] Trial 97 finished with value: 0.5159352142110762 and parameters: {'C': 0.0020490375052423047, 'tol': 0.00021179978893355613, 'penalty': 'l2'}. Best is trial 32 with value: 0.5409352142110764.\n",
      "[I 2024-07-11 19:15:08,946] Trial 98 finished with value: 0.5386624869383491 and parameters: {'C': 0.00037486366563114923, 'tol': 0.0003429020887562888, 'penalty': 'l2'}. Best is trial 32 with value: 0.5409352142110764.\n",
      "[I 2024-07-11 19:15:08,980] Trial 99 finished with value: 0.5386624869383491 and parameters: {'C': 0.00026132751766948654, 'tol': 4.678873929744019e-06, 'penalty': 'l2'}. Best is trial 32 with value: 0.5409352142110764.\n",
      "[I 2024-07-11 19:15:09,013] Trial 100 finished with value: 0.5318181818181819 and parameters: {'C': 0.0008846927033931395, 'tol': 0.00210647008591141, 'penalty': 'l2'}. Best is trial 32 with value: 0.5409352142110764.\n",
      "[I 2024-07-11 19:15:09,048] Trial 101 finished with value: 0.5363897596656217 and parameters: {'C': 0.0002155212305191562, 'tol': 0.0004743758897599368, 'penalty': 'l2'}. Best is trial 32 with value: 0.5409352142110764.\n",
      "[I 2024-07-11 19:15:09,082] Trial 102 finished with value: 0.5409352142110764 and parameters: {'C': 0.00040260379916862485, 'tol': 0.0002931984822835531, 'penalty': 'l2'}. Best is trial 32 with value: 0.5409352142110764.\n",
      "[I 2024-07-11 19:15:09,115] Trial 103 finished with value: 0.5409352142110764 and parameters: {'C': 0.00043256426516735506, 'tol': 0.0005644259745627493, 'penalty': 'l2'}. Best is trial 32 with value: 0.5409352142110764.\n",
      "[I 2024-07-11 19:15:09,148] Trial 104 finished with value: 0.5409352142110764 and parameters: {'C': 0.00040960282317551296, 'tol': 0.0008958384077723113, 'penalty': 'l2'}. Best is trial 32 with value: 0.5409352142110764.\n",
      "[I 2024-07-11 19:15:09,181] Trial 105 finished with value: 0.5409352142110764 and parameters: {'C': 0.00040571729797634915, 'tol': 0.0009405521409140898, 'penalty': 'l2'}. Best is trial 32 with value: 0.5409352142110764.\n",
      "[I 2024-07-11 19:15:09,214] Trial 106 finished with value: 0.5340909090909092 and parameters: {'C': 0.0006390828931708378, 'tol': 0.0005891695154329777, 'penalty': 'l2'}. Best is trial 32 with value: 0.5409352142110764.\n",
      "[I 2024-07-11 19:15:09,247] Trial 107 finished with value: 0.5409352142110764 and parameters: {'C': 0.00043543000265629814, 'tol': 0.0009085716641259349, 'penalty': 'l2'}. Best is trial 32 with value: 0.5409352142110764.\n",
      "[I 2024-07-11 19:15:09,279] Trial 108 finished with value: 0.45906478578892373 and parameters: {'C': 0.00038818156058833473, 'tol': 0.0032145921918245337, 'penalty': 'l1'}. Best is trial 32 with value: 0.5409352142110764.\n",
      "[I 2024-07-11 19:15:09,312] Trial 109 finished with value: 0.5386624869383491 and parameters: {'C': 0.00028507725709167603, 'tol': 0.0019786444195779426, 'penalty': 'l2'}. Best is trial 32 with value: 0.5409352142110764.\n",
      "[I 2024-07-11 19:15:09,346] Trial 110 finished with value: 0.5363636363636364 and parameters: {'C': 0.0005802858683188072, 'tol': 0.001205006712541674, 'penalty': 'l2'}. Best is trial 32 with value: 0.5409352142110764.\n",
      "[I 2024-07-11 19:15:09,382] Trial 111 finished with value: 0.5409352142110764 and parameters: {'C': 0.00039899951816016585, 'tol': 0.0008923179536152062, 'penalty': 'l2'}. Best is trial 32 with value: 0.5409352142110764.\n",
      "[I 2024-07-11 19:15:09,416] Trial 112 finished with value: 0.5363636363636365 and parameters: {'C': 0.0007552416691774082, 'tol': 0.0009497391866845589, 'penalty': 'l2'}. Best is trial 32 with value: 0.5409352142110764.\n",
      "[I 2024-07-11 19:15:09,450] Trial 113 finished with value: 0.5295715778474399 and parameters: {'C': 0.0010944709544688526, 'tol': 0.002714370178295407, 'penalty': 'l2'}. Best is trial 32 with value: 0.5409352142110764.\n",
      "[I 2024-07-11 19:15:09,485] Trial 114 finished with value: 0.5386363636363637 and parameters: {'C': 0.0004455151406461917, 'tol': 0.00030978602204837386, 'penalty': 'l2'}. Best is trial 32 with value: 0.5409352142110764.\n",
      "[I 2024-07-11 19:15:09,519] Trial 115 finished with value: 0.5386624869383491 and parameters: {'C': 0.0003027674146022672, 'tol': 0.0013662703307181752, 'penalty': 'l2'}. Best is trial 32 with value: 0.5409352142110764.\n",
      "[I 2024-07-11 19:15:09,554] Trial 116 finished with value: 0.5386363636363637 and parameters: {'C': 0.0005469243234489296, 'tol': 0.0005735710342951016, 'penalty': 'l2'}. Best is trial 32 with value: 0.5409352142110764.\n",
      "[I 2024-07-11 19:15:09,589] Trial 117 finished with value: 0.5272988505747127 and parameters: {'C': 0.0014314966299891288, 'tol': 0.0007802640204593675, 'penalty': 'l2'}. Best is trial 32 with value: 0.5409352142110764.\n",
      "[I 2024-07-11 19:15:09,624] Trial 118 finished with value: 0.5363897596656217 and parameters: {'C': 0.00021611416730653074, 'tol': 0.0010625359679287238, 'penalty': 'l2'}. Best is trial 32 with value: 0.5409352142110764.\n",
      "[I 2024-07-11 19:15:09,659] Trial 119 finished with value: 0.5386624869383491 and parameters: {'C': 0.00032294032266861673, 'tol': 0.00023105968314905538, 'penalty': 'l2'}. Best is trial 32 with value: 0.5409352142110764.\n",
      "[I 2024-07-11 19:15:09,702] Trial 120 finished with value: 0.5318181818181819 and parameters: {'C': 0.0008855130520297903, 'tol': 0.0006909619880338225, 'penalty': 'l2'}. Best is trial 32 with value: 0.5409352142110764.\n",
      "[I 2024-07-11 19:15:09,736] Trial 121 finished with value: 0.5409352142110764 and parameters: {'C': 0.00041605942284819513, 'tol': 0.0009376569285596649, 'penalty': 'l2'}. Best is trial 32 with value: 0.5409352142110764.\n",
      "[I 2024-07-11 19:15:09,771] Trial 122 finished with value: 0.5340909090909092 and parameters: {'C': 0.0006181609557104043, 'tol': 0.022176515618102285, 'penalty': 'l2'}. Best is trial 32 with value: 0.5409352142110764.\n",
      "[I 2024-07-11 19:15:09,806] Trial 123 finished with value: 0.5409352142110764 and parameters: {'C': 0.0004250378882015157, 'tol': 0.00037373933616309833, 'penalty': 'l2'}. Best is trial 32 with value: 0.5409352142110764.\n",
      "[I 2024-07-11 19:15:09,842] Trial 124 finished with value: 0.5317920585161965 and parameters: {'C': 0.042962275365841456, 'tol': 0.0005329213265785899, 'penalty': 'l2'}. Best is trial 32 with value: 0.5409352142110764.\n",
      "[I 2024-07-11 19:15:09,877] Trial 125 finished with value: 0.5386624869383491 and parameters: {'C': 0.0003421576549920683, 'tol': 0.0008952561052239146, 'penalty': 'l2'}. Best is trial 32 with value: 0.5409352142110764.\n",
      "[I 2024-07-11 19:15:09,912] Trial 126 finished with value: 0.5386363636363637 and parameters: {'C': 0.0005283392071291461, 'tol': 0.0015249707602622347, 'penalty': 'l2'}. Best is trial 32 with value: 0.5409352142110764.\n",
      "[I 2024-07-11 19:15:09,947] Trial 127 finished with value: 0.5363897596656217 and parameters: {'C': 0.00018767368435190527, 'tol': 0.00029154255402976986, 'penalty': 'l2'}. Best is trial 32 with value: 0.5409352142110764.\n",
      "[I 2024-07-11 19:15:09,982] Trial 128 finished with value: 0.5386624869383491 and parameters: {'C': 0.0002506751198857188, 'tol': 0.0003911513053803457, 'penalty': 'l2'}. Best is trial 32 with value: 0.5409352142110764.\n",
      "[I 2024-07-11 19:15:10,014] Trial 129 finished with value: 0.45906478578892373 and parameters: {'C': 0.0007205849269843642, 'tol': 0.00209574173839159, 'penalty': 'l1'}. Best is trial 32 with value: 0.5409352142110764.\n",
      "[I 2024-07-11 19:15:10,048] Trial 130 finished with value: 0.5363897596656217 and parameters: {'C': 0.00014684655259301376, 'tol': 0.0006298492561419793, 'penalty': 'l2'}. Best is trial 32 with value: 0.5409352142110764.\n",
      "[I 2024-07-11 19:15:10,083] Trial 131 finished with value: 0.5386363636363637 and parameters: {'C': 0.0004568639159137778, 'tol': 0.0009462216354401854, 'penalty': 'l2'}. Best is trial 32 with value: 0.5409352142110764.\n",
      "[I 2024-07-11 19:15:10,118] Trial 132 finished with value: 0.5409352142110764 and parameters: {'C': 0.0004102453994197042, 'tol': 0.0010769391700430767, 'penalty': 'l2'}. Best is trial 32 with value: 0.5409352142110764.\n",
      "[I 2024-07-11 19:15:10,153] Trial 133 finished with value: 0.5386624869383491 and parameters: {'C': 0.0003234765765484499, 'tol': 0.0008487958871362613, 'penalty': 'l2'}. Best is trial 32 with value: 0.5409352142110764.\n",
      "[I 2024-07-11 19:15:10,187] Trial 134 finished with value: 0.5409352142110764 and parameters: {'C': 0.0003844585118056691, 'tol': 0.000467450337169716, 'penalty': 'l2'}. Best is trial 32 with value: 0.5409352142110764.\n",
      "[I 2024-07-11 19:15:10,222] Trial 135 finished with value: 0.5386624869383491 and parameters: {'C': 0.00023687036318434463, 'tol': 0.0013462690875349424, 'penalty': 'l2'}. Best is trial 32 with value: 0.5409352142110764.\n",
      "[I 2024-07-11 19:15:10,257] Trial 136 finished with value: 0.5386363636363637 and parameters: {'C': 0.0005654906839339114, 'tol': 0.0007717922777958016, 'penalty': 'l2'}. Best is trial 32 with value: 0.5409352142110764.\n",
      "[I 2024-07-11 19:15:10,292] Trial 137 finished with value: 0.5295454545454545 and parameters: {'C': 0.0010279928489987902, 'tol': 0.00025570061895301117, 'penalty': 'l2'}. Best is trial 32 with value: 0.5409352142110764.\n",
      "[I 2024-07-11 19:15:10,327] Trial 138 finished with value: 0.5340909090909092 and parameters: {'C': 0.0006946561957472497, 'tol': 0.000550044934134644, 'penalty': 'l2'}. Best is trial 32 with value: 0.5409352142110764.\n",
      "[I 2024-07-11 19:15:10,362] Trial 139 finished with value: 0.5386624869383491 and parameters: {'C': 0.00027518179112824066, 'tol': 0.0016513899094542, 'penalty': 'l2'}. Best is trial 32 with value: 0.5409352142110764.\n",
      "[I 2024-07-11 19:15:10,397] Trial 140 finished with value: 0.5363375130616511 and parameters: {'C': 0.00046574616134800896, 'tol': 0.0026688034221585967, 'penalty': 'l2'}. Best is trial 32 with value: 0.5409352142110764.\n",
      "[I 2024-07-11 19:15:10,431] Trial 141 finished with value: 0.5386624869383491 and parameters: {'C': 0.00037454028334903155, 'tol': 0.0004414395386026438, 'penalty': 'l2'}. Best is trial 32 with value: 0.5409352142110764.\n",
      "[I 2024-07-11 19:15:10,466] Trial 142 finished with value: 0.5409352142110764 and parameters: {'C': 0.0004178309429866218, 'tol': 0.0003390858622796017, 'penalty': 'l2'}. Best is trial 32 with value: 0.5409352142110764.\n",
      "[I 2024-07-11 19:15:10,501] Trial 143 finished with value: 0.5340909090909092 and parameters: {'C': 0.0008019503497850263, 'tol': 0.0006819558643964301, 'penalty': 'l2'}. Best is trial 32 with value: 0.5409352142110764.\n",
      "[I 2024-07-11 19:15:10,537] Trial 144 finished with value: 0.5363897596656217 and parameters: {'C': 0.0002032864030836952, 'tol': 0.00040588850602986333, 'penalty': 'l2'}. Best is trial 32 with value: 0.5409352142110764.\n",
      "[I 2024-07-11 19:15:10,572] Trial 145 finished with value: 0.5386363636363637 and parameters: {'C': 0.0005504651291465743, 'tol': 0.0011662608860844672, 'penalty': 'l2'}. Best is trial 32 with value: 0.5409352142110764.\n",
      "[I 2024-07-11 19:15:10,607] Trial 146 finished with value: 0.5386624869383491 and parameters: {'C': 0.00029675969391055457, 'tol': 0.00022127865654908725, 'penalty': 'l2'}. Best is trial 32 with value: 0.5409352142110764.\n",
      "[I 2024-07-11 19:15:10,642] Trial 147 finished with value: 0.5386363636363637 and parameters: {'C': 0.0004411560691700975, 'tol': 0.00456196321007285, 'penalty': 'l2'}. Best is trial 32 with value: 0.5409352142110764.\n",
      "[I 2024-07-11 19:15:10,677] Trial 148 finished with value: 0.5386624869383491 and parameters: {'C': 0.00033698091977681246, 'tol': 0.0003516107030008274, 'penalty': 'l2'}. Best is trial 32 with value: 0.5409352142110764.\n",
      "[I 2024-07-11 19:15:10,711] Trial 149 finished with value: 0.5363897596656217 and parameters: {'C': 0.00016969124675021797, 'tol': 0.0008394059864198876, 'penalty': 'l2'}. Best is trial 32 with value: 0.5409352142110764.\n",
      "[I 2024-07-11 19:15:10,745] Trial 150 finished with value: 0.45906478578892373 and parameters: {'C': 0.0012937117482700621, 'tol': 2.4329734644563684e-06, 'penalty': 'l1'}. Best is trial 32 with value: 0.5409352142110764.\n",
      "[I 2024-07-11 19:15:10,780] Trial 151 finished with value: 0.5409352142110764 and parameters: {'C': 0.0004065355885650846, 'tol': 0.0010575838727276366, 'penalty': 'l2'}. Best is trial 32 with value: 0.5409352142110764.\n",
      "[I 2024-07-11 19:15:10,816] Trial 152 finished with value: 0.5340909090909092 and parameters: {'C': 0.0006127405146167701, 'tol': 0.0010849756778754445, 'penalty': 'l2'}. Best is trial 32 with value: 0.5409352142110764.\n",
      "[I 2024-07-11 19:15:10,852] Trial 153 finished with value: 0.5363375130616511 and parameters: {'C': 0.000473877947306594, 'tol': 0.0005503422387566232, 'penalty': 'l2'}. Best is trial 32 with value: 0.5409352142110764.\n",
      "[I 2024-07-11 19:15:10,887] Trial 154 finished with value: 0.5386624869383491 and parameters: {'C': 0.00026769236932978175, 'tol': 0.001863639113987431, 'penalty': 'l2'}. Best is trial 32 with value: 0.5409352142110764.\n",
      "[I 2024-07-11 19:15:10,922] Trial 155 finished with value: 0.5295454545454545 and parameters: {'C': 0.0009424155645036408, 'tol': 0.0013411830123737792, 'penalty': 'l2'}. Best is trial 32 with value: 0.5409352142110764.\n",
      "[I 2024-07-11 19:15:10,958] Trial 156 finished with value: 0.5409352142110764 and parameters: {'C': 0.0003824600209991862, 'tol': 0.0006992049880127045, 'penalty': 'l2'}. Best is trial 32 with value: 0.5409352142110764.\n",
      "[I 2024-07-11 19:15:10,993] Trial 157 finished with value: 0.5363636363636365 and parameters: {'C': 0.0007501341213848554, 'tol': 0.0001855345333544398, 'penalty': 'l2'}. Best is trial 32 with value: 0.5409352142110764.\n",
      "[I 2024-07-11 19:15:11,028] Trial 158 finished with value: 0.5363897596656217 and parameters: {'C': 0.0002241939980903607, 'tol': 0.00041748963740706355, 'penalty': 'l2'}. Best is trial 32 with value: 0.5409352142110764.\n",
      "[I 2024-07-11 19:15:11,064] Trial 159 finished with value: 0.5386363636363637 and parameters: {'C': 0.0005592419335591017, 'tol': 0.0009550160256589769, 'penalty': 'l2'}. Best is trial 32 with value: 0.5409352142110764.\n",
      "[I 2024-07-11 19:15:11,100] Trial 160 finished with value: 0.5386624869383491 and parameters: {'C': 0.0003132363227202068, 'tol': 0.000652829410337533, 'penalty': 'l2'}. Best is trial 32 with value: 0.5409352142110764.\n",
      "[I 2024-07-11 19:15:11,136] Trial 161 finished with value: 0.5409352142110764 and parameters: {'C': 0.00038253217035208556, 'tol': 0.0005320467979226264, 'penalty': 'l2'}. Best is trial 32 with value: 0.5409352142110764.\n",
      "[I 2024-07-11 19:15:11,171] Trial 162 finished with value: 0.5409352142110764 and parameters: {'C': 0.0003989387084883212, 'tol': 0.000303857948384994, 'penalty': 'l2'}. Best is trial 32 with value: 0.5409352142110764.\n",
      "[I 2024-07-11 19:15:11,206] Trial 163 finished with value: 0.5386363636363637 and parameters: {'C': 0.0005275979794732036, 'tol': 0.0004663063313073052, 'penalty': 'l2'}. Best is trial 32 with value: 0.5409352142110764.\n",
      "[I 2024-07-11 19:15:11,241] Trial 164 finished with value: 0.5386624869383491 and parameters: {'C': 0.0003189993725231825, 'tol': 0.0007498215794289163, 'penalty': 'l2'}. Best is trial 32 with value: 0.5409352142110764.\n",
      "[I 2024-07-11 19:15:11,276] Trial 165 finished with value: 0.5386363636363637 and parameters: {'C': 0.00045095074431940357, 'tol': 0.0002501963967875338, 'penalty': 'l2'}. Best is trial 32 with value: 0.5409352142110764.\n",
      "[I 2024-07-11 19:15:11,310] Trial 166 finished with value: 0.5340909090909092 and parameters: {'C': 0.0006674087286651625, 'tol': 0.0011227267070901697, 'penalty': 'l2'}. Best is trial 32 with value: 0.5409352142110764.\n",
      "[I 2024-07-11 19:15:11,348] Trial 167 finished with value: 0.5386624869383491 and parameters: {'C': 0.00023903401437787175, 'tol': 0.00037328446244994367, 'penalty': 'l2'}. Best is trial 32 with value: 0.5409352142110764.\n",
      "[I 2024-07-11 19:15:11,382] Trial 168 finished with value: 0.5386624869383491 and parameters: {'C': 0.00036411816954774447, 'tol': 0.0008694147559418391, 'penalty': 'l2'}. Best is trial 32 with value: 0.5409352142110764.\n",
      "[I 2024-07-11 19:15:11,422] Trial 169 finished with value: 0.5340909090909092 and parameters: {'C': 0.0006294630449189225, 'tol': 0.0014025003870582016, 'penalty': 'l2'}. Best is trial 32 with value: 0.5409352142110764.\n",
      "[I 2024-07-11 19:15:11,458] Trial 170 finished with value: 0.5386624869383491 and parameters: {'C': 0.00026947123964270685, 'tol': 0.0004934073314120145, 'penalty': 'l2'}. Best is trial 32 with value: 0.5409352142110764.\n",
      "[I 2024-07-11 19:15:11,493] Trial 171 finished with value: 0.5386363636363637 and parameters: {'C': 0.0004487154339139474, 'tol': 0.0003376390691478174, 'penalty': 'l2'}. Best is trial 32 with value: 0.5409352142110764.\n",
      "[I 2024-07-11 19:15:11,528] Trial 172 finished with value: 0.5409352142110764 and parameters: {'C': 0.000396931059644965, 'tol': 0.00030162461722582027, 'penalty': 'l2'}. Best is trial 32 with value: 0.5409352142110764.\n",
      "[I 2024-07-11 19:15:11,564] Trial 173 finished with value: 0.5386363636363637 and parameters: {'C': 0.0004968188554988589, 'tol': 0.0006089000203271284, 'penalty': 'l2'}. Best is trial 32 with value: 0.5409352142110764.\n",
      "[I 2024-07-11 19:15:11,601] Trial 174 finished with value: 0.5386624869383491 and parameters: {'C': 0.0002969831683174347, 'tol': 0.0004414110673670577, 'penalty': 'l2'}. Best is trial 32 with value: 0.5409352142110764.\n",
      "[I 2024-07-11 19:15:11,637] Trial 175 finished with value: 0.5363897596656217 and parameters: {'C': 0.00019401617205571758, 'tol': 0.00015910250434295002, 'penalty': 'l2'}. Best is trial 32 with value: 0.5409352142110764.\n",
      "[I 2024-07-11 19:15:11,672] Trial 176 finished with value: 0.5318181818181819 and parameters: {'C': 0.0008894292828506983, 'tol': 0.0007836149960316267, 'penalty': 'l2'}. Best is trial 32 with value: 0.5409352142110764.\n",
      "[I 2024-07-11 19:15:11,707] Trial 177 finished with value: 0.5409352142110764 and parameters: {'C': 0.00041959113549364856, 'tol': 0.00022533370179861055, 'penalty': 'l2'}. Best is trial 32 with value: 0.5409352142110764.\n",
      "[I 2024-07-11 19:15:11,742] Trial 178 finished with value: 0.45906478578892373 and parameters: {'C': 0.0007307725266407469, 'tol': 0.0003474323250398165, 'penalty': 'l1'}. Best is trial 32 with value: 0.5409352142110764.\n",
      "[I 2024-07-11 19:15:11,777] Trial 179 finished with value: 0.5363636363636364 and parameters: {'C': 0.0005847703974185415, 'tol': 0.0010253740437707701, 'penalty': 'l2'}. Best is trial 32 with value: 0.5409352142110764.\n",
      "[I 2024-07-11 19:15:11,812] Trial 180 finished with value: 0.5386624869383491 and parameters: {'C': 0.00033957112522154856, 'tol': 0.000590420050298237, 'penalty': 'l2'}. Best is trial 32 with value: 0.5409352142110764.\n",
      "[I 2024-07-11 19:15:11,856] Trial 181 finished with value: 0.5409352142110764 and parameters: {'C': 0.00040305446327551866, 'tol': 0.0011665198137968365, 'penalty': 'l2'}. Best is trial 32 with value: 0.5409352142110764.\n",
      "[I 2024-07-11 19:15:11,891] Trial 182 finished with value: 0.5386363636363637 and parameters: {'C': 0.0004937924261830479, 'tol': 0.0009772699419712627, 'penalty': 'l2'}. Best is trial 32 with value: 0.5409352142110764.\n",
      "[I 2024-07-11 19:15:11,924] Trial 183 finished with value: 0.5318443051201671 and parameters: {'C': 1.3832523257271673e-06, 'tol': 0.0016265762338860863, 'penalty': 'l2'}. Best is trial 32 with value: 0.5409352142110764.\n",
      "[I 2024-07-11 19:15:11,987] Trial 184 finished with value: 0.5386624869383491 and parameters: {'C': 0.00024517523937166494, 'tol': 0.0007799753444220142, 'penalty': 'l2'}. Best is trial 32 with value: 0.5409352142110764.\n",
      "[I 2024-07-11 19:15:12,037] Trial 185 finished with value: 0.5409352142110764 and parameters: {'C': 0.00038379468071043633, 'tol': 0.0012899864821498694, 'penalty': 'l2'}. Best is trial 32 with value: 0.5409352142110764.\n",
      "[I 2024-07-11 19:15:12,072] Trial 186 finished with value: 0.5157784743991641 and parameters: {'C': 0.005747397617514644, 'tol': 0.0004983210709066662, 'penalty': 'l2'}. Best is trial 32 with value: 0.5409352142110764.\n",
      "[I 2024-07-11 19:15:12,108] Trial 187 finished with value: 0.5386624869383491 and parameters: {'C': 0.00031634254832995767, 'tol': 0.0009787663271768035, 'penalty': 'l2'}. Best is trial 32 with value: 0.5409352142110764.\n",
      "[I 2024-07-11 19:15:12,143] Trial 188 finished with value: 0.5386363636363637 and parameters: {'C': 0.0004933987744503113, 'tol': 0.0006840268904460273, 'penalty': 'l2'}. Best is trial 32 with value: 0.5409352142110764.\n",
      "[I 2024-07-11 19:15:12,177] Trial 189 finished with value: 0.5340909090909092 and parameters: {'C': 0.0006449748064955619, 'tol': 0.0022797950595005276, 'penalty': 'l2'}. Best is trial 32 with value: 0.5409352142110764.\n",
      "[I 2024-07-11 19:15:12,210] Trial 190 finished with value: 0.5386624869383491 and parameters: {'C': 0.00037194498530577363, 'tol': 0.00026878791329276134, 'penalty': 'l2'}. Best is trial 32 with value: 0.5409352142110764.\n",
      "[I 2024-07-11 19:15:12,244] Trial 191 finished with value: 0.5409352142110764 and parameters: {'C': 0.0004132670628852631, 'tol': 0.0006713161941618608, 'penalty': 'l2'}. Best is trial 32 with value: 0.5409352142110764.\n",
      "[I 2024-07-11 19:15:12,279] Trial 192 finished with value: 0.5386624869383491 and parameters: {'C': 0.000284974178547364, 'tol': 0.00042152024904689697, 'penalty': 'l2'}. Best is trial 32 with value: 0.5409352142110764.\n",
      "[I 2024-07-11 19:15:12,313] Trial 193 finished with value: 0.5386363636363637 and parameters: {'C': 0.0005391065768163399, 'tol': 0.000820915268204341, 'penalty': 'l2'}. Best is trial 32 with value: 0.5409352142110764.\n",
      "[I 2024-07-11 19:15:12,348] Trial 194 finished with value: 0.5386624869383491 and parameters: {'C': 0.0003626184561559141, 'tol': 1.5633460430767197e-05, 'penalty': 'l2'}. Best is trial 32 with value: 0.5409352142110764.\n",
      "[I 2024-07-11 19:15:12,381] Trial 195 finished with value: 0.5363897596656217 and parameters: {'C': 0.00022481510839269503, 'tol': 0.0005663285897895306, 'penalty': 'l2'}. Best is trial 32 with value: 0.5409352142110764.\n",
      "[I 2024-07-11 19:15:12,415] Trial 196 finished with value: 0.5386363636363637 and parameters: {'C': 0.00044543776057548744, 'tol': 0.0010898940102170521, 'penalty': 'l2'}. Best is trial 32 with value: 0.5409352142110764.\n",
      "[I 2024-07-11 19:15:12,449] Trial 197 finished with value: 0.5363636363636365 and parameters: {'C': 0.0007454927377324382, 'tol': 0.0007176324811470575, 'penalty': 'l2'}. Best is trial 32 with value: 0.5409352142110764.\n",
      "[I 2024-07-11 19:15:12,483] Trial 198 finished with value: 0.5386624869383491 and parameters: {'C': 0.0002924992580653695, 'tol': 0.0003551030723570284, 'penalty': 'l2'}. Best is trial 32 with value: 0.5409352142110764.\n",
      "[I 2024-07-11 19:15:12,517] Trial 199 finished with value: 0.5363636363636364 and parameters: {'C': 0.000592249987396398, 'tol': 0.0014579676062864266, 'penalty': 'l2'}. Best is trial 32 with value: 0.5409352142110764.\n",
      "[I 2024-07-11 19:15:12,551] Trial 200 finished with value: 0.5386624869383491 and parameters: {'C': 0.000356124987081465, 'tol': 0.00019687890647232864, 'penalty': 'l2'}. Best is trial 32 with value: 0.5409352142110764.\n",
      "[I 2024-07-11 19:15:12,585] Trial 201 finished with value: 0.5409352142110764 and parameters: {'C': 0.00040118825412049117, 'tol': 0.0005060348149839257, 'penalty': 'l2'}. Best is trial 32 with value: 0.5409352142110764.\n",
      "[I 2024-07-11 19:15:12,620] Trial 202 finished with value: 0.5363375130616511 and parameters: {'C': 0.00046503037850891617, 'tol': 0.000569498113398337, 'penalty': 'l2'}. Best is trial 32 with value: 0.5409352142110764.\n",
      "[I 2024-07-11 19:15:12,654] Trial 203 finished with value: 0.5409352142110764 and parameters: {'C': 0.0003853548166506018, 'tol': 0.0008850093291147517, 'penalty': 'l2'}. Best is trial 32 with value: 0.5409352142110764.\n",
      "[I 2024-07-11 19:15:12,689] Trial 204 finished with value: 0.5386624869383491 and parameters: {'C': 0.0003026344577520774, 'tol': 0.0004190666777612125, 'penalty': 'l2'}. Best is trial 32 with value: 0.5409352142110764.\n",
      "[I 2024-07-11 19:15:12,724] Trial 205 finished with value: 0.5386363636363637 and parameters: {'C': 0.0005230724189331413, 'tol': 6.0950806378118144e-06, 'penalty': 'l2'}. Best is trial 32 with value: 0.5409352142110764.\n",
      "[I 2024-07-11 19:15:12,758] Trial 206 finished with value: 0.5386624869383491 and parameters: {'C': 0.00024833847952968134, 'tol': 0.0002946325324870227, 'penalty': 'l2'}. Best is trial 32 with value: 0.5409352142110764.\n",
      "[I 2024-07-11 19:15:12,792] Trial 207 finished with value: 0.5340909090909092 and parameters: {'C': 0.0006300415337418801, 'tol': 0.0006072750776866849, 'penalty': 'l2'}. Best is trial 32 with value: 0.5409352142110764.\n",
      "[I 2024-07-11 19:15:12,826] Trial 208 finished with value: 0.5363897596656217 and parameters: {'C': 0.00017311700527424993, 'tol': 9.526950286141894e-06, 'penalty': 'l2'}. Best is trial 32 with value: 0.5409352142110764.\n",
      "[I 2024-07-11 19:15:12,869] Trial 209 finished with value: 0.5386624869383491 and parameters: {'C': 0.0003392955913866519, 'tol': 0.0010973606807040074, 'penalty': 'l2'}. Best is trial 32 with value: 0.5409352142110764.\n",
      "[I 2024-07-11 19:15:12,902] Trial 210 finished with value: 0.5386363636363637 and parameters: {'C': 0.00045214117204946314, 'tol': 0.0007515638318693524, 'penalty': 'l2'}. Best is trial 32 with value: 0.5409352142110764.\n",
      "[I 2024-07-11 19:15:12,936] Trial 211 finished with value: 0.5409352142110764 and parameters: {'C': 0.0004296505552500469, 'tol': 0.0002718054702761323, 'penalty': 'l2'}. Best is trial 32 with value: 0.5409352142110764.\n",
      "[I 2024-07-11 19:15:12,970] Trial 212 finished with value: 0.5409352142110764 and parameters: {'C': 0.0003844811090085076, 'tol': 0.0003354480201299552, 'penalty': 'l2'}. Best is trial 32 with value: 0.5409352142110764.\n",
      "[I 2024-07-11 19:15:13,005] Trial 213 finished with value: 0.5386624869383491 and parameters: {'C': 0.00031369090359946585, 'tol': 0.00046706250187662356, 'penalty': 'l2'}. Best is trial 32 with value: 0.5409352142110764.\n",
      "[I 2024-07-11 19:15:13,041] Trial 214 finished with value: 0.45906478578892373 and parameters: {'C': 0.00048725240879965106, 'tol': 0.0002251022914292031, 'penalty': 'l1'}. Best is trial 32 with value: 0.5409352142110764.\n",
      "[I 2024-07-11 19:15:13,077] Trial 215 finished with value: 0.5386363636363637 and parameters: {'C': 0.0005651944251828893, 'tol': 0.00029951223858419693, 'penalty': 'l2'}. Best is trial 32 with value: 0.5409352142110764.\n",
      "[I 2024-07-11 19:15:13,114] Trial 216 finished with value: 0.5386624869383491 and parameters: {'C': 0.00024624007644664264, 'tol': 0.0009033660888631924, 'penalty': 'l2'}. Best is trial 32 with value: 0.5409352142110764.\n",
      "[I 2024-07-11 19:15:13,150] Trial 217 finished with value: 0.5386624869383491 and parameters: {'C': 0.00037262789562714026, 'tol': 0.0005161369455083757, 'penalty': 'l2'}. Best is trial 32 with value: 0.5409352142110764.\n",
      "[I 2024-07-11 19:15:13,186] Trial 218 finished with value: 0.5340909090909092 and parameters: {'C': 0.0007948679516371524, 'tol': 0.09708876574397397, 'penalty': 'l2'}. Best is trial 32 with value: 0.5409352142110764.\n",
      "[I 2024-07-11 19:15:13,222] Trial 219 finished with value: 0.5409352142110764 and parameters: {'C': 0.0004261647722705184, 'tol': 0.0003721876530559977, 'penalty': 'l2'}. Best is trial 32 with value: 0.5409352142110764.\n",
      "[I 2024-07-11 19:15:13,258] Trial 220 finished with value: 0.5386624869383491 and parameters: {'C': 0.0002940888687396809, 'tol': 0.0006491315949350955, 'penalty': 'l2'}. Best is trial 32 with value: 0.5409352142110764.\n",
      "[I 2024-07-11 19:15:13,294] Trial 221 finished with value: 0.5409352142110764 and parameters: {'C': 0.00037842663030665963, 'tol': 0.0002995055796677823, 'penalty': 'l2'}. Best is trial 32 with value: 0.5409352142110764.\n",
      "[I 2024-07-11 19:15:13,330] Trial 222 finished with value: 0.5386363636363637 and parameters: {'C': 0.0005312824639567246, 'tol': 0.00019423215275968873, 'penalty': 'l2'}. Best is trial 32 with value: 0.5409352142110764.\n",
      "[I 2024-07-11 19:15:13,367] Trial 223 finished with value: 0.5409352142110764 and parameters: {'C': 0.00039754484389771863, 'tol': 0.000389094646617797, 'penalty': 'l2'}. Best is trial 32 with value: 0.5409352142110764.\n",
      "[I 2024-07-11 19:15:13,403] Trial 224 finished with value: 0.5340909090909092 and parameters: {'C': 0.0006518397547437044, 'tol': 0.001295698359157235, 'penalty': 'l2'}. Best is trial 32 with value: 0.5409352142110764.\n",
      "[I 2024-07-11 19:15:13,439] Trial 225 finished with value: 0.5386624869383491 and parameters: {'C': 0.0003323992168989743, 'tol': 0.00024949080372716685, 'penalty': 'l2'}. Best is trial 32 with value: 0.5409352142110764.\n",
      "[I 2024-07-11 19:15:13,476] Trial 226 finished with value: 0.5409352142110764 and parameters: {'C': 0.00043219394452166573, 'tol': 0.00011571737606154705, 'penalty': 'l2'}. Best is trial 32 with value: 0.5409352142110764.\n",
      "[I 2024-07-11 19:15:13,512] Trial 227 finished with value: 0.5363897596656217 and parameters: {'C': 0.0002026920232479105, 'tol': 0.000917961207552976, 'penalty': 'l2'}. Best is trial 32 with value: 0.5409352142110764.\n",
      "[I 2024-07-11 19:15:13,548] Trial 228 finished with value: 0.5386624869383491 and parameters: {'C': 0.0002622544979998574, 'tol': 0.0003053354483904081, 'penalty': 'l2'}. Best is trial 32 with value: 0.5409352142110764.\n",
      "[I 2024-07-11 19:15:13,584] Trial 229 finished with value: 0.5386363636363637 and parameters: {'C': 0.0005186439031415539, 'tol': 0.0004896364275984603, 'penalty': 'l2'}. Best is trial 32 with value: 0.5409352142110764.\n",
      "[I 2024-07-11 19:15:13,621] Trial 230 finished with value: 0.5386624869383491 and parameters: {'C': 0.0003561009240902705, 'tol': 0.000789908454450052, 'penalty': 'l2'}. Best is trial 32 with value: 0.5409352142110764.\n",
      "[I 2024-07-11 19:15:13,658] Trial 231 finished with value: 0.5386363636363637 and parameters: {'C': 0.00045029629442283305, 'tol': 0.0002268533915526553, 'penalty': 'l2'}. Best is trial 32 with value: 0.5409352142110764.\n",
      "[I 2024-07-11 19:15:13,694] Trial 232 finished with value: 0.5409352142110764 and parameters: {'C': 0.0004247583608728974, 'tol': 0.0002014820223995895, 'penalty': 'l2'}. Best is trial 32 with value: 0.5409352142110764.\n",
      "[I 2024-07-11 19:15:13,729] Trial 233 finished with value: 0.5363636363636364 and parameters: {'C': 0.0005956653863740482, 'tol': 0.00014052468074384373, 'penalty': 'l2'}. Best is trial 32 with value: 0.5409352142110764.\n",
      "[I 2024-07-11 19:15:13,763] Trial 234 finished with value: 0.5386624869383491 and parameters: {'C': 0.00031369277994324304, 'tol': 0.00016783112287541708, 'penalty': 'l2'}. Best is trial 32 with value: 0.5409352142110764.\n",
      "[I 2024-07-11 19:15:13,797] Trial 235 finished with value: 0.5386624869383491 and parameters: {'C': 0.0003737134231965591, 'tol': 0.0003819807307455415, 'penalty': 'l2'}. Best is trial 32 with value: 0.5409352142110764.\n",
      "[I 2024-07-11 19:15:13,831] Trial 236 finished with value: 0.5386363636363637 and parameters: {'C': 0.000497131101836856, 'tol': 0.00026476685153041036, 'penalty': 'l2'}. Best is trial 32 with value: 0.5409352142110764.\n",
      "[I 2024-07-11 19:15:13,865] Trial 237 finished with value: 0.5386624869383491 and parameters: {'C': 0.00027686342038389926, 'tol': 0.0010696253053497466, 'penalty': 'l2'}. Best is trial 32 with value: 0.5409352142110764.\n",
      "[I 2024-07-11 19:15:13,900] Trial 238 finished with value: 0.5340909090909092 and parameters: {'C': 0.0006887099140900152, 'tol': 0.0006324225753964262, 'penalty': 'l2'}. Best is trial 32 with value: 0.5409352142110764.\n",
      "[I 2024-07-11 19:15:13,934] Trial 239 finished with value: 0.5386363636363637 and parameters: {'C': 0.00044572951974220475, 'tol': 0.00046170445247118667, 'penalty': 'l2'}. Best is trial 32 with value: 0.5409352142110764.\n",
      "[I 2024-07-11 19:15:13,969] Trial 240 finished with value: 0.5386624869383491 and parameters: {'C': 0.0003548063345039349, 'tol': 0.0003062027020519898, 'penalty': 'l2'}. Best is trial 32 with value: 0.5409352142110764.\n",
      "[I 2024-07-11 19:15:14,003] Trial 241 finished with value: 0.5409352142110764 and parameters: {'C': 0.00041748772670745145, 'tol': 0.0011743714527993566, 'penalty': 'l2'}. Best is trial 32 with value: 0.5409352142110764.\n",
      "[I 2024-07-11 19:15:14,041] Trial 242 finished with value: 0.5386363636363637 and parameters: {'C': 0.0005587094577543626, 'tol': 0.001566939542739408, 'penalty': 'l2'}. Best is trial 32 with value: 0.5409352142110764.\n",
      "[I 2024-07-11 19:15:14,077] Trial 243 finished with value: 0.5386624869383491 and parameters: {'C': 0.0003710726569623242, 'tol': 0.0012395669079984857, 'penalty': 'l2'}. Best is trial 32 with value: 0.5409352142110764.\n",
      "[I 2024-07-11 19:15:14,113] Trial 244 finished with value: 0.5386624869383491 and parameters: {'C': 0.0002912617328426926, 'tol': 0.000778043280141146, 'penalty': 'l2'}. Best is trial 32 with value: 0.5409352142110764.\n",
      "[I 2024-07-11 19:15:14,148] Trial 245 finished with value: 0.5409352142110764 and parameters: {'C': 0.00042871583860276696, 'tol': 0.0008683268820919049, 'penalty': 'l2'}. Best is trial 32 with value: 0.5409352142110764.\n",
      "[I 2024-07-11 19:15:14,183] Trial 246 finished with value: 0.5363636363636364 and parameters: {'C': 0.0005849025729299745, 'tol': 0.0009886413872320834, 'penalty': 'l2'}. Best is trial 32 with value: 0.5409352142110764.\n",
      "[I 2024-07-11 19:15:14,217] Trial 247 finished with value: 0.45906478578892373 and parameters: {'C': 0.0003415706741821485, 'tol': 0.0005622612835051649, 'penalty': 'l1'}. Best is trial 32 with value: 0.5409352142110764.\n",
      "[I 2024-07-11 19:15:14,252] Trial 248 finished with value: 0.5386624869383491 and parameters: {'C': 0.00024750123926800354, 'tol': 0.0007222280389174725, 'penalty': 'l2'}. Best is trial 32 with value: 0.5409352142110764.\n",
      "[I 2024-07-11 19:15:14,286] Trial 249 finished with value: 0.5386363636363637 and parameters: {'C': 0.0004983447197357253, 'tol': 0.0017643238434257606, 'penalty': 'l2'}. Best is trial 32 with value: 0.5409352142110764.\n",
      "[I 2024-07-11 19:15:14,320] Trial 250 finished with value: 0.5409352142110764 and parameters: {'C': 0.0004033120136136587, 'tol': 0.0011777607301189002, 'penalty': 'l2'}. Best is trial 32 with value: 0.5409352142110764.\n",
      "[I 2024-07-11 19:15:14,356] Trial 251 finished with value: 0.5386624869383491 and parameters: {'C': 0.00028875904608549716, 'tol': 0.00035657263505808315, 'penalty': 'l2'}. Best is trial 32 with value: 0.5409352142110764.\n",
      "[I 2024-07-11 19:15:14,390] Trial 252 finished with value: 0.5386363636363637 and parameters: {'C': 0.0005000691445747299, 'tol': 0.00022358754424894403, 'penalty': 'l2'}. Best is trial 32 with value: 0.5409352142110764.\n",
      "[I 2024-07-11 19:15:14,425] Trial 253 finished with value: 0.5363636363636365 and parameters: {'C': 0.0007788306555803463, 'tol': 0.0006085191505570331, 'penalty': 'l2'}. Best is trial 32 with value: 0.5409352142110764.\n",
      "[I 2024-07-11 19:15:14,459] Trial 254 finished with value: 0.5386624869383491 and parameters: {'C': 0.0003469792970939284, 'tol': 0.00044755476636764937, 'penalty': 'l2'}. Best is trial 32 with value: 0.5409352142110764.\n",
      "[I 2024-07-11 19:15:14,494] Trial 255 finished with value: 0.5363897596656217 and parameters: {'C': 0.00022733581760664358, 'tol': 0.007450044750392295, 'penalty': 'l2'}. Best is trial 32 with value: 0.5409352142110764.\n",
      "[I 2024-07-11 19:15:14,528] Trial 256 finished with value: 0.5363636363636364 and parameters: {'C': 0.0005820624324444807, 'tol': 0.0009891680638536243, 'penalty': 'l2'}. Best is trial 32 with value: 0.5409352142110764.\n",
      "[I 2024-07-11 19:15:14,562] Trial 257 finished with value: 0.5409352142110764 and parameters: {'C': 0.0004176175421464823, 'tol': 0.0013923359180334149, 'penalty': 'l2'}. Best is trial 32 with value: 0.5409352142110764.\n",
      "[I 2024-07-11 19:15:14,597] Trial 258 finished with value: 0.5386624869383491 and parameters: {'C': 0.0003182098251571303, 'tol': 0.0003138871850786859, 'penalty': 'l2'}. Best is trial 32 with value: 0.5409352142110764.\n",
      "[I 2024-07-11 19:15:14,632] Trial 259 finished with value: 0.5363375130616511 and parameters: {'C': 0.00046457634249899576, 'tol': 0.0007173168368853024, 'penalty': 'l2'}. Best is trial 32 with value: 0.5409352142110764.\n",
      "[I 2024-07-11 19:15:14,667] Trial 260 finished with value: 0.5363636363636365 and parameters: {'C': 0.0007328135483035197, 'tol': 1.0705174483358093e-06, 'penalty': 'l2'}. Best is trial 32 with value: 0.5409352142110764.\n",
      "[I 2024-07-11 19:15:14,702] Trial 261 finished with value: 0.5409352142110764 and parameters: {'C': 0.0003841481294490956, 'tol': 0.0002525156043678455, 'penalty': 'l2'}. Best is trial 32 with value: 0.5409352142110764.\n",
      "[I 2024-07-11 19:15:14,736] Trial 262 finished with value: 0.5340909090909092 and parameters: {'C': 0.0006076834339537575, 'tol': 0.020429660550830776, 'penalty': 'l2'}. Best is trial 32 with value: 0.5409352142110764.\n",
      "[I 2024-07-11 19:15:14,771] Trial 263 finished with value: 0.5386624869383491 and parameters: {'C': 0.00028239053668928225, 'tol': 2.1504803061275364e-06, 'penalty': 'l2'}. Best is trial 32 with value: 0.5409352142110764.\n",
      "[I 2024-07-11 19:15:14,806] Trial 264 finished with value: 0.5386363636363637 and parameters: {'C': 0.0004957954574024816, 'tol': 0.0005576930143011965, 'penalty': 'l2'}. Best is trial 32 with value: 0.5409352142110764.\n",
      "[I 2024-07-11 19:15:14,840] Trial 265 finished with value: 0.45906478578892373 and parameters: {'C': 0.00021889782964138756, 'tol': 0.0004274292750817008, 'penalty': 'l1'}. Best is trial 32 with value: 0.5409352142110764.\n",
      "[I 2024-07-11 19:15:14,875] Trial 266 finished with value: 0.5409352142110764 and parameters: {'C': 0.00038919122797244506, 'tol': 2.414494812406096e-05, 'penalty': 'l2'}. Best is trial 32 with value: 0.5409352142110764.\n",
      "[I 2024-07-11 19:15:14,910] Trial 267 finished with value: 0.5386624869383491 and parameters: {'C': 0.0003109014574947216, 'tol': 0.0009138529421228628, 'penalty': 'l2'}. Best is trial 32 with value: 0.5409352142110764.\n",
      "[I 2024-07-11 19:15:14,945] Trial 268 finished with value: 0.5363375130616511 and parameters: {'C': 0.0004767337688616534, 'tol': 0.0003608023236867541, 'penalty': 'l2'}. Best is trial 32 with value: 0.5409352142110764.\n",
      "[I 2024-07-11 19:15:14,985] Trial 269 finished with value: 0.5295454545454545 and parameters: {'C': 0.0009335587905074189, 'tol': 0.0006956140348720656, 'penalty': 'l2'}. Best is trial 32 with value: 0.5409352142110764.\n",
      "[I 2024-07-11 19:15:15,021] Trial 270 finished with value: 0.5363636363636364 and parameters: {'C': 0.0005796642747209539, 'tol': 0.00017984240955281065, 'penalty': 'l2'}. Best is trial 32 with value: 0.5409352142110764.\n",
      "[I 2024-07-11 19:15:15,056] Trial 271 finished with value: 0.5386624869383491 and parameters: {'C': 0.00035069893541736594, 'tol': 0.0012552246417639457, 'penalty': 'l2'}. Best is trial 32 with value: 0.5409352142110764.\n",
      "[I 2024-07-11 19:15:15,091] Trial 272 finished with value: 0.5386624869383491 and parameters: {'C': 0.0002629101189255858, 'tol': 3.6999304527457467e-06, 'penalty': 'l2'}. Best is trial 32 with value: 0.5409352142110764.\n",
      "[I 2024-07-11 19:15:15,126] Trial 273 finished with value: 0.5386624869383491 and parameters: {'C': 0.0003937779365887897, 'tol': 0.0334830220421883, 'penalty': 'l2'}. Best is trial 32 with value: 0.5409352142110764.\n",
      "[I 2024-07-11 19:15:15,162] Trial 274 finished with value: 0.5340909090909092 and parameters: {'C': 0.0006980539530376271, 'tol': 0.0005044278656133955, 'penalty': 'l2'}. Best is trial 32 with value: 0.5409352142110764.\n",
      "[I 2024-07-11 19:15:15,196] Trial 275 finished with value: 0.5386363636363637 and parameters: {'C': 0.00048463583946720465, 'tol': 0.0010356007712830084, 'penalty': 'l2'}. Best is trial 32 with value: 0.5409352142110764.\n",
      "[I 2024-07-11 19:15:15,231] Trial 276 finished with value: 0.5386624869383491 and parameters: {'C': 0.00033026971617575835, 'tol': 0.0002726233367751498, 'penalty': 'l2'}. Best is trial 32 with value: 0.5409352142110764.\n",
      "[I 2024-07-11 19:15:15,266] Trial 277 finished with value: 0.5363897596656217 and parameters: {'C': 0.00019467799334460897, 'tol': 0.0018951389895365152, 'penalty': 'l2'}. Best is trial 32 with value: 0.5409352142110764.\n",
      "[I 2024-07-11 19:15:15,301] Trial 278 finished with value: 0.5409352142110764 and parameters: {'C': 0.00040155725168902274, 'tol': 0.0007872111270941442, 'penalty': 'l2'}. Best is trial 32 with value: 0.5409352142110764.\n",
      "[I 2024-07-11 19:15:15,336] Trial 279 finished with value: 0.5363636363636364 and parameters: {'C': 0.0005906278377878267, 'tol': 6.935209792951851e-05, 'penalty': 'l2'}. Best is trial 32 with value: 0.5409352142110764.\n",
      "[I 2024-07-11 19:15:15,372] Trial 280 finished with value: 0.5272204806687566 and parameters: {'C': 0.01755691332019036, 'tol': 0.00039628624213989806, 'penalty': 'l2'}. Best is trial 32 with value: 0.5409352142110764.\n",
      "[I 2024-07-11 19:15:15,407] Trial 281 finished with value: 0.5386624869383491 and parameters: {'C': 0.00027085919332289434, 'tol': 0.0006198282288785256, 'penalty': 'l2'}. Best is trial 32 with value: 0.5409352142110764.\n",
      "[I 2024-07-11 19:15:15,442] Trial 282 finished with value: 0.5363375130616511 and parameters: {'C': 0.0004742220938542247, 'tol': 0.0015363626628112506, 'penalty': 'l2'}. Best is trial 32 with value: 0.5409352142110764.\n",
      "[I 2024-07-11 19:15:15,476] Trial 283 finished with value: 0.5386624869383491 and parameters: {'C': 0.0003269978408906662, 'tol': 0.0008870659580245403, 'penalty': 'l2'}. Best is trial 32 with value: 0.5409352142110764.\n",
      "[I 2024-07-11 19:15:15,511] Trial 284 finished with value: 0.5340909090909092 and parameters: {'C': 0.0006920562120302674, 'tol': 3.130402829419145e-05, 'penalty': 'l2'}. Best is trial 32 with value: 0.5409352142110764.\n",
      "[I 2024-07-11 19:15:15,546] Trial 285 finished with value: 0.45906478578892373 and parameters: {'C': 0.00042332955244006934, 'tol': 0.00031297897491604335, 'penalty': 'l1'}. Best is trial 32 with value: 0.5409352142110764.\n",
      "[I 2024-07-11 19:15:15,581] Trial 286 finished with value: 0.5386624869383491 and parameters: {'C': 0.00024783405545437015, 'tol': 0.0002304898783026735, 'penalty': 'l2'}. Best is trial 32 with value: 0.5409352142110764.\n",
      "[I 2024-07-11 19:15:15,616] Trial 287 finished with value: 0.5386363636363637 and parameters: {'C': 0.0005479892210479594, 'tol': 0.0004842061487721703, 'penalty': 'l2'}. Best is trial 32 with value: 0.5409352142110764.\n",
      "[I 2024-07-11 19:15:15,652] Trial 288 finished with value: 0.5386624869383491 and parameters: {'C': 0.00037199069806792654, 'tol': 0.001120074748705246, 'penalty': 'l2'}. Best is trial 32 with value: 0.5409352142110764.\n",
      "[I 2024-07-11 19:15:15,686] Trial 289 finished with value: 0.5386624869383491 and parameters: {'C': 0.00031995031006345765, 'tol': 0.0007004484412211976, 'penalty': 'l2'}. Best is trial 32 with value: 0.5409352142110764.\n",
      "[I 2024-07-11 19:15:15,722] Trial 290 finished with value: 0.5318181818181819 and parameters: {'C': 0.0008792528724055005, 'tol': 0.00054985930247335, 'penalty': 'l2'}. Best is trial 32 with value: 0.5409352142110764.\n",
      "[I 2024-07-11 19:15:15,757] Trial 291 finished with value: 0.5386363636363637 and parameters: {'C': 0.0005032398109124682, 'tol': 0.00015429488048207635, 'penalty': 'l2'}. Best is trial 32 with value: 0.5409352142110764.\n",
      "[I 2024-07-11 19:15:15,792] Trial 292 finished with value: 0.5409352142110764 and parameters: {'C': 0.00041872485654119863, 'tol': 0.00036206069843264883, 'penalty': 'l2'}. Best is trial 32 with value: 0.5409352142110764.\n",
      "[I 2024-07-11 19:15:15,827] Trial 293 finished with value: 0.5340909090909092 and parameters: {'C': 0.0006218463017384624, 'tol': 0.0009050036282315748, 'penalty': 'l2'}. Best is trial 32 with value: 0.5409352142110764.\n",
      "[I 2024-07-11 19:15:15,863] Trial 294 finished with value: 0.5363897596656217 and parameters: {'C': 0.00021755517941739788, 'tol': 0.0013428168951580444, 'penalty': 'l2'}. Best is trial 32 with value: 0.5409352142110764.\n",
      "[I 2024-07-11 19:15:15,898] Trial 295 finished with value: 0.5386624869383491 and parameters: {'C': 0.00032007326356472526, 'tol': 0.00021437221572480342, 'penalty': 'l2'}. Best is trial 32 with value: 0.5409352142110764.\n",
      "[I 2024-07-11 19:15:15,939] Trial 296 finished with value: 0.5386363636363637 and parameters: {'C': 0.00045792281248714694, 'tol': 0.0002911081063711488, 'penalty': 'l2'}. Best is trial 32 with value: 0.5409352142110764.\n",
      "[I 2024-07-11 19:15:15,974] Trial 297 finished with value: 0.5363897596656217 and parameters: {'C': 0.00015205753848137322, 'tol': 0.0007814129425816602, 'penalty': 'l2'}. Best is trial 32 with value: 0.5409352142110764.\n",
      "[I 2024-07-11 19:15:16,009] Trial 298 finished with value: 0.5386624869383491 and parameters: {'C': 0.0002576422052452605, 'tol': 0.000445327503039871, 'penalty': 'l2'}. Best is trial 32 with value: 0.5409352142110764.\n",
      "[I 2024-07-11 19:15:16,044] Trial 299 finished with value: 0.5409352142110764 and parameters: {'C': 0.0003874747434153056, 'tol': 0.0010718011452668173, 'penalty': 'l2'}. Best is trial 32 with value: 0.5409352142110764.\n"
     ]
    }
   ],
   "source": [
    "mlflow.set_experiment(\"Logistic Regression PETR4 Trial 3\")\n",
    "study = optuna.create_study(direction='maximize')\n",
    "study.optimize(objective_xgboost, n_trials=300, callbacks=[mlflow_callback])"
   ]
  },
  {
   "cell_type": "markdown",
   "metadata": {},
   "source": [
    "##### Avaliação "
   ]
  },
  {
   "cell_type": "code",
   "execution_count": 59,
   "metadata": {},
   "outputs": [],
   "source": [
    "best_params = {'random_state': RANDOM_SEED, 'solver': 'liblinear', 'C': 0.0004202195565893979, 'tol': 1.0056135062917044e-05, 'penalty': 'l2'}\n",
    "\n",
    "model = LogisticRegression(**best_params)\n",
    "\n",
    "# Treinando o modelo no conjunto de treinamento completo\n",
    "model = model.fit(X_petr4_train_until_2023_03_01_reduced, y_petr4_train_until_2023_03_01)"
   ]
  },
  {
   "cell_type": "markdown",
   "metadata": {},
   "source": [
    "Exibindo os resultados do KFold no conjunto de treino para termos uma referência:"
   ]
  },
  {
   "cell_type": "code",
   "execution_count": 60,
   "metadata": {},
   "outputs": [
    {
     "name": "stdout",
     "output_type": "stream",
     "text": [
      "[TRAINING SET KFOLD] The model scored a mean of: f1-score=0.5928 | accuracy=0.5409\n"
     ]
    }
   ],
   "source": [
    "kf = KFold(n_splits=5, shuffle=True, random_state=RANDOM_SEED)\n",
    "f1_kfold_scores = cross_val_score(model, X_petr4_train_until_2023_03_01_reduced, y_petr4_train_until_2023_03_01, cv=kf, scoring='f1').mean()\n",
    "accuracy_kfold_scores = cross_val_score(model, X_petr4_train_until_2023_03_01_reduced, y_petr4_train_until_2023_03_01, cv=kf, scoring='accuracy').mean()\n",
    "\n",
    "print(f'[TRAINING SET KFOLD] The model scored a mean of: f1-score={f1_kfold_scores:.4f} | accuracy={accuracy_kfold_scores:.4f}')"
   ]
  },
  {
   "cell_type": "markdown",
   "metadata": {},
   "source": [
    "Resultados para o conjunto de teste:"
   ]
  },
  {
   "cell_type": "code",
   "execution_count": 61,
   "metadata": {},
   "outputs": [
    {
     "name": "stdout",
     "output_type": "stream",
     "text": [
      "              precision    recall  f1-score   support\n",
      "\n",
      "           0     0.5357    0.5357    0.5357        28\n",
      "           1     0.6176    0.6176    0.6176        34\n",
      "\n",
      "    accuracy                         0.5806        62\n",
      "   macro avg     0.5767    0.5767    0.5767        62\n",
      "weighted avg     0.5806    0.5806    0.5806        62\n",
      "\n"
     ]
    }
   ],
   "source": [
    "# Avaliando o modelo\n",
    "y_pred = model.predict(X_petr4_test_from_2023_03_01_reduced)\n",
    "report = classification_report(y_petr4_test_from_2023_03_01, y_pred, digits=4)\n",
    "print(report)"
   ]
  },
  {
   "cell_type": "code",
   "execution_count": 62,
   "metadata": {},
   "outputs": [
    {
     "data": {
      "image/png": "[encoded data removed]",
      "text/plain": [
       "<Figure size 800x600 with 1 Axes>"
      ]
     },
     "metadata": {},
     "output_type": "display_data"
    }
   ],
   "source": [
    "plot_confusion_matrix(y_petr4_test_from_2023_03_01, y_pred)"
   ]
  },
  {
   "cell_type": "markdown",
   "metadata": {},
   "source": [
    "Reduzimos overfitting com sucesso! Agora temos os seguinte resultados:\n",
    "- Treino: f1-score=0.5928 | accuracy=0.5409\n",
    "- Teste: f1-score=0.6176 | accuracy=0.5806\n",
    "\n",
    "Que nos permitem concluir que overfitting não está acontecendo, visto que os resultados do treino/validação e teste estão próximos.\n",
    "\n",
    "\n",
    "Porém, uma observação relevante é que o modelo provavelmente deu sorte ao realizar suas predições, devido ao resultado no conjunto de teste ter sido maior do que no de treino/validação"
   ]
  }
 ],
 "metadata": {
  "kernelspec": {
   "display_name": "Python 3",
   "language": "python",
   "name": "python3"
  },
  "language_info": {
   "codemirror_mode": {
    "name": "ipython",
    "version": 3
   },
   "file_extension": ".py",
   "mimetype": "text/x-python",
   "name": "python",
   "nbconvert_exporter": "python",
   "pygments_lexer": "ipython3",
   "version": "3.12.4"
  }
 },
 "nbformat": 4,
 "nbformat_minor": 2
}
