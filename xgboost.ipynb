{
 "cells": [
  {
   "cell_type": "code",
   "execution_count": 1,
   "metadata": {},
   "outputs": [],
   "source": [
    "import pandas as pd\n",
    "import numpy as np\n",
    "import xgboost as xgb\n",
    "import yfinance as yf\n",
    "from pandas_datareader import data as pdr\n",
    "from datetime import datetime\n",
    "from extract_target_columns import extract_target_columns"
   ]
  },
  {
   "cell_type": "code",
   "execution_count": 2,
   "metadata": {},
   "outputs": [],
   "source": [
    "PATH_PETR4_PRICES_TWEETS = 'TimeSeries/PETR4_prices_and_tweets_NLI_scores.csv'"
   ]
  },
  {
   "cell_type": "code",
   "execution_count": 3,
   "metadata": {},
   "outputs": [],
   "source": [
    "df_petr4 = pd.read_csv(PATH_PETR4_PRICES_TWEETS)"
   ]
  },
  {
   "cell_type": "code",
   "execution_count": 4,
   "metadata": {},
   "outputs": [],
   "source": [
    "df_petr4['Date'] = pd.to_datetime(df_petr4['Date'])"
   ]
  },
  {
   "cell_type": "code",
   "execution_count": 5,
   "metadata": {},
   "outputs": [],
   "source": [
    "def extract_target_columns(df):\n",
    "    df_aux = df.copy()\n",
    "    close_price_per_day_1_day_shifted = df_aux['Close'][1:]\n",
    "    close_price_per_day_1_day_shifted = pd.concat([close_price_per_day_1_day_shifted, pd.Series(np.nan)], ignore_index=True)\n",
    "    # Incluindo o valor do fechamento do dia seguinte no dataframe auxiliar\n",
    "    df_aux['Close for next day'] = close_price_per_day_1_day_shifted\n",
    "    # Removendo o útlimo dia de coleta de dados por não sabermos o preço de fechamento do dia seguinte\n",
    "    df_aux = df_aux[:-1]\n",
    "\n",
    "    df_aux['Close one day variation'] = df_aux['Close for next day'] - df_aux['Close']\n",
    "    df_aux['hasRise'] = df_aux['Close one day variation'] > 0\n",
    "    df_aux['hasRise'] = df_aux['hasRise'].map({True:1, False:0})\n",
    "\n",
    "    return df_aux"
   ]
  },
  {
   "cell_type": "code",
   "execution_count": 6,
   "metadata": {},
   "outputs": [],
   "source": [
    "df_petr4_with_targets = extract_target_columns(df_petr4)"
   ]
  },
  {
   "cell_type": "code",
   "execution_count": 8,
   "metadata": {},
   "outputs": [
    {
     "data": {
      "text/plain": [
       "Series([], dtype: int64)"
      ]
     },
     "execution_count": 8,
     "metadata": {},
     "output_type": "execute_result"
    }
   ],
   "source": [
    "df_petr4_with_targets.isna().sum()[df_petr4_with_targets.isna().sum() > 0]"
   ]
  }
 ],
 "metadata": {
  "kernelspec": {
   "display_name": "Python 3",
   "language": "python",
   "name": "python3"
  },
  "language_info": {
   "codemirror_mode": {
    "name": "ipython",
    "version": 3
   },
   "file_extension": ".py",
   "mimetype": "text/x-python",
   "name": "python",
   "nbconvert_exporter": "python",
   "pygments_lexer": "ipython3",
   "version": "3.10.12"
  }
 },
 "nbformat": 4,
 "nbformat_minor": 2
}
