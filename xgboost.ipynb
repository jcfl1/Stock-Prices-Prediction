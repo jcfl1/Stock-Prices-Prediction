{
 "cells": [
  {
   "cell_type": "code",
   "execution_count": 1,
   "metadata": {},
   "outputs": [],
   "source": [
    "import pandas as pd\n",
    "import numpy as np\n",
    "import xgboost as xgb\n",
    "import yfinance as yf\n",
    "from datetime import datetime\n",
    "# import autosklearn.classification\n",
    "import seaborn as sns\n",
    "\n",
    "RANDOM_SEED = 33"
   ]
  },
  {
   "cell_type": "markdown",
   "metadata": {},
   "source": [
    "# Importando dados"
   ]
  },
  {
   "cell_type": "code",
   "execution_count": 2,
   "metadata": {},
   "outputs": [],
   "source": [
    "PATH_PETR4_PRICES_TWEETS = 'TimeSeries/PETR4_prices_and_tweets_NLI_scores.csv'"
   ]
  },
  {
   "cell_type": "code",
   "execution_count": 3,
   "metadata": {},
   "outputs": [],
   "source": [
    "df_petr4 = pd.read_csv(PATH_PETR4_PRICES_TWEETS)"
   ]
  },
  {
   "cell_type": "code",
   "execution_count": 4,
   "metadata": {},
   "outputs": [],
   "source": [
    "df_petr4['Date'] = pd.to_datetime(df_petr4['Date'])"
   ]
  },
  {
   "cell_type": "code",
   "execution_count": 5,
   "metadata": {},
   "outputs": [],
   "source": [
    "def extract_target_columns(df):\n",
    "    df_aux = df.copy()\n",
    "    close_price_per_day_1_day_shifted = df_aux['Close'][1:]\n",
    "    close_price_per_day_1_day_shifted = pd.concat([close_price_per_day_1_day_shifted, pd.Series(np.nan)], ignore_index=True)\n",
    "    # Incluindo o valor do fechamento do dia seguinte no dataframe auxiliar\n",
    "    df_aux['Close for next day'] = close_price_per_day_1_day_shifted\n",
    "    # Removendo o útlimo dia de coleta de dados por não sabermos o preço de fechamento do dia seguinte\n",
    "    df_aux = df_aux[:-1]\n",
    "\n",
    "    df_aux['Close one day variation'] = df_aux['Close for next day'] - df_aux['Close']\n",
    "    df_aux['hasRise'] = df_aux['Close one day variation'] > 0\n",
    "    df_aux['hasRise'] = df_aux['hasRise'].map({True:1, False:0})\n",
    "\n",
    "    return df_aux"
   ]
  },
  {
   "cell_type": "code",
   "execution_count": 6,
   "metadata": {},
   "outputs": [],
   "source": [
    "df_petr4_with_targets = extract_target_columns(df_petr4)"
   ]
  },
  {
   "cell_type": "code",
   "execution_count": 7,
   "metadata": {},
   "outputs": [
    {
     "data": {
      "text/plain": [
       "Series([], dtype: int64)"
      ]
     },
     "execution_count": 7,
     "metadata": {},
     "output_type": "execute_result"
    }
   ],
   "source": [
    "df_petr4_with_targets.isna().sum()[df_petr4_with_targets.isna().sum() > 0]"
   ]
  },
  {
   "cell_type": "code",
   "execution_count": 8,
   "metadata": {},
   "outputs": [
    {
     "data": {
      "text/html": [
       "<div>\n",
       "<style scoped>\n",
       "    .dataframe tbody tr th:only-of-type {\n",
       "        vertical-align: middle;\n",
       "    }\n",
       "\n",
       "    .dataframe tbody tr th {\n",
       "        vertical-align: top;\n",
       "    }\n",
       "\n",
       "    .dataframe thead th {\n",
       "        text-align: right;\n",
       "    }\n",
       "</style>\n",
       "<table border=\"1\" class=\"dataframe\">\n",
       "  <thead>\n",
       "    <tr style=\"text-align: right;\">\n",
       "      <th></th>\n",
       "      <th>Date</th>\n",
       "      <th>stock</th>\n",
       "      <th>valorização_mean</th>\n",
       "      <th>valorização_median</th>\n",
       "      <th>valorização_q1</th>\n",
       "      <th>valorização_q3</th>\n",
       "      <th>valorização_count</th>\n",
       "      <th>bom negócio_mean</th>\n",
       "      <th>bom negócio_median</th>\n",
       "      <th>bom negócio_q1</th>\n",
       "      <th>...</th>\n",
       "      <th>Lucro Líquido - (R$)</th>\n",
       "      <th>Lucro atribuído a Controladora</th>\n",
       "      <th>Lucro atribuído a Não Controladores</th>\n",
       "      <th>Dívida Bruta - (R$)</th>\n",
       "      <th>Margem Bruta - (%)</th>\n",
       "      <th>Margem Ebitda - (%)</th>\n",
       "      <th>Margem Líquida - (%)</th>\n",
       "      <th>Close for next day</th>\n",
       "      <th>Close one day variation</th>\n",
       "      <th>hasRise</th>\n",
       "    </tr>\n",
       "  </thead>\n",
       "  <tbody>\n",
       "    <tr>\n",
       "      <th>0</th>\n",
       "      <td>2022-06-01</td>\n",
       "      <td>PETR4</td>\n",
       "      <td>0.501828</td>\n",
       "      <td>0.501828</td>\n",
       "      <td>0.253213</td>\n",
       "      <td>0.750443</td>\n",
       "      <td>2</td>\n",
       "      <td>0.491784</td>\n",
       "      <td>0.491784</td>\n",
       "      <td>0.367215</td>\n",
       "      <td>...</td>\n",
       "      <td>0.2166</td>\n",
       "      <td>0.2192</td>\n",
       "      <td>-0.3063</td>\n",
       "      <td>0.0116</td>\n",
       "      <td>0.0621</td>\n",
       "      <td>0.1461</td>\n",
       "      <td>0.0079</td>\n",
       "      <td>0.995318</td>\n",
       "      <td>-0.008696</td>\n",
       "      <td>0</td>\n",
       "    </tr>\n",
       "    <tr>\n",
       "      <th>1</th>\n",
       "      <td>2022-06-02</td>\n",
       "      <td>PETR4</td>\n",
       "      <td>0.501828</td>\n",
       "      <td>0.501828</td>\n",
       "      <td>0.253213</td>\n",
       "      <td>0.750443</td>\n",
       "      <td>2</td>\n",
       "      <td>0.491784</td>\n",
       "      <td>0.491784</td>\n",
       "      <td>0.367215</td>\n",
       "      <td>...</td>\n",
       "      <td>0.2166</td>\n",
       "      <td>0.2192</td>\n",
       "      <td>-0.3063</td>\n",
       "      <td>0.0116</td>\n",
       "      <td>0.0621</td>\n",
       "      <td>0.1461</td>\n",
       "      <td>0.0079</td>\n",
       "      <td>1.012709</td>\n",
       "      <td>0.017391</td>\n",
       "      <td>1</td>\n",
       "    </tr>\n",
       "    <tr>\n",
       "      <th>2</th>\n",
       "      <td>2022-06-03</td>\n",
       "      <td>PETR4</td>\n",
       "      <td>0.501828</td>\n",
       "      <td>0.501828</td>\n",
       "      <td>0.253213</td>\n",
       "      <td>0.750443</td>\n",
       "      <td>2</td>\n",
       "      <td>0.491784</td>\n",
       "      <td>0.491784</td>\n",
       "      <td>0.367215</td>\n",
       "      <td>...</td>\n",
       "      <td>0.2166</td>\n",
       "      <td>0.2192</td>\n",
       "      <td>-0.3063</td>\n",
       "      <td>0.0116</td>\n",
       "      <td>0.0621</td>\n",
       "      <td>0.1461</td>\n",
       "      <td>0.0079</td>\n",
       "      <td>1.013378</td>\n",
       "      <td>0.000669</td>\n",
       "      <td>1</td>\n",
       "    </tr>\n",
       "    <tr>\n",
       "      <th>3</th>\n",
       "      <td>2022-06-06</td>\n",
       "      <td>PETR4</td>\n",
       "      <td>0.501828</td>\n",
       "      <td>0.501828</td>\n",
       "      <td>0.253213</td>\n",
       "      <td>0.750443</td>\n",
       "      <td>2</td>\n",
       "      <td>0.491784</td>\n",
       "      <td>0.491784</td>\n",
       "      <td>0.367215</td>\n",
       "      <td>...</td>\n",
       "      <td>0.2166</td>\n",
       "      <td>0.2192</td>\n",
       "      <td>-0.3063</td>\n",
       "      <td>0.0116</td>\n",
       "      <td>0.0621</td>\n",
       "      <td>0.1461</td>\n",
       "      <td>0.0079</td>\n",
       "      <td>1.025418</td>\n",
       "      <td>0.012040</td>\n",
       "      <td>1</td>\n",
       "    </tr>\n",
       "    <tr>\n",
       "      <th>4</th>\n",
       "      <td>2022-06-07</td>\n",
       "      <td>PETR4</td>\n",
       "      <td>0.501828</td>\n",
       "      <td>0.501828</td>\n",
       "      <td>0.253213</td>\n",
       "      <td>0.750443</td>\n",
       "      <td>2</td>\n",
       "      <td>0.491784</td>\n",
       "      <td>0.491784</td>\n",
       "      <td>0.367215</td>\n",
       "      <td>...</td>\n",
       "      <td>0.2166</td>\n",
       "      <td>0.2192</td>\n",
       "      <td>-0.3063</td>\n",
       "      <td>0.0116</td>\n",
       "      <td>0.0621</td>\n",
       "      <td>0.1461</td>\n",
       "      <td>0.0079</td>\n",
       "      <td>1.020401</td>\n",
       "      <td>-0.005017</td>\n",
       "      <td>0</td>\n",
       "    </tr>\n",
       "    <tr>\n",
       "      <th>...</th>\n",
       "      <td>...</td>\n",
       "      <td>...</td>\n",
       "      <td>...</td>\n",
       "      <td>...</td>\n",
       "      <td>...</td>\n",
       "      <td>...</td>\n",
       "      <td>...</td>\n",
       "      <td>...</td>\n",
       "      <td>...</td>\n",
       "      <td>...</td>\n",
       "      <td>...</td>\n",
       "      <td>...</td>\n",
       "      <td>...</td>\n",
       "      <td>...</td>\n",
       "      <td>...</td>\n",
       "      <td>...</td>\n",
       "      <td>...</td>\n",
       "      <td>...</td>\n",
       "      <td>...</td>\n",
       "      <td>...</td>\n",
       "      <td>...</td>\n",
       "    </tr>\n",
       "    <tr>\n",
       "      <th>493</th>\n",
       "      <td>2024-05-23</td>\n",
       "      <td>PETR4</td>\n",
       "      <td>0.552537</td>\n",
       "      <td>0.598493</td>\n",
       "      <td>0.172290</td>\n",
       "      <td>0.978739</td>\n",
       "      <td>4</td>\n",
       "      <td>0.479243</td>\n",
       "      <td>0.515898</td>\n",
       "      <td>0.385444</td>\n",
       "      <td>...</td>\n",
       "      <td>-0.1102</td>\n",
       "      <td>-0.1099</td>\n",
       "      <td>-0.1852</td>\n",
       "      <td>0.0115</td>\n",
       "      <td>-0.0296</td>\n",
       "      <td>-0.0025</td>\n",
       "      <td>-0.0564</td>\n",
       "      <td>1.224415</td>\n",
       "      <td>-0.006689</td>\n",
       "      <td>0</td>\n",
       "    </tr>\n",
       "    <tr>\n",
       "      <th>494</th>\n",
       "      <td>2024-05-24</td>\n",
       "      <td>PETR4</td>\n",
       "      <td>0.497588</td>\n",
       "      <td>0.438173</td>\n",
       "      <td>0.256983</td>\n",
       "      <td>0.770160</td>\n",
       "      <td>9</td>\n",
       "      <td>0.628261</td>\n",
       "      <td>0.685696</td>\n",
       "      <td>0.327318</td>\n",
       "      <td>...</td>\n",
       "      <td>-0.1102</td>\n",
       "      <td>-0.1099</td>\n",
       "      <td>-0.1852</td>\n",
       "      <td>0.0115</td>\n",
       "      <td>-0.0296</td>\n",
       "      <td>-0.0025</td>\n",
       "      <td>-0.0564</td>\n",
       "      <td>1.237793</td>\n",
       "      <td>0.013378</td>\n",
       "      <td>1</td>\n",
       "    </tr>\n",
       "    <tr>\n",
       "      <th>495</th>\n",
       "      <td>2024-05-27</td>\n",
       "      <td>PETR4</td>\n",
       "      <td>0.536770</td>\n",
       "      <td>0.565749</td>\n",
       "      <td>0.308531</td>\n",
       "      <td>0.825538</td>\n",
       "      <td>10</td>\n",
       "      <td>0.555506</td>\n",
       "      <td>0.534227</td>\n",
       "      <td>0.389310</td>\n",
       "      <td>...</td>\n",
       "      <td>-0.1102</td>\n",
       "      <td>-0.1099</td>\n",
       "      <td>-0.1852</td>\n",
       "      <td>0.0115</td>\n",
       "      <td>-0.0296</td>\n",
       "      <td>-0.0025</td>\n",
       "      <td>-0.0564</td>\n",
       "      <td>1.264214</td>\n",
       "      <td>0.026421</td>\n",
       "      <td>1</td>\n",
       "    </tr>\n",
       "    <tr>\n",
       "      <th>496</th>\n",
       "      <td>2024-05-28</td>\n",
       "      <td>PETR4</td>\n",
       "      <td>0.449981</td>\n",
       "      <td>0.393969</td>\n",
       "      <td>0.076732</td>\n",
       "      <td>0.845444</td>\n",
       "      <td>22</td>\n",
       "      <td>0.468577</td>\n",
       "      <td>0.530161</td>\n",
       "      <td>0.225760</td>\n",
       "      <td>...</td>\n",
       "      <td>-0.1102</td>\n",
       "      <td>-0.1099</td>\n",
       "      <td>-0.1852</td>\n",
       "      <td>0.0115</td>\n",
       "      <td>-0.0296</td>\n",
       "      <td>-0.0025</td>\n",
       "      <td>-0.0564</td>\n",
       "      <td>1.262542</td>\n",
       "      <td>-0.001672</td>\n",
       "      <td>0</td>\n",
       "    </tr>\n",
       "    <tr>\n",
       "      <th>497</th>\n",
       "      <td>2024-05-29</td>\n",
       "      <td>PETR4</td>\n",
       "      <td>0.612887</td>\n",
       "      <td>0.798810</td>\n",
       "      <td>0.308213</td>\n",
       "      <td>0.939821</td>\n",
       "      <td>5</td>\n",
       "      <td>0.579131</td>\n",
       "      <td>0.540118</td>\n",
       "      <td>0.435450</td>\n",
       "      <td>...</td>\n",
       "      <td>-0.1102</td>\n",
       "      <td>-0.1099</td>\n",
       "      <td>-0.1852</td>\n",
       "      <td>0.0115</td>\n",
       "      <td>-0.0296</td>\n",
       "      <td>-0.0025</td>\n",
       "      <td>-0.0564</td>\n",
       "      <td>1.297324</td>\n",
       "      <td>0.034783</td>\n",
       "      <td>1</td>\n",
       "    </tr>\n",
       "  </tbody>\n",
       "</table>\n",
       "<p>498 rows × 67 columns</p>\n",
       "</div>"
      ],
      "text/plain": [
       "          Date  stock  valorização_mean  valorização_median  valorização_q1  \\\n",
       "0   2022-06-01  PETR4          0.501828            0.501828        0.253213   \n",
       "1   2022-06-02  PETR4          0.501828            0.501828        0.253213   \n",
       "2   2022-06-03  PETR4          0.501828            0.501828        0.253213   \n",
       "3   2022-06-06  PETR4          0.501828            0.501828        0.253213   \n",
       "4   2022-06-07  PETR4          0.501828            0.501828        0.253213   \n",
       "..         ...    ...               ...                 ...             ...   \n",
       "493 2024-05-23  PETR4          0.552537            0.598493        0.172290   \n",
       "494 2024-05-24  PETR4          0.497588            0.438173        0.256983   \n",
       "495 2024-05-27  PETR4          0.536770            0.565749        0.308531   \n",
       "496 2024-05-28  PETR4          0.449981            0.393969        0.076732   \n",
       "497 2024-05-29  PETR4          0.612887            0.798810        0.308213   \n",
       "\n",
       "     valorização_q3  valorização_count  bom negócio_mean  bom negócio_median  \\\n",
       "0          0.750443                  2          0.491784            0.491784   \n",
       "1          0.750443                  2          0.491784            0.491784   \n",
       "2          0.750443                  2          0.491784            0.491784   \n",
       "3          0.750443                  2          0.491784            0.491784   \n",
       "4          0.750443                  2          0.491784            0.491784   \n",
       "..              ...                ...               ...                 ...   \n",
       "493        0.978739                  4          0.479243            0.515898   \n",
       "494        0.770160                  9          0.628261            0.685696   \n",
       "495        0.825538                 10          0.555506            0.534227   \n",
       "496        0.845444                 22          0.468577            0.530161   \n",
       "497        0.939821                  5          0.579131            0.540118   \n",
       "\n",
       "     bom negócio_q1  ...  Lucro Líquido - (R$)  \\\n",
       "0          0.367215  ...                0.2166   \n",
       "1          0.367215  ...                0.2166   \n",
       "2          0.367215  ...                0.2166   \n",
       "3          0.367215  ...                0.2166   \n",
       "4          0.367215  ...                0.2166   \n",
       "..              ...  ...                   ...   \n",
       "493        0.385444  ...               -0.1102   \n",
       "494        0.327318  ...               -0.1102   \n",
       "495        0.389310  ...               -0.1102   \n",
       "496        0.225760  ...               -0.1102   \n",
       "497        0.435450  ...               -0.1102   \n",
       "\n",
       "     Lucro atribuído a Controladora  Lucro atribuído a Não Controladores  \\\n",
       "0                            0.2192                              -0.3063   \n",
       "1                            0.2192                              -0.3063   \n",
       "2                            0.2192                              -0.3063   \n",
       "3                            0.2192                              -0.3063   \n",
       "4                            0.2192                              -0.3063   \n",
       "..                              ...                                  ...   \n",
       "493                         -0.1099                              -0.1852   \n",
       "494                         -0.1099                              -0.1852   \n",
       "495                         -0.1099                              -0.1852   \n",
       "496                         -0.1099                              -0.1852   \n",
       "497                         -0.1099                              -0.1852   \n",
       "\n",
       "     Dívida Bruta - (R$)  Margem Bruta - (%)  Margem Ebitda - (%)  \\\n",
       "0                 0.0116              0.0621               0.1461   \n",
       "1                 0.0116              0.0621               0.1461   \n",
       "2                 0.0116              0.0621               0.1461   \n",
       "3                 0.0116              0.0621               0.1461   \n",
       "4                 0.0116              0.0621               0.1461   \n",
       "..                   ...                 ...                  ...   \n",
       "493               0.0115             -0.0296              -0.0025   \n",
       "494               0.0115             -0.0296              -0.0025   \n",
       "495               0.0115             -0.0296              -0.0025   \n",
       "496               0.0115             -0.0296              -0.0025   \n",
       "497               0.0115             -0.0296              -0.0025   \n",
       "\n",
       "     Margem Líquida - (%)  Close for next day  Close one day variation  \\\n",
       "0                  0.0079            0.995318                -0.008696   \n",
       "1                  0.0079            1.012709                 0.017391   \n",
       "2                  0.0079            1.013378                 0.000669   \n",
       "3                  0.0079            1.025418                 0.012040   \n",
       "4                  0.0079            1.020401                -0.005017   \n",
       "..                    ...                 ...                      ...   \n",
       "493               -0.0564            1.224415                -0.006689   \n",
       "494               -0.0564            1.237793                 0.013378   \n",
       "495               -0.0564            1.264214                 0.026421   \n",
       "496               -0.0564            1.262542                -0.001672   \n",
       "497               -0.0564            1.297324                 0.034783   \n",
       "\n",
       "     hasRise  \n",
       "0          0  \n",
       "1          1  \n",
       "2          1  \n",
       "3          1  \n",
       "4          0  \n",
       "..       ...  \n",
       "493        0  \n",
       "494        1  \n",
       "495        1  \n",
       "496        0  \n",
       "497        1  \n",
       "\n",
       "[498 rows x 67 columns]"
      ]
     },
     "execution_count": 8,
     "metadata": {},
     "output_type": "execute_result"
    }
   ],
   "source": [
    "df_petr4_with_targets"
   ]
  },
  {
   "cell_type": "code",
   "execution_count": 9,
   "metadata": {},
   "outputs": [
    {
     "data": {
      "text/plain": [
       "hasRise\n",
       "1    271\n",
       "0    227\n",
       "Name: count, dtype: int64"
      ]
     },
     "execution_count": 9,
     "metadata": {},
     "output_type": "execute_result"
    }
   ],
   "source": [
    "df_petr4_with_targets.value_counts('hasRise')"
   ]
  },
  {
   "cell_type": "markdown",
   "metadata": {},
   "source": [
    "## Pré-processamento"
   ]
  },
  {
   "cell_type": "code",
   "execution_count": 10,
   "metadata": {},
   "outputs": [],
   "source": [
    "df_petr4_with_targets = df_petr4_with_targets.drop('stock', axis='columns')"
   ]
  },
  {
   "cell_type": "markdown",
   "metadata": {},
   "source": [
    "Configurando a coluna de Date como index"
   ]
  },
  {
   "cell_type": "code",
   "execution_count": 11,
   "metadata": {},
   "outputs": [],
   "source": [
    "df_petr4_with_targets = df_petr4_with_targets.set_index('Date', drop=True)"
   ]
  },
  {
   "cell_type": "markdown",
   "metadata": {},
   "source": [
    "Todas as colunas estão com o dtype correto:"
   ]
  },
  {
   "cell_type": "code",
   "execution_count": 12,
   "metadata": {},
   "outputs": [
    {
     "name": "stdout",
     "output_type": "stream",
     "text": [
      "valorização_mean                         float64\n",
      "valorização_median                       float64\n",
      "valorização_q1                           float64\n",
      "valorização_q3                           float64\n",
      "valorização_count                          int64\n",
      "bom negócio_mean                         float64\n",
      "bom negócio_median                       float64\n",
      "bom negócio_q1                           float64\n",
      "bom negócio_q3                           float64\n",
      "bom negócio_count                          int64\n",
      "lucro_mean                               float64\n",
      "lucro_median                             float64\n",
      "lucro_q1                                 float64\n",
      "lucro_q3                                 float64\n",
      "lucro_count                                int64\n",
      "neutro_mean                              float64\n",
      "neutro_median                            float64\n",
      "neutro_q1                                float64\n",
      "neutro_q3                                float64\n",
      "neutro_count                               int64\n",
      "desvalorização_mean                      float64\n",
      "desvalorização_median                    float64\n",
      "desvalorização_q1                        float64\n",
      "desvalorização_q3                        float64\n",
      "desvalorização_count                       int64\n",
      "mau negócio_mean                         float64\n",
      "mau negócio_median                       float64\n",
      "mau negócio_q1                           float64\n",
      "mau negócio_q3                           float64\n",
      "mau negócio_count                          int64\n",
      "prejuízo_mean                            float64\n",
      "prejuízo_median                          float64\n",
      "prejuízo_q1                              float64\n",
      "prejuízo_q3                              float64\n",
      "prejuízo_count                             int64\n",
      "governo_mean                             float64\n",
      "governo_median                           float64\n",
      "governo_q1                               float64\n",
      "governo_q3                               float64\n",
      "governo_count                              int64\n",
      "has_tweets                                 int64\n",
      "Open                                     float64\n",
      "High                                     float64\n",
      "Low                                      float64\n",
      "Close                                    float64\n",
      "Adj Close                                float64\n",
      "Volume                                   float64\n",
      "Receita Líquida - (R$)                   float64\n",
      "Custos - (R$)                            float64\n",
      "Lucro Bruto - (R$)                       float64\n",
      "Despesas/Receitas Operacionais - (R$)    float64\n",
      "EBITDA - (R$)                            float64\n",
      "EBIT - (R$)                              float64\n",
      "Resultado Financeiro - (R$)              float64\n",
      "Impostos - (R$)                          float64\n",
      "Lucro Líquido - (R$)                     float64\n",
      "Lucro atribuído a Controladora           float64\n",
      "Lucro atribuído a Não Controladores      float64\n",
      "Dívida Bruta - (R$)                      float64\n",
      "Margem Bruta - (%)                       float64\n",
      "Margem Ebitda - (%)                      float64\n",
      "Margem Líquida - (%)                     float64\n",
      "Close for next day                       float64\n",
      "Close one day variation                  float64\n",
      "hasRise                                    int64\n"
     ]
    }
   ],
   "source": [
    "print(df_petr4_with_targets.dtypes.to_string())"
   ]
  },
  {
   "cell_type": "markdown",
   "metadata": {},
   "source": [
    "### Divisão em treino (para validação cruzada) e teste"
   ]
  },
  {
   "cell_type": "markdown",
   "metadata": {},
   "source": [
    "Em uma situação real, o teste são os dias mais recentes. Vamos separar cerca de 25% do dataset para teste, o que equivale aos últimos 6 meses."
   ]
  },
  {
   "cell_type": "code",
   "execution_count": 13,
   "metadata": {},
   "outputs": [],
   "source": [
    "def split_df(df, split_day='2023-12-01'):\n",
    "    df_train = df[:split_day]\n",
    "    df_test = df[split_day:]\n",
    "    print(f'train.shape: {df_train.shape}, test.shape:{df_test.shape}')\n",
    "\n",
    "    return df_train, df_test"
   ]
  },
  {
   "cell_type": "code",
   "execution_count": 14,
   "metadata": {},
   "outputs": [
    {
     "name": "stdout",
     "output_type": "stream",
     "text": [
      "train.shape: (377, 65), test.shape:(122, 65)\n"
     ]
    }
   ],
   "source": [
    "df_petr4_train, df_petr4_test = split_df(df_petr4_with_targets)"
   ]
  },
  {
   "cell_type": "markdown",
   "metadata": {},
   "source": [
    "## Normalizando os dados"
   ]
  },
  {
   "cell_type": "code",
   "execution_count": 15,
   "metadata": {},
   "outputs": [],
   "source": [
    "from sklearn.preprocessing import StandardScaler\n",
    "\n",
    "def normalize_and_separe_X_and_y(df_train, df_test):\n",
    "\n",
    "    # Separando coluna target antes da normalização\n",
    "    hasRise_train = df_train['hasRise']\n",
    "    hasRise_test = df_test['hasRise']\n",
    "\n",
    "    std_scaler = StandardScaler()\n",
    "    std_scaler = std_scaler.fit(df_train.drop('hasRise', axis='columns'))\n",
    "    train_norm = std_scaler.transform(df_train.drop('hasRise', axis='columns'))\n",
    "    test_norm = std_scaler.transform(df_test.drop('hasRise', axis='columns'))\n",
    "\n",
    "    df_train_norm = pd.DataFrame(train_norm, columns=df_train.drop('hasRise', axis='columns').columns)\n",
    "    df_test_norm = pd.DataFrame(test_norm, columns=df_test.drop('hasRise', axis='columns').columns)\n",
    "    \n",
    "    # Separando colunas de target após normalização\n",
    "    cols2drop = ['Close for next day', 'Close one day variation']\n",
    "    close_train_norm = df_train_norm['Close for next day'] # train\n",
    "    closeVariation_train_norm = df_train_norm['Close one day variation']\n",
    "    X_train_norm = df_train_norm.drop(cols2drop, axis='columns')\n",
    "\n",
    "    close_test_norm = df_test_norm['Close for next day'] # test\n",
    "    closeVariation_test_norm = df_test_norm['Close one day variation']\n",
    "    X_test_norm = df_test_norm.drop(cols2drop, axis='columns')\n",
    "\n",
    "    \n",
    "    return X_train_norm, close_train_norm, closeVariation_train_norm, hasRise_train, \\\n",
    "            X_test_norm, close_test_norm, closeVariation_test_norm, hasRise_test"
   ]
  },
  {
   "cell_type": "code",
   "execution_count": 16,
   "metadata": {},
   "outputs": [],
   "source": [
    "(X_petr4_train_norm, close_petr4_train_norm, closeVariation_petr4_train_norm, hasRise_petr4_train, \\\n",
    " X_petr4_test_norm, close_petr4_test_norm, closeVariation_petr4_test_norm, hasRise_petr4_test) = \\\n",
    "    normalize_and_separe_X_and_y(df_petr4_train, df_petr4_test)"
   ]
  },
  {
   "cell_type": "code",
   "execution_count": 17,
   "metadata": {},
   "outputs": [
    {
     "data": {
      "text/plain": [
       "(((377, 62), (377,), (377,), (377,)),\n",
       " '\\n',\n",
       " ((122, 62), (122,), (122,), (122,)))"
      ]
     },
     "execution_count": 17,
     "metadata": {},
     "output_type": "execute_result"
    }
   ],
   "source": [
    "# Conferindo dimensões\n",
    "(X_petr4_train_norm.shape, close_petr4_train_norm.shape, closeVariation_petr4_train_norm.shape, hasRise_petr4_train.shape), '\\n',\\\n",
    "(X_petr4_test_norm.shape, close_petr4_test_norm.shape, closeVariation_petr4_test_norm.shape, hasRise_petr4_test.shape)"
   ]
  },
  {
   "cell_type": "markdown",
   "metadata": {},
   "source": [
    "# Modelagem"
   ]
  },
  {
   "cell_type": "markdown",
   "metadata": {},
   "source": [
    "Observando a quantidade de eventos no conjunto de treino/validação e teste. Podemos concluir que os modelos, por serem treinados com um dataset levemente desbalanceado, possuem maior viés para indicar a predição positiva `hasRise=1`, devido que, em geral, "
   ]
  },
  {
   "cell_type": "code",
   "execution_count": 24,
   "metadata": {},
   "outputs": [
    {
     "data": {
      "text/plain": [
       "hasRise\n",
       "1    0.541114\n",
       "0    0.458886\n",
       "Name: proportion, dtype: float64"
      ]
     },
     "execution_count": 24,
     "metadata": {},
     "output_type": "execute_result"
    }
   ],
   "source": [
    "hasRise_petr4_train.value_counts(normalize=True)"
   ]
  },
  {
   "cell_type": "code",
   "execution_count": 25,
   "metadata": {},
   "outputs": [
    {
     "data": {
      "text/plain": [
       "hasRise\n",
       "1    0.54918\n",
       "0    0.45082\n",
       "Name: proportion, dtype: float64"
      ]
     },
     "execution_count": 25,
     "metadata": {},
     "output_type": "execute_result"
    }
   ],
   "source": [
    "hasRise_petr4_test.value_counts(normalize=True)"
   ]
  },
  {
   "cell_type": "markdown",
   "metadata": {},
   "source": [
    "## XGBoost"
   ]
  },
  {
   "cell_type": "code",
   "execution_count": null,
   "metadata": {},
   "outputs": [],
   "source": [
    "from sklearn.model_selection import KFold, cross_val_score\n",
    "from xgboost import XGBClassifier\n",
    "import optuna\n",
    "\n",
    "def objective(trial):\n",
    "    # Definir o espaço de busca dos hiperparâmetros\n",
    "    param = {\n",
    "        'verbosity': 0,\n",
    "        'objective': 'binary:logistic',\n",
    "        'booster': 'gbtree',\n",
    "        'tree_method': 'auto',\n",
    "        'eval_metric': 'logloss',\n",
    "        'use_label_encoder': False,\n",
    "        'eta': trial.suggest_float('eta', 1e-4, 1e-1, log=True),\n",
    "        'max_depth': trial.suggest_int('max_depth', 3, 10),\n",
    "        'min_child_weight': trial.suggest_float('min_child_weight', 1e-2, 1e1, log=True),\n",
    "        'subsample': trial.suggest_float('subsample', 0.5, 1.0),\n",
    "        'colsample_bytree': trial.suggest_float('colsample_bytree', 0.5, 1.0),\n",
    "        'lambda': trial.suggest_float('lambda', 1e-4, 1.0, log=True),\n",
    "        'alpha': trial.suggest_float('alpha', 1e-4, 1.0, log=True),\n",
    "    }\n",
    "    \n",
    "    # Configurando o KFold\n",
    "    kf = KFold(n_splits=5, shuffle=True, random_state=RANDOM_SEED)\n",
    "    \n",
    "    # Inicializando o modelo XGBoost\n",
    "    model = XGBClassifier(**param)\n",
    "    \n",
    "    # Realizando a validação cruzada\n",
    "    scores = cross_val_score(model, X_petr4_train_norm, hasRise_petr4_train, cv=kf, scoring='accuracy')\n",
    "    \n",
    "    # Retornando a média dos scores como objetivo a ser minimizado\n",
    "    return np.mean(scores)"
   ]
  },
  {
   "cell_type": "code",
   "execution_count": null,
   "metadata": {},
   "outputs": [],
   "source": [
    "study = optuna.create_study(direction='maximize')\n",
    "study.optimize(objective, n_trials=500)\n",
    "\n",
    "print(\"Best trial:\")\n",
    "trial = study.best_trial\n",
    "print(f\"  Value: {trial.value}\")\n",
    "print(\"  Params: \")\n",
    "for key, value in trial.params.items():\n",
    "    print(f\"    {key}: {value}\")\n"
   ]
  },
  {
   "cell_type": "markdown",
   "metadata": {},
   "source": [
    "### Avaliação "
   ]
  },
  {
   "cell_type": "code",
   "execution_count": null,
   "metadata": {},
   "outputs": [],
   "source": [
    "from sklearn.metrics import accuracy_score, classification_report"
   ]
  },
  {
   "cell_type": "code",
   "execution_count": null,
   "metadata": {},
   "outputs": [],
   "source": [
    "study.best_trials"
   ]
  },
  {
   "cell_type": "code",
   "execution_count": null,
   "metadata": {},
   "outputs": [],
   "source": [
    "sorted_trials_df = study.trials_dataframe().sort_values('value', ascending=False)"
   ]
  },
  {
   "cell_type": "code",
   "execution_count": null,
   "metadata": {},
   "outputs": [],
   "source": [
    "sorted_trials = [study.trials[tid] for tid in sorted_trials_df['number']]"
   ]
  },
  {
   "cell_type": "code",
   "execution_count": null,
   "metadata": {},
   "outputs": [],
   "source": [
    "best_trials = sorted_trials[:3]\n",
    "\n",
    "results = []\n",
    "\n",
    "for i, trial in enumerate(best_trials):\n",
    "    best_params = trial.params\n",
    "    model = XGBClassifier(**best_params)\n",
    "    \n",
    "    # Treinando o modelo no conjunto de treinamento completo\n",
    "    model.fit(X_petr4_train_norm, hasRise_petr4_train)\n",
    "    \n",
    "    # Fazendo previsões no conjunto de teste\n",
    "    y_pred = model.predict(X_petr4_test_norm)\n",
    "    \n",
    "    # Avaliando o modelo\n",
    "    accuracy = accuracy_score(hasRise_petr4_test, y_pred)\n",
    "    report = classification_report(hasRise_petr4_test, y_pred, output_dict=True)\n",
    "    \n",
    "    results.append({\n",
    "        'trial_number': trial.number,\n",
    "        'accuracy': accuracy,\n",
    "        'report': report\n",
    "    })\n",
    "    \n",
    "    print(f\"Results for model {i+1}:\")\n",
    "    print(f\"Trial number: {trial.number}\")\n",
    "    print(f\"Accuracy: {accuracy}\")\n",
    "    print(\"Classification Report:\")\n",
    "    print(classification_report(hasRise_petr4_test, y_pred))\n"
   ]
  },
  {
   "cell_type": "markdown",
   "metadata": {},
   "source": [
    "# AutoML"
   ]
  },
  {
   "cell_type": "code",
   "execution_count": null,
   "metadata": {},
   "outputs": [],
   "source": [
    "train_time_seconds = 4*60*60 # 4 horas\n",
    "per_run_time_limit = 0.1*train_time_seconds\n",
    "\n",
    "\n",
    "\n",
    "automl = autosklearn.classification.AutoSklearnClassifier(time_left_for_this_task=train_time_seconds,  # total time in seconds\n",
    "                                                          per_run_time_limit=per_run_time_limit,       # time limit for each model\n",
    "                                                          ensemble_nbest=20,\n",
    "                                                          initial_configurations_via_metalearning=25,\n",
    "                                                          seed=RANDOM_SEED,\n",
    "                                                          n_jobs=-1)\n",
    "\n",
    "\n",
    "# automl.fit(np.array(X_petr4_train_norm).tolist(),\n",
    "#             np.array(hasRise_petr4_train).tolist())\n",
    "\n",
    "automl.fit(X_petr4_train_norm.to_numpy().astype(float),hasRise_petr4_train.to_numpy(dtype=np.int64).astype(int))"
   ]
  },
  {
   "cell_type": "code",
   "execution_count": null,
   "metadata": {},
   "outputs": [],
   "source": [
    "X_petr4_train_norm.to_numpy()"
   ]
  },
  {
   "cell_type": "code",
   "execution_count": null,
   "metadata": {},
   "outputs": [],
   "source": [
    "X.dtype"
   ]
  },
  {
   "cell_type": "code",
   "execution_count": null,
   "metadata": {},
   "outputs": [],
   "source": [
    "np.array(X_petr4_train_norm).tolist()[1][1]"
   ]
  },
  {
   "cell_type": "code",
   "execution_count": null,
   "metadata": {},
   "outputs": [],
   "source": []
  },
  {
   "cell_type": "code",
   "execution_count": null,
   "metadata": {},
   "outputs": [],
   "source": [
    "np.array(X_petr4_train_norm).astype(float).dtype"
   ]
  },
  {
   "cell_type": "code",
   "execution_count": null,
   "metadata": {},
   "outputs": [],
   "source": [
    "np.array(X_petr4_train_norm).astype(float)"
   ]
  },
  {
   "cell_type": "code",
   "execution_count": null,
   "metadata": {},
   "outputs": [],
   "source": [
    "np.array(X_petr4_test_norm)"
   ]
  },
  {
   "cell_type": "code",
   "execution_count": null,
   "metadata": {},
   "outputs": [],
   "source": [
    "from sklearn.datasets import load_iris\n",
    "from sklearn.metrics import accuracy_score\n",
    "import numpy as np\n",
    "\n",
    "# Carregar o conjunto de dados\n",
    "iris = load_iris()\n",
    "X = iris.data.astype(float)  # Converter os dados para float\n",
    "y = iris.target.astype(float)  # Converter os dados para float"
   ]
  },
  {
   "cell_type": "code",
   "execution_count": null,
   "metadata": {},
   "outputs": [],
   "source": [
    "iris"
   ]
  },
  {
   "cell_type": "code",
   "execution_count": null,
   "metadata": {},
   "outputs": [],
   "source": [
    "X.dtype"
   ]
  },
  {
   "cell_type": "code",
   "execution_count": null,
   "metadata": {},
   "outputs": [],
   "source": [
    "y_pred = automl.predict(hasRise_petr4_test)\n",
    "\n",
    "# Evaluate accuracy\n",
    "accuracy = accuracy_score(hasRise_petr4_test, y_pred)\n",
    "print(f\"Accuracy: {accuracy}\")\n",
    "\n",
    "# Print the final ensemble constructed by Auto-sklearn\n",
    "print(automl.show_models())\n",
    "\n",
    "# Print the statistics of Auto-sklearn\n",
    "print(automl.sprint_statistics())"
   ]
  }
 ],
 "metadata": {
  "kernelspec": {
   "display_name": "Python 3",
   "language": "python",
   "name": "python3"
  },
  "language_info": {
   "codemirror_mode": {
    "name": "ipython",
    "version": 3
   },
   "file_extension": ".py",
   "mimetype": "text/x-python",
   "name": "python",
   "nbconvert_exporter": "python",
   "pygments_lexer": "ipython3",
   "version": "3.12.4"
  }
 },
 "nbformat": 4,
 "nbformat_minor": 2
}
