{
 "cells": [
  {
   "cell_type": "code",
   "execution_count": 6,
   "metadata": {},
   "outputs": [],
   "source": [
    "from transformers import pipeline\n",
    "import torch\n",
    "import json\n",
    "import os\n",
    "import pandas as pd\n",
    "from typing import List\n",
    "import plotly.express as px"
   ]
  },
  {
   "cell_type": "code",
   "execution_count": null,
   "metadata": {},
   "outputs": [],
   "source": [
    "RELEVANT_FIELDS = ['text','createdAt']\n",
    "RELEVANT_AUTHOR_FIELDS = ['userName','description']\n",
    "\n",
    "def extract_df_from_json_tweets_data(path_tweets):\n",
    "    dict_list = []\n",
    "\n",
    "    # For each JSON\n",
    "    for filename in os.listdir(path_tweets):\n",
    "        if filename[-4:] != 'json':\n",
    "            continue\n",
    "\n",
    "        with open(os.path.join(path_tweets, filename), 'rt') as f:\n",
    "            curr_json_list = json.load(f)\n",
    "\n",
    "        # For each single tweet in a JSON\n",
    "        for curr_json in curr_json_list:\n",
    "            # Extract only relevant fields from tweet\n",
    "            relevant_json = {k:v for k,v in curr_json.items() if k in RELEVANT_FIELDS}\n",
    "            relevant_json_author = {f'author_{k}':v for k,v in relevant_json['author'].items() if k in RELEVANT_AUTHOR_FIELDS}\n",
    "\n",
    "            # Delete semi-structured author field in `relevant_json`\n",
    "            del relevant_json['author']\n",
    "\n",
    "            # Merging the two dataframes and specifying original file\n",
    "            new_dict = {**relevant_json, **relevant_json_author}\n",
    "            new_dict['src_file'] = filename\n",
    "            dict_list.append(new_dict)\n",
    "\n",
    "    df = pd.DataFrame(dict_list)\n",
    "    return df\n",
    "\n",
    "df = extract_df_from_json_tweets_data(PATH_TWEETS)"
   ]
  },
  {
   "cell_type": "code",
   "execution_count": 5,
   "metadata": {},
   "outputs": [
    {
     "name": "stdout",
     "output_type": "stream",
     "text": [
      "cuda\n",
      "NVIDIA GeForce RTX 3060 Laptop GPU\n"
     ]
    }
   ],
   "source": [
    "\n",
    "device = torch.device(\"cuda\") if torch.cuda.is_available() else torch.device(\"cpu\")\n",
    "print(device)\n",
    "print(torch.cuda.get_device_name())"
   ]
  },
  {
   "cell_type": "code",
   "execution_count": null,
   "metadata": {},
   "outputs": [],
   "source": [
    "classifier = pipeline(\"zero-shot-classification\", model=\"MoritzLaurer/mDeBERTa-v3-base-mnli-xnli\")"
   ]
  },
  {
   "cell_type": "code",
   "execution_count": null,
   "metadata": {},
   "outputs": [],
   "source": [
    "def text_classification(classifier,texts, candidate_labels: List[str]= [\"desvalorização\", \"valorização\", \"neutro\"]):\n",
    "\n",
    "    outputs = []\n",
    "\n",
    "    for text in texts:\n",
    "        output = classifier(text, candidate_labels, multi_label=False)\n",
    "        outputs.append(output[\"labels\"][0])\n",
    "\n",
    "    return outputs"
   ]
  },
  {
   "cell_type": "code",
   "execution_count": null,
   "metadata": {},
   "outputs": [],
   "source": [
    "lista_opinioes = text_classification(classifier, df[\"texts\"], [\"desvalorização\", \"valorização\", \"neutro\"])"
   ]
  },
  {
   "cell_type": "code",
   "execution_count": null,
   "metadata": {},
   "outputs": [],
   "source": [
    "df[\"opiniao\"] = lista_opinioes"
   ]
  },
  {
   "cell_type": "code",
   "execution_count": null,
   "metadata": {},
   "outputs": [],
   "source": [
    "contagem = df[\"opiniao\"].value_counts()\n",
    "fig = px.bar(contagem, \n",
    "            x= contagem.index, \n",
    "            title= \"número de textos que indicam cada tendência\"\n",
    "            )\n",
    "fig.show()"
   ]
  }
 ],
 "metadata": {
  "kernelspec": {
   "display_name": "venv",
   "language": "python",
   "name": "python3"
  },
  "language_info": {
   "codemirror_mode": {
    "name": "ipython",
    "version": 3
   },
   "file_extension": ".py",
   "mimetype": "text/x-python",
   "name": "python",
   "nbconvert_exporter": "python",
   "pygments_lexer": "ipython3",
   "version": "3.12.3"
  }
 },
 "nbformat": 4,
 "nbformat_minor": 2
}
