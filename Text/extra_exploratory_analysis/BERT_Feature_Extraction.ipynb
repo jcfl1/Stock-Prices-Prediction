{
  "cells": [
    {
      "cell_type": "markdown",
      "metadata": {},
      "source": [
        "Esse código foi rodado no google colab por exigir mais poder computacional do que achamos razoável para nossas máquinas.\n",
        "\n",
        "Apagamos os outputs para diminuir o consumo de memória no github. Os outputs podem ser vistos no colab:\n",
        "\n",
        "link para o colab: https://colab.research.google.com/drive/11WK5Boyoxgl5mL8TB3RSs1oBliR44aI7?usp=sharing"
      ]
    },
    {
      "cell_type": "markdown",
      "metadata": {
        "id": "ucf804LEfXzc"
      },
      "source": [
        "# Importando dados"
      ]
    },
    {
      "cell_type": "code",
      "execution_count": null,
      "metadata": {
        "id": "5kY-dTSNfWND"
      },
      "outputs": [],
      "source": [
        "import pandas as pd\n",
        "import os\n",
        "import json\n",
        "import plotly.express as px\n",
        "from google.colab import drive\n",
        "import torch\n",
        "\n",
        "RANDOM_SEED = 33"
      ]
    },
    {
      "cell_type": "code",
      "execution_count": null,
      "metadata": {
        "colab": {
          "base_uri": "https://localhost:8080/"
        },
        "id": "vMiXUtF4fnBb",
        "outputId": "9e66d190-a7f5-41d4-d632-ad27c51fb942"
      },
      "outputs": [],
      "source": [
        "drive.mount('/content/drive')"
      ]
    },
    {
      "cell_type": "code",
      "execution_count": null,
      "metadata": {
        "id": "QJvKB6ZwgAJH"
      },
      "outputs": [],
      "source": [
        "RELEVANT_FIELDS = ['type','id','text','retweetCount','replyCount','likeCount','createdAt','bookmarkCount','isReply','author']\n",
        "RELEVANT_AUTHOR_FIELDS = ['type','userName','name','isVerified','description','followers','following','createdAt','favouritesCount']\n",
        "\n",
        "def extract_df_from_json_tweets_data(path_tweets):\n",
        "    dict_list = []\n",
        "\n",
        "    # For each JSON\n",
        "    for filename in os.listdir(path_tweets):\n",
        "        if filename[-4:] != 'json':\n",
        "            continue\n",
        "\n",
        "        with open(os.path.join(path_tweets, filename), 'rt') as f:\n",
        "            curr_json_list = json.load(f)\n",
        "\n",
        "        # For each single tweet in a JSON\n",
        "        for curr_json in curr_json_list:\n",
        "            # Extract only relevant fields from tweet\n",
        "            relevant_json = {k:v for k,v in curr_json.items() if k in RELEVANT_FIELDS}\n",
        "            relevant_json_author = {f'author_{k}':v for k,v in relevant_json['author'].items() if k in RELEVANT_AUTHOR_FIELDS}\n",
        "\n",
        "            # Delete semi-structured author field in `relevant_json`\n",
        "            del relevant_json['author']\n",
        "\n",
        "            # Merging the two dataframes and specifying original file\n",
        "            new_dict = {**relevant_json, **relevant_json_author}\n",
        "            new_dict['src_file'] = filename\n",
        "            dict_list.append(new_dict)\n",
        "\n",
        "    df = pd.DataFrame(dict_list)\n",
        "    return df"
      ]
    },
    {
      "cell_type": "code",
      "execution_count": null,
      "metadata": {
        "id": "l38KT8hNhFQG"
      },
      "outputs": [],
      "source": [
        "PATH_PETR4_FILES = '/content/drive/MyDrive/Projeto Ciência de Dados/Scrapping Tweets/PETR4'\n",
        "PATH_VALE3_FILES = '/content/drive/MyDrive/Projeto Ciência de Dados/Scrapping Tweets/VALE3'\n",
        "\n",
        "df_petr4 = extract_df_from_json_tweets_data(PATH_PETR4_FILES)\n",
        "df_vale3 = extract_df_from_json_tweets_data(PATH_VALE3_FILES)"
      ]
    },
    {
      "cell_type": "code",
      "execution_count": null,
      "metadata": {
        "id": "saZHrgDdu-_f"
      },
      "outputs": [],
      "source": [
        "df_petr4['stock'] = 'PETR4'\n",
        "df_vale3['stock'] = 'VALE3'\n",
        "\n",
        "df_stocks = pd.concat([df_petr4, df_vale3], ignore_index=True)"
      ]
    },
    {
      "cell_type": "code",
      "execution_count": null,
      "metadata": {
        "colab": {
          "base_uri": "https://localhost:8080/",
          "height": 170
        },
        "id": "cWwhzdQJicYU",
        "outputId": "2c28d835-bac5-48ac-91b5-9a8fa8cfba1b"
      },
      "outputs": [],
      "source": [
        "df_stocks.head(1)"
      ]
    },
    {
      "cell_type": "markdown",
      "metadata": {
        "id": "BS2hznMgg6gV"
      },
      "source": [
        "### Defining Dataframe Types"
      ]
    },
    {
      "cell_type": "code",
      "execution_count": null,
      "metadata": {
        "colab": {
          "base_uri": "https://localhost:8080/"
        },
        "id": "QMSfC9-4hgCP",
        "outputId": "02d0a34e-87e5-42fc-810e-2111d8d5e61d"
      },
      "outputs": [],
      "source": [
        "df_stocks.dtypes"
      ]
    },
    {
      "cell_type": "markdown",
      "metadata": {
        "id": "dfHoC2Cuh4xF"
      },
      "source": [
        "Converting `createdAt` fields to datetime"
      ]
    },
    {
      "cell_type": "code",
      "execution_count": null,
      "metadata": {
        "colab": {
          "base_uri": "https://localhost:8080/"
        },
        "id": "gTJ_OoWvg5j9",
        "outputId": "6f0c0222-1fc7-4ed3-f85d-0d4cb379603f"
      },
      "outputs": [],
      "source": [
        "df_stocks['createdAt'] = pd.to_datetime(df_stocks['createdAt'], format='%a %b %d %H:%M:%S %z %Y')\n",
        "df_stocks['author_createdAt'] = pd.to_datetime(df_stocks['author_createdAt'], format='%a %b %d %H:%M:%S %z %Y')\n",
        "df_stocks.dtypes"
      ]
    },
    {
      "cell_type": "markdown",
      "metadata": {
        "id": "MAndS97EiifZ"
      },
      "source": [
        "### Setting dataframe index as tweet creation date"
      ]
    },
    {
      "cell_type": "code",
      "execution_count": null,
      "metadata": {
        "colab": {
          "base_uri": "https://localhost:8080/",
          "height": 202
        },
        "id": "Jg3QXZ0-im_Z",
        "outputId": "e8a9c801-12d4-49ab-a681-bbd1178a2ff1"
      },
      "outputs": [],
      "source": [
        "df_stocks = df_stocks.set_index('createdAt')\n",
        "df_stocks.head(1)"
      ]
    },
    {
      "cell_type": "markdown",
      "metadata": {
        "id": "DqAADlQBfdSR"
      },
      "source": [
        "# Análise Exploratória"
      ]
    },
    {
      "cell_type": "markdown",
      "metadata": {
        "id": "uiflIFYvfgRv"
      },
      "source": [
        "## Extraindo embeddings"
      ]
    },
    {
      "cell_type": "code",
      "execution_count": null,
      "metadata": {
        "id": "XsQnbUs2XWUS"
      },
      "outputs": [],
      "source": [
        "from transformers import AutoTokenizer\n",
        "from transformers import AutoModelForPreTraining\n",
        "from transformers import AutoModel\n",
        "from tqdm.notebook import tqdm\n",
        "\n",
        "device = torch.device(\"cuda\" if torch.cuda.is_available() else \"cpu\")\n",
        "\n",
        "tokenizer = AutoTokenizer.from_pretrained('neuralmind/bert-base-portuguese-cased', do_lower_case=False)\n",
        "model = AutoModel.from_pretrained('neuralmind/bert-base-portuguese-cased').to(device)\n",
        "\n",
        "def get_embeddings(texts, tokenizer, model, batch_size=32, max_length=512):\n",
        "    all_embeddings = []\n",
        "    for batch in tqdm(range(0, len(texts), batch_size)):\n",
        "        batch_texts = texts[batch:batch+batch_size]\n",
        "        # Tokenizar os textos\n",
        "        batch_inputs = tokenizer(batch_texts, padding=True, truncation=True, return_tensors=\"pt\", max_length=max_length)\n",
        "        batch_inputs = {key: value.to(device) for key, value in batch_inputs.items()}\n",
        "        # Obter os embeddings\n",
        "        with torch.no_grad():\n",
        "            outputs = model(**batch_inputs)\n",
        "            embeddings = outputs.pooler_output\n",
        "            all_embeddings.append(embeddings)\n",
        "\n",
        "    return torch.cat(all_embeddings, dim=0)"
      ]
    },
    {
      "cell_type": "code",
      "execution_count": null,
      "metadata": {
        "colab": {
          "base_uri": "https://localhost:8080/",
          "height": 49,
          "referenced_widgets": [
            "fba3454cc7c94b7193e5e261ec20357e",
            "1c7572d815f948fb855d1d0d7903c64e",
            "6f2952a183f54f368a3292b0353f6b71",
            "987ec04228b44713a7a23097466cb711",
            "0a8ad07793044ab58b8912baa7ea332d",
            "6acc4844d7de40a1b479575eba769745",
            "40aac562c4c54174a34192859c7583e3",
            "449213670e13425cad4315f7088b521f",
            "614d1383de094fdfb6ccd201eaeb527e",
            "67dfc3f2c6e34abfa7d0e42824c9b3d8",
            "2326571292214d04b48774d7e453f6df"
          ]
        },
        "id": "QPieoRQvrli_",
        "outputId": "48aa8df4-0167-440c-c416-bcffddc7a759"
      },
      "outputs": [],
      "source": [
        "batch_size = 32\n",
        "max_length = 512\n",
        "\n",
        "stock_embeds = get_embeddings(df_stocks['text'].tolist(), tokenizer, model, batch_size=batch_size, max_length=max_length)"
      ]
    },
    {
      "cell_type": "code",
      "execution_count": null,
      "metadata": {
        "id": "SLEh1w3RqK0E"
      },
      "outputs": [],
      "source": [
        "# # # # with open(f'{PATH_STOCK_FILES}/embeddings/embeddings_BERTimbau_base.pt', 'wb') as f:\n",
        "# # # #     torch.save(stock_embeds, f)"
      ]
    },
    {
      "cell_type": "markdown",
      "metadata": {
        "id": "HwnbU3Yvula_"
      },
      "source": [
        "## Redução de dimensionalidade com U-MAP"
      ]
    },
    {
      "cell_type": "code",
      "execution_count": null,
      "metadata": {
        "colab": {
          "base_uri": "https://localhost:8080/"
        },
        "id": "99AxVxuVwCXq",
        "outputId": "52d3e46a-72af-4823-f82e-9020196bc791"
      },
      "outputs": [],
      "source": [
        "!pip install umap-learn"
      ]
    },
    {
      "cell_type": "code",
      "execution_count": null,
      "metadata": {
        "id": "FvIo1XeXwXhG"
      },
      "outputs": [],
      "source": [
        "import umap"
      ]
    },
    {
      "cell_type": "code",
      "execution_count": null,
      "metadata": {
        "id": "FFWgTTovas4O"
      },
      "outputs": [],
      "source": [
        "def get_stock_embeddings(stock, model):\n",
        "    device = torch.device(\"cuda\" if torch.cuda.is_available() else \"cpu\")\n",
        "\n",
        "    with open(f'/content/drive/MyDrive/Projeto Ciência de Dados/Scrapping Tweets/{stock}/embeddings/embeddings_{model}.pt', 'rb') as f:\n",
        "        embeddings = torch.load(f, map_location=torch.device(device))\n",
        "    return embeddings"
      ]
    },
    {
      "cell_type": "markdown",
      "metadata": {
        "id": "IYpArdZIv_Wk"
      },
      "source": [
        "### PETR4"
      ]
    },
    {
      "cell_type": "markdown",
      "metadata": {
        "id": "y9EInFAywDEI"
      },
      "source": [
        "#### BERTimbau"
      ]
    },
    {
      "cell_type": "code",
      "execution_count": null,
      "metadata": {
        "id": "Egyx3Tapwemj"
      },
      "outputs": [],
      "source": [
        "petr4_bertimbau_embeddings = get_stock_embeddings('PETR4', 'BERTimbau_base')"
      ]
    },
    {
      "cell_type": "code",
      "execution_count": null,
      "metadata": {
        "id": "Cib_HwlIwkIP"
      },
      "outputs": [],
      "source": [
        "reducer = umap.UMAP(n_components=2, random_state=RANDOM_SEED)"
      ]
    },
    {
      "cell_type": "code",
      "execution_count": null,
      "metadata": {
        "colab": {
          "base_uri": "https://localhost:8080/"
        },
        "id": "68m_uQ9swtEo",
        "outputId": "4b66e1d9-4cb1-4d58-8470-c6bbebc730d5"
      },
      "outputs": [],
      "source": [
        "umap_features = reducer.fit_transform(petr4_bertimbau_embeddings)"
      ]
    },
    {
      "cell_type": "code",
      "execution_count": null,
      "metadata": {
        "id": "6bdzyhCIxoER"
      },
      "outputs": [],
      "source": [
        "df_petr4['umap_dim1'] = umap_features[:,0]\n",
        "df_petr4['umap_dim2'] = umap_features[:,1]"
      ]
    },
    {
      "cell_type": "code",
      "execution_count": null,
      "metadata": {
        "colab": {
          "base_uri": "https://localhost:8080/",
          "height": 542
        },
        "id": "75kBOcuJxMGP",
        "outputId": "a3ca21d5-1aef-4312-e9e1-8db3730a93b6"
      },
      "outputs": [],
      "source": [
        "px.scatter(df_petr4, x='umap_dim1', y='umap_dim2', hover_data=['text'], title='PETR4 BERTimbau Embeddings UMAP Dimensionality Reduction')"
      ]
    },
    {
      "cell_type": "markdown",
      "metadata": {
        "id": "3MsnJGYrzBOe"
      },
      "source": [
        "#### XLM-RoBERTa-Large"
      ]
    },
    {
      "cell_type": "code",
      "execution_count": null,
      "metadata": {
        "colab": {
          "base_uri": "https://localhost:8080/",
          "height": 611
        },
        "id": "idsdkRvIyB1q",
        "outputId": "d8e3a4b9-95e2-4fa5-bdaf-ddf5f49ee571"
      },
      "outputs": [],
      "source": [
        "petr4_embeddings = get_stock_embeddings('PETR4', 'XLM_RoBERTa_large')\n",
        "\n",
        "reducer = umap.UMAP(n_components=2, random_state=RANDOM_SEED)\n",
        "umap_features = reducer.fit_transform(petr4_embeddings)\n",
        "\n",
        "df_petr4['umap_dim1'] = umap_features[:,0]\n",
        "df_petr4['umap_dim2'] = umap_features[:,1]\n",
        "\n",
        "px.scatter(df_petr4, x='umap_dim1', y='umap_dim2', hover_data=['text'], title='PETR4 RoBERTa Embeddings UMAP Dimensionality Reduction')"
      ]
    },
    {
      "cell_type": "markdown",
      "metadata": {
        "id": "8s55bQu32xEa"
      },
      "source": [
        "### VALE3"
      ]
    },
    {
      "cell_type": "markdown",
      "metadata": {
        "id": "Y27dyDLn3GT6"
      },
      "source": [
        "#### BERTimbau Base"
      ]
    },
    {
      "cell_type": "code",
      "execution_count": null,
      "metadata": {
        "colab": {
          "base_uri": "https://localhost:8080/",
          "height": 611
        },
        "id": "kNMZS5Ft3J_1",
        "outputId": "cb6b45a0-f42e-4dbf-f4e7-1fcd12fb0a19"
      },
      "outputs": [],
      "source": [
        "vale3_embeddings = get_stock_embeddings('VALE3', 'BERTimbau_base')\n",
        "\n",
        "reducer = umap.UMAP(n_components=2, random_state=RANDOM_SEED)\n",
        "umap_features = reducer.fit_transform(vale3_embeddings)\n",
        "\n",
        "df_vale3['umap_dim1'] = umap_features[:,0]\n",
        "df_vale3['umap_dim2'] = umap_features[:,1]\n",
        "\n",
        "px.scatter(df_vale3, x='umap_dim1', y='umap_dim2', hover_data=['text'], title='VALE3 BERTimbau Embeddings UMAP Dimensionality Reduction')"
      ]
    },
    {
      "cell_type": "markdown",
      "metadata": {
        "id": "EF331zoA3BeO"
      },
      "source": [
        "#### XLM-RoBERTa-Large"
      ]
    },
    {
      "cell_type": "code",
      "execution_count": null,
      "metadata": {
        "colab": {
          "base_uri": "https://localhost:8080/",
          "height": 611
        },
        "id": "oxFqq3yozcly",
        "outputId": "e3e1d554-722c-4195-8cd2-ee6e96be1d57"
      },
      "outputs": [],
      "source": [
        "vale3_embeddings = get_stock_embeddings('VALE3', 'XLM_RoBERTa_large')\n",
        "\n",
        "reducer = umap.UMAP(n_components=2, random_state=RANDOM_SEED)\n",
        "umap_features = reducer.fit_transform(vale3_embeddings)\n",
        "\n",
        "df_vale3['umap_dim1'] = umap_features[:,0]\n",
        "df_vale3['umap_dim2'] = umap_features[:,1]\n",
        "\n",
        "px.scatter(df_vale3, x='umap_dim1', y='umap_dim2', hover_data=['text'], title='VALE3 RoBERTa Embeddings UMAP Dimensionality Reduction')"
      ]
    },
    {
      "cell_type": "code",
      "execution_count": null,
      "metadata": {
        "id": "0Pi-LRjY3Pe-"
      },
      "outputs": [],
      "source": []
    }
  ],
  "metadata": {
    "colab": {
      "provenance": []
    },
    "kernelspec": {
      "display_name": "Python 3",
      "name": "python3"
    },
    "language_info": {
      "name": "python"
    },
    "widgets": {
      "application/vnd.jupyter.widget-state+json": {
        "0a8ad07793044ab58b8912baa7ea332d": {
          "model_module": "@jupyter-widgets/base",
          "model_module_version": "1.2.0",
          "model_name": "LayoutModel",
          "state": {
            "_model_module": "@jupyter-widgets/base",
            "_model_module_version": "1.2.0",
            "_model_name": "LayoutModel",
            "_view_count": null,
            "_view_module": "@jupyter-widgets/base",
            "_view_module_version": "1.2.0",
            "_view_name": "LayoutView",
            "align_content": null,
            "align_items": null,
            "align_self": null,
            "border": null,
            "bottom": null,
            "display": null,
            "flex": null,
            "flex_flow": null,
            "grid_area": null,
            "grid_auto_columns": null,
            "grid_auto_flow": null,
            "grid_auto_rows": null,
            "grid_column": null,
            "grid_gap": null,
            "grid_row": null,
            "grid_template_areas": null,
            "grid_template_columns": null,
            "grid_template_rows": null,
            "height": null,
            "justify_content": null,
            "justify_items": null,
            "left": null,
            "margin": null,
            "max_height": null,
            "max_width": null,
            "min_height": null,
            "min_width": null,
            "object_fit": null,
            "object_position": null,
            "order": null,
            "overflow": null,
            "overflow_x": null,
            "overflow_y": null,
            "padding": null,
            "right": null,
            "top": null,
            "visibility": null,
            "width": null
          }
        },
        "1c7572d815f948fb855d1d0d7903c64e": {
          "model_module": "@jupyter-widgets/controls",
          "model_module_version": "1.5.0",
          "model_name": "HTMLModel",
          "state": {
            "_dom_classes": [],
            "_model_module": "@jupyter-widgets/controls",
            "_model_module_version": "1.5.0",
            "_model_name": "HTMLModel",
            "_view_count": null,
            "_view_module": "@jupyter-widgets/controls",
            "_view_module_version": "1.5.0",
            "_view_name": "HTMLView",
            "description": "",
            "description_tooltip": null,
            "layout": "IPY_MODEL_6acc4844d7de40a1b479575eba769745",
            "placeholder": "​",
            "style": "IPY_MODEL_40aac562c4c54174a34192859c7583e3",
            "value": "100%"
          }
        },
        "2326571292214d04b48774d7e453f6df": {
          "model_module": "@jupyter-widgets/controls",
          "model_module_version": "1.5.0",
          "model_name": "DescriptionStyleModel",
          "state": {
            "_model_module": "@jupyter-widgets/controls",
            "_model_module_version": "1.5.0",
            "_model_name": "DescriptionStyleModel",
            "_view_count": null,
            "_view_module": "@jupyter-widgets/base",
            "_view_module_version": "1.2.0",
            "_view_name": "StyleView",
            "description_width": ""
          }
        },
        "40aac562c4c54174a34192859c7583e3": {
          "model_module": "@jupyter-widgets/controls",
          "model_module_version": "1.5.0",
          "model_name": "DescriptionStyleModel",
          "state": {
            "_model_module": "@jupyter-widgets/controls",
            "_model_module_version": "1.5.0",
            "_model_name": "DescriptionStyleModel",
            "_view_count": null,
            "_view_module": "@jupyter-widgets/base",
            "_view_module_version": "1.2.0",
            "_view_name": "StyleView",
            "description_width": ""
          }
        },
        "449213670e13425cad4315f7088b521f": {
          "model_module": "@jupyter-widgets/base",
          "model_module_version": "1.2.0",
          "model_name": "LayoutModel",
          "state": {
            "_model_module": "@jupyter-widgets/base",
            "_model_module_version": "1.2.0",
            "_model_name": "LayoutModel",
            "_view_count": null,
            "_view_module": "@jupyter-widgets/base",
            "_view_module_version": "1.2.0",
            "_view_name": "LayoutView",
            "align_content": null,
            "align_items": null,
            "align_self": null,
            "border": null,
            "bottom": null,
            "display": null,
            "flex": null,
            "flex_flow": null,
            "grid_area": null,
            "grid_auto_columns": null,
            "grid_auto_flow": null,
            "grid_auto_rows": null,
            "grid_column": null,
            "grid_gap": null,
            "grid_row": null,
            "grid_template_areas": null,
            "grid_template_columns": null,
            "grid_template_rows": null,
            "height": null,
            "justify_content": null,
            "justify_items": null,
            "left": null,
            "margin": null,
            "max_height": null,
            "max_width": null,
            "min_height": null,
            "min_width": null,
            "object_fit": null,
            "object_position": null,
            "order": null,
            "overflow": null,
            "overflow_x": null,
            "overflow_y": null,
            "padding": null,
            "right": null,
            "top": null,
            "visibility": null,
            "width": null
          }
        },
        "614d1383de094fdfb6ccd201eaeb527e": {
          "model_module": "@jupyter-widgets/controls",
          "model_module_version": "1.5.0",
          "model_name": "ProgressStyleModel",
          "state": {
            "_model_module": "@jupyter-widgets/controls",
            "_model_module_version": "1.5.0",
            "_model_name": "ProgressStyleModel",
            "_view_count": null,
            "_view_module": "@jupyter-widgets/base",
            "_view_module_version": "1.2.0",
            "_view_name": "StyleView",
            "bar_color": null,
            "description_width": ""
          }
        },
        "67dfc3f2c6e34abfa7d0e42824c9b3d8": {
          "model_module": "@jupyter-widgets/base",
          "model_module_version": "1.2.0",
          "model_name": "LayoutModel",
          "state": {
            "_model_module": "@jupyter-widgets/base",
            "_model_module_version": "1.2.0",
            "_model_name": "LayoutModel",
            "_view_count": null,
            "_view_module": "@jupyter-widgets/base",
            "_view_module_version": "1.2.0",
            "_view_name": "LayoutView",
            "align_content": null,
            "align_items": null,
            "align_self": null,
            "border": null,
            "bottom": null,
            "display": null,
            "flex": null,
            "flex_flow": null,
            "grid_area": null,
            "grid_auto_columns": null,
            "grid_auto_flow": null,
            "grid_auto_rows": null,
            "grid_column": null,
            "grid_gap": null,
            "grid_row": null,
            "grid_template_areas": null,
            "grid_template_columns": null,
            "grid_template_rows": null,
            "height": null,
            "justify_content": null,
            "justify_items": null,
            "left": null,
            "margin": null,
            "max_height": null,
            "max_width": null,
            "min_height": null,
            "min_width": null,
            "object_fit": null,
            "object_position": null,
            "order": null,
            "overflow": null,
            "overflow_x": null,
            "overflow_y": null,
            "padding": null,
            "right": null,
            "top": null,
            "visibility": null,
            "width": null
          }
        },
        "6acc4844d7de40a1b479575eba769745": {
          "model_module": "@jupyter-widgets/base",
          "model_module_version": "1.2.0",
          "model_name": "LayoutModel",
          "state": {
            "_model_module": "@jupyter-widgets/base",
            "_model_module_version": "1.2.0",
            "_model_name": "LayoutModel",
            "_view_count": null,
            "_view_module": "@jupyter-widgets/base",
            "_view_module_version": "1.2.0",
            "_view_name": "LayoutView",
            "align_content": null,
            "align_items": null,
            "align_self": null,
            "border": null,
            "bottom": null,
            "display": null,
            "flex": null,
            "flex_flow": null,
            "grid_area": null,
            "grid_auto_columns": null,
            "grid_auto_flow": null,
            "grid_auto_rows": null,
            "grid_column": null,
            "grid_gap": null,
            "grid_row": null,
            "grid_template_areas": null,
            "grid_template_columns": null,
            "grid_template_rows": null,
            "height": null,
            "justify_content": null,
            "justify_items": null,
            "left": null,
            "margin": null,
            "max_height": null,
            "max_width": null,
            "min_height": null,
            "min_width": null,
            "object_fit": null,
            "object_position": null,
            "order": null,
            "overflow": null,
            "overflow_x": null,
            "overflow_y": null,
            "padding": null,
            "right": null,
            "top": null,
            "visibility": null,
            "width": null
          }
        },
        "6f2952a183f54f368a3292b0353f6b71": {
          "model_module": "@jupyter-widgets/controls",
          "model_module_version": "1.5.0",
          "model_name": "FloatProgressModel",
          "state": {
            "_dom_classes": [],
            "_model_module": "@jupyter-widgets/controls",
            "_model_module_version": "1.5.0",
            "_model_name": "FloatProgressModel",
            "_view_count": null,
            "_view_module": "@jupyter-widgets/controls",
            "_view_module_version": "1.5.0",
            "_view_name": "ProgressView",
            "bar_style": "success",
            "description": "",
            "description_tooltip": null,
            "layout": "IPY_MODEL_449213670e13425cad4315f7088b521f",
            "max": 75,
            "min": 0,
            "orientation": "horizontal",
            "style": "IPY_MODEL_614d1383de094fdfb6ccd201eaeb527e",
            "value": 75
          }
        },
        "987ec04228b44713a7a23097466cb711": {
          "model_module": "@jupyter-widgets/controls",
          "model_module_version": "1.5.0",
          "model_name": "HTMLModel",
          "state": {
            "_dom_classes": [],
            "_model_module": "@jupyter-widgets/controls",
            "_model_module_version": "1.5.0",
            "_model_name": "HTMLModel",
            "_view_count": null,
            "_view_module": "@jupyter-widgets/controls",
            "_view_module_version": "1.5.0",
            "_view_name": "HTMLView",
            "description": "",
            "description_tooltip": null,
            "layout": "IPY_MODEL_67dfc3f2c6e34abfa7d0e42824c9b3d8",
            "placeholder": "​",
            "style": "IPY_MODEL_2326571292214d04b48774d7e453f6df",
            "value": " 75/75 [00:22&lt;00:00,  2.41it/s]"
          }
        },
        "fba3454cc7c94b7193e5e261ec20357e": {
          "model_module": "@jupyter-widgets/controls",
          "model_module_version": "1.5.0",
          "model_name": "HBoxModel",
          "state": {
            "_dom_classes": [],
            "_model_module": "@jupyter-widgets/controls",
            "_model_module_version": "1.5.0",
            "_model_name": "HBoxModel",
            "_view_count": null,
            "_view_module": "@jupyter-widgets/controls",
            "_view_module_version": "1.5.0",
            "_view_name": "HBoxView",
            "box_style": "",
            "children": [
              "IPY_MODEL_1c7572d815f948fb855d1d0d7903c64e",
              "IPY_MODEL_6f2952a183f54f368a3292b0353f6b71",
              "IPY_MODEL_987ec04228b44713a7a23097466cb711"
            ],
            "layout": "IPY_MODEL_0a8ad07793044ab58b8912baa7ea332d"
          }
        }
      }
    }
  },
  "nbformat": 4,
  "nbformat_minor": 0
}
